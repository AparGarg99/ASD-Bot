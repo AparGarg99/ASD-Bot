{
 "cells": [
  {
   "cell_type": "markdown",
   "id": "60c19b57",
   "metadata": {},
   "source": [
    "* https://www.sassymamasg.com/learn-special-needs-school-singapore-preschools-early-intervention-therapy-centres-international-schools/\n",
    "* https://www.enablingguide.sg/im-looking-for-disability-support/education\n",
    "* https://www.moe.gov.sg/special-educational-needs/sped-schools"
   ]
  },
  {
   "cell_type": "code",
   "execution_count": 1,
   "id": "d3a82d7e",
   "metadata": {},
   "outputs": [],
   "source": [
    "from opencage.geocoder import OpenCageGeocode"
   ]
  },
  {
   "cell_type": "code",
   "execution_count": 2,
   "id": "6195da03",
   "metadata": {},
   "outputs": [],
   "source": [
    "import pandas as pd"
   ]
  },
  {
   "cell_type": "code",
   "execution_count": 3,
   "id": "b17198ea",
   "metadata": {},
   "outputs": [],
   "source": [
    "from geopy.distance import geodesic"
   ]
  },
  {
   "cell_type": "markdown",
   "id": "fd8835eb",
   "metadata": {},
   "source": [
    "# Special Needs Schools and Institutions in Singapore"
   ]
  },
  {
   "cell_type": "code",
   "execution_count": 4,
   "id": "a6e9a916",
   "metadata": {},
   "outputs": [],
   "source": [
    "l1 = ['Melbourne Specialist International School',\n",
    "    'Integrated International School',\n",
    "     'ABC Center Singapore',\n",
    "    'Dover Court International School',\n",
    "     'Eden School',\n",
    "     'Metta School',\n",
    "    'Pathlight School Campus 1',\n",
    "     'Pathlight School Campus 2 (Main)',\n",
    "     'Pathlight School Campus 2 (Annex)',\n",
    "     'Singapore American School',\n",
    "     'St. Andrew’s Autism School',\n",
    "     'Towner Gardens School',\n",
    "     'The Winstedt School'\n",
    "    ]"
   ]
  },
  {
   "cell_type": "code",
   "execution_count": 5,
   "id": "7529ed54",
   "metadata": {},
   "outputs": [],
   "source": [
    "# https://opencagedata.com/tutorials/geocode-in-python\n",
    "key = 'd90187877b6444da88e3d0553e96498a'\n",
    "geocoder = OpenCageGeocode(key)\n",
    "\n",
    "def coordinates(l):\n",
    "    lat,lon=[],[]\n",
    "    for query in l:\n",
    "        results = geocoder.geocode(query+\", Singapore\")\n",
    "        lat.append(results[0]['geometry']['lat'])\n",
    "        lon.append(results[0]['geometry']['lng'])\n",
    "    return lat,lon "
   ]
  },
  {
   "cell_type": "code",
   "execution_count": 6,
   "id": "c465cf53",
   "metadata": {},
   "outputs": [
    {
     "data": {
      "text/html": [
       "<div>\n",
       "<style scoped>\n",
       "    .dataframe tbody tr th:only-of-type {\n",
       "        vertical-align: middle;\n",
       "    }\n",
       "\n",
       "    .dataframe tbody tr th {\n",
       "        vertical-align: top;\n",
       "    }\n",
       "\n",
       "    .dataframe thead th {\n",
       "        text-align: right;\n",
       "    }\n",
       "</style>\n",
       "<table border=\"1\" class=\"dataframe\">\n",
       "  <thead>\n",
       "    <tr style=\"text-align: right;\">\n",
       "      <th></th>\n",
       "      <th>Name</th>\n",
       "      <th>Lat</th>\n",
       "      <th>Lon</th>\n",
       "    </tr>\n",
       "  </thead>\n",
       "  <tbody>\n",
       "    <tr>\n",
       "      <th>0</th>\n",
       "      <td>Melbourne Specialist International School</td>\n",
       "      <td>1.289670</td>\n",
       "      <td>103.850070</td>\n",
       "    </tr>\n",
       "    <tr>\n",
       "      <th>1</th>\n",
       "      <td>Integrated International School</td>\n",
       "      <td>1.289670</td>\n",
       "      <td>103.850070</td>\n",
       "    </tr>\n",
       "    <tr>\n",
       "      <th>2</th>\n",
       "      <td>ABC Center Singapore</td>\n",
       "      <td>1.297934</td>\n",
       "      <td>103.838405</td>\n",
       "    </tr>\n",
       "    <tr>\n",
       "      <th>3</th>\n",
       "      <td>Dover Court International School</td>\n",
       "      <td>1.305527</td>\n",
       "      <td>103.779664</td>\n",
       "    </tr>\n",
       "    <tr>\n",
       "      <th>4</th>\n",
       "      <td>Eden School</td>\n",
       "      <td>1.351575</td>\n",
       "      <td>103.743059</td>\n",
       "    </tr>\n",
       "  </tbody>\n",
       "</table>\n",
       "</div>"
      ],
      "text/plain": [
       "                                        Name       Lat         Lon\n",
       "0  Melbourne Specialist International School  1.289670  103.850070\n",
       "1            Integrated International School  1.289670  103.850070\n",
       "2                       ABC Center Singapore  1.297934  103.838405\n",
       "3           Dover Court International School  1.305527  103.779664\n",
       "4                                Eden School  1.351575  103.743059"
      ]
     },
     "execution_count": 6,
     "metadata": {},
     "output_type": "execute_result"
    }
   ],
   "source": [
    "lat1, lon1 =coordinates(l1)\n",
    "df1=pd.DataFrame(zip(l1,lat1,lon1),columns=['Name','Lat','Lon'])\n",
    "df1.head()"
   ]
  },
  {
   "cell_type": "markdown",
   "id": "5a933a75",
   "metadata": {},
   "source": [
    "# Special Needs Preschools in Singapore"
   ]
  },
  {
   "cell_type": "code",
   "execution_count": 7,
   "id": "8a6e5e4c",
   "metadata": {},
   "outputs": [],
   "source": [
    "l2 = ['Modern Montessori International Katong by The Growing Academy',\n",
    "  'Bright Path Preschool',\n",
    "  'Dyslexia Association of Singapore',\n",
    "  'Genesis School for Special Education',\n",
    "  'KidzRock International Preschool',\n",
    "  'Mighty Oaks',\n",
    "  'Nurture Pods',\n",
    "  'Wee Care']"
   ]
  },
  {
   "cell_type": "code",
   "execution_count": 8,
   "id": "efe28314",
   "metadata": {},
   "outputs": [
    {
     "data": {
      "text/html": [
       "<div>\n",
       "<style scoped>\n",
       "    .dataframe tbody tr th:only-of-type {\n",
       "        vertical-align: middle;\n",
       "    }\n",
       "\n",
       "    .dataframe tbody tr th {\n",
       "        vertical-align: top;\n",
       "    }\n",
       "\n",
       "    .dataframe thead th {\n",
       "        text-align: right;\n",
       "    }\n",
       "</style>\n",
       "<table border=\"1\" class=\"dataframe\">\n",
       "  <thead>\n",
       "    <tr style=\"text-align: right;\">\n",
       "      <th></th>\n",
       "      <th>Name</th>\n",
       "      <th>Lat</th>\n",
       "      <th>Lon</th>\n",
       "    </tr>\n",
       "  </thead>\n",
       "  <tbody>\n",
       "    <tr>\n",
       "      <th>0</th>\n",
       "      <td>Modern Montessori International Katong by The ...</td>\n",
       "      <td>1.289670</td>\n",
       "      <td>103.85007</td>\n",
       "    </tr>\n",
       "    <tr>\n",
       "      <th>1</th>\n",
       "      <td>Bright Path Preschool</td>\n",
       "      <td>1.289670</td>\n",
       "      <td>103.85007</td>\n",
       "    </tr>\n",
       "    <tr>\n",
       "      <th>2</th>\n",
       "      <td>Dyslexia Association of Singapore</td>\n",
       "      <td>1.348775</td>\n",
       "      <td>103.87399</td>\n",
       "    </tr>\n",
       "    <tr>\n",
       "      <th>3</th>\n",
       "      <td>Genesis School for Special Education</td>\n",
       "      <td>1.289670</td>\n",
       "      <td>103.85007</td>\n",
       "    </tr>\n",
       "    <tr>\n",
       "      <th>4</th>\n",
       "      <td>KidzRock International Preschool</td>\n",
       "      <td>1.289670</td>\n",
       "      <td>103.85007</td>\n",
       "    </tr>\n",
       "  </tbody>\n",
       "</table>\n",
       "</div>"
      ],
      "text/plain": [
       "                                                Name       Lat        Lon\n",
       "0  Modern Montessori International Katong by The ...  1.289670  103.85007\n",
       "1                              Bright Path Preschool  1.289670  103.85007\n",
       "2                  Dyslexia Association of Singapore  1.348775  103.87399\n",
       "3               Genesis School for Special Education  1.289670  103.85007\n",
       "4                   KidzRock International Preschool  1.289670  103.85007"
      ]
     },
     "execution_count": 8,
     "metadata": {},
     "output_type": "execute_result"
    }
   ],
   "source": [
    "lat2, lon2 =coordinates(l2)\n",
    "df2=pd.DataFrame(zip(l2,lat2,lon2),columns=['Name','Lat','Lon'])\n",
    "df2.head()"
   ]
  },
  {
   "cell_type": "markdown",
   "id": "045cbdcb",
   "metadata": {},
   "source": [
    "# Early Intervention Centres"
   ]
  },
  {
   "cell_type": "code",
   "execution_count": 9,
   "id": "e555f27b",
   "metadata": {},
   "outputs": [],
   "source": [
    "l3 = ['The Growing Academy',\n",
    "  'All Hands Together',\n",
    "  'Bridge Learning',\n",
    "  'The Early Intervention Centre (EIC)',\n",
    "  'Kaleidoscope',\n",
    "  'KidsFirst',\n",
    "  'Thumbs Up Therapy Singapore'\n",
    "  ]"
   ]
  },
  {
   "cell_type": "code",
   "execution_count": 10,
   "id": "26466289",
   "metadata": {},
   "outputs": [
    {
     "data": {
      "text/html": [
       "<div>\n",
       "<style scoped>\n",
       "    .dataframe tbody tr th:only-of-type {\n",
       "        vertical-align: middle;\n",
       "    }\n",
       "\n",
       "    .dataframe tbody tr th {\n",
       "        vertical-align: top;\n",
       "    }\n",
       "\n",
       "    .dataframe thead th {\n",
       "        text-align: right;\n",
       "    }\n",
       "</style>\n",
       "<table border=\"1\" class=\"dataframe\">\n",
       "  <thead>\n",
       "    <tr style=\"text-align: right;\">\n",
       "      <th></th>\n",
       "      <th>Name</th>\n",
       "      <th>Lat</th>\n",
       "      <th>Lon</th>\n",
       "    </tr>\n",
       "  </thead>\n",
       "  <tbody>\n",
       "    <tr>\n",
       "      <th>0</th>\n",
       "      <td>The Growing Academy</td>\n",
       "      <td>1.289670</td>\n",
       "      <td>103.850070</td>\n",
       "    </tr>\n",
       "    <tr>\n",
       "      <th>1</th>\n",
       "      <td>All Hands Together</td>\n",
       "      <td>1.302158</td>\n",
       "      <td>103.876711</td>\n",
       "    </tr>\n",
       "    <tr>\n",
       "      <th>2</th>\n",
       "      <td>Bridge Learning</td>\n",
       "      <td>1.281908</td>\n",
       "      <td>103.821934</td>\n",
       "    </tr>\n",
       "    <tr>\n",
       "      <th>3</th>\n",
       "      <td>The Early Intervention Centre (EIC)</td>\n",
       "      <td>1.289670</td>\n",
       "      <td>103.850070</td>\n",
       "    </tr>\n",
       "    <tr>\n",
       "      <th>4</th>\n",
       "      <td>Kaleidoscope</td>\n",
       "      <td>1.289670</td>\n",
       "      <td>103.850070</td>\n",
       "    </tr>\n",
       "  </tbody>\n",
       "</table>\n",
       "</div>"
      ],
      "text/plain": [
       "                                  Name       Lat         Lon\n",
       "0                  The Growing Academy  1.289670  103.850070\n",
       "1                   All Hands Together  1.302158  103.876711\n",
       "2                      Bridge Learning  1.281908  103.821934\n",
       "3  The Early Intervention Centre (EIC)  1.289670  103.850070\n",
       "4                         Kaleidoscope  1.289670  103.850070"
      ]
     },
     "execution_count": 10,
     "metadata": {},
     "output_type": "execute_result"
    }
   ],
   "source": [
    "lat3, lon3 =coordinates(l3)\n",
    "df3=pd.DataFrame(zip(l3,lat3,lon3),columns=['Name','Lat','Lon'])\n",
    "df3.head()"
   ]
  },
  {
   "cell_type": "markdown",
   "id": "952423e7",
   "metadata": {},
   "source": [
    "# Combine All"
   ]
  },
  {
   "cell_type": "code",
   "execution_count": 11,
   "id": "7f9e54f9",
   "metadata": {},
   "outputs": [
    {
     "data": {
      "text/html": [
       "<div>\n",
       "<style scoped>\n",
       "    .dataframe tbody tr th:only-of-type {\n",
       "        vertical-align: middle;\n",
       "    }\n",
       "\n",
       "    .dataframe tbody tr th {\n",
       "        vertical-align: top;\n",
       "    }\n",
       "\n",
       "    .dataframe thead th {\n",
       "        text-align: right;\n",
       "    }\n",
       "</style>\n",
       "<table border=\"1\" class=\"dataframe\">\n",
       "  <thead>\n",
       "    <tr style=\"text-align: right;\">\n",
       "      <th></th>\n",
       "      <th>Name</th>\n",
       "      <th>Lat</th>\n",
       "      <th>Lon</th>\n",
       "    </tr>\n",
       "  </thead>\n",
       "  <tbody>\n",
       "    <tr>\n",
       "      <th>0</th>\n",
       "      <td>Melbourne Specialist International School</td>\n",
       "      <td>1.289670</td>\n",
       "      <td>103.850070</td>\n",
       "    </tr>\n",
       "    <tr>\n",
       "      <th>1</th>\n",
       "      <td>Integrated International School</td>\n",
       "      <td>1.289670</td>\n",
       "      <td>103.850070</td>\n",
       "    </tr>\n",
       "    <tr>\n",
       "      <th>2</th>\n",
       "      <td>ABC Center Singapore</td>\n",
       "      <td>1.297934</td>\n",
       "      <td>103.838405</td>\n",
       "    </tr>\n",
       "    <tr>\n",
       "      <th>3</th>\n",
       "      <td>Dover Court International School</td>\n",
       "      <td>1.305527</td>\n",
       "      <td>103.779664</td>\n",
       "    </tr>\n",
       "    <tr>\n",
       "      <th>4</th>\n",
       "      <td>Eden School</td>\n",
       "      <td>1.351575</td>\n",
       "      <td>103.743059</td>\n",
       "    </tr>\n",
       "  </tbody>\n",
       "</table>\n",
       "</div>"
      ],
      "text/plain": [
       "                                        Name       Lat         Lon\n",
       "0  Melbourne Specialist International School  1.289670  103.850070\n",
       "1            Integrated International School  1.289670  103.850070\n",
       "2                       ABC Center Singapore  1.297934  103.838405\n",
       "3           Dover Court International School  1.305527  103.779664\n",
       "4                                Eden School  1.351575  103.743059"
      ]
     },
     "execution_count": 11,
     "metadata": {},
     "output_type": "execute_result"
    }
   ],
   "source": [
    "df = pd.concat([df1,df2,df3]).reset_index(drop=True)\n",
    "df.head()"
   ]
  },
  {
   "cell_type": "markdown",
   "id": "b216cca1",
   "metadata": {},
   "source": [
    "# Get User's Location"
   ]
  },
  {
   "cell_type": "code",
   "execution_count": 12,
   "id": "2d346a42",
   "metadata": {},
   "outputs": [],
   "source": [
    "user = '21 Lower Kent Ridge Rd, Singapore 119077'\n",
    "user = [user]\n",
    "lat4, lon4 =coordinates(user)"
   ]
  },
  {
   "cell_type": "code",
   "execution_count": 13,
   "id": "f475410b",
   "metadata": {},
   "outputs": [
    {
     "data": {
      "text/plain": [
       "(1.28967, 103.85007)"
      ]
     },
     "execution_count": 13,
     "metadata": {},
     "output_type": "execute_result"
    }
   ],
   "source": [
    "lat4[0], lon4[0]"
   ]
  },
  {
   "cell_type": "markdown",
   "id": "9559d729",
   "metadata": {},
   "source": [
    "# Get Distance"
   ]
  },
  {
   "cell_type": "code",
   "execution_count": 14,
   "id": "f8ad8d86",
   "metadata": {},
   "outputs": [],
   "source": [
    "pt1 = (lat4[0], lon4[0])\n",
    "\n",
    "l=[]\n",
    "for i in range(df.shape[0]):\n",
    "    lat2=df.iloc[i,-2]\n",
    "    lng2=df.iloc[i,-1]\n",
    "    pt2 = (lat2, lng2)\n",
    "    l.append(geodesic(pt1, pt2).km)"
   ]
  },
  {
   "cell_type": "code",
   "execution_count": 15,
   "id": "72b388fe",
   "metadata": {},
   "outputs": [],
   "source": [
    "df['Distance']=l"
   ]
  },
  {
   "cell_type": "code",
   "execution_count": 20,
   "id": "10743b1a",
   "metadata": {},
   "outputs": [
    {
     "data": {
      "text/html": [
       "<div>\n",
       "<style scoped>\n",
       "    .dataframe tbody tr th:only-of-type {\n",
       "        vertical-align: middle;\n",
       "    }\n",
       "\n",
       "    .dataframe tbody tr th {\n",
       "        vertical-align: top;\n",
       "    }\n",
       "\n",
       "    .dataframe thead th {\n",
       "        text-align: right;\n",
       "    }\n",
       "</style>\n",
       "<table border=\"1\" class=\"dataframe\">\n",
       "  <thead>\n",
       "    <tr style=\"text-align: right;\">\n",
       "      <th></th>\n",
       "      <th>Name</th>\n",
       "      <th>Lat</th>\n",
       "      <th>Lon</th>\n",
       "      <th>Distance</th>\n",
       "    </tr>\n",
       "  </thead>\n",
       "  <tbody>\n",
       "    <tr>\n",
       "      <th>0</th>\n",
       "      <td>Melbourne Specialist International School</td>\n",
       "      <td>1.289670</td>\n",
       "      <td>103.850070</td>\n",
       "      <td>0.000000</td>\n",
       "    </tr>\n",
       "    <tr>\n",
       "      <th>1</th>\n",
       "      <td>Kaleidoscope</td>\n",
       "      <td>1.289670</td>\n",
       "      <td>103.850070</td>\n",
       "      <td>0.000000</td>\n",
       "    </tr>\n",
       "    <tr>\n",
       "      <th>2</th>\n",
       "      <td>The Early Intervention Centre (EIC)</td>\n",
       "      <td>1.289670</td>\n",
       "      <td>103.850070</td>\n",
       "      <td>0.000000</td>\n",
       "    </tr>\n",
       "    <tr>\n",
       "      <th>3</th>\n",
       "      <td>The Growing Academy</td>\n",
       "      <td>1.289670</td>\n",
       "      <td>103.850070</td>\n",
       "      <td>0.000000</td>\n",
       "    </tr>\n",
       "    <tr>\n",
       "      <th>4</th>\n",
       "      <td>Wee Care</td>\n",
       "      <td>1.289670</td>\n",
       "      <td>103.850070</td>\n",
       "      <td>0.000000</td>\n",
       "    </tr>\n",
       "    <tr>\n",
       "      <th>5</th>\n",
       "      <td>Nurture Pods</td>\n",
       "      <td>1.289670</td>\n",
       "      <td>103.850070</td>\n",
       "      <td>0.000000</td>\n",
       "    </tr>\n",
       "    <tr>\n",
       "      <th>6</th>\n",
       "      <td>KidzRock International Preschool</td>\n",
       "      <td>1.289670</td>\n",
       "      <td>103.850070</td>\n",
       "      <td>0.000000</td>\n",
       "    </tr>\n",
       "    <tr>\n",
       "      <th>7</th>\n",
       "      <td>Genesis School for Special Education</td>\n",
       "      <td>1.289670</td>\n",
       "      <td>103.850070</td>\n",
       "      <td>0.000000</td>\n",
       "    </tr>\n",
       "    <tr>\n",
       "      <th>8</th>\n",
       "      <td>Bright Path Preschool</td>\n",
       "      <td>1.289670</td>\n",
       "      <td>103.850070</td>\n",
       "      <td>0.000000</td>\n",
       "    </tr>\n",
       "    <tr>\n",
       "      <th>9</th>\n",
       "      <td>KidsFirst</td>\n",
       "      <td>1.289670</td>\n",
       "      <td>103.850070</td>\n",
       "      <td>0.000000</td>\n",
       "    </tr>\n",
       "    <tr>\n",
       "      <th>10</th>\n",
       "      <td>Towner Gardens School</td>\n",
       "      <td>1.289670</td>\n",
       "      <td>103.850070</td>\n",
       "      <td>0.000000</td>\n",
       "    </tr>\n",
       "    <tr>\n",
       "      <th>11</th>\n",
       "      <td>Modern Montessori International Katong by The ...</td>\n",
       "      <td>1.289670</td>\n",
       "      <td>103.850070</td>\n",
       "      <td>0.000000</td>\n",
       "    </tr>\n",
       "    <tr>\n",
       "      <th>12</th>\n",
       "      <td>Pathlight School Campus 2 (Annex)</td>\n",
       "      <td>1.289670</td>\n",
       "      <td>103.850070</td>\n",
       "      <td>0.000000</td>\n",
       "    </tr>\n",
       "    <tr>\n",
       "      <th>13</th>\n",
       "      <td>Pathlight School Campus 1</td>\n",
       "      <td>1.289670</td>\n",
       "      <td>103.850070</td>\n",
       "      <td>0.000000</td>\n",
       "    </tr>\n",
       "    <tr>\n",
       "      <th>14</th>\n",
       "      <td>Integrated International School</td>\n",
       "      <td>1.289670</td>\n",
       "      <td>103.850070</td>\n",
       "      <td>0.000000</td>\n",
       "    </tr>\n",
       "    <tr>\n",
       "      <th>15</th>\n",
       "      <td>Thumbs Up Therapy Singapore</td>\n",
       "      <td>1.289670</td>\n",
       "      <td>103.850070</td>\n",
       "      <td>0.000000</td>\n",
       "    </tr>\n",
       "    <tr>\n",
       "      <th>16</th>\n",
       "      <td>ABC Center Singapore</td>\n",
       "      <td>1.297934</td>\n",
       "      <td>103.838405</td>\n",
       "      <td>1.587531</td>\n",
       "    </tr>\n",
       "    <tr>\n",
       "      <th>17</th>\n",
       "      <td>The Winstedt School</td>\n",
       "      <td>1.310098</td>\n",
       "      <td>103.840729</td>\n",
       "      <td>2.486508</td>\n",
       "    </tr>\n",
       "    <tr>\n",
       "      <th>18</th>\n",
       "      <td>Mighty Oaks</td>\n",
       "      <td>1.315461</td>\n",
       "      <td>103.859011</td>\n",
       "      <td>3.020467</td>\n",
       "    </tr>\n",
       "    <tr>\n",
       "      <th>19</th>\n",
       "      <td>Bridge Learning</td>\n",
       "      <td>1.281908</td>\n",
       "      <td>103.821934</td>\n",
       "      <td>3.246754</td>\n",
       "    </tr>\n",
       "  </tbody>\n",
       "</table>\n",
       "</div>"
      ],
      "text/plain": [
       "                                                 Name       Lat         Lon  \\\n",
       "0           Melbourne Specialist International School  1.289670  103.850070   \n",
       "1                                        Kaleidoscope  1.289670  103.850070   \n",
       "2                 The Early Intervention Centre (EIC)  1.289670  103.850070   \n",
       "3                                 The Growing Academy  1.289670  103.850070   \n",
       "4                                            Wee Care  1.289670  103.850070   \n",
       "5                                        Nurture Pods  1.289670  103.850070   \n",
       "6                    KidzRock International Preschool  1.289670  103.850070   \n",
       "7                Genesis School for Special Education  1.289670  103.850070   \n",
       "8                               Bright Path Preschool  1.289670  103.850070   \n",
       "9                                           KidsFirst  1.289670  103.850070   \n",
       "10                              Towner Gardens School  1.289670  103.850070   \n",
       "11  Modern Montessori International Katong by The ...  1.289670  103.850070   \n",
       "12                  Pathlight School Campus 2 (Annex)  1.289670  103.850070   \n",
       "13                          Pathlight School Campus 1  1.289670  103.850070   \n",
       "14                    Integrated International School  1.289670  103.850070   \n",
       "15                        Thumbs Up Therapy Singapore  1.289670  103.850070   \n",
       "16                               ABC Center Singapore  1.297934  103.838405   \n",
       "17                                The Winstedt School  1.310098  103.840729   \n",
       "18                                        Mighty Oaks  1.315461  103.859011   \n",
       "19                                    Bridge Learning  1.281908  103.821934   \n",
       "\n",
       "    Distance  \n",
       "0   0.000000  \n",
       "1   0.000000  \n",
       "2   0.000000  \n",
       "3   0.000000  \n",
       "4   0.000000  \n",
       "5   0.000000  \n",
       "6   0.000000  \n",
       "7   0.000000  \n",
       "8   0.000000  \n",
       "9   0.000000  \n",
       "10  0.000000  \n",
       "11  0.000000  \n",
       "12  0.000000  \n",
       "13  0.000000  \n",
       "14  0.000000  \n",
       "15  0.000000  \n",
       "16  1.587531  \n",
       "17  2.486508  \n",
       "18  3.020467  \n",
       "19  3.246754  "
      ]
     },
     "execution_count": 20,
     "metadata": {},
     "output_type": "execute_result"
    }
   ],
   "source": [
    "df.sort_values(by=['Distance']).reset_index(drop=True).iloc[:20:]"
   ]
  },
  {
   "cell_type": "markdown",
   "id": "de0cec0a",
   "metadata": {},
   "source": [
    "This method using API is not able to find very accurate coordinates. Will have to try something else"
   ]
  },
  {
   "cell_type": "code",
   "execution_count": null,
   "id": "96381f5f",
   "metadata": {},
   "outputs": [],
   "source": []
  }
 ],
 "metadata": {
  "kernelspec": {
   "display_name": "Python 3",
   "language": "python",
   "name": "python3"
  },
  "language_info": {
   "codemirror_mode": {
    "name": "ipython",
    "version": 3
   },
   "file_extension": ".py",
   "mimetype": "text/x-python",
   "name": "python",
   "nbconvert_exporter": "python",
   "pygments_lexer": "ipython3",
   "version": "3.8.8"
  }
 },
 "nbformat": 4,
 "nbformat_minor": 5
}
