{
 "cells": [
  {
   "cell_type": "markdown",
   "id": "60c19b57",
   "metadata": {},
   "source": [
    "* https://www.sassymamasg.com/learn-special-needs-school-singapore-preschools-early-intervention-therapy-centres-international-schools/\n",
    "* https://www.enablingguide.sg/im-looking-for-disability-support/education\n",
    "* https://www.moe.gov.sg/special-educational-needs/sped-schools"
   ]
  },
  {
   "cell_type": "code",
   "execution_count": 1,
   "id": "7c1e54d9",
   "metadata": {},
   "outputs": [],
   "source": [
    "################ WEB SCRAPING MODULES ############\n",
    "from selenium import webdriver\n",
    "from webdriver_manager.chrome import ChromeDriverManager\n",
    "from selenium.webdriver.common.by import By\n",
    "import bs4\n",
    "from fake_useragent import UserAgent\n",
    "import requests\n",
    "################ OTHERS ###################\n",
    "import time\n",
    "from geopy.geocoders import Nominatim\n",
    "import pandas as pd\n",
    "import numpy as np\n",
    "import warnings\n",
    "warnings.filterwarnings('ignore')"
   ]
  },
  {
   "cell_type": "markdown",
   "id": "bd70466b",
   "metadata": {},
   "source": [
    "# Define Functions"
   ]
  },
  {
   "cell_type": "code",
   "execution_count": 2,
   "id": "23eb1be9",
   "metadata": {},
   "outputs": [
    {
     "name": "stderr",
     "output_type": "stream",
     "text": [
      "\n",
      "\n",
      "====== WebDriver manager ======\n",
      "Current google-chrome version is 93.0.4577\n",
      "Get LATEST driver version for 93.0.4577\n",
      "Get LATEST driver version for 93.0.4577\n",
      "Trying to download new driver from https://chromedriver.storage.googleapis.com/93.0.4577.63/chromedriver_win32.zip\n",
      "Driver has been saved in cache [C:\\Users\\aparg\\.wdm\\drivers\\chromedriver\\win32\\93.0.4577.63]\n"
     ]
    }
   ],
   "source": [
    "driver = webdriver.Chrome(ChromeDriverManager().install())\n",
    "\n",
    "def get_address(name):\n",
    "    try:\n",
    "        name=\"+\".join(name.split()).lower()\n",
    "        link = 'https://www.google.com/search?q={}+singapore+address&rlz=1C1CHBF_enIN956IN956&biw=1536&bih=722&sxsrf=AOaemvLEd4fnbeucl84jIZUE-ytjq3C4CQ%3A1631607088194&ei=MFlAYf-fC9fcz7sP9OGQkAQ&oq=abc+center+singapore+singapore+address&gs_lcp=Cgdnd3Mtd2l6EAMyBwghEAoQoAE6BwgAEEcQsAM6BAgjECc6BQgAEIAEOgYIABAWEB46BQghEKABOgQIIRAVSgQIQRgAUPi4Blj89AZg3fUGaAJwAngAgAHLAYgBtReSAQYwLjE4LjGYAQCgAQHIAQjAAQE&sclient=gws-wiz&ved=0ahUKEwj_952Hgv7yAhVX7nMBHfQwBEIQ4dUDCA4&uact=5'.format(name)\n",
    "        driver.get(link)\n",
    "        \n",
    "        source = driver.page_source\n",
    "        soup = bs4.BeautifulSoup(source, 'html.parser')\n",
    "        \n",
    "        time.sleep(10)\n",
    "        \n",
    "        return soup.find('div',{'class':'sXLaOe'}).text\n",
    "    except:\n",
    "        pass"
   ]
  },
  {
   "cell_type": "code",
   "execution_count": 3,
   "id": "5bd4713c",
   "metadata": {},
   "outputs": [],
   "source": [
    "def get_coordinates(name):\n",
    "    try:\n",
    "        name=\"+\".join(name.split()).lower()\n",
    "        link = 'https://www.google.com/search?q={}+singapore+lat+long&rlz=1C1CHBF_enIN956IN956&sxsrf=AOaemvKxGgLC6X02Iuqqlvyp7xUwJsBFug%3A1631603674694&ei=2ktAYZ_xKY2GyAOV3IGQDA&oq=ABC+Center+Singapore+Singapore+lat+long&gs_lcp=Cgdnd3Mtd2l6EANKBAhBGABQvq9eWL6vXmDsuV5oAHACeACAAYYBiAGGAZIBAzAuMZgBAKABAqABAcABAQ&sclient=gws-wiz&ved=0ahUKEwifxsar9f3yAhUNA3IKHRVuAMIQ4dUDCA4&uact=5'.format(name)\n",
    "      \n",
    "        driver.get(link)\n",
    "        \n",
    "        source = driver.page_source\n",
    "        soup = bs4.BeautifulSoup(source, 'html.parser')\n",
    "        \n",
    "        time.sleep(10)\n",
    "        \n",
    "        return soup.find('div',{'class':'Z0LcW XcVN5d'}).text.split(',')\n",
    "    \n",
    "    except:\n",
    "        pass"
   ]
  },
  {
   "cell_type": "code",
   "execution_count": 4,
   "id": "5de7960a",
   "metadata": {},
   "outputs": [],
   "source": [
    "def table(l,sctype):\n",
    "    df = pd.DataFrame(zip(l),columns=['Name'])\n",
    "    df['Type'] = [sctype for i in range(df.shape[0])]\n",
    "    df['Address'] = df['Name'].apply(get_address)\n",
    "    df['coordinates1'] = df['Name'].apply(get_coordinates) \n",
    "    return df"
   ]
  },
  {
   "cell_type": "markdown",
   "id": "fd8835eb",
   "metadata": {},
   "source": [
    "# Special Needs Schools and Institutions in Singapore"
   ]
  },
  {
   "cell_type": "code",
   "execution_count": 5,
   "id": "a6e9a916",
   "metadata": {},
   "outputs": [],
   "source": [
    "l = ['Melbourne Specialist International School',\n",
    "    'Integrated International School',\n",
    "     'ABC Center Singapore',\n",
    "    'Dover Court International School',\n",
    "     'Eden School',\n",
    "     'Metta School',\n",
    "    'Pathlight School Campus 1',\n",
    "     'Pathlight School Campus 2 (Main)',\n",
    "     'Pathlight School Campus 2 (Annex)',\n",
    "     'Singapore American School',\n",
    "     'St. Andrew’s Autism School',\n",
    "     'Towner Gardens School',\n",
    "     'The Winstedt School'\n",
    "    ]"
   ]
  },
  {
   "cell_type": "code",
   "execution_count": null,
   "id": "41ed63dc",
   "metadata": {},
   "outputs": [],
   "source": [
    "df1=table(l,'Schools & Institutions')\n",
    "df1"
   ]
  },
  {
   "cell_type": "markdown",
   "id": "5a933a75",
   "metadata": {},
   "source": [
    "# Special Needs Preschools in Singapore"
   ]
  },
  {
   "cell_type": "code",
   "execution_count": null,
   "id": "8a6e5e4c",
   "metadata": {},
   "outputs": [],
   "source": [
    "l=['Modern Montessori International Katong by The Growing Academy',\n",
    "  'Bright Path Preschool',\n",
    "  'Dyslexia Association of Singapore',\n",
    "  'Genesis School for Special Education',\n",
    "  'KidzRock International Preschool',\n",
    "  'Mighty Oaks',\n",
    "  'Nurture Pods',\n",
    "  'Wee Care']"
   ]
  },
  {
   "cell_type": "code",
   "execution_count": null,
   "id": "4b9daffc",
   "metadata": {},
   "outputs": [],
   "source": [
    "df2=table(l,'Preschools')"
   ]
  },
  {
   "cell_type": "markdown",
   "id": "045cbdcb",
   "metadata": {},
   "source": [
    "# Early Intervention Centres"
   ]
  },
  {
   "cell_type": "code",
   "execution_count": null,
   "id": "e555f27b",
   "metadata": {},
   "outputs": [],
   "source": [
    "l=['The Growing Academy',\n",
    "  'All Hands Together',\n",
    "  'Bridge Learning',\n",
    "  'The Early Intervention Centre (EIC)',\n",
    "  'Kaleidoscope',\n",
    "  'KidsFirst',\n",
    "  'Thumbs Up Therapy Singapore'\n",
    "  ]"
   ]
  },
  {
   "cell_type": "code",
   "execution_count": null,
   "id": "b85be973",
   "metadata": {},
   "outputs": [],
   "source": [
    "df3=table(l,'Early Intervention Centres')"
   ]
  },
  {
   "cell_type": "markdown",
   "id": "de769dac",
   "metadata": {},
   "source": [
    "# Combine All"
   ]
  },
  {
   "cell_type": "code",
   "execution_count": null,
   "id": "539657cc",
   "metadata": {},
   "outputs": [],
   "source": [
    "df = pd.concat([df1,df2,df3]).reset_index(drop=True)"
   ]
  },
  {
   "cell_type": "code",
   "execution_count": null,
   "id": "c5e64d06",
   "metadata": {},
   "outputs": [],
   "source": [
    "# Rearrange columns\n",
    "df=df[['Type','Name', 'Address', 'coordinates1']]\n",
    "df"
   ]
  },
  {
   "cell_type": "markdown",
   "id": "649fb48b",
   "metadata": {},
   "source": [
    "# Fill missing Addresses"
   ]
  },
  {
   "cell_type": "code",
   "execution_count": null,
   "id": "5779e713",
   "metadata": {},
   "outputs": [],
   "source": [
    "df.iloc[13,2]='865 Mountbatten Road, #05-44, Singapore'\n",
    "df.iloc[15,2]='1 Jurong West Central 2, #05-01 Jurong Point, Singapore'"
   ]
  },
  {
   "cell_type": "markdown",
   "id": "81a5e3a0",
   "metadata": {},
   "source": [
    "# Fill missing Coordinates"
   ]
  },
  {
   "cell_type": "code",
   "execution_count": null,
   "id": "7ae9424a",
   "metadata": {},
   "outputs": [],
   "source": [
    "geolocator = Nominatim(user_agent=\"sample app\")"
   ]
  },
  {
   "cell_type": "code",
   "execution_count": null,
   "id": "4d2550d0",
   "metadata": {},
   "outputs": [],
   "source": [
    "df['TempAddress']=df['Address'].apply(lambda x: \" \".join(x.split()[:-1]) if x else None)\n",
    "df[\"loc\"] = df[\"TempAddress\"].apply(geolocator.geocode)\n",
    "df[\"coordinates2\"]= df[\"loc\"].apply(lambda loc: [loc.point.latitude,loc.point.longitude] if loc else None)"
   ]
  },
  {
   "cell_type": "code",
   "execution_count": null,
   "id": "d5d86a5a",
   "metadata": {},
   "outputs": [],
   "source": [
    "df=df.drop(['loc','TempAddress'],axis=1)"
   ]
  },
  {
   "cell_type": "code",
   "execution_count": null,
   "id": "b454fc08",
   "metadata": {},
   "outputs": [],
   "source": [
    "l=[]\n",
    "for i in range(df.shape[0]):\n",
    "    if(df.iloc[i,-2]!=None):\n",
    "        l.append(df.iloc[i,-2])\n",
    "    else:\n",
    "        if(df.iloc[i,-1]!=None):\n",
    "            l.append(df.iloc[i,-1])\n",
    "        else:\n",
    "            l.append(np.nan)\n",
    "            \n",
    "df['coordinates']=l"
   ]
  },
  {
   "cell_type": "code",
   "execution_count": null,
   "id": "08d0763a",
   "metadata": {},
   "outputs": [],
   "source": [
    "# Rearrange columns\n",
    "df=df[['Type','Name', 'Address', 'coordinates']]\n",
    "df"
   ]
  },
  {
   "cell_type": "code",
   "execution_count": null,
   "id": "ebfa3b5d",
   "metadata": {},
   "outputs": [],
   "source": [
    "l1=[]\n",
    "for i in df['coordinates']:\n",
    "    \n",
    "    try:\n",
    "        l2=[]\n",
    "        for j in i:\n",
    "            s = float(''.join(c for c in j if c.isdigit() or c=='.'))\n",
    "            l2.append(s)\n",
    "        l1.append(l2)\n",
    "        \n",
    "    except:\n",
    "        l1.append(i)"
   ]
  },
  {
   "cell_type": "code",
   "execution_count": null,
   "id": "71c058b9",
   "metadata": {},
   "outputs": [],
   "source": [
    "df['coordinates']=l1"
   ]
  },
  {
   "cell_type": "code",
   "execution_count": null,
   "id": "b4dae98b",
   "metadata": {},
   "outputs": [],
   "source": [
    "df"
   ]
  },
  {
   "cell_type": "code",
   "execution_count": null,
   "id": "6dbf899a",
   "metadata": {},
   "outputs": [],
   "source": [
    "# manual search\n",
    "df.iloc[13,-1]=[1.303940,103.901352] # Modern Montessori International\n",
    "df.iloc[15,-1] = [1.339540,103.706910] # Dyslexia Association of Singapore\n",
    "df.iloc[17,-1]=[1.338110,103.793400] # KidzRock International Preschool\n",
    "df.iloc[24,-1] = [1.327310,103.846600] # The Early Intervention Centre (EIC)"
   ]
  },
  {
   "cell_type": "code",
   "execution_count": null,
   "id": "a279d84c",
   "metadata": {},
   "outputs": [],
   "source": [
    "df['lat']=df['coordinates'].apply(lambda x:x[0])\n",
    "df['long']=df['coordinates'].apply(lambda x:x[1])"
   ]
  },
  {
   "cell_type": "code",
   "execution_count": null,
   "id": "e3baec20",
   "metadata": {},
   "outputs": [],
   "source": [
    "#df3.to_excel('Places.xlsx',index=False)"
   ]
  },
  {
   "cell_type": "code",
   "execution_count": null,
   "id": "ec85838f",
   "metadata": {},
   "outputs": [],
   "source": [
    "df3.to_dict()"
   ]
  },
  {
   "cell_type": "markdown",
   "id": "b216cca1",
   "metadata": {},
   "source": [
    "# Get User's Location"
   ]
  },
  {
   "cell_type": "code",
   "execution_count": null,
   "id": "2d346a42",
   "metadata": {},
   "outputs": [],
   "source": [
    "user = '21 Lower Kent Ridge Rd, Singapore'\n",
    "data = geolocator.geocode(user)"
   ]
  },
  {
   "cell_type": "code",
   "execution_count": null,
   "id": "d9ac808c",
   "metadata": {},
   "outputs": [],
   "source": [
    "data.raw"
   ]
  },
  {
   "cell_type": "code",
   "execution_count": null,
   "id": "bd4752cd",
   "metadata": {},
   "outputs": [],
   "source": [
    "lat1 = data.point.latitude\n",
    "lng1 = data.point.longitude"
   ]
  },
  {
   "cell_type": "markdown",
   "id": "9559d729",
   "metadata": {},
   "source": [
    "# Get Distance"
   ]
  },
  {
   "cell_type": "code",
   "execution_count": null,
   "id": "f8ad8d86",
   "metadata": {},
   "outputs": [],
   "source": [
    "from geopy.distance import geodesic\n",
    "\n",
    "pt1 = (lat1, lng1)\n",
    "\n",
    "l=[]\n",
    "for i in range(df.shape[0]):\n",
    "    lat2=df.iloc[i,-2]\n",
    "    lng2=df.iloc[i,-1]\n",
    "    pt2 = (lat2, lng2)\n",
    "    l.append(geodesic(pt1, pt2).km)"
   ]
  },
  {
   "cell_type": "code",
   "execution_count": null,
   "id": "72b388fe",
   "metadata": {},
   "outputs": [],
   "source": [
    "df3=df.copy()\n",
    "df3['Distance']=l"
   ]
  },
  {
   "cell_type": "code",
   "execution_count": null,
   "id": "10743b1a",
   "metadata": {},
   "outputs": [],
   "source": [
    "df3.sort_values(by=['Distance'],ascending=False).reset_index(drop=True).iloc[:5,:]"
   ]
  }
 ],
 "metadata": {
  "kernelspec": {
   "display_name": "Python 3",
   "language": "python",
   "name": "python3"
  },
  "language_info": {
   "codemirror_mode": {
    "name": "ipython",
    "version": 3
   },
   "file_extension": ".py",
   "mimetype": "text/x-python",
   "name": "python",
   "nbconvert_exporter": "python",
   "pygments_lexer": "ipython3",
   "version": "3.8.8"
  }
 },
 "nbformat": 4,
 "nbformat_minor": 5
}
