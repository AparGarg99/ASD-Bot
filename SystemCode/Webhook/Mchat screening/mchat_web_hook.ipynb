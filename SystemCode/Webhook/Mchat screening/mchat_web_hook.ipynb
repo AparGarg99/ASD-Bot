{
  "nbformat": 4,
  "nbformat_minor": 0,
  "metadata": {
    "colab": {
      "name": "mchat_web_hook.ipynb",
      "provenance": [],
      "collapsed_sections": []
    },
    "kernelspec": {
      "name": "python3",
      "display_name": "Python 3"
    },
    "language_info": {
      "name": "python"
    }
  },
  "cells": [
    {
      "cell_type": "code",
      "metadata": {
        "colab": {
          "base_uri": "https://localhost:8080/"
        },
        "id": "LhMTuLoQl1wt",
        "outputId": "605504e0-29d1-4f42-8867-fda61af18a04"
      },
      "source": [
        "# -*- coding: utf-8 -*-\n",
        "\"\"\"\n",
        "Created on Thu Sep 16 11:07:55 2021\n",
        "\n",
        "@author: rggop\n",
        "\"\"\"\n",
        "\n",
        "import json\n",
        "import os\n",
        "\n",
        "from flask import Flask\n",
        "from flask import request\n",
        "from flask import make_response\n",
        "import flask_ngrok\n",
        "app = Flask(__name__)\n",
        "flask_ngrok.run_with_ngrok(app)\n",
        "\n",
        "@app.route('/', methods=['POST'])\n",
        "def mchatDiagnosis():\n",
        "    print(\"----------------START-------------------\")\n",
        "    invoke_next_question = True\n",
        "    req = request.get_json(silent=True, force=True)\n",
        "    print(\"Request:\")\n",
        "    #print(json.dumps(req, indent=4))   \n",
        "    current_answer = req[\"queryResult\"][\"queryText\"]\n",
        "    current_question = req[\"queryResult\"][\"outputContexts\"][0][\"parameters\"][\"current-question\"]\n",
        "    print(\"current_question - \", current_question)\n",
        "    print(\"current_answer - \", current_answer)\n",
        "    if current_question[-2:].isdigit():\n",
        "       current_question_number =  int(current_question[-2:])\n",
        "       next_question = \"question\" + str(int(current_question[-2:]) + 1 )\n",
        "    else:    \n",
        "        next_question = \"question\" + str(int(current_question[-1:]) + 1 )\n",
        "        current_question_number =  int(current_question[-1:])\n",
        "    print (\"next question - \", next_question)\n",
        "    \n",
        "    #calculating Score\n",
        "    oCurrentScore = 0\n",
        "    if current_question ==\"question1\":\n",
        "        oPreviousSCore = 0\n",
        "    else:    \n",
        "        oParameter = \"parameter\" +  str(current_question_number)\n",
        "        oScoreParameter = req[\"queryResult\"][\"outputContexts\"][0][\"parameters\"][oParameter]\n",
        "        oPreviousScore = int(oScoreParameter.split(\".\")[1])\n",
        "        oCurrentScore = oPreviousScore\n",
        "        \n",
        "    if (current_question_number not in [2,5,12]) and (current_answer == \"No\"):\n",
        "        oCurrentScore = oCurrentScore + 1\n",
        "    elif (current_question_number in [2,5,12]) and (current_answer == \"Yes\"):\n",
        "        oCurrentScore = oCurrentScore + 1\n",
        "\n",
        "    \n",
        "    if current_question == \"question20\" :\n",
        "        category = None\n",
        "        if oCurrentScore < 3:\n",
        "            category = \"Low Risk\"\n",
        "            result = \"Your childs Mchat score is \" + str(oCurrentScore)+\", your child is under \" +category +\" category therefore \\\n",
        "                    No further action required unless surveillance indicates risk for ASD\"\n",
        "        if  oCurrentScore >= 3 and oCurrentScore<=7:\n",
        "            category = \"Medium Risk\"\n",
        "            result = \"Your childs Mchat score is \" + str(oCurrentScore) + \", your child is under \"+ category +\" category therefore \\\n",
        "                     Action required: refer child for diagnostic evaluation and eligibility evaluation for early intervention\"\n",
        "        if  oCurrentScore >7:\n",
        "            category = \"High Risk\"\n",
        "            result = \"Your childs Mchat score is \" + str(oCurrentScore) + \", your child is under \" + category + \" category therefore Action required: refer immediately for diagnostic evaluation and eligibility evaluation for early intervention\"\n",
        "        \n",
        "        \n",
        "        bot_reply = {\n",
        "            \"fulfillmentMessages\": [\n",
        "                                    {\n",
        "                                     \"platform\": \"ACTIONS_ON_GOOGLE\",\n",
        "                                     \"simpleResponses\": {\n",
        "                                         \"simpleResponses\": [\n",
        "                                                            {\n",
        "                                                             \"textToSpeech\": result\n",
        "                                                            }\n",
        "                                                            ]\n",
        "                                                         }\n",
        "                                     }\n",
        "                                    ]\n",
        "                    }\n",
        "    else:\n",
        "        bot_reply = {\n",
        "            #user-answer is not used anywhere in the code but just showing you how to pass some values to the intent you are calling\n",
        "            #https://dialogflow.com/docs/events\n",
        "            \"followupEventInput\": {\n",
        "                \"name\": next_question,\n",
        "                \"parameters\": {\n",
        "                    \"user-answer\": current_question + \".\" + str(oCurrentScore)\n",
        "                    }\n",
        "                }\n",
        "            }  \n",
        "    print (\"rreached here...\")\n",
        "    res = json.dumps(bot_reply, indent=4)\n",
        "    # print(res)\n",
        "    r = make_response(res)\n",
        "    r.headers['Content-Type'] = 'application/json'\n",
        "    print(\"about to return\")\n",
        "    return r\n",
        "    \n",
        "   \n",
        "\n",
        "\n",
        "if __name__ == '__main__':\n",
        "    app.run()"
      ],
      "execution_count": 8,
      "outputs": [
        {
          "output_type": "stream",
          "name": "stdout",
          "text": [
            " * Serving Flask app \"__main__\" (lazy loading)\n",
            " * Environment: production\n",
            "\u001b[31m   WARNING: This is a development server. Do not use it in a production deployment.\u001b[0m\n",
            "\u001b[2m   Use a production WSGI server instead.\u001b[0m\n",
            " * Debug mode: off\n"
          ]
        },
        {
          "output_type": "stream",
          "name": "stderr",
          "text": [
            " * Running on http://127.0.0.1:5000/ (Press CTRL+C to quit)\n"
          ]
        },
        {
          "output_type": "stream",
          "name": "stdout",
          "text": [
            " * Running on http://03d4-35-230-9-192.ngrok.io\n",
            " * Traffic stats available on http://127.0.0.1:4040\n"
          ]
        },
        {
          "output_type": "stream",
          "name": "stderr",
          "text": [
            "127.0.0.1 - - [18/Sep/2021 11:50:32] \"\u001b[37mPOST / HTTP/1.1\u001b[0m\" 200 -\n"
          ]
        },
        {
          "output_type": "stream",
          "name": "stdout",
          "text": [
            "----------------START-------------------\n",
            "Request:\n",
            "current_question -  question1\n",
            "current_answer -  Yes\n",
            "next question -  question2\n",
            "rreached here...\n",
            "about to return\n"
          ]
        },
        {
          "output_type": "stream",
          "name": "stderr",
          "text": [
            "127.0.0.1 - - [18/Sep/2021 11:50:35] \"\u001b[37mPOST / HTTP/1.1\u001b[0m\" 200 -\n"
          ]
        },
        {
          "output_type": "stream",
          "name": "stdout",
          "text": [
            "----------------START-------------------\n",
            "Request:\n",
            "current_question -  question2\n",
            "current_answer -  Yes\n",
            "next question -  question3\n",
            "rreached here...\n",
            "about to return\n"
          ]
        },
        {
          "output_type": "stream",
          "name": "stderr",
          "text": [
            "127.0.0.1 - - [18/Sep/2021 11:50:37] \"\u001b[37mPOST / HTTP/1.1\u001b[0m\" 200 -\n"
          ]
        },
        {
          "output_type": "stream",
          "name": "stdout",
          "text": [
            "----------------START-------------------\n",
            "Request:\n",
            "current_question -  question3\n",
            "current_answer -  No\n",
            "next question -  question4\n",
            "rreached here...\n",
            "about to return\n"
          ]
        },
        {
          "output_type": "stream",
          "name": "stderr",
          "text": [
            "127.0.0.1 - - [18/Sep/2021 11:50:39] \"\u001b[37mPOST / HTTP/1.1\u001b[0m\" 200 -\n"
          ]
        },
        {
          "output_type": "stream",
          "name": "stdout",
          "text": [
            "----------------START-------------------\n",
            "Request:\n",
            "current_question -  question4\n",
            "current_answer -  Yes\n",
            "next question -  question5\n",
            "rreached here...\n",
            "about to return\n"
          ]
        },
        {
          "output_type": "stream",
          "name": "stderr",
          "text": [
            "127.0.0.1 - - [18/Sep/2021 11:50:40] \"\u001b[37mPOST / HTTP/1.1\u001b[0m\" 200 -\n"
          ]
        },
        {
          "output_type": "stream",
          "name": "stdout",
          "text": [
            "----------------START-------------------\n",
            "Request:\n",
            "current_question -  question5\n",
            "current_answer -  No\n",
            "next question -  question6\n",
            "rreached here...\n",
            "about to return\n"
          ]
        },
        {
          "output_type": "stream",
          "name": "stderr",
          "text": [
            "127.0.0.1 - - [18/Sep/2021 11:50:42] \"\u001b[37mPOST / HTTP/1.1\u001b[0m\" 200 -\n"
          ]
        },
        {
          "output_type": "stream",
          "name": "stdout",
          "text": [
            "----------------START-------------------\n",
            "Request:\n",
            "current_question -  question6\n",
            "current_answer -  Yes\n",
            "next question -  question7\n",
            "rreached here...\n",
            "about to return\n"
          ]
        },
        {
          "output_type": "stream",
          "name": "stderr",
          "text": [
            "127.0.0.1 - - [18/Sep/2021 11:50:43] \"\u001b[37mPOST / HTTP/1.1\u001b[0m\" 200 -\n"
          ]
        },
        {
          "output_type": "stream",
          "name": "stdout",
          "text": [
            "----------------START-------------------\n",
            "Request:\n",
            "current_question -  question7\n",
            "current_answer -  No\n",
            "next question -  question8\n",
            "rreached here...\n",
            "about to return\n"
          ]
        },
        {
          "output_type": "stream",
          "name": "stderr",
          "text": [
            "127.0.0.1 - - [18/Sep/2021 11:50:44] \"\u001b[37mPOST / HTTP/1.1\u001b[0m\" 200 -\n"
          ]
        },
        {
          "output_type": "stream",
          "name": "stdout",
          "text": [
            "----------------START-------------------\n",
            "Request:\n",
            "current_question -  question8\n",
            "current_answer -  Yes\n",
            "next question -  question9\n",
            "rreached here...\n",
            "about to return\n"
          ]
        },
        {
          "output_type": "stream",
          "name": "stderr",
          "text": [
            "127.0.0.1 - - [18/Sep/2021 11:50:45] \"\u001b[37mPOST / HTTP/1.1\u001b[0m\" 200 -\n"
          ]
        },
        {
          "output_type": "stream",
          "name": "stdout",
          "text": [
            "----------------START-------------------\n",
            "Request:\n",
            "current_question -  question9\n",
            "current_answer -  No\n",
            "next question -  question10\n",
            "rreached here...\n",
            "about to return\n"
          ]
        },
        {
          "output_type": "stream",
          "name": "stderr",
          "text": [
            "127.0.0.1 - - [18/Sep/2021 11:50:47] \"\u001b[37mPOST / HTTP/1.1\u001b[0m\" 200 -\n"
          ]
        },
        {
          "output_type": "stream",
          "name": "stdout",
          "text": [
            "----------------START-------------------\n",
            "Request:\n",
            "current_question -  question10\n",
            "current_answer -  Yes\n",
            "next question -  question11\n",
            "rreached here...\n",
            "about to return\n"
          ]
        },
        {
          "output_type": "stream",
          "name": "stderr",
          "text": [
            "127.0.0.1 - - [18/Sep/2021 11:50:48] \"\u001b[37mPOST / HTTP/1.1\u001b[0m\" 200 -\n"
          ]
        },
        {
          "output_type": "stream",
          "name": "stdout",
          "text": [
            "----------------START-------------------\n",
            "Request:\n",
            "current_question -  question11\n",
            "current_answer -  No\n",
            "next question -  question12\n",
            "rreached here...\n",
            "about to return\n"
          ]
        },
        {
          "output_type": "stream",
          "name": "stderr",
          "text": [
            "127.0.0.1 - - [18/Sep/2021 11:50:50] \"\u001b[37mPOST / HTTP/1.1\u001b[0m\" 200 -\n"
          ]
        },
        {
          "output_type": "stream",
          "name": "stdout",
          "text": [
            "----------------START-------------------\n",
            "Request:\n",
            "current_question -  question12\n",
            "current_answer -  Yes\n",
            "next question -  question13\n",
            "rreached here...\n",
            "about to return\n"
          ]
        },
        {
          "output_type": "stream",
          "name": "stderr",
          "text": [
            "127.0.0.1 - - [18/Sep/2021 11:50:51] \"\u001b[37mPOST / HTTP/1.1\u001b[0m\" 200 -\n"
          ]
        },
        {
          "output_type": "stream",
          "name": "stdout",
          "text": [
            "----------------START-------------------\n",
            "Request:\n",
            "current_question -  question13\n",
            "current_answer -  No\n",
            "next question -  question14\n",
            "rreached here...\n",
            "about to return\n"
          ]
        },
        {
          "output_type": "stream",
          "name": "stderr",
          "text": [
            "127.0.0.1 - - [18/Sep/2021 11:50:52] \"\u001b[37mPOST / HTTP/1.1\u001b[0m\" 200 -\n"
          ]
        },
        {
          "output_type": "stream",
          "name": "stdout",
          "text": [
            "----------------START-------------------\n",
            "Request:\n",
            "current_question -  question14\n",
            "current_answer -  Yes\n",
            "next question -  question15\n",
            "rreached here...\n",
            "about to return\n"
          ]
        },
        {
          "output_type": "stream",
          "name": "stderr",
          "text": [
            "127.0.0.1 - - [18/Sep/2021 11:50:53] \"\u001b[37mPOST / HTTP/1.1\u001b[0m\" 200 -\n"
          ]
        },
        {
          "output_type": "stream",
          "name": "stdout",
          "text": [
            "----------------START-------------------\n",
            "Request:\n",
            "current_question -  question15\n",
            "current_answer -  No\n",
            "next question -  question16\n",
            "rreached here...\n",
            "about to return\n"
          ]
        },
        {
          "output_type": "stream",
          "name": "stderr",
          "text": [
            "127.0.0.1 - - [18/Sep/2021 11:50:55] \"\u001b[37mPOST / HTTP/1.1\u001b[0m\" 200 -\n"
          ]
        },
        {
          "output_type": "stream",
          "name": "stdout",
          "text": [
            "----------------START-------------------\n",
            "Request:\n",
            "current_question -  question16\n",
            "current_answer -  Yes\n",
            "next question -  question17\n",
            "rreached here...\n",
            "about to return\n"
          ]
        },
        {
          "output_type": "stream",
          "name": "stderr",
          "text": [
            "127.0.0.1 - - [18/Sep/2021 11:50:57] \"\u001b[37mPOST / HTTP/1.1\u001b[0m\" 200 -\n"
          ]
        },
        {
          "output_type": "stream",
          "name": "stdout",
          "text": [
            "----------------START-------------------\n",
            "Request:\n",
            "current_question -  question17\n",
            "current_answer -  Yes\n",
            "next question -  question18\n",
            "rreached here...\n",
            "about to return\n"
          ]
        },
        {
          "output_type": "stream",
          "name": "stderr",
          "text": [
            "127.0.0.1 - - [18/Sep/2021 11:50:58] \"\u001b[37mPOST / HTTP/1.1\u001b[0m\" 200 -\n"
          ]
        },
        {
          "output_type": "stream",
          "name": "stdout",
          "text": [
            "----------------START-------------------\n",
            "Request:\n",
            "current_question -  question18\n",
            "current_answer -  Yes\n",
            "next question -  question19\n",
            "rreached here...\n",
            "about to return\n"
          ]
        },
        {
          "output_type": "stream",
          "name": "stderr",
          "text": [
            "127.0.0.1 - - [18/Sep/2021 11:51:00] \"\u001b[37mPOST / HTTP/1.1\u001b[0m\" 200 -\n"
          ]
        },
        {
          "output_type": "stream",
          "name": "stdout",
          "text": [
            "----------------START-------------------\n",
            "Request:\n",
            "current_question -  question19\n",
            "current_answer -  Yes\n",
            "next question -  question20\n",
            "rreached here...\n",
            "about to return\n"
          ]
        },
        {
          "output_type": "stream",
          "name": "stderr",
          "text": [
            "127.0.0.1 - - [18/Sep/2021 11:51:02] \"\u001b[37mPOST / HTTP/1.1\u001b[0m\" 200 -\n"
          ]
        },
        {
          "output_type": "stream",
          "name": "stdout",
          "text": [
            "----------------START-------------------\n",
            "Request:\n",
            "current_question -  question20\n",
            "current_answer -  Yes\n",
            "next question -  question21\n",
            "rreached here...\n",
            "about to return\n"
          ]
        },
        {
          "output_type": "stream",
          "name": "stderr",
          "text": [
            "127.0.0.1 - - [18/Sep/2021 12:03:34] \"\u001b[37mPOST / HTTP/1.1\u001b[0m\" 200 -\n"
          ]
        },
        {
          "output_type": "stream",
          "name": "stdout",
          "text": [
            "----------------START-------------------\n",
            "Request:\n",
            "current_question -  question1\n",
            "current_answer -  Yes\n",
            "next question -  question2\n",
            "rreached here...\n",
            "about to return\n"
          ]
        },
        {
          "output_type": "stream",
          "name": "stderr",
          "text": [
            "127.0.0.1 - - [18/Sep/2021 12:03:35] \"\u001b[37mPOST / HTTP/1.1\u001b[0m\" 200 -\n"
          ]
        },
        {
          "output_type": "stream",
          "name": "stdout",
          "text": [
            "----------------START-------------------\n",
            "Request:\n",
            "current_question -  question2\n",
            "current_answer -  Yes\n",
            "next question -  question3\n",
            "rreached here...\n",
            "about to return\n"
          ]
        },
        {
          "output_type": "stream",
          "name": "stderr",
          "text": [
            "127.0.0.1 - - [18/Sep/2021 12:03:37] \"\u001b[37mPOST / HTTP/1.1\u001b[0m\" 200 -\n"
          ]
        },
        {
          "output_type": "stream",
          "name": "stdout",
          "text": [
            "----------------START-------------------\n",
            "Request:\n",
            "current_question -  question3\n",
            "current_answer -  Yes\n",
            "next question -  question4\n",
            "rreached here...\n",
            "about to return\n"
          ]
        },
        {
          "output_type": "stream",
          "name": "stderr",
          "text": [
            "127.0.0.1 - - [18/Sep/2021 12:03:39] \"\u001b[37mPOST / HTTP/1.1\u001b[0m\" 200 -\n"
          ]
        },
        {
          "output_type": "stream",
          "name": "stdout",
          "text": [
            "----------------START-------------------\n",
            "Request:\n",
            "current_question -  question4\n",
            "current_answer -  Yes\n",
            "next question -  question5\n",
            "rreached here...\n",
            "about to return\n"
          ]
        },
        {
          "output_type": "stream",
          "name": "stderr",
          "text": [
            "127.0.0.1 - - [18/Sep/2021 12:03:40] \"\u001b[37mPOST / HTTP/1.1\u001b[0m\" 200 -\n"
          ]
        },
        {
          "output_type": "stream",
          "name": "stdout",
          "text": [
            "----------------START-------------------\n",
            "Request:\n",
            "current_question -  question5\n",
            "current_answer -  Yes\n",
            "next question -  question6\n",
            "rreached here...\n",
            "about to return\n"
          ]
        },
        {
          "output_type": "stream",
          "name": "stderr",
          "text": [
            "127.0.0.1 - - [18/Sep/2021 12:03:41] \"\u001b[37mPOST / HTTP/1.1\u001b[0m\" 200 -\n"
          ]
        },
        {
          "output_type": "stream",
          "name": "stdout",
          "text": [
            "----------------START-------------------\n",
            "Request:\n",
            "current_question -  question6\n",
            "current_answer -  Yes\n",
            "next question -  question7\n",
            "rreached here...\n",
            "about to return\n"
          ]
        },
        {
          "output_type": "stream",
          "name": "stderr",
          "text": [
            "127.0.0.1 - - [18/Sep/2021 12:03:43] \"\u001b[37mPOST / HTTP/1.1\u001b[0m\" 200 -\n"
          ]
        },
        {
          "output_type": "stream",
          "name": "stdout",
          "text": [
            "----------------START-------------------\n",
            "Request:\n",
            "current_question -  question7\n",
            "current_answer -  Yes\n",
            "next question -  question8\n",
            "rreached here...\n",
            "about to return\n"
          ]
        },
        {
          "output_type": "stream",
          "name": "stderr",
          "text": [
            "127.0.0.1 - - [18/Sep/2021 12:03:44] \"\u001b[37mPOST / HTTP/1.1\u001b[0m\" 200 -\n"
          ]
        },
        {
          "output_type": "stream",
          "name": "stdout",
          "text": [
            "----------------START-------------------\n",
            "Request:\n",
            "current_question -  question8\n",
            "current_answer -  Yes\n",
            "next question -  question9\n",
            "rreached here...\n",
            "about to return\n"
          ]
        },
        {
          "output_type": "stream",
          "name": "stderr",
          "text": [
            "127.0.0.1 - - [18/Sep/2021 12:03:46] \"\u001b[37mPOST / HTTP/1.1\u001b[0m\" 200 -\n"
          ]
        },
        {
          "output_type": "stream",
          "name": "stdout",
          "text": [
            "----------------START-------------------\n",
            "Request:\n",
            "current_question -  question9\n",
            "current_answer -  Yes\n",
            "next question -  question10\n",
            "rreached here...\n",
            "about to return\n"
          ]
        },
        {
          "output_type": "stream",
          "name": "stderr",
          "text": [
            "127.0.0.1 - - [18/Sep/2021 12:03:47] \"\u001b[37mPOST / HTTP/1.1\u001b[0m\" 200 -\n"
          ]
        },
        {
          "output_type": "stream",
          "name": "stdout",
          "text": [
            "----------------START-------------------\n",
            "Request:\n",
            "current_question -  question10\n",
            "current_answer -  Yes\n",
            "next question -  question11\n",
            "rreached here...\n",
            "about to return\n"
          ]
        },
        {
          "output_type": "stream",
          "name": "stderr",
          "text": [
            "127.0.0.1 - - [18/Sep/2021 12:03:48] \"\u001b[37mPOST / HTTP/1.1\u001b[0m\" 200 -\n"
          ]
        },
        {
          "output_type": "stream",
          "name": "stdout",
          "text": [
            "----------------START-------------------\n",
            "Request:\n",
            "current_question -  question11\n",
            "current_answer -  Yes\n",
            "next question -  question12\n",
            "rreached here...\n",
            "about to return\n"
          ]
        },
        {
          "output_type": "stream",
          "name": "stderr",
          "text": [
            "127.0.0.1 - - [18/Sep/2021 12:03:50] \"\u001b[37mPOST / HTTP/1.1\u001b[0m\" 200 -\n"
          ]
        },
        {
          "output_type": "stream",
          "name": "stdout",
          "text": [
            "----------------START-------------------\n",
            "Request:\n",
            "current_question -  question12\n",
            "current_answer -  Yes\n",
            "next question -  question13\n",
            "rreached here...\n",
            "about to return\n"
          ]
        },
        {
          "output_type": "stream",
          "name": "stderr",
          "text": [
            "127.0.0.1 - - [18/Sep/2021 12:03:51] \"\u001b[37mPOST / HTTP/1.1\u001b[0m\" 200 -\n"
          ]
        },
        {
          "output_type": "stream",
          "name": "stdout",
          "text": [
            "----------------START-------------------\n",
            "Request:\n",
            "current_question -  question13\n",
            "current_answer -  Yes\n",
            "next question -  question14\n",
            "rreached here...\n",
            "about to return\n"
          ]
        },
        {
          "output_type": "stream",
          "name": "stderr",
          "text": [
            "127.0.0.1 - - [18/Sep/2021 12:03:52] \"\u001b[37mPOST / HTTP/1.1\u001b[0m\" 200 -\n"
          ]
        },
        {
          "output_type": "stream",
          "name": "stdout",
          "text": [
            "----------------START-------------------\n",
            "Request:\n",
            "current_question -  question14\n",
            "current_answer -  Yes\n",
            "next question -  question15\n",
            "rreached here...\n",
            "about to return\n"
          ]
        },
        {
          "output_type": "stream",
          "name": "stderr",
          "text": [
            "127.0.0.1 - - [18/Sep/2021 12:03:54] \"\u001b[37mPOST / HTTP/1.1\u001b[0m\" 200 -\n"
          ]
        },
        {
          "output_type": "stream",
          "name": "stdout",
          "text": [
            "----------------START-------------------\n",
            "Request:\n",
            "current_question -  question15\n",
            "current_answer -  Yes\n",
            "next question -  question16\n",
            "rreached here...\n",
            "about to return\n"
          ]
        },
        {
          "output_type": "stream",
          "name": "stderr",
          "text": [
            "127.0.0.1 - - [18/Sep/2021 12:03:55] \"\u001b[37mPOST / HTTP/1.1\u001b[0m\" 200 -\n"
          ]
        },
        {
          "output_type": "stream",
          "name": "stdout",
          "text": [
            "----------------START-------------------\n",
            "Request:\n",
            "current_question -  question16\n",
            "current_answer -  Yes\n",
            "next question -  question17\n",
            "rreached here...\n",
            "about to return\n"
          ]
        },
        {
          "output_type": "stream",
          "name": "stderr",
          "text": [
            "127.0.0.1 - - [18/Sep/2021 12:03:56] \"\u001b[37mPOST / HTTP/1.1\u001b[0m\" 200 -\n"
          ]
        },
        {
          "output_type": "stream",
          "name": "stdout",
          "text": [
            "----------------START-------------------\n",
            "Request:\n",
            "current_question -  question17\n",
            "current_answer -  Yes\n",
            "next question -  question18\n",
            "rreached here...\n",
            "about to return\n"
          ]
        },
        {
          "output_type": "stream",
          "name": "stderr",
          "text": [
            "127.0.0.1 - - [18/Sep/2021 12:03:58] \"\u001b[37mPOST / HTTP/1.1\u001b[0m\" 200 -\n"
          ]
        },
        {
          "output_type": "stream",
          "name": "stdout",
          "text": [
            "----------------START-------------------\n",
            "Request:\n",
            "current_question -  question18\n",
            "current_answer -  Yes\n",
            "next question -  question19\n",
            "rreached here...\n",
            "about to return\n"
          ]
        },
        {
          "output_type": "stream",
          "name": "stderr",
          "text": [
            "127.0.0.1 - - [18/Sep/2021 12:03:59] \"\u001b[37mPOST / HTTP/1.1\u001b[0m\" 200 -\n"
          ]
        },
        {
          "output_type": "stream",
          "name": "stdout",
          "text": [
            "----------------START-------------------\n",
            "Request:\n",
            "current_question -  question19\n",
            "current_answer -  Yes\n",
            "next question -  question20\n",
            "rreached here...\n",
            "about to return\n"
          ]
        },
        {
          "output_type": "stream",
          "name": "stderr",
          "text": [
            "127.0.0.1 - - [18/Sep/2021 12:04:01] \"\u001b[37mPOST / HTTP/1.1\u001b[0m\" 200 -\n"
          ]
        },
        {
          "output_type": "stream",
          "name": "stdout",
          "text": [
            "----------------START-------------------\n",
            "Request:\n",
            "current_question -  question20\n",
            "current_answer -  Yes\n",
            "next question -  question21\n",
            "rreached here...\n",
            "about to return\n"
          ]
        },
        {
          "output_type": "stream",
          "name": "stderr",
          "text": [
            "127.0.0.1 - - [18/Sep/2021 12:13:37] \"\u001b[37mPOST / HTTP/1.1\u001b[0m\" 200 -\n"
          ]
        },
        {
          "output_type": "stream",
          "name": "stdout",
          "text": [
            "----------------START-------------------\n",
            "Request:\n",
            "current_question -  question1\n",
            "current_answer -  Yes\n",
            "next question -  question2\n",
            "rreached here...\n",
            "about to return\n"
          ]
        },
        {
          "output_type": "stream",
          "name": "stderr",
          "text": [
            "127.0.0.1 - - [18/Sep/2021 12:14:23] \"\u001b[37mPOST / HTTP/1.1\u001b[0m\" 200 -\n"
          ]
        },
        {
          "output_type": "stream",
          "name": "stdout",
          "text": [
            "----------------START-------------------\n",
            "Request:\n",
            "current_question -  question1\n",
            "current_answer -  Yes\n",
            "next question -  question2\n",
            "rreached here...\n",
            "about to return\n"
          ]
        },
        {
          "output_type": "stream",
          "name": "stderr",
          "text": [
            "127.0.0.1 - - [18/Sep/2021 12:14:35] \"\u001b[37mPOST / HTTP/1.1\u001b[0m\" 200 -\n"
          ]
        },
        {
          "output_type": "stream",
          "name": "stdout",
          "text": [
            "----------------START-------------------\n",
            "Request:\n",
            "current_question -  question1\n",
            "current_answer -  Yes\n",
            "next question -  question2\n",
            "rreached here...\n",
            "about to return\n"
          ]
        },
        {
          "output_type": "stream",
          "name": "stderr",
          "text": [
            "127.0.0.1 - - [18/Sep/2021 12:14:38] \"\u001b[37mPOST / HTTP/1.1\u001b[0m\" 200 -\n"
          ]
        },
        {
          "output_type": "stream",
          "name": "stdout",
          "text": [
            "----------------START-------------------\n",
            "Request:\n",
            "current_question -  question2\n",
            "current_answer -  Yes\n",
            "next question -  question3\n",
            "rreached here...\n",
            "about to return\n"
          ]
        },
        {
          "output_type": "stream",
          "name": "stderr",
          "text": [
            "127.0.0.1 - - [18/Sep/2021 12:14:44] \"\u001b[37mPOST / HTTP/1.1\u001b[0m\" 200 -\n"
          ]
        },
        {
          "output_type": "stream",
          "name": "stdout",
          "text": [
            "----------------START-------------------\n",
            "Request:\n",
            "current_question -  question1\n",
            "current_answer -  Yes\n",
            "next question -  question2\n",
            "rreached here...\n",
            "about to return\n"
          ]
        },
        {
          "output_type": "stream",
          "name": "stderr",
          "text": [
            "127.0.0.1 - - [18/Sep/2021 12:14:47] \"\u001b[37mPOST / HTTP/1.1\u001b[0m\" 200 -\n"
          ]
        },
        {
          "output_type": "stream",
          "name": "stdout",
          "text": [
            "----------------START-------------------\n",
            "Request:\n",
            "current_question -  question2\n",
            "current_answer -  Yes\n",
            "next question -  question3\n",
            "rreached here...\n",
            "about to return\n"
          ]
        },
        {
          "output_type": "stream",
          "name": "stderr",
          "text": [
            "127.0.0.1 - - [18/Sep/2021 12:14:49] \"\u001b[37mPOST / HTTP/1.1\u001b[0m\" 200 -\n"
          ]
        },
        {
          "output_type": "stream",
          "name": "stdout",
          "text": [
            "----------------START-------------------\n",
            "Request:\n",
            "current_question -  question3\n",
            "current_answer -  Yes\n",
            "next question -  question4\n",
            "rreached here...\n",
            "about to return\n"
          ]
        },
        {
          "output_type": "stream",
          "name": "stderr",
          "text": [
            "127.0.0.1 - - [18/Sep/2021 12:14:56] \"\u001b[37mPOST / HTTP/1.1\u001b[0m\" 200 -\n"
          ]
        },
        {
          "output_type": "stream",
          "name": "stdout",
          "text": [
            "----------------START-------------------\n",
            "Request:\n",
            "current_question -  question1\n",
            "current_answer -  Yes\n",
            "next question -  question2\n",
            "rreached here...\n",
            "about to return\n"
          ]
        },
        {
          "output_type": "stream",
          "name": "stderr",
          "text": [
            "127.0.0.1 - - [18/Sep/2021 12:14:59] \"\u001b[37mPOST / HTTP/1.1\u001b[0m\" 200 -\n"
          ]
        },
        {
          "output_type": "stream",
          "name": "stdout",
          "text": [
            "----------------START-------------------\n",
            "Request:\n",
            "current_question -  question2\n",
            "current_answer -  No\n",
            "next question -  question3\n",
            "rreached here...\n",
            "about to return\n"
          ]
        },
        {
          "output_type": "stream",
          "name": "stderr",
          "text": [
            "127.0.0.1 - - [18/Sep/2021 12:15:00] \"\u001b[37mPOST / HTTP/1.1\u001b[0m\" 200 -\n"
          ]
        },
        {
          "output_type": "stream",
          "name": "stdout",
          "text": [
            "----------------START-------------------\n",
            "Request:\n",
            "current_question -  question3\n",
            "current_answer -  No\n",
            "next question -  question4\n",
            "rreached here...\n",
            "about to return\n"
          ]
        },
        {
          "output_type": "stream",
          "name": "stderr",
          "text": [
            "127.0.0.1 - - [18/Sep/2021 12:15:02] \"\u001b[37mPOST / HTTP/1.1\u001b[0m\" 200 -\n"
          ]
        },
        {
          "output_type": "stream",
          "name": "stdout",
          "text": [
            "----------------START-------------------\n",
            "Request:\n",
            "current_question -  question4\n",
            "current_answer -  No\n",
            "next question -  question5\n",
            "rreached here...\n",
            "about to return\n"
          ]
        },
        {
          "output_type": "stream",
          "name": "stderr",
          "text": [
            "127.0.0.1 - - [18/Sep/2021 12:15:05] \"\u001b[37mPOST / HTTP/1.1\u001b[0m\" 200 -\n"
          ]
        },
        {
          "output_type": "stream",
          "name": "stdout",
          "text": [
            "----------------START-------------------\n",
            "Request:\n",
            "current_question -  question5\n",
            "current_answer -  No\n",
            "next question -  question6\n",
            "rreached here...\n",
            "about to return\n"
          ]
        },
        {
          "output_type": "stream",
          "name": "stderr",
          "text": [
            "127.0.0.1 - - [18/Sep/2021 12:15:07] \"\u001b[37mPOST / HTTP/1.1\u001b[0m\" 200 -\n"
          ]
        },
        {
          "output_type": "stream",
          "name": "stdout",
          "text": [
            "----------------START-------------------\n",
            "Request:\n",
            "current_question -  question6\n",
            "current_answer -  No\n",
            "next question -  question7\n",
            "rreached here...\n",
            "about to return\n"
          ]
        },
        {
          "output_type": "stream",
          "name": "stderr",
          "text": [
            "127.0.0.1 - - [18/Sep/2021 12:15:08] \"\u001b[37mPOST / HTTP/1.1\u001b[0m\" 200 -\n"
          ]
        },
        {
          "output_type": "stream",
          "name": "stdout",
          "text": [
            "----------------START-------------------\n",
            "Request:\n",
            "current_question -  question7\n",
            "current_answer -  No\n",
            "next question -  question8\n",
            "rreached here...\n",
            "about to return\n"
          ]
        },
        {
          "output_type": "stream",
          "name": "stderr",
          "text": [
            "127.0.0.1 - - [18/Sep/2021 12:15:10] \"\u001b[37mPOST / HTTP/1.1\u001b[0m\" 200 -\n"
          ]
        },
        {
          "output_type": "stream",
          "name": "stdout",
          "text": [
            "----------------START-------------------\n",
            "Request:\n",
            "current_question -  question8\n",
            "current_answer -  No\n",
            "next question -  question9\n",
            "rreached here...\n",
            "about to return\n"
          ]
        },
        {
          "output_type": "stream",
          "name": "stderr",
          "text": [
            "127.0.0.1 - - [18/Sep/2021 12:15:12] \"\u001b[37mPOST / HTTP/1.1\u001b[0m\" 200 -\n"
          ]
        },
        {
          "output_type": "stream",
          "name": "stdout",
          "text": [
            "----------------START-------------------\n",
            "Request:\n",
            "current_question -  question9\n",
            "current_answer -  No\n",
            "next question -  question10\n",
            "rreached here...\n",
            "about to return\n"
          ]
        },
        {
          "output_type": "stream",
          "name": "stderr",
          "text": [
            "127.0.0.1 - - [18/Sep/2021 12:15:14] \"\u001b[37mPOST / HTTP/1.1\u001b[0m\" 200 -\n"
          ]
        },
        {
          "output_type": "stream",
          "name": "stdout",
          "text": [
            "----------------START-------------------\n",
            "Request:\n",
            "current_question -  question10\n",
            "current_answer -  No\n",
            "next question -  question11\n",
            "rreached here...\n",
            "about to return\n"
          ]
        },
        {
          "output_type": "stream",
          "name": "stderr",
          "text": [
            "127.0.0.1 - - [18/Sep/2021 12:15:16] \"\u001b[37mPOST / HTTP/1.1\u001b[0m\" 200 -\n"
          ]
        },
        {
          "output_type": "stream",
          "name": "stdout",
          "text": [
            "----------------START-------------------\n",
            "Request:\n",
            "current_question -  question11\n",
            "current_answer -  No\n",
            "next question -  question12\n",
            "rreached here...\n",
            "about to return\n"
          ]
        },
        {
          "output_type": "stream",
          "name": "stderr",
          "text": [
            "127.0.0.1 - - [18/Sep/2021 12:15:18] \"\u001b[37mPOST / HTTP/1.1\u001b[0m\" 200 -\n"
          ]
        },
        {
          "output_type": "stream",
          "name": "stdout",
          "text": [
            "----------------START-------------------\n",
            "Request:\n",
            "current_question -  question12\n",
            "current_answer -  No\n",
            "next question -  question13\n",
            "rreached here...\n",
            "about to return\n"
          ]
        },
        {
          "output_type": "stream",
          "name": "stderr",
          "text": [
            "127.0.0.1 - - [18/Sep/2021 12:15:20] \"\u001b[37mPOST / HTTP/1.1\u001b[0m\" 200 -\n"
          ]
        },
        {
          "output_type": "stream",
          "name": "stdout",
          "text": [
            "----------------START-------------------\n",
            "Request:\n",
            "current_question -  question13\n",
            "current_answer -  No\n",
            "next question -  question14\n",
            "rreached here...\n",
            "about to return\n"
          ]
        },
        {
          "output_type": "stream",
          "name": "stderr",
          "text": [
            "127.0.0.1 - - [18/Sep/2021 12:15:21] \"\u001b[37mPOST / HTTP/1.1\u001b[0m\" 200 -\n"
          ]
        },
        {
          "output_type": "stream",
          "name": "stdout",
          "text": [
            "----------------START-------------------\n",
            "Request:\n",
            "current_question -  question14\n",
            "current_answer -  No\n",
            "next question -  question15\n",
            "rreached here...\n",
            "about to return\n"
          ]
        }
      ]
    },
    {
      "cell_type": "code",
      "metadata": {
        "colab": {
          "base_uri": "https://localhost:8080/"
        },
        "id": "Fkdkmcs6nNUV",
        "outputId": "418f6283-02e4-4914-f1c3-b4229f89acf3"
      },
      "source": [
        "!pip install flask-ngrok"
      ],
      "execution_count": 2,
      "outputs": [
        {
          "output_type": "stream",
          "name": "stdout",
          "text": [
            "Collecting flask-ngrok\n",
            "  Downloading flask_ngrok-0.0.25-py3-none-any.whl (3.1 kB)\n",
            "Requirement already satisfied: requests in /usr/local/lib/python3.7/dist-packages (from flask-ngrok) (2.23.0)\n",
            "Requirement already satisfied: Flask>=0.8 in /usr/local/lib/python3.7/dist-packages (from flask-ngrok) (1.1.4)\n",
            "Requirement already satisfied: itsdangerous<2.0,>=0.24 in /usr/local/lib/python3.7/dist-packages (from Flask>=0.8->flask-ngrok) (1.1.0)\n",
            "Requirement already satisfied: Jinja2<3.0,>=2.10.1 in /usr/local/lib/python3.7/dist-packages (from Flask>=0.8->flask-ngrok) (2.11.3)\n",
            "Requirement already satisfied: click<8.0,>=5.1 in /usr/local/lib/python3.7/dist-packages (from Flask>=0.8->flask-ngrok) (7.1.2)\n",
            "Requirement already satisfied: Werkzeug<2.0,>=0.15 in /usr/local/lib/python3.7/dist-packages (from Flask>=0.8->flask-ngrok) (1.0.1)\n",
            "Requirement already satisfied: MarkupSafe>=0.23 in /usr/local/lib/python3.7/dist-packages (from Jinja2<3.0,>=2.10.1->Flask>=0.8->flask-ngrok) (2.0.1)\n",
            "Requirement already satisfied: urllib3!=1.25.0,!=1.25.1,<1.26,>=1.21.1 in /usr/local/lib/python3.7/dist-packages (from requests->flask-ngrok) (1.24.3)\n",
            "Requirement already satisfied: certifi>=2017.4.17 in /usr/local/lib/python3.7/dist-packages (from requests->flask-ngrok) (2021.5.30)\n",
            "Requirement already satisfied: idna<3,>=2.5 in /usr/local/lib/python3.7/dist-packages (from requests->flask-ngrok) (2.10)\n",
            "Requirement already satisfied: chardet<4,>=3.0.2 in /usr/local/lib/python3.7/dist-packages (from requests->flask-ngrok) (3.0.4)\n",
            "Installing collected packages: flask-ngrok\n",
            "Successfully installed flask-ngrok-0.0.25\n"
          ]
        }
      ]
    },
    {
      "cell_type": "code",
      "metadata": {
        "id": "GzNOlu8HmfUS"
      },
      "source": [
        ""
      ],
      "execution_count": null,
      "outputs": []
    }
  ]
}