{
 "cells": [
  {
   "cell_type": "markdown",
   "id": "fa4ce988",
   "metadata": {},
   "source": [
    "# Import Libraries"
   ]
  },
  {
   "cell_type": "code",
   "execution_count": 50,
   "id": "ff207f11",
   "metadata": {},
   "outputs": [],
   "source": [
    "################ WEB SCRAPING MODULES ############\n",
    "from selenium import webdriver\n",
    "from webdriver_manager.chrome import ChromeDriverManager\n",
    "from selenium.webdriver.common.by import By\n",
    "import bs4\n",
    "from fake_useragent import UserAgent\n",
    "import requests\n",
    "################ TIME MODLULES ###################\n",
    "import time\n",
    "from datetime import date \n",
    "import datetime\n",
    "############## DATA MANIPULATION MODULES #########\n",
    "import pandas as pd\n",
    "import numpy as np\n",
    "import re\n",
    "from nltk.corpus import stopwords"
   ]
  },
  {
   "cell_type": "markdown",
   "id": "4f8f2ef9",
   "metadata": {},
   "source": [
    "# Read 100 questions list"
   ]
  },
  {
   "cell_type": "code",
   "execution_count": 51,
   "id": "5fb8f7ba",
   "metadata": {},
   "outputs": [
    {
     "data": {
      "text/plain": [
       "<bound method NDFrame.head of                                              Question  \\\n",
       "0                                     What is Autism?   \n",
       "1       What are the Autism Spectrum Disorders (ASD)?   \n",
       "2                        What is Asperger’s Syndrome?   \n",
       "3   How can you tell Autism from Asperger’s Syndrome?   \n",
       "4   What is Pervasive Developmental Disorder – Not...   \n",
       "..                                                ...   \n",
       "95  What are some ways that parents can reduce the...   \n",
       "96  Do some families deal with stress better than ...   \n",
       "97  Do siblings suffer increased stress as a resul...   \n",
       "98          What can I do about my children’s stress?   \n",
       "99  What are some resources for learning more abou...   \n",
       "\n",
       "    https://springbrookbehavioral.com/frequently-asked-questions-about-autism/  \n",
       "0                                                 NaN                           \n",
       "1                                                 NaN                           \n",
       "2                                                 NaN                           \n",
       "3                                                 NaN                           \n",
       "4                                                 NaN                           \n",
       "..                                                ...                           \n",
       "95                                                NaN                           \n",
       "96                                                NaN                           \n",
       "97                                                NaN                           \n",
       "98                                                NaN                           \n",
       "99                                                NaN                           \n",
       "\n",
       "[100 rows x 2 columns]>"
      ]
     },
     "execution_count": 51,
     "metadata": {},
     "output_type": "execute_result"
    }
   ],
   "source": [
    "df = pd.read_excel('questions.xlsx',engine='openpyxl')\n",
    "link = 'https://springbrookbehavioral.com/frequently-asked-questions-about-autism/'\n",
    "df[link]=np.nan\n",
    "df.drop(df.iloc[:, 1:25], inplace = True, axis = 1)\n",
    "df.head"
   ]
  },
  {
   "cell_type": "markdown",
   "id": "06cc4415",
   "metadata": {},
   "source": [
    "# Scrape QA pairs from website"
   ]
  },
  {
   "cell_type": "code",
   "execution_count": 52,
   "id": "25ea70af",
   "metadata": {},
   "outputs": [
    {
     "name": "stderr",
     "output_type": "stream",
     "text": [
      "\n",
      "\n",
      "====== WebDriver manager ======\n",
      "Current google-chrome version is 92.0.4515\n",
      "Get LATEST driver version for 92.0.4515\n",
      "Driver [/home/gopan/.wdm/drivers/chromedriver/linux64/92.0.4515.107/chromedriver] found in cache\n"
     ]
    }
   ],
   "source": [
    "# Open webpage in a new window\n",
    "driver = webdriver.Chrome(ChromeDriverManager().install())\n",
    "driver.get('https://springbrookbehavioral.com/frequently-asked-questions-about-autism/')"
   ]
  },
  {
   "cell_type": "code",
   "execution_count": 53,
   "id": "c652775d",
   "metadata": {},
   "outputs": [],
   "source": [
    "# Parse text in webpage\n",
    "source = driver.page_source\n",
    "soup = bs4.BeautifulSoup(source, 'html.parser')"
   ]
  },
  {
   "cell_type": "code",
   "execution_count": 54,
   "id": "a9f512a4",
   "metadata": {},
   "outputs": [
    {
     "name": "stdout",
     "output_type": "stream",
     "text": [
      "Did I Cause My Child’s Autism?\n",
      "How Can I Deal With This Diagnosis?\n",
      "How Do I Find Help For My Child?\n",
      "Will My Child Ever Be Normal?\n",
      "What Will My Child’s Future Be Like?\n",
      "What Can I Do To Prepare My Child For The Future?\n",
      "Can My Child’s Autism Be Cured?\n",
      "Will My Child Ever Be Able To Talk?\n",
      "Is There A Medication That Will Get My Child To Stop __________________?\n"
     ]
    }
   ],
   "source": [
    "# Search the questions mentioned in webpage\n",
    "l = []\n",
    "for i in soup.find_all('a',{'class':'fl-accordion-button-label'}):\n",
    "    if(i.text[-1]=='?'):\n",
    "        print(i.text)\n",
    "        l.append(i.text)"
   ]
  },
  {
   "cell_type": "code",
   "execution_count": 82,
   "id": "a87c48d1",
   "metadata": {},
   "outputs": [
    {
     "name": "stdout",
     "output_type": "stream",
     "text": [
      "0 --> No. After getting an ASD diagnosis, this is the first question that many parents have—especially mothers. However, while there may be a genetic component to autism, there is no scientific evidence that anything that you did or did not do while your child was in utero or in his or her formative years caused the disorder. Please understand that feelings of anger, frustration, and guilt are perfectly normal after the initial diagnosis. In many ways, you are experiencing a profound loss, and you should expect to grieve. Our military and TRICARE consultant DJ Reyes has written a blog about his personal journey through the stages of grief after receiving his son’s diagnosis that may be helpful for you.\n",
      "1 --> Start by being patient and kind with yourself, your spouse, and your child. You have just received life-altering news. Give yourself time to process all of the feelings that you are going to encounter, and don’t suppress your emotions. Many parents of children with autism find it helpful to talk to a counselor or therapist after they receive the initial diagnosis. Next, get to work and arm yourself with information. We are learning more and more about autism everyday, so it pays to stay as current as you are able. Be sure to reach out to the community to find out about the best programs and other resources in your area. You aren’t expected to face this challenge alone.\n",
      "2 --> Start by making sure that you and your child have an effective and reputable healthcare team on your side, which may include physicians, counselors, occupational therapists, and even certified Special Education teachers. Ask your primary care pediatrician for a referral to a developmental pediatrician who can consult with you about your next steps and recommend interventions and complementary therapies. Be sure that any health care professional you talk to focuses on your child’s holistic well-being: physical, mental, emotional and behavioral health as well as educational goals and life skills. Finally, get connected to an established network of parents who are facing the same questions and challenges as quickly as possible.\n",
      "3 --> There’s a saying in the autism community that normal is just a setting on your washing machine. On one level, nobody has a normal child. All we really have is a range of what’s average when it comes to child development—but that’s not much comfort to a parent wondering about developmental delays, meltdowns, lack of language skills, and self-destructive or maladaptive behaviors. Of course, we get what parents are asking. They want to know about autism severity and the likelihood that their child will be able to interact with peers and establish relationships. And they want to hold out hope for a positive outcome. While every child with autism is different, with patience, treatment, and professional intervention, even children who are on the more severe end of the autism spectrum can learn and develop positive social skills and other life skills.\n",
      "5 --> Early intervention can do a lot toward fostering independence and daily living skills for your child. If your child is a teen, consider looking into some level of residential care or assisted living, even if it’s only a couple days a week, in order to make the transition to adulthood easier.\n",
      "6 --> No. Autism is not a disease that can be cured—it is a disorder that causes the brain and nervous system to respond to the environment differently than that of a neurotypical person. However, with proactive treatments and therapies, you can help your child improve functioning and establish important daily living skills.\n",
      "7 --> There’s no way to know. Some children with autism develop language skills later in life and others never do. However, we do know that there are ways parents can still communicate with nonverbal children, and that there are fewer children with autism who are minimally verbal and nonverbal than there used to be, partly due to earlier detection, earlier intervention, and behaviorally-based treatments and therapies like Applied Behavior Analysis.\n",
      "8 --> The common behaviors associated with ASD are often stubborn, complex, and difficult to treat, so you may never get your child to stop completely. It’s important to remember that many of these behaviors are merely symptoms of a larger underlying problem. For instance, meltdowns may be the result of a minimally verbal child being unable to express important needs. Treatments and therapies that are rooted in ABA can be effective at reducing challenging or destructive behaviors and replacing them with positive behaviors. At Springbrook, we have a highly-trained, full-time staff that addresses the holistic, individual needs of each child. Our team works with you and your child to identify the root causes of the challenging behaviors rather than treating the symptom only.\n",
      "9 --> Well, yes and no. As we’ve mentioned, behavior is a symptom of often complex, interconnected stressors and triggers, which means that there’s no magic bullet or direct correlation between a specific behavior and a medication. There are medications that can help reduce aggressive or self-destructive behaviors, that can help manage hyperactivity and impulsivity, or that can alleviate depression—but all medications work best when individualized and used in conjunction with ABA and other therapies. Our fellowship-trained psychiatrist has decades of experience helping children with autism manage their symptoms and develop better lifelong coping skills using both prescription medication and other therapies.\n"
     ]
    }
   ],
   "source": [
    "# Tried to search for answers of questions\n",
    "k=[]\n",
    "c = 0\n",
    "for i in soup.find_all('div',{'class':'fl-accordion-content fl-clearfix'}):\n",
    "    txt = i.text.strip()\n",
    "    if(txt in l):\n",
    "        print('*'*100)\n",
    "    if(txt in l or len(txt.split())>50):\n",
    "        print(c,'-->', txt)\n",
    "    c = c+1\n",
    "    \n",
    "    k.append(txt)"
   ]
  },
  {
   "cell_type": "markdown",
   "id": "00979f89",
   "metadata": {},
   "source": [
    "# Check which questions are similar"
   ]
  },
  {
   "cell_type": "code",
   "execution_count": 56,
   "id": "d1f8a700",
   "metadata": {},
   "outputs": [],
   "source": [
    "stop_words = set(stopwords.words('english'))\n",
    "\n",
    "def clean_text(sent):\n",
    "    sent = sent.lower() # lowercase\n",
    "    sent = re.sub(r'[^\\w\\s]', '', sent) # remove punctuations\n",
    "    sent = re.sub('Autism Spectrum Disorder','ASD',sent) # Compress term\n",
    "    sent = [w for w in sent.split() if not w.lower() in stop_words] # Remove stopwords\n",
    "    sent = \" \".join(sent)\n",
    "    return sent"
   ]
  },
  {
   "cell_type": "code",
   "execution_count": 57,
   "id": "82e06707",
   "metadata": {},
   "outputs": [],
   "source": [
    "def jaccard_similarity(list1, list2):\n",
    "    s1 = set(list1)\n",
    "    s2 = set(list2)\n",
    "    return float(len(s1.intersection(s2)) / len(s1.union(s2)))"
   ]
  },
  {
   "cell_type": "code",
   "execution_count": 58,
   "id": "1ea49412",
   "metadata": {},
   "outputs": [
    {
     "name": "stdout",
     "output_type": "stream",
     "text": [
      "Website -->  Did I Cause My Child’s Autism?\n",
      "100 questions list -->  Does Thimerosal cause autism?\n",
      "0.5\n",
      "****************************************************************************************************\n",
      "Website -->  How Do I Find Help For My Child?\n",
      "100 questions list -->  Can chelation therapy help my autistic child?\n",
      "0.3333333333333333\n",
      "****************************************************************************************************\n",
      "Website -->  Can My Child’s Autism Be Cured?\n",
      "100 questions list -->  What is Autism?\n",
      "0.3333333333333333\n",
      "****************************************************************************************************\n"
     ]
    }
   ],
   "source": [
    "for i in l:\n",
    "    i2 = clean_text(i)\n",
    "    list1 = i2.split()\n",
    "    \n",
    "    temp1 = 0.0\n",
    "    temp2 = ''\n",
    "    temp3 = ''\n",
    "    \n",
    "    for j in df['Question']:\n",
    "        j2 = clean_text(j)\n",
    "        list2 = j2.split()\n",
    "            \n",
    "        sim = jaccard_similarity(list1, list2)\n",
    "        \n",
    "        if(sim>temp1):\n",
    "            temp1 = sim\n",
    "            temp2 = j\n",
    "            temp3 = i\n",
    "            \n",
    "    if(temp1>=0.3):\n",
    "        print('Website --> ',temp3)\n",
    "        print('100 questions list --> ',temp2)\n",
    "        print(temp1)\n",
    "        print('*'*100)"
   ]
  },
  {
   "cell_type": "code",
   "execution_count": 59,
   "id": "2f065606",
   "metadata": {},
   "outputs": [],
   "source": [
    "# Directly add answer to 'What are the Autism Spectrum Disorders (ASD)?' in existing dataframe\n",
    "#df.iloc[2,0]\n",
    "#df.iloc[1,1]=k[3]"
   ]
  },
  {
   "cell_type": "code",
   "execution_count": 60,
   "id": "7e648712",
   "metadata": {},
   "outputs": [
    {
     "data": {
      "text/plain": [
       "['Did I Cause My Child’s Autism?',\n",
       " 'How Can I Deal With This Diagnosis?',\n",
       " 'How Do I Find Help For My Child?',\n",
       " 'Will My Child Ever Be Normal?',\n",
       " 'What Will My Child’s Future Be Like?',\n",
       " 'What Can I Do To Prepare My Child For The Future?',\n",
       " 'Can My Child’s Autism Be Cured?',\n",
       " 'Will My Child Ever Be Able To Talk?',\n",
       " 'Is There A Medication That Will Get My Child To Stop __________________?']"
      ]
     },
     "execution_count": 60,
     "metadata": {},
     "output_type": "execute_result"
    }
   ],
   "source": [
    "l"
   ]
  },
  {
   "cell_type": "code",
   "execution_count": 61,
   "id": "ad04c9d0",
   "metadata": {},
   "outputs": [],
   "source": [
    "#l=l[1:]\n",
    "#l"
   ]
  },
  {
   "cell_type": "code",
   "execution_count": 62,
   "id": "fd97fc88",
   "metadata": {},
   "outputs": [],
   "source": [
    "# manually select answers to questions in list 'l'\n",
    "\n",
    "#l2 = [k[8]+'\\n'+k[12]+'\\n'+k[13]+'\\n'+k[14],\n",
    "#      k[16]+'\\n'+k[17],\n",
    "#     k[19]+'\\n'+k[21]]\n",
    "l2 = k"
   ]
  },
  {
   "cell_type": "code",
   "execution_count": 63,
   "id": "034808d5",
   "metadata": {},
   "outputs": [
    {
     "data": {
      "text/html": [
       "<div>\n",
       "<style scoped>\n",
       "    .dataframe tbody tr th:only-of-type {\n",
       "        vertical-align: middle;\n",
       "    }\n",
       "\n",
       "    .dataframe tbody tr th {\n",
       "        vertical-align: top;\n",
       "    }\n",
       "\n",
       "    .dataframe thead th {\n",
       "        text-align: right;\n",
       "    }\n",
       "</style>\n",
       "<table border=\"1\" class=\"dataframe\">\n",
       "  <thead>\n",
       "    <tr style=\"text-align: right;\">\n",
       "      <th></th>\n",
       "      <th>Question</th>\n",
       "      <th>https://springbrookbehavioral.com/frequently-asked-questions-about-autism/</th>\n",
       "    </tr>\n",
       "  </thead>\n",
       "  <tbody>\n",
       "    <tr>\n",
       "      <th>0</th>\n",
       "      <td>Did I Cause My Child’s Autism?</td>\n",
       "      <td>No. After getting an ASD diagnosis, this is th...</td>\n",
       "    </tr>\n",
       "    <tr>\n",
       "      <th>1</th>\n",
       "      <td>How Can I Deal With This Diagnosis?</td>\n",
       "      <td>Start by being patient and kind with yourself,...</td>\n",
       "    </tr>\n",
       "    <tr>\n",
       "      <th>2</th>\n",
       "      <td>How Do I Find Help For My Child?</td>\n",
       "      <td>Start by making sure that you and your child h...</td>\n",
       "    </tr>\n",
       "    <tr>\n",
       "      <th>3</th>\n",
       "      <td>Will My Child Ever Be Normal?</td>\n",
       "      <td>There’s a saying in the autism community that ...</td>\n",
       "    </tr>\n",
       "    <tr>\n",
       "      <th>4</th>\n",
       "      <td>What Will My Child’s Future Be Like?</td>\n",
       "      <td>The truth is, we don’t really know how life wi...</td>\n",
       "    </tr>\n",
       "    <tr>\n",
       "      <th>5</th>\n",
       "      <td>What Can I Do To Prepare My Child For The Future?</td>\n",
       "      <td>Early intervention can do a lot toward fosteri...</td>\n",
       "    </tr>\n",
       "    <tr>\n",
       "      <th>6</th>\n",
       "      <td>Can My Child’s Autism Be Cured?</td>\n",
       "      <td>No. Autism is not a disease that can be cured—...</td>\n",
       "    </tr>\n",
       "    <tr>\n",
       "      <th>7</th>\n",
       "      <td>Will My Child Ever Be Able To Talk?</td>\n",
       "      <td>There’s no way to know. Some children with aut...</td>\n",
       "    </tr>\n",
       "    <tr>\n",
       "      <th>8</th>\n",
       "      <td>Is There A Medication That Will Get My Child T...</td>\n",
       "      <td>The common behaviors associated with ASD are o...</td>\n",
       "    </tr>\n",
       "  </tbody>\n",
       "</table>\n",
       "</div>"
      ],
      "text/plain": [
       "                                            Question  \\\n",
       "0                     Did I Cause My Child’s Autism?   \n",
       "1                How Can I Deal With This Diagnosis?   \n",
       "2                   How Do I Find Help For My Child?   \n",
       "3                      Will My Child Ever Be Normal?   \n",
       "4               What Will My Child’s Future Be Like?   \n",
       "5  What Can I Do To Prepare My Child For The Future?   \n",
       "6                    Can My Child’s Autism Be Cured?   \n",
       "7                Will My Child Ever Be Able To Talk?   \n",
       "8  Is There A Medication That Will Get My Child T...   \n",
       "\n",
       "  https://springbrookbehavioral.com/frequently-asked-questions-about-autism/  \n",
       "0  No. After getting an ASD diagnosis, this is th...                          \n",
       "1  Start by being patient and kind with yourself,...                          \n",
       "2  Start by making sure that you and your child h...                          \n",
       "3  There’s a saying in the autism community that ...                          \n",
       "4  The truth is, we don’t really know how life wi...                          \n",
       "5  Early intervention can do a lot toward fosteri...                          \n",
       "6  No. Autism is not a disease that can be cured—...                          \n",
       "7  There’s no way to know. Some children with aut...                          \n",
       "8  The common behaviors associated with ASD are o...                          "
      ]
     },
     "execution_count": 63,
     "metadata": {},
     "output_type": "execute_result"
    }
   ],
   "source": [
    "# Create new dataframe with QA pairs\n",
    "df2 = pd.DataFrame(zip(l,l2),columns=['Question',link])\n",
    "df2"
   ]
  },
  {
   "cell_type": "code",
   "execution_count": 64,
   "id": "b3f7fb28",
   "metadata": {},
   "outputs": [
    {
     "data": {
      "text/html": [
       "<div>\n",
       "<style scoped>\n",
       "    .dataframe tbody tr th:only-of-type {\n",
       "        vertical-align: middle;\n",
       "    }\n",
       "\n",
       "    .dataframe tbody tr th {\n",
       "        vertical-align: top;\n",
       "    }\n",
       "\n",
       "    .dataframe thead th {\n",
       "        text-align: right;\n",
       "    }\n",
       "</style>\n",
       "<table border=\"1\" class=\"dataframe\">\n",
       "  <thead>\n",
       "    <tr style=\"text-align: right;\">\n",
       "      <th></th>\n",
       "      <th>Question</th>\n",
       "      <th>https://springbrookbehavioral.com/frequently-asked-questions-about-autism/</th>\n",
       "    </tr>\n",
       "  </thead>\n",
       "  <tbody>\n",
       "    <tr>\n",
       "      <th>0</th>\n",
       "      <td>What Can I Do To Prepare My Child For The Future?</td>\n",
       "      <td>Early intervention can do a lot toward fosteri...</td>\n",
       "    </tr>\n",
       "    <tr>\n",
       "      <th>1</th>\n",
       "      <td>Did I Cause My Child’s Autism?</td>\n",
       "      <td>No. After getting an ASD diagnosis, this is th...</td>\n",
       "    </tr>\n",
       "    <tr>\n",
       "      <th>2</th>\n",
       "      <td>Can My Child’s Autism Be Cured?</td>\n",
       "      <td>No. Autism is not a disease that can be cured—...</td>\n",
       "    </tr>\n",
       "    <tr>\n",
       "      <th>3</th>\n",
       "      <td>How Can I Deal With This Diagnosis?</td>\n",
       "      <td>Start by being patient and kind with yourself,...</td>\n",
       "    </tr>\n",
       "    <tr>\n",
       "      <th>4</th>\n",
       "      <td>How Do I Find Help For My Child?</td>\n",
       "      <td>Start by making sure that you and your child h...</td>\n",
       "    </tr>\n",
       "    <tr>\n",
       "      <th>...</th>\n",
       "      <td>...</td>\n",
       "      <td>...</td>\n",
       "    </tr>\n",
       "    <tr>\n",
       "      <th>104</th>\n",
       "      <td>What are some ways that parents can reduce the...</td>\n",
       "      <td>NaN</td>\n",
       "    </tr>\n",
       "    <tr>\n",
       "      <th>105</th>\n",
       "      <td>Do some families deal with stress better than ...</td>\n",
       "      <td>NaN</td>\n",
       "    </tr>\n",
       "    <tr>\n",
       "      <th>106</th>\n",
       "      <td>Do siblings suffer increased stress as a resul...</td>\n",
       "      <td>NaN</td>\n",
       "    </tr>\n",
       "    <tr>\n",
       "      <th>107</th>\n",
       "      <td>What can I do about my children’s stress?</td>\n",
       "      <td>NaN</td>\n",
       "    </tr>\n",
       "    <tr>\n",
       "      <th>108</th>\n",
       "      <td>What are some resources for learning more abou...</td>\n",
       "      <td>NaN</td>\n",
       "    </tr>\n",
       "  </tbody>\n",
       "</table>\n",
       "<p>109 rows × 2 columns</p>\n",
       "</div>"
      ],
      "text/plain": [
       "                                              Question  \\\n",
       "0    What Can I Do To Prepare My Child For The Future?   \n",
       "1                       Did I Cause My Child’s Autism?   \n",
       "2                      Can My Child’s Autism Be Cured?   \n",
       "3                  How Can I Deal With This Diagnosis?   \n",
       "4                     How Do I Find Help For My Child?   \n",
       "..                                                 ...   \n",
       "104  What are some ways that parents can reduce the...   \n",
       "105  Do some families deal with stress better than ...   \n",
       "106  Do siblings suffer increased stress as a resul...   \n",
       "107          What can I do about my children’s stress?   \n",
       "108  What are some resources for learning more abou...   \n",
       "\n",
       "    https://springbrookbehavioral.com/frequently-asked-questions-about-autism/  \n",
       "0    Early intervention can do a lot toward fosteri...                          \n",
       "1    No. After getting an ASD diagnosis, this is th...                          \n",
       "2    No. Autism is not a disease that can be cured—...                          \n",
       "3    Start by being patient and kind with yourself,...                          \n",
       "4    Start by making sure that you and your child h...                          \n",
       "..                                                 ...                          \n",
       "104                                                NaN                          \n",
       "105                                                NaN                          \n",
       "106                                                NaN                          \n",
       "107                                                NaN                          \n",
       "108                                                NaN                          \n",
       "\n",
       "[109 rows x 2 columns]"
      ]
     },
     "execution_count": 64,
     "metadata": {},
     "output_type": "execute_result"
    }
   ],
   "source": [
    "# Concatenate existing and new dataframes\n",
    "df3 = pd.concat([df,df2],axis=0)\n",
    "df3 = df3.sort_values(by=list(df3.columns[1:])).reset_index(drop=True)\n",
    "df3"
   ]
  },
  {
   "cell_type": "markdown",
   "id": "c36df54c",
   "metadata": {},
   "source": [
    "# Save Output"
   ]
  },
  {
   "cell_type": "code",
   "execution_count": 65,
   "id": "cdd9d1cd",
   "metadata": {},
   "outputs": [],
   "source": [
    "df3.to_excel('AnswersFromSource11_20.xlsx',index=False)"
   ]
  },
  {
   "cell_type": "code",
   "execution_count": null,
   "id": "4f4d98a5",
   "metadata": {},
   "outputs": [],
   "source": []
  }
 ],
 "metadata": {
  "kernelspec": {
   "display_name": "Python 3",
   "language": "python",
   "name": "python3"
  },
  "language_info": {
   "codemirror_mode": {
    "name": "ipython",
    "version": 3
   },
   "file_extension": ".py",
   "mimetype": "text/x-python",
   "name": "python",
   "nbconvert_exporter": "python",
   "pygments_lexer": "ipython3",
   "version": "3.8.8"
  }
 },
 "nbformat": 4,
 "nbformat_minor": 5
}
