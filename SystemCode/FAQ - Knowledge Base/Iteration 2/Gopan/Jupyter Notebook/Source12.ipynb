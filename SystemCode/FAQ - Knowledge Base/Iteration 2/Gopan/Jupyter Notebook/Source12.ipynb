{
 "cells": [
  {
   "cell_type": "markdown",
   "id": "fa4ce988",
   "metadata": {},
   "source": [
    "# Import Libraries"
   ]
  },
  {
   "cell_type": "code",
   "execution_count": 52,
   "id": "ff207f11",
   "metadata": {},
   "outputs": [],
   "source": [
    "################ WEB SCRAPING MODULES ############\n",
    "from selenium import webdriver\n",
    "from webdriver_manager.chrome import ChromeDriverManager\n",
    "from selenium.webdriver.common.by import By\n",
    "import bs4\n",
    "from fake_useragent import UserAgent\n",
    "import requests\n",
    "################ TIME MODLULES ###################\n",
    "import time\n",
    "from datetime import date \n",
    "import datetime\n",
    "############## DATA MANIPULATION MODULES #########\n",
    "import pandas as pd\n",
    "import numpy as np\n",
    "import re\n",
    "from nltk.corpus import stopwords"
   ]
  },
  {
   "cell_type": "markdown",
   "id": "4f8f2ef9",
   "metadata": {},
   "source": [
    "# Read 100 questions list"
   ]
  },
  {
   "cell_type": "code",
   "execution_count": 53,
   "id": "5fb8f7ba",
   "metadata": {},
   "outputs": [
    {
     "data": {
      "text/html": [
       "<div>\n",
       "<style scoped>\n",
       "    .dataframe tbody tr th:only-of-type {\n",
       "        vertical-align: middle;\n",
       "    }\n",
       "\n",
       "    .dataframe tbody tr th {\n",
       "        vertical-align: top;\n",
       "    }\n",
       "\n",
       "    .dataframe thead th {\n",
       "        text-align: right;\n",
       "    }\n",
       "</style>\n",
       "<table border=\"1\" class=\"dataframe\">\n",
       "  <thead>\n",
       "    <tr style=\"text-align: right;\">\n",
       "      <th></th>\n",
       "      <th>Question</th>\n",
       "      <th>https://springbrookbehavioral.com/frequently-asked-questions-about-autism/</th>\n",
       "      <th>https://www.aacap.org/AACAP/Families_and_Youth/Resource_Centers/Autism_Resource_Center/FAQ.aspx</th>\n",
       "    </tr>\n",
       "  </thead>\n",
       "  <tbody>\n",
       "    <tr>\n",
       "      <th>0</th>\n",
       "      <td>What Can I Do To Prepare My Child For The Future?</td>\n",
       "      <td>Early intervention can do a lot toward fosteri...</td>\n",
       "      <td>NaN</td>\n",
       "    </tr>\n",
       "    <tr>\n",
       "      <th>1</th>\n",
       "      <td>Did I Cause My Child’s Autism?</td>\n",
       "      <td>No. After getting an ASD diagnosis, this is th...</td>\n",
       "      <td>NaN</td>\n",
       "    </tr>\n",
       "    <tr>\n",
       "      <th>2</th>\n",
       "      <td>Can My Child’s Autism Be Cured?</td>\n",
       "      <td>No. Autism is not a disease that can be cured—...</td>\n",
       "      <td>NaN</td>\n",
       "    </tr>\n",
       "    <tr>\n",
       "      <th>3</th>\n",
       "      <td>How Can I Deal With This Diagnosis?</td>\n",
       "      <td>Start by being patient and kind with yourself,...</td>\n",
       "      <td>NaN</td>\n",
       "    </tr>\n",
       "    <tr>\n",
       "      <th>4</th>\n",
       "      <td>How Do I Find Help For My Child?</td>\n",
       "      <td>Start by making sure that you and your child h...</td>\n",
       "      <td>NaN</td>\n",
       "    </tr>\n",
       "    <tr>\n",
       "      <th>...</th>\n",
       "      <td>...</td>\n",
       "      <td>...</td>\n",
       "      <td>...</td>\n",
       "    </tr>\n",
       "    <tr>\n",
       "      <th>104</th>\n",
       "      <td>What are some ways that parents can reduce the...</td>\n",
       "      <td>NaN</td>\n",
       "      <td>NaN</td>\n",
       "    </tr>\n",
       "    <tr>\n",
       "      <th>105</th>\n",
       "      <td>Do some families deal with stress better than ...</td>\n",
       "      <td>NaN</td>\n",
       "      <td>NaN</td>\n",
       "    </tr>\n",
       "    <tr>\n",
       "      <th>106</th>\n",
       "      <td>Do siblings suffer increased stress as a resul...</td>\n",
       "      <td>NaN</td>\n",
       "      <td>NaN</td>\n",
       "    </tr>\n",
       "    <tr>\n",
       "      <th>107</th>\n",
       "      <td>What can I do about my children’s stress?</td>\n",
       "      <td>NaN</td>\n",
       "      <td>NaN</td>\n",
       "    </tr>\n",
       "    <tr>\n",
       "      <th>108</th>\n",
       "      <td>What are some resources for learning more abou...</td>\n",
       "      <td>NaN</td>\n",
       "      <td>NaN</td>\n",
       "    </tr>\n",
       "  </tbody>\n",
       "</table>\n",
       "<p>109 rows × 3 columns</p>\n",
       "</div>"
      ],
      "text/plain": [
       "                                              Question  \\\n",
       "0    What Can I Do To Prepare My Child For The Future?   \n",
       "1                       Did I Cause My Child’s Autism?   \n",
       "2                      Can My Child’s Autism Be Cured?   \n",
       "3                  How Can I Deal With This Diagnosis?   \n",
       "4                     How Do I Find Help For My Child?   \n",
       "..                                                 ...   \n",
       "104  What are some ways that parents can reduce the...   \n",
       "105  Do some families deal with stress better than ...   \n",
       "106  Do siblings suffer increased stress as a resul...   \n",
       "107          What can I do about my children’s stress?   \n",
       "108  What are some resources for learning more abou...   \n",
       "\n",
       "    https://springbrookbehavioral.com/frequently-asked-questions-about-autism/  \\\n",
       "0    Early intervention can do a lot toward fosteri...                           \n",
       "1    No. After getting an ASD diagnosis, this is th...                           \n",
       "2    No. Autism is not a disease that can be cured—...                           \n",
       "3    Start by being patient and kind with yourself,...                           \n",
       "4    Start by making sure that you and your child h...                           \n",
       "..                                                 ...                           \n",
       "104                                                NaN                           \n",
       "105                                                NaN                           \n",
       "106                                                NaN                           \n",
       "107                                                NaN                           \n",
       "108                                                NaN                           \n",
       "\n",
       "     https://www.aacap.org/AACAP/Families_and_Youth/Resource_Centers/Autism_Resource_Center/FAQ.aspx  \n",
       "0                                                  NaN                                                \n",
       "1                                                  NaN                                                \n",
       "2                                                  NaN                                                \n",
       "3                                                  NaN                                                \n",
       "4                                                  NaN                                                \n",
       "..                                                 ...                                                \n",
       "104                                                NaN                                                \n",
       "105                                                NaN                                                \n",
       "106                                                NaN                                                \n",
       "107                                                NaN                                                \n",
       "108                                                NaN                                                \n",
       "\n",
       "[109 rows x 3 columns]"
      ]
     },
     "execution_count": 53,
     "metadata": {},
     "output_type": "execute_result"
    }
   ],
   "source": [
    "df = pd.read_excel('AnswersFromSource11_20.xlsx',engine='openpyxl')\n",
    "link = 'https://www.aacap.org/AACAP/Families_and_Youth/Resource_Centers/Autism_Resource_Center/FAQ.aspx'\n",
    "df[link]=np.nan\n",
    "#df.drop(df.iloc[:, 1:25], inplace = True, axis = 1)\n",
    "df"
   ]
  },
  {
   "cell_type": "markdown",
   "id": "06cc4415",
   "metadata": {},
   "source": [
    "# Scrape QA pairs from website"
   ]
  },
  {
   "cell_type": "code",
   "execution_count": 54,
   "id": "25ea70af",
   "metadata": {},
   "outputs": [
    {
     "name": "stderr",
     "output_type": "stream",
     "text": [
      "\n",
      "\n",
      "====== WebDriver manager ======\n",
      "Current google-chrome version is 92.0.4515\n",
      "Get LATEST driver version for 92.0.4515\n",
      "Driver [/home/gopan/.wdm/drivers/chromedriver/linux64/92.0.4515.107/chromedriver] found in cache\n"
     ]
    }
   ],
   "source": [
    "# Open webpage in a new window\n",
    "driver = webdriver.Chrome(ChromeDriverManager().install())\n",
    "driver.get('https://www.aacap.org/AACAP/Families_and_Youth/Resource_Centers/Autism_Resource_Center/FAQ.aspx')"
   ]
  },
  {
   "cell_type": "code",
   "execution_count": 55,
   "id": "c652775d",
   "metadata": {},
   "outputs": [],
   "source": [
    "# Parse text in webpage\n",
    "source = driver.page_source\n",
    "soup = bs4.BeautifulSoup(source, 'html.parser')"
   ]
  },
  {
   "cell_type": "code",
   "execution_count": 56,
   "id": "a9f512a4",
   "metadata": {},
   "outputs": [
    {
     "name": "stdout",
     "output_type": "stream",
     "text": [
      "What is autism? \n",
      "What are early signs of autism? \n",
      "What are some symptoms of autism that parents and caregivers can look for ?\n",
      "What is the difference between autism and Asperger's disorder?\n",
      "Are there treatments available for autism?\n",
      "Are there medication treatments for autism?\n",
      "Why do children with autism have difficulty learning in a regular classroom setting?\n",
      "What is the difference between autism and pervasive developmental disorder, not otherwise specified? \n"
     ]
    }
   ],
   "source": [
    "# Search the questions mentioned in webpage\n",
    "l = []\n",
    "for i in soup.find_all('div',{'class':'rc_header'}):\n",
    "    #if(i.text[-1]=='?'):\n",
    "    print(i.text)\n",
    "    l.append(i.text)"
   ]
  },
  {
   "cell_type": "code",
   "execution_count": 57,
   "id": "a87c48d1",
   "metadata": {},
   "outputs": [
    {
     "name": "stdout",
     "output_type": "stream",
     "text": [
      "0 --> Autism is a neurodevelopmental condition which is usually diagnosed in the first 3 years of life. Generally parents become concerned when their child has delays in speech development, limited social relatedness, and restricted interests and activities. The child may avoid direct eye contact and exhibit odd behaviors such as focusing on parts of objects (e.g. the spinning wheel of a toy car). There may be unusual motor movements such as hand flapping, self stimulation or walking on toes.\n",
      "1 --> Although the cause of autism is unknown, it is generally believed that etiology may be due to multiple factors. Many genetic, environmental, metabolic and neurological conditions that affect the normal functioning of the brain are being researched. The diagnosis of autism requires disturbances in each of three domains: (1) social relatedness, (2) communication/play, and (3) restricted interests and activities.\n",
      "2 --> Treatment planning is complex since each child has different strengths and deficits. Evidence that earlier detection and provision of services improves long term prognosis makes early diagnosis particularly important to improve the child’s adaptive skills and future functioning. The diverse expression of these disorders both across and within individuals presents particular challenges for clinical diagnosis and treatment.\n",
      "3 --> Parents and relatives should be concerned about their infant or toddler if they notice any of the following developmental delays or behavioral problems and discuss concerns with their child’s pediatrician to obtain appropriate referrals for evaluation:\n",
      "4 --> Children diagnosed with autism tend to process and respond to information in the environment in unique ways. In some cases, parents are frightened because they exhibit aggressive and/or self-injurious behaviors which are difficult to manage.\n",
      "6 --> Unlike children with autism, individuals with Asperger’s disorder do not present with delays in language acquisition or with marked unusual behaviors and environmental responsiveness during the first years of life. Consequently parents often have no concerns about their child’s early development. A child with Asperger's may be diagnosed later than 3 years old because they are achieving their developmental milestones at a normal rate and are only referred for evaluation because parents observe that they are behaving differently from same aged peers. They may appear socially awkward, lack awareness of conventional social rules, or show limited empathy to others. Social interaction is affected because of diminished eye contact, disengagement in conversations, and inability to pick up social cues or understand the meaning of gestures\n",
      "7 --> Speech patterns may be unusual and lack inflection or may be formal, but excessively loud or high pitched. Children with Asperger's may not understand the subtleties of language, such as irony and humor. Frequently, they may not recognize the give-and-take nature of a conversation and this translates into difficulty initiating and/or maintaining conversations. Their communication is sometimes described as “one way” so they appear to be “talking at” others instead of to them.\n",
      "8 --> For example, a child diagnosed with Asperger’s disorder had social problems due to his restricted and circumscribed interests. In his conversations with peers, he delivered monologues on his favorite subject of planets in a slow methodical way. He was so involved in talking about the planets that he did not notice the frustration of his peers. Attempts to interject comments to initiate conversation were missed and the child continued to “lecture”. Consequently the other children eventually walked away feeling unfulfilled by the lack of connection and bored by the persistence of the same topic.\n",
      "9 --> Another distinction between Asperger's syndrome and autism concerns cognitive ability. While some individuals with autism experience intellectual disability, by definition a person with Asperger's cannot possess a \"clinically significant\" cognitive delay, and most possess average intelligence. The outcome in Asperger’s disorder generally appears to be better than that for autism, although this may, in part, relate to better cognitive and/or verbal abilities.\n",
      "10 --> There are no specific treatments to “cure” autism. Each child with an autism spectrum disorder has a unique constellation of developmental delays, speech deficits, social and cognitive impairments. Therefore, comprehensive treatment plans need to be developed to target each child's unique profile of strengths and functional impairments.\n",
      "11 --> There are no medication treatments that treat the core symptoms of autism. However, often children with autism exhibit disturbing repetitive, stereotypical or self injurious behaviors that can be distressing to both the child and the parent. In cases when a child may be hitting himself repetitively, has mood instability or is aggressive to other children or family members, medication intervention may be warranted. The FDA has approved use of the medication risperidone to target aberrant behaviors of autism such as severe mood instability and aggression. There are other medications that are currently being studied to help reduce problem behaviors in autism but there are no other FDA approved treatments. Pharmacological interventions may increase the ability of persons with ASD to profit from educational and other interventions, and to remain in less restrictive environments through the management of severe and challenging accompanying behaviors. Frequent targets for medication include features such as aggression, self-injurious behavior, hyperactivity, inattention, anxiety, compulsive-like behaviors, other repetitive or stereotypic behaviors, and sleep disturbances. Sometimes SSRIs are used to address symptoms of mood or anxiety in children and adolescents with autism.\n",
      "12 --> There are many reasons that a child diagnosed with autism spectrum disorders is not able to learn in a regular classroom setting. These include but are not limited to the following reasons:\n",
      "13 --> Therefore special efforts need to be made by parents and caregivers to explore options so that the child’s abilities are maximized. Availability of resources differs by community so it is important to contact a child and adolescent psychiatrist or pediatrician to discuss the options available in your community.\n",
      "14 --> Autism is a diagnosis classified under the broad term of pervasive developmental disorders. It is the most severe pervasive developmental disorder in which there is language and social impairments and pattern of restrictive and stereotyped behaviors, interests and activities. For a diagnosis of autism (autistic disorder), the following criteria must be met:\n",
      "15 --> The diagnosis of pervasive developmental disorder, not otherwise specified (PDD, NOS) is a diagnosis characterized by severe and persistent impairment in responding appropriately in social interaction that is associated with either 1) impairment in verbal or nonverbal communication skills, OR 2) stereotyped behavior, restricted interests and activities. This diagnosis is made when the symptoms or characteristics do not meet full criteria for a specific pervasive developmental disorder, schizotypal personality disorder, avoidant personality disorder or other psychiatric disorder.\n",
      "16 --> Although, DSM-IV-TR does not offer specific diagnostic criteria for PDDNOS, there are at least five subgroups of individuals within PDDNOS:\n",
      "18 --> Tsai L: Other Pervasive Developmental Disorders. Textbook of Child and Adolescent Psychiatry. The American Psychiatric Publishing Chapter 21:338-341, 2004\n",
      "21 --> You will be signed out in  seconds due to inactivity. Your changes will not be saved. To continue working on the website, click \"Stay Signed In\" below.\n"
     ]
    }
   ],
   "source": [
    "# Tried to search for answers of questions\n",
    "k=[]\n",
    "c = 0\n",
    "for i in soup.find_all('p'):\n",
    "    txt = i.text.strip()\n",
    "    if(txt in l):\n",
    "        print('*'*100)\n",
    "    if(txt in l or len(txt.split())>10):\n",
    "        print(c,'-->', txt)\n",
    "    c = c+1\n",
    "    \n",
    "    k.append(txt)"
   ]
  },
  {
   "cell_type": "code",
   "execution_count": 58,
   "id": "9b083b6c",
   "metadata": {
    "scrolled": true
   },
   "outputs": [
    {
     "name": "stdout",
     "output_type": "stream",
     "text": [
      "Social relatedness includes marked impairment in non-verbal communication, peer relationships and social-emotional reciprocity. \n",
      "Communication/play includes either a delay or total lack of spoken language and lack of developmentally-appropriate make-believe or social play. \n",
      "Restricted interests and activities includes encompassing preoccupations, adherence to non-functional routines or rituals, stereotypies and motor mannerisms. \n",
      "lack of or delay in development of spoken language .\n",
      "repetitive use of language and/or motor mannerisms (e.g., hand-flapping, twirling objects). \n",
      "little or no eye contact. \n",
      "lack of interest in peer relationships. \n",
      "lack of spontaneous or make-believe play. \n",
      "persistent fixation on parts of objects.\n",
      "Insistence on sameness in routines (O) \n",
      "Difficulty in expressing needs verbally, using gestures or pointing instead of words (C) \n",
      "Repeating words or phrases in place of normal, responsive language (C)\n",
      "Laughing (and/or crying) for no apparent reason; showing distress for reasons not apparent to others (S)\n",
      "Prefers to be alone; aloof manner evident to strangers and family members (S)\n",
      "Tantrums and low frustration tolerance (S)\n",
      "Difficulty in initiating social contact with others (S)\n",
      "Uncomfortable with physical contact even when given with affection such as a hug (S)\n",
      "Little or no eye contact even when spoken to directly (S)\n",
      "Unresponsive to normal teaching methods (S)\n",
      "Plays with toys as objects (example bangs a toy car as a block rather than as a moving vehicle) (S)\n",
      "Focus on spinning objects such as a fan or the propeller of a toy helicopter (O)\n",
      "Obsessive attachment to particular objects (O)\n",
      "Apparent over-sensitivity or under-sensitivity to pain (S)\n",
      "No real fears of danger despite obvious risks of harm. (S)\n",
      "Noticeable physical over-activity or extreme under-activity (S)\n",
      "Impaired fine motor and gross motor skills (S)\n",
      "Non-responsive to verbal instructions; often appears as if child is deaf although hearing tests in normal range (C)\n",
      "coexisting learning disabilities. \n",
      "coexisting intellectual disability. \n",
      "speech and communication delays. \n",
      "aggression to self or others. \n",
      "affective Instability. \n",
      "require individual supervision to participate in the classroom. \n",
      "social reciprocity problems. \n",
      "My Profile\n",
      "Donate\n",
      "About\n",
      "Contact\n",
      "coexisting intellectual disability. \n"
     ]
    }
   ],
   "source": [
    "lis = []\n",
    "for ul in soup.find_all('ul'):\n",
    "    for li in ul.findAll('li'):\n",
    "        if li.find('ul'):\n",
    "            break\n",
    "        lis.append(li.text)\n",
    "lis = lis[44:]\n",
    "for li in lis:\n",
    "    print(li)\n",
    "print(lis[28])    "
   ]
  },
  {
   "cell_type": "markdown",
   "id": "00979f89",
   "metadata": {},
   "source": [
    "# Check which questions are similar"
   ]
  },
  {
   "cell_type": "code",
   "execution_count": 59,
   "id": "d1f8a700",
   "metadata": {},
   "outputs": [],
   "source": [
    "stop_words = set(stopwords.words('english'))\n",
    "\n",
    "def clean_text(sent):\n",
    "    sent = sent.lower() # lowercase\n",
    "    sent = re.sub(r'[^\\w\\s]', '', sent) # remove punctuations\n",
    "    sent = re.sub('Autism Spectrum Disorder','ASD',sent) # Compress term\n",
    "    sent = [w for w in sent.split() if not w.lower() in stop_words] # Remove stopwords\n",
    "    sent = \" \".join(sent)\n",
    "    return sent"
   ]
  },
  {
   "cell_type": "code",
   "execution_count": 60,
   "id": "82e06707",
   "metadata": {},
   "outputs": [],
   "source": [
    "def jaccard_similarity(list1, list2):\n",
    "    s1 = set(list1)\n",
    "    s2 = set(list2)\n",
    "    return float(len(s1.intersection(s2)) / len(s1.union(s2)))"
   ]
  },
  {
   "cell_type": "code",
   "execution_count": 61,
   "id": "1ea49412",
   "metadata": {},
   "outputs": [
    {
     "name": "stdout",
     "output_type": "stream",
     "text": [
      "Website -->  What is autism? \n",
      "100 questions[  10  ] list -->  What is Autism?\n",
      "1.0\n",
      "****************************************************************************************************\n",
      "Website -->  What are early signs of autism? \n",
      "100 questions[  10  ] list -->  What is Autism?\n",
      "0.3333333333333333\n",
      "****************************************************************************************************\n",
      "Website -->  What are some symptoms of autism that parents and caregivers can look for ?\n",
      "100 questions[  23  ] list -->  What are some of the symptoms of Autism a Parent should look for?\n",
      "0.5\n",
      "****************************************************************************************************\n",
      "Website -->  What is the difference between autism and Asperger's disorder?\n",
      "100 questions[  13  ] list -->  How can you tell Autism from Asperger’s Syndrome?\n",
      "0.3333333333333333\n",
      "****************************************************************************************************\n",
      "Website -->  Are there treatments available for autism?\n",
      "100 questions[  10  ] list -->  What is Autism?\n",
      "0.3333333333333333\n",
      "****************************************************************************************************\n",
      "Website -->  Are there medication treatments for autism?\n",
      "100 questions[  10  ] list -->  What is Autism?\n",
      "0.3333333333333333\n",
      "****************************************************************************************************\n",
      "Website -->  What is the difference between autism and pervasive developmental disorder, not otherwise specified? \n",
      "100 questions[  14  ] list -->  What is Pervasive Developmental Disorder – Not otherwise Specified (PDD-NOS)?\n",
      "0.625\n",
      "****************************************************************************************************\n"
     ]
    }
   ],
   "source": [
    "for i in l:\n",
    "    i2 = clean_text(i)\n",
    "    list1 = i2.split()\n",
    "    \n",
    "    temp1 = 0.0\n",
    "    temp2 = ''\n",
    "    temp3 = ''\n",
    "    count = 0\n",
    "    for z1, j in enumerate(df['Question']):\n",
    "        j2 = clean_text(j)\n",
    "        list2 = j2.split()\n",
    "            \n",
    "        sim = jaccard_similarity(list1, list2)\n",
    "        \n",
    "        if(sim>temp1):\n",
    "            temp1 = sim\n",
    "            temp2 = j\n",
    "            temp3 = i\n",
    "            count = z1+1\n",
    "    if(temp1>=0.3):\n",
    "        print('Website --> ',temp3)\n",
    "        print('100 questions[ ',count,' ] list --> ',temp2)\n",
    "        print(temp1)\n",
    "        print('*'*100)"
   ]
  },
  {
   "cell_type": "code",
   "execution_count": 62,
   "id": "2f065606",
   "metadata": {},
   "outputs": [
    {
     "name": "stderr",
     "output_type": "stream",
     "text": [
      "/home/gopan/anaconda3/lib/python3.8/site-packages/pandas/core/indexing.py:1637: SettingWithCopyWarning: \n",
      "A value is trying to be set on a copy of a slice from a DataFrame\n",
      "\n",
      "See the caveats in the documentation: https://pandas.pydata.org/pandas-docs/stable/user_guide/indexing.html#returning-a-view-versus-a-copy\n",
      "  self._setitem_single_block(indexer, value, name)\n"
     ]
    }
   ],
   "source": [
    "# Directly add answer to questions in existing dataframe\n",
    "#df.iloc[9,0]\n",
    "#What is Autism?\n",
    "df[link].loc[9]= k[0] + \"\\n\" + k[1]+\"\\n 1. \"+lis[0]+\"\\n 2. \"+lis[1]+\"\\n 3. \"+lis[2] +\"\\n\"+ k[2]\n",
    "#print(df.iloc[9,1])\n",
    "\n",
    "#What are some of the symptoms of Autism a Parent should look for?\n",
    "df[link].loc[23] = k[4]+\"\\n 1. \"+lis[9]+\"\\n 2. \"+lis[10]+\"\\n 3. \"+lis[11] +\"\\n 4. \"+ lis[12]+\"\\n 5. \"+lis[13]+\"\\n 6. \"+lis[14] +\"\\n 7. \"+ lis[15]+\"\\n 8. \"+lis[16]+\"\\n 9. \"+lis[17]+\"\\n 10. \"+lis[18] +\"\\n 11. \"+ lis[19]+\"\\n 12. \"+lis[20]+\"\\n 13. \"+lis[21] +\"\\n 14. \"+ lis[22]+\"\\n 15. \"+lis[23]+\"\\n 16. \"+lis[24]+\"\\n 17. \"+lis[25] +\"\\n 18. \"+ lis[26]+\"\\n \"+k[5]\n",
    "#print(df.iloc[23,1])\n",
    "\n",
    "#"
   ]
  },
  {
   "cell_type": "code",
   "execution_count": 63,
   "id": "7e648712",
   "metadata": {},
   "outputs": [
    {
     "data": {
      "text/plain": [
       "['What is autism? ',\n",
       " 'What are early signs of autism? ',\n",
       " 'What are some symptoms of autism that parents and caregivers can look for ?',\n",
       " \"What is the difference between autism and Asperger's disorder?\",\n",
       " 'Are there treatments available for autism?',\n",
       " 'Are there medication treatments for autism?',\n",
       " 'Why do children with autism have difficulty learning in a regular classroom setting?',\n",
       " 'What is the difference between autism and pervasive developmental disorder, not otherwise specified? ']"
      ]
     },
     "execution_count": 63,
     "metadata": {},
     "output_type": "execute_result"
    }
   ],
   "source": [
    "l"
   ]
  },
  {
   "cell_type": "code",
   "execution_count": 64,
   "id": "ad04c9d0",
   "metadata": {
    "scrolled": true
   },
   "outputs": [
    {
     "data": {
      "text/plain": [
       "['What are early signs of autism? ',\n",
       " \"What is the difference between autism and Asperger's disorder?\",\n",
       " 'Are there treatments available for autism?',\n",
       " 'Are there medication treatments for autism?',\n",
       " 'Why do children with autism have difficulty learning in a regular classroom setting?']"
      ]
     },
     "execution_count": 64,
     "metadata": {},
     "output_type": "execute_result"
    }
   ],
   "source": [
    "len(l)\n",
    "l1 = [l[1],l[3],l[4],l[5],l[6]]\n",
    "l1"
   ]
  },
  {
   "cell_type": "code",
   "execution_count": 65,
   "id": "fd97fc88",
   "metadata": {},
   "outputs": [],
   "source": [
    "# manually select answers to questions in list 'l1'\n",
    "\n",
    "l2 = []\n",
    "l2.append(k[3] + \"\\n 1. \" +lis[3]+\"\\n 2. \"+lis[4]+\"\\n 3. \"+lis[5] +\"\\n 4. \"+ lis[6]+\"\\n 5. \"+lis[7]+\"\\n 6. \"+lis[8])\n",
    "l2.append(k[6] + \"\\n\" + k[7]+ \"\\n\" + k[8]+ \"\\n\" + k[9])\n",
    "l2.append(k[10])\n",
    "l2.append(k[11])\n",
    "l2.append(k[12] +  \"\\n 1. \" +lis[27]+\"\\n 2. \"+lis[28]+\"\\n 3. \"+lis[29] +\"\\n 4. \"+ lis[30]+\"\\n 5. \"+lis[31]+\"\\n 6. \"+lis[32]+\"\\n 7. \"+lis[33]+ \"\\n \"+ k[13])"
   ]
  },
  {
   "cell_type": "code",
   "execution_count": 66,
   "id": "034808d5",
   "metadata": {},
   "outputs": [
    {
     "data": {
      "text/html": [
       "<div>\n",
       "<style scoped>\n",
       "    .dataframe tbody tr th:only-of-type {\n",
       "        vertical-align: middle;\n",
       "    }\n",
       "\n",
       "    .dataframe tbody tr th {\n",
       "        vertical-align: top;\n",
       "    }\n",
       "\n",
       "    .dataframe thead th {\n",
       "        text-align: right;\n",
       "    }\n",
       "</style>\n",
       "<table border=\"1\" class=\"dataframe\">\n",
       "  <thead>\n",
       "    <tr style=\"text-align: right;\">\n",
       "      <th></th>\n",
       "      <th>Question</th>\n",
       "      <th>https://www.aacap.org/AACAP/Families_and_Youth/Resource_Centers/Autism_Resource_Center/FAQ.aspx</th>\n",
       "    </tr>\n",
       "  </thead>\n",
       "  <tbody>\n",
       "    <tr>\n",
       "      <th>0</th>\n",
       "      <td>What are early signs of autism?</td>\n",
       "      <td>Parents and relatives should be concerned abou...</td>\n",
       "    </tr>\n",
       "    <tr>\n",
       "      <th>1</th>\n",
       "      <td>What is the difference between autism and Aspe...</td>\n",
       "      <td>Unlike children with autism, individuals with ...</td>\n",
       "    </tr>\n",
       "    <tr>\n",
       "      <th>2</th>\n",
       "      <td>Are there treatments available for autism?</td>\n",
       "      <td>There are no specific treatments to “cure” aut...</td>\n",
       "    </tr>\n",
       "    <tr>\n",
       "      <th>3</th>\n",
       "      <td>Are there medication treatments for autism?</td>\n",
       "      <td>There are no medication treatments that treat ...</td>\n",
       "    </tr>\n",
       "    <tr>\n",
       "      <th>4</th>\n",
       "      <td>Why do children with autism have difficulty le...</td>\n",
       "      <td>There are many reasons that a child diagnosed ...</td>\n",
       "    </tr>\n",
       "  </tbody>\n",
       "</table>\n",
       "</div>"
      ],
      "text/plain": [
       "                                            Question  \\\n",
       "0                   What are early signs of autism?    \n",
       "1  What is the difference between autism and Aspe...   \n",
       "2         Are there treatments available for autism?   \n",
       "3        Are there medication treatments for autism?   \n",
       "4  Why do children with autism have difficulty le...   \n",
       "\n",
       "  https://www.aacap.org/AACAP/Families_and_Youth/Resource_Centers/Autism_Resource_Center/FAQ.aspx  \n",
       "0  Parents and relatives should be concerned abou...                                               \n",
       "1  Unlike children with autism, individuals with ...                                               \n",
       "2  There are no specific treatments to “cure” aut...                                               \n",
       "3  There are no medication treatments that treat ...                                               \n",
       "4  There are many reasons that a child diagnosed ...                                               "
      ]
     },
     "execution_count": 66,
     "metadata": {},
     "output_type": "execute_result"
    }
   ],
   "source": [
    "# Create new dataframe with QA pairs\n",
    "df2 = pd.DataFrame(zip(l1,l2),columns=['Question',link])\n",
    "df2"
   ]
  },
  {
   "cell_type": "code",
   "execution_count": 67,
   "id": "b3f7fb28",
   "metadata": {},
   "outputs": [
    {
     "data": {
      "text/html": [
       "<div>\n",
       "<style scoped>\n",
       "    .dataframe tbody tr th:only-of-type {\n",
       "        vertical-align: middle;\n",
       "    }\n",
       "\n",
       "    .dataframe tbody tr th {\n",
       "        vertical-align: top;\n",
       "    }\n",
       "\n",
       "    .dataframe thead th {\n",
       "        text-align: right;\n",
       "    }\n",
       "</style>\n",
       "<table border=\"1\" class=\"dataframe\">\n",
       "  <thead>\n",
       "    <tr style=\"text-align: right;\">\n",
       "      <th></th>\n",
       "      <th>Question</th>\n",
       "      <th>https://springbrookbehavioral.com/frequently-asked-questions-about-autism/</th>\n",
       "      <th>https://www.aacap.org/AACAP/Families_and_Youth/Resource_Centers/Autism_Resource_Center/FAQ.aspx</th>\n",
       "    </tr>\n",
       "  </thead>\n",
       "  <tbody>\n",
       "    <tr>\n",
       "      <th>0</th>\n",
       "      <td>What Can I Do To Prepare My Child For The Future?</td>\n",
       "      <td>Early intervention can do a lot toward fosteri...</td>\n",
       "      <td>NaN</td>\n",
       "    </tr>\n",
       "    <tr>\n",
       "      <th>1</th>\n",
       "      <td>Did I Cause My Child’s Autism?</td>\n",
       "      <td>No. After getting an ASD diagnosis, this is th...</td>\n",
       "      <td>NaN</td>\n",
       "    </tr>\n",
       "    <tr>\n",
       "      <th>2</th>\n",
       "      <td>Can My Child’s Autism Be Cured?</td>\n",
       "      <td>No. Autism is not a disease that can be cured—...</td>\n",
       "      <td>NaN</td>\n",
       "    </tr>\n",
       "    <tr>\n",
       "      <th>3</th>\n",
       "      <td>How Can I Deal With This Diagnosis?</td>\n",
       "      <td>Start by being patient and kind with yourself,...</td>\n",
       "      <td>NaN</td>\n",
       "    </tr>\n",
       "    <tr>\n",
       "      <th>4</th>\n",
       "      <td>How Do I Find Help For My Child?</td>\n",
       "      <td>Start by making sure that you and your child h...</td>\n",
       "      <td>NaN</td>\n",
       "    </tr>\n",
       "    <tr>\n",
       "      <th>...</th>\n",
       "      <td>...</td>\n",
       "      <td>...</td>\n",
       "      <td>...</td>\n",
       "    </tr>\n",
       "    <tr>\n",
       "      <th>109</th>\n",
       "      <td>What are some ways that parents can reduce the...</td>\n",
       "      <td>NaN</td>\n",
       "      <td>NaN</td>\n",
       "    </tr>\n",
       "    <tr>\n",
       "      <th>110</th>\n",
       "      <td>Do some families deal with stress better than ...</td>\n",
       "      <td>NaN</td>\n",
       "      <td>NaN</td>\n",
       "    </tr>\n",
       "    <tr>\n",
       "      <th>111</th>\n",
       "      <td>Do siblings suffer increased stress as a resul...</td>\n",
       "      <td>NaN</td>\n",
       "      <td>NaN</td>\n",
       "    </tr>\n",
       "    <tr>\n",
       "      <th>112</th>\n",
       "      <td>What can I do about my children’s stress?</td>\n",
       "      <td>NaN</td>\n",
       "      <td>NaN</td>\n",
       "    </tr>\n",
       "    <tr>\n",
       "      <th>113</th>\n",
       "      <td>What are some resources for learning more abou...</td>\n",
       "      <td>NaN</td>\n",
       "      <td>NaN</td>\n",
       "    </tr>\n",
       "  </tbody>\n",
       "</table>\n",
       "<p>114 rows × 3 columns</p>\n",
       "</div>"
      ],
      "text/plain": [
       "                                              Question  \\\n",
       "0    What Can I Do To Prepare My Child For The Future?   \n",
       "1                       Did I Cause My Child’s Autism?   \n",
       "2                      Can My Child’s Autism Be Cured?   \n",
       "3                  How Can I Deal With This Diagnosis?   \n",
       "4                     How Do I Find Help For My Child?   \n",
       "..                                                 ...   \n",
       "109  What are some ways that parents can reduce the...   \n",
       "110  Do some families deal with stress better than ...   \n",
       "111  Do siblings suffer increased stress as a resul...   \n",
       "112          What can I do about my children’s stress?   \n",
       "113  What are some resources for learning more abou...   \n",
       "\n",
       "    https://springbrookbehavioral.com/frequently-asked-questions-about-autism/  \\\n",
       "0    Early intervention can do a lot toward fosteri...                           \n",
       "1    No. After getting an ASD diagnosis, this is th...                           \n",
       "2    No. Autism is not a disease that can be cured—...                           \n",
       "3    Start by being patient and kind with yourself,...                           \n",
       "4    Start by making sure that you and your child h...                           \n",
       "..                                                 ...                           \n",
       "109                                                NaN                           \n",
       "110                                                NaN                           \n",
       "111                                                NaN                           \n",
       "112                                                NaN                           \n",
       "113                                                NaN                           \n",
       "\n",
       "    https://www.aacap.org/AACAP/Families_and_Youth/Resource_Centers/Autism_Resource_Center/FAQ.aspx  \n",
       "0                                                  NaN                                               \n",
       "1                                                  NaN                                               \n",
       "2                                                  NaN                                               \n",
       "3                                                  NaN                                               \n",
       "4                                                  NaN                                               \n",
       "..                                                 ...                                               \n",
       "109                                                NaN                                               \n",
       "110                                                NaN                                               \n",
       "111                                                NaN                                               \n",
       "112                                                NaN                                               \n",
       "113                                                NaN                                               \n",
       "\n",
       "[114 rows x 3 columns]"
      ]
     },
     "execution_count": 67,
     "metadata": {},
     "output_type": "execute_result"
    }
   ],
   "source": [
    "# Concatenate existing and new dataframes\n",
    "df3 = pd.concat([df,df2],axis=0)\n",
    "df3 =df3.sort_values(by=list(df3.columns[1:])).reset_index(drop=True)\n",
    "df3"
   ]
  },
  {
   "cell_type": "markdown",
   "id": "c36df54c",
   "metadata": {},
   "source": [
    "# Save Output"
   ]
  },
  {
   "cell_type": "code",
   "execution_count": 68,
   "id": "cdd9d1cd",
   "metadata": {},
   "outputs": [],
   "source": [
    "df3.to_excel('AnswersFromSource11_20.xlsx',index=False)"
   ]
  },
  {
   "cell_type": "code",
   "execution_count": null,
   "id": "4f4d98a5",
   "metadata": {},
   "outputs": [],
   "source": []
  }
 ],
 "metadata": {
  "kernelspec": {
   "display_name": "Python 3",
   "language": "python",
   "name": "python3"
  },
  "language_info": {
   "codemirror_mode": {
    "name": "ipython",
    "version": 3
   },
   "file_extension": ".py",
   "mimetype": "text/x-python",
   "name": "python",
   "nbconvert_exporter": "python",
   "pygments_lexer": "ipython3",
   "version": "3.8.8"
  }
 },
 "nbformat": 4,
 "nbformat_minor": 5
}
