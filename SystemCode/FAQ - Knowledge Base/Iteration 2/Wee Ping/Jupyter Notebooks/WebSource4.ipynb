{
 "cells": [
  {
   "cell_type": "markdown",
   "metadata": {
    "id": "yft4iZcyYYR_"
   },
   "source": [
    "## **Import Libraries**"
   ]
  },
  {
   "cell_type": "code",
   "execution_count": 3,
   "metadata": {
    "colab": {
     "base_uri": "https://localhost:8080/"
    },
    "executionInfo": {
     "elapsed": 8564,
     "status": "ok",
     "timestamp": 1629292234664,
     "user": {
      "displayName": "YEONG WEE PING",
      "photoUrl": "https://lh3.googleusercontent.com/a-/AOh14Ghmgv0TggS0syoXfgLyJc6u0Ltc7G9fVZkWDF0qpw=s64",
      "userId": "15227096441813273765"
     },
     "user_tz": -480
    },
    "id": "axwsr-pdYQEx",
    "outputId": "fd505411-02cc-4505-a28a-2dee95b74e4a"
   },
   "outputs": [],
   "source": [
    "#!pip install selenium\n",
    "#!pip install webdriver-manager\n",
    "#!pip install pyyaml ua-parser user-agents fake-useragent\n",
    "\n",
    "################ WEB SCRAPING MODULES ############\n",
    "from selenium import webdriver\n",
    "from webdriver_manager.firefox import GeckoDriverManager\n",
    "from webdriver_manager.chrome import ChromeDriverManager\n",
    "from webdriver_manager.utils import ChromeType\n",
    "from selenium.webdriver.common.by import By\n",
    "import bs4\n",
    "from fake_useragent import UserAgent\n",
    "import requests\n",
    "################ TIME MODLULES ###################\n",
    "import time\n",
    "from datetime import date \n",
    "import datetime\n",
    "############## DATA MANIPULATION MODULES #########\n",
    "import os\n",
    "import pandas as pd\n",
    "import numpy as np\n",
    "import re\n",
    "from nltk.corpus import stopwords"
   ]
  },
  {
   "cell_type": "markdown",
   "metadata": {
    "id": "Z6YhYUxpZrpD"
   },
   "source": [
    "## **Define web source**"
   ]
  },
  {
   "cell_type": "code",
   "execution_count": 4,
   "metadata": {
    "executionInfo": {
     "elapsed": 303,
     "status": "ok",
     "timestamp": 1629292239923,
     "user": {
      "displayName": "YEONG WEE PING",
      "photoUrl": "https://lh3.googleusercontent.com/a-/AOh14Ghmgv0TggS0syoXfgLyJc6u0Ltc7G9fVZkWDF0qpw=s64",
      "userId": "15227096441813273765"
     },
     "user_tz": -480
    },
    "id": "Zal9A48BZvc2"
   },
   "outputs": [],
   "source": [
    "link = 'https://www.autism.org.uk/advice-and-guidance/what-is-autism/asperger-syndrome'"
   ]
  },
  {
   "cell_type": "markdown",
   "metadata": {
    "id": "OkwOUVmxaQTR"
   },
   "source": [
    "## **Read 100++ questions list**"
   ]
  },
  {
   "cell_type": "code",
   "execution_count": 5,
   "metadata": {
    "colab": {
     "base_uri": "https://localhost:8080/",
     "height": 418
    },
    "executionInfo": {
     "elapsed": 294,
     "status": "ok",
     "timestamp": 1629292241876,
     "user": {
      "displayName": "YEONG WEE PING",
      "photoUrl": "https://lh3.googleusercontent.com/a-/AOh14Ghmgv0TggS0syoXfgLyJc6u0Ltc7G9fVZkWDF0qpw=s64",
      "userId": "15227096441813273765"
     },
     "user_tz": -480
    },
    "id": "COwR75fUaXbA",
    "outputId": "8ea1f328-d2fd-43bc-ce97-41056ef333e7"
   },
   "outputs": [
    {
     "data": {
      "text/html": [
       "<div>\n",
       "<style scoped>\n",
       "    .dataframe tbody tr th:only-of-type {\n",
       "        vertical-align: middle;\n",
       "    }\n",
       "\n",
       "    .dataframe tbody tr th {\n",
       "        vertical-align: top;\n",
       "    }\n",
       "\n",
       "    .dataframe thead th {\n",
       "        text-align: right;\n",
       "    }\n",
       "</style>\n",
       "<table border=\"1\" class=\"dataframe\">\n",
       "  <thead>\n",
       "    <tr style=\"text-align: right;\">\n",
       "      <th></th>\n",
       "      <th>Question</th>\n",
       "      <th>https://birchtreecenter.org/learn/autism</th>\n",
       "      <th>https://www.myautismteam.com/resources/autism-an-overview</th>\n",
       "      <th>https://www.autism.org.uk/advice-and-guidance/what-is-autism/asperger-syndrome</th>\n",
       "    </tr>\n",
       "  </thead>\n",
       "  <tbody>\n",
       "    <tr>\n",
       "      <th>0</th>\n",
       "      <td>What are the Autism Spectrum Disorders (ASD)?</td>\n",
       "      <td>ASD refers to a wide spectrum of neurodevelopm...</td>\n",
       "      <td>NaN</td>\n",
       "      <td>NaN</td>\n",
       "    </tr>\n",
       "    <tr>\n",
       "      <th>1</th>\n",
       "      <td>How common is autism?</td>\n",
       "      <td>According to a 2020 report commissioned by the...</td>\n",
       "      <td>It is estimated that in the United States 1.6 ...</td>\n",
       "      <td>NaN</td>\n",
       "    </tr>\n",
       "    <tr>\n",
       "      <th>2</th>\n",
       "      <td>What causes autism? Can it be cured?</td>\n",
       "      <td>The causes of this complex disorder remain unc...</td>\n",
       "      <td>NaN</td>\n",
       "      <td>NaN</td>\n",
       "    </tr>\n",
       "    <tr>\n",
       "      <th>3</th>\n",
       "      <td>Is autism contagious?</td>\n",
       "      <td>NaN</td>\n",
       "      <td>Autism is not a contagious condition. Autism i...</td>\n",
       "      <td>NaN</td>\n",
       "    </tr>\n",
       "    <tr>\n",
       "      <th>4</th>\n",
       "      <td>Are rates of autism increasing?</td>\n",
       "      <td>NaN</td>\n",
       "      <td>Estimates released by the Centers for Disease ...</td>\n",
       "      <td>NaN</td>\n",
       "    </tr>\n",
       "    <tr>\n",
       "      <th>...</th>\n",
       "      <td>...</td>\n",
       "      <td>...</td>\n",
       "      <td>...</td>\n",
       "      <td>...</td>\n",
       "    </tr>\n",
       "    <tr>\n",
       "      <th>104</th>\n",
       "      <td>What are some ways that parents can reduce the...</td>\n",
       "      <td>NaN</td>\n",
       "      <td>NaN</td>\n",
       "      <td>NaN</td>\n",
       "    </tr>\n",
       "    <tr>\n",
       "      <th>105</th>\n",
       "      <td>Do some families deal with stress better than ...</td>\n",
       "      <td>NaN</td>\n",
       "      <td>NaN</td>\n",
       "      <td>NaN</td>\n",
       "    </tr>\n",
       "    <tr>\n",
       "      <th>106</th>\n",
       "      <td>Do siblings suffer increased stress as a resul...</td>\n",
       "      <td>NaN</td>\n",
       "      <td>NaN</td>\n",
       "      <td>NaN</td>\n",
       "    </tr>\n",
       "    <tr>\n",
       "      <th>107</th>\n",
       "      <td>What can I do about my children’s stress?</td>\n",
       "      <td>NaN</td>\n",
       "      <td>NaN</td>\n",
       "      <td>NaN</td>\n",
       "    </tr>\n",
       "    <tr>\n",
       "      <th>108</th>\n",
       "      <td>What are some resources for learning more abou...</td>\n",
       "      <td>NaN</td>\n",
       "      <td>NaN</td>\n",
       "      <td>NaN</td>\n",
       "    </tr>\n",
       "  </tbody>\n",
       "</table>\n",
       "<p>109 rows × 4 columns</p>\n",
       "</div>"
      ],
      "text/plain": [
       "                                              Question  \\\n",
       "0        What are the Autism Spectrum Disorders (ASD)?   \n",
       "1                                How common is autism?   \n",
       "2                 What causes autism? Can it be cured?   \n",
       "3                                Is autism contagious?   \n",
       "4                      Are rates of autism increasing?   \n",
       "..                                                 ...   \n",
       "104  What are some ways that parents can reduce the...   \n",
       "105  Do some families deal with stress better than ...   \n",
       "106  Do siblings suffer increased stress as a resul...   \n",
       "107          What can I do about my children’s stress?   \n",
       "108  What are some resources for learning more abou...   \n",
       "\n",
       "              https://birchtreecenter.org/learn/autism  \\\n",
       "0    ASD refers to a wide spectrum of neurodevelopm...   \n",
       "1    According to a 2020 report commissioned by the...   \n",
       "2    The causes of this complex disorder remain unc...   \n",
       "3                                                  NaN   \n",
       "4                                                  NaN   \n",
       "..                                                 ...   \n",
       "104                                                NaN   \n",
       "105                                                NaN   \n",
       "106                                                NaN   \n",
       "107                                                NaN   \n",
       "108                                                NaN   \n",
       "\n",
       "    https://www.myautismteam.com/resources/autism-an-overview  \\\n",
       "0                                                  NaN          \n",
       "1    It is estimated that in the United States 1.6 ...          \n",
       "2                                                  NaN          \n",
       "3    Autism is not a contagious condition. Autism i...          \n",
       "4    Estimates released by the Centers for Disease ...          \n",
       "..                                                 ...          \n",
       "104                                                NaN          \n",
       "105                                                NaN          \n",
       "106                                                NaN          \n",
       "107                                                NaN          \n",
       "108                                                NaN          \n",
       "\n",
       "     https://www.autism.org.uk/advice-and-guidance/what-is-autism/asperger-syndrome  \n",
       "0                                                  NaN                               \n",
       "1                                                  NaN                               \n",
       "2                                                  NaN                               \n",
       "3                                                  NaN                               \n",
       "4                                                  NaN                               \n",
       "..                                                 ...                               \n",
       "104                                                NaN                               \n",
       "105                                                NaN                               \n",
       "106                                                NaN                               \n",
       "107                                                NaN                               \n",
       "108                                                NaN                               \n",
       "\n",
       "[109 rows x 4 columns]"
      ]
     },
     "execution_count": 5,
     "metadata": {},
     "output_type": "execute_result"
    }
   ],
   "source": [
    "df = pd.read_excel('ASDquestions2.xlsx',engine='openpyxl')\n",
    "\n",
    "df[link]=np.nan\n",
    "df"
   ]
  },
  {
   "cell_type": "markdown",
   "metadata": {
    "id": "nBDwU1yMRpyZ"
   },
   "source": [
    "## **Scrape QA pairs from website**"
   ]
  },
  {
   "cell_type": "code",
   "execution_count": 6,
   "metadata": {
    "colab": {
     "base_uri": "https://localhost:8080/",
     "height": 441
    },
    "executionInfo": {
     "elapsed": 435,
     "status": "error",
     "timestamp": 1629292255064,
     "user": {
      "displayName": "YEONG WEE PING",
      "photoUrl": "https://lh3.googleusercontent.com/a-/AOh14Ghmgv0TggS0syoXfgLyJc6u0Ltc7G9fVZkWDF0qpw=s64",
      "userId": "15227096441813273765"
     },
     "user_tz": -480
    },
    "id": "TBLWmv5oRwsU",
    "outputId": "8149437d-252a-4110-c4e4-28afeab56c90"
   },
   "outputs": [
    {
     "name": "stderr",
     "output_type": "stream",
     "text": [
      "\n",
      "\n",
      "====== WebDriver manager ======\n",
      "Current google-chrome version is 92.0.4515\n",
      "Get LATEST driver version for 92.0.4515\n",
      "Get LATEST driver version for 92.0.4515\n",
      "Trying to download new driver from https://chromedriver.storage.googleapis.com/92.0.4515.107/chromedriver_linux64.zip\n",
      "Driver has been saved in cache [/home/aceirus/.wdm/drivers/chromedriver/linux64/92.0.4515.107]\n"
     ]
    }
   ],
   "source": [
    "# Open webpage in a new window for scraping\n",
    "#driver = webdriver.Chrome(ChromeDriverManager(chrome_type=ChromeType.GOOGLE).install())   #cannot fix in colab\n",
    "\n",
    "driver = webdriver.Chrome(ChromeDriverManager().install())\n",
    "driver.get(link)"
   ]
  },
  {
   "cell_type": "code",
   "execution_count": 7,
   "metadata": {
    "colab": {
     "base_uri": "https://localhost:8080/",
     "height": 204
    },
    "executionInfo": {
     "elapsed": 322,
     "status": "error",
     "timestamp": 1629291314302,
     "user": {
      "displayName": "YEONG WEE PING",
      "photoUrl": "https://lh3.googleusercontent.com/a-/AOh14Ghmgv0TggS0syoXfgLyJc6u0Ltc7G9fVZkWDF0qpw=s64",
      "userId": "15227096441813273765"
     },
     "user_tz": -480
    },
    "id": "YrLbD7M8R8dD",
    "outputId": "6b7fe7a0-c449-42c4-9bdd-c31a2ef9a3dc"
   },
   "outputs": [],
   "source": [
    "# Parse text in webpage\n",
    "source = driver.page_source\n",
    "soup = bs4.BeautifulSoup(source, 'html.parser')"
   ]
  },
  {
   "cell_type": "code",
   "execution_count": 8,
   "metadata": {},
   "outputs": [
    {
     "name": "stdout",
     "output_type": "stream",
     "text": [
      "'Asperger syndrome' was introduced to the world by British psychiatrist Lorna Wing in the 1980s.\n",
      "How common is Asperger syndrome?\n",
      "How do people with Asperger syndrome see the world?\n",
      "The benefits of an Asperger syndrome diagnosis\n",
      "How Asperger syndrome is diagnosed\n",
      "Differences in communication \n",
      "Differences in social interaction\n",
      "Repetitive behaviours and routines\n",
      "Highly focused interests\n",
      "Different names and terms for autism\n",
      "The problematic history of Hans Asperger\n",
      "Join the community\n",
      "Cookies on this site\n",
      "Please wait while we check your current settings \n"
     ]
    }
   ],
   "source": [
    "# Search the questions mentioned in webpage\n",
    "quesList = []\n",
    "for ques in soup.find_all('h2'):\n",
    "    print(ques.text)\n",
    "    quesList.append(ques.text)"
   ]
  },
  {
   "cell_type": "code",
   "execution_count": 11,
   "metadata": {},
   "outputs": [
    {
     "name": "stdout",
     "output_type": "stream",
     "text": [
      "\n",
      "Autism, including Asperger syndrome, is much more common than most people think. There are around 700,000 autistic people in the UK – that's more than 1 in 100. People with Asperger syndrome come from all nationalities and cultural, religious and social backgrounds.  Historically, more men have been diagnosed as autistic than women, although this is beginning to change. \n",
      "\n",
      "****************************************************************************************************\n",
      "\n",
      "Some people with Asperger syndrome say the world feels overwhelming and this can cause them considerable anxiety. In particular, understanding and relating to other people, and taking part in everyday family, school, work and social life, can be harder. Other people appear to know, intuitively, how to communicate and interact with each other, yet can also struggle to build rapport with people with Asperger syndrome. People with Asperger syndrome may wonder why they are 'different' and feel their social differences mean people don’t understand them.\n",
      "\n",
      "Autistic people often do not 'look' disabled. Some parents of autistic children say that other people simply think their child is naughty, while adults may find that they are misunderstood. \n",
      "\n",
      "****************************************************************************************************\n",
      "\n",
      "Some people see a formal diagnosis as an unhelpful label, but for many, getting a thorough assessment and diagnosis may be helpful because:\n",
      "\n",
      "it helps people with Asperger syndrome (and their families, partners, employers, colleagues, teachers and friends) to understand why they may experience certain difficulties and what they can do about them\n",
      "it allows people to access services and support.\n",
      "\n",
      "\n",
      "****************************************************************************************************\n",
      "\n",
      "The characteristics of Asperger syndrome vary from one person to another, although there are some key traits that autistic people share. These are:  \n",
      "\n",
      "persistent difficulties with or differences in social communication and social interaction \n",
      "restricted and repetitive patterns of behaviours, activities or interests since early childhood, to the extent that these impact negatively on day to day life.\n",
      "\n",
      "The diagnosis process usually involves a multi-disciplinary diagnostic team - often including a speech and language therapist, paediatrician, psychiatrist and/or psychologist.\n",
      "\n",
      "Because Asperger syndrome varies widely from person to person, making a diagnosis can be difficult. It is often diagnosed later in children than autism and sometimes symptoms may not be recognised and diagnosed until adulthood.\n",
      "\n",
      "****************************************************************************************************\n",
      "\n",
      "Autistic people, including those with Asperger syndrome, often communicate differently. They may have difficulties with interpreting both verbal and non-verbal language like gestures or tone of voice, or it may take them a little longer to understand. Some autistic people have a very literal understanding of language, and think people always mean exactly what they say. They may find it difficult to use or understand:\n",
      "\n",
      "facial expressions\n",
      "tone of voice\n",
      "jokes and sarcasm\n",
      "vague or abstract concepts\n",
      "\n",
      "These traits can express themselves in different ways. For instance, someone with Asperger syndrome may be very funny or sarcastic themselves, but they may not always pick up on sarcasm. \n",
      "\n",
      "People with Asperger syndrome usually have good language skills, but they may still find it hard to understand the expectations of others within conversations, perhaps repeating what the other person has just said (this is called echolalia) or talking at length about their own interests. \n",
      "\n",
      "People with Asperger syndrome may need more time to process information, and often find it easier to understand clear, consistent language, rather than abstract turns of phrase.\n",
      "\n",
      "****************************************************************************************************\n",
      "\n",
      "People with Asperger syndrome often have difficulty 'reading' other people - recognising or understanding others’ feelings and intentions - and expressing their own emotions. This can make it very hard for them to navigate the social world. They may:\n",
      "\n",
      "appear to be insensitive, even if they don't intend to be\n",
      "seek out time alone when overloaded by other people\n",
      "not seek comfort from other people\n",
      "appear to behave ‘strangely’ or in a way thought to be socially inappropriate.\n",
      "\n",
      "This does not mean that autistic people (including those with Asperger syndrome) lack empathy or the ability to feel emotions. In many cases, they can be more empathetic or emotionally aware than non-autistic people. They may have trouble expressing their feelings in a conventional or socially appropriate way.\n",
      "\n",
      "For these reasons, some autistic people may find it hard to form friendships. Some may want to interact with other people and make friends, but may be unsure how to go about it. Some people with Asperger syndrome may appear to be much more socially confident or adept than they really are. Many autistic adults develop more traditional skills by mimicking others around them, or by preparing what they are going to say before an event, as though learning a script. This can be effective, yet exhausting. \n",
      "\n",
      "****************************************************************************************************\n",
      "\n",
      "The world can seem a very unpredictable and confusing place to people with Asperger syndrome, who often prefer to have a daily routine so that they know what is going to happen every day. They may want to always travel the same way to and from school or work, or eat exactly the same food for breakfast.\n",
      "\n",
      "The use of rules can also be important. It may be difficult for someone to take a different approach to something once they have been taught the 'right' way to do it. They may not be comfortable with the idea of change, but may be able to cope better if they can prepare for changes in advance.\n",
      "\n",
      "****************************************************************************************************\n",
      "\n",
      "Many people with Asperger syndrome have intense and highly focused interests, often from a fairly young age. These can change over time or be lifelong, and can be anything from art or music, to trains or computers. An interest may sometimes be unusual. One person loved collecting rubbish, for example. With encouragement, this particular person developed an interest in recycling and the environment.\n",
      "\n",
      "Many channel their interest into studying, paid work, volunteering, or other meaningful careers or jobs. People with Asperger syndrome often say that the pursuit of such interests is fundamental to their wellbeing and happiness.\n",
      "\n",
      "****************************************************************************************************\n",
      "\n",
      "Over the years, different diagnostic labels have been used, such as: autism, Autism Spectrum Disorder (ASD), Autism Spectrum Condition (ASC), classic autism, Kanner autism, pervasive developmental disorder (PDD), high-functioning autism (HFA), Asperger syndrome and Pathological Demand Avoidance (PDA). This reflects the different diagnostic manuals and tools used, and the different autism profiles presented by individuals.\n",
      "\n",
      "Because of recent and upcoming changes to the main diagnostic manuals, 'Autism Spectrum Disorder' (ASD) is now likely to become the most commonly given diagnostic term. Asperger syndrome remains a useful profile for many diagnosticians and professionals.\n",
      "\n",
      "****************************************************************************************************\n",
      "\n",
      "Asperger syndrome shares its name with Hans Asperger, a prominent figure in the early research into autism who worked as a paediatrician in Austria in the 20th century, including during the time of the Nazis. An eight-year study into his relationship with the Nazi regime was published in 2018, concluding that he assisted in their euthanasia programme. This provoked a big debate among autistic people and their family members, particularly those who identify with the term ‘Asperger’. We are listening closely to the response to this news so we can continue to make sure the language we use to describe autism reflects the preferences of autistic people and their families. \n",
      "\n",
      "****************************************************************************************************\n"
     ]
    }
   ],
   "source": [
    "# Search the answers for questions\n",
    "ansList = []\n",
    "#for ans in soup.find_all('p'):\n",
    "for ans in soup.find_all('dd'):\n",
    "\n",
    "    print(ans.text)\n",
    "    print('*'*100)\n",
    "    ansList.append(ans.text)"
   ]
  },
  {
   "cell_type": "markdown",
   "metadata": {},
   "source": [
    "## **Check which questions are similar**"
   ]
  },
  {
   "cell_type": "code",
   "execution_count": 12,
   "metadata": {},
   "outputs": [],
   "source": [
    "stop_words = set(stopwords.words('english'))\n",
    "\n",
    "def clean_text(sent):\n",
    "    sent = sent.lower() # lowercase\n",
    "    sent = re.sub(r'[^\\w\\s]', '', sent) # remove punctuations\n",
    "    sent = re.sub('Autism Spectrum Disorder','ASD',sent) # Compress term\n",
    "    sent = [w for w in sent.split() if not w.lower() in stop_words] # Remove stopwords\n",
    "    sent = \" \".join(sent)\n",
    "    return sent"
   ]
  },
  {
   "cell_type": "code",
   "execution_count": 13,
   "metadata": {},
   "outputs": [],
   "source": [
    "def jaccard_similarity(list1, list2):\n",
    "    s1 = set(list1)\n",
    "    s2 = set(list2)\n",
    "    return float(len(s1.intersection(s2)) / len(s1.union(s2)))"
   ]
  },
  {
   "cell_type": "code",
   "execution_count": 14,
   "metadata": {
    "scrolled": true
   },
   "outputs": [
    {
     "name": "stdout",
     "output_type": "stream",
     "text": [
      "Website -->  Differences in communication  (Index 5)\n",
      "100 questions list -->  Facilitated Communication (Index 41)\n",
      "similarity: 0.3333333333333333\n",
      "****************************************************************************************************\n"
     ]
    }
   ],
   "source": [
    "# try to match websource questions with our own 100 questions list\n",
    "for c1,i in enumerate(quesList):\n",
    "    i2 = clean_text(i)\n",
    "    list1 = i2.split()\n",
    "    \n",
    "    temp1 = 0.0\n",
    "    temp2 = ''\n",
    "    temp3 = ''\n",
    "    temp4 = 0\n",
    "    \n",
    "    for c2,j in enumerate(df['Question']):\n",
    "        j2 = clean_text(j)\n",
    "        list2 = j2.split()\n",
    "            \n",
    "        sim = jaccard_similarity(list1, list2)\n",
    "        if(sim>temp1):\n",
    "            temp1 = sim\n",
    "            temp2 = j\n",
    "            temp3 = i\n",
    "            temp4 = c2\n",
    "            \n",
    "    if(temp1>=0.3):  # sim threshold\n",
    "        print('Website --> ',temp3,'(Index {})'.format(c1))\n",
    "        print('100 questions list --> ',temp2,'(Index {})'.format(temp4))\n",
    "        print('similarity:', temp1)\n",
    "        print('*'*100)"
   ]
  },
  {
   "cell_type": "code",
   "execution_count": 15,
   "metadata": {},
   "outputs": [
    {
     "name": "stdout",
     "output_type": "stream",
     "text": [
      "Index #0: 'Asperger syndrome' was introduced to the world by British psychiatrist Lorna Wing in the 1980s.\n",
      "Index #1: How common is Asperger syndrome?\n",
      "Index #2: How do people with Asperger syndrome see the world?\n",
      "Index #3: The benefits of an Asperger syndrome diagnosis\n",
      "Index #4: How Asperger syndrome is diagnosed\n",
      "Index #5: Differences in communication \n",
      "Index #6: Differences in social interaction\n",
      "Index #7: Repetitive behaviours and routines\n",
      "Index #8: Highly focused interests\n",
      "Index #9: Different names and terms for autism\n",
      "Index #10: The problematic history of Hans Asperger\n",
      "Index #11: Join the community\n",
      "Index #12: Cookies on this site\n",
      "Index #13: Please wait while we check your current settings \n"
     ]
    }
   ],
   "source": [
    "for i in range (0,len(quesList)):\n",
    "    print(\"Index #{0:d}: {1:s}\".format(i,quesList[i]))"
   ]
  },
  {
   "cell_type": "code",
   "execution_count": 16,
   "metadata": {},
   "outputs": [
    {
     "name": "stdout",
     "output_type": "stream",
     "text": [
      "Index #0: \n",
      "Autism, including Asperger syndrome, is much more common than most people think. There are around 700,000 autistic people in the UK – that's more than 1 in 100. People with Asperger syndrome come from all nationalities and cultural, religious and social backgrounds.  Historically, more men have been diagnosed as autistic than women, although this is beginning to change. \n",
      "\n",
      "Index #1: \n",
      "Some people with Asperger syndrome say the world feels overwhelming and this can cause them considerable anxiety. In particular, understanding and relating to other people, and taking part in everyday family, school, work and social life, can be harder. Other people appear to know, intuitively, how to communicate and interact with each other, yet can also struggle to build rapport with people with Asperger syndrome. People with Asperger syndrome may wonder why they are 'different' and feel their social differences mean people don’t understand them.\n",
      "\n",
      "Autistic people often do not 'look' disabled. Some parents of autistic children say that other people simply think their child is naughty, while adults may find that they are misunderstood. \n",
      "\n",
      "Index #2: \n",
      "Some people see a formal diagnosis as an unhelpful label, but for many, getting a thorough assessment and diagnosis may be helpful because:\n",
      "\n",
      "it helps people with Asperger syndrome (and their families, partners, employers, colleagues, teachers and friends) to understand why they may experience certain difficulties and what they can do about them\n",
      "it allows people to access services and support.\n",
      "\n",
      "\n",
      "Index #3: \n",
      "The characteristics of Asperger syndrome vary from one person to another, although there are some key traits that autistic people share. These are:  \n",
      "\n",
      "persistent difficulties with or differences in social communication and social interaction \n",
      "restricted and repetitive patterns of behaviours, activities or interests since early childhood, to the extent that these impact negatively on day to day life.\n",
      "\n",
      "The diagnosis process usually involves a multi-disciplinary diagnostic team - often including a speech and language therapist, paediatrician, psychiatrist and/or psychologist.\n",
      "\n",
      "Because Asperger syndrome varies widely from person to person, making a diagnosis can be difficult. It is often diagnosed later in children than autism and sometimes symptoms may not be recognised and diagnosed until adulthood.\n",
      "\n",
      "Index #4: \n",
      "Autistic people, including those with Asperger syndrome, often communicate differently. They may have difficulties with interpreting both verbal and non-verbal language like gestures or tone of voice, or it may take them a little longer to understand. Some autistic people have a very literal understanding of language, and think people always mean exactly what they say. They may find it difficult to use or understand:\n",
      "\n",
      "facial expressions\n",
      "tone of voice\n",
      "jokes and sarcasm\n",
      "vague or abstract concepts\n",
      "\n",
      "These traits can express themselves in different ways. For instance, someone with Asperger syndrome may be very funny or sarcastic themselves, but they may not always pick up on sarcasm. \n",
      "\n",
      "People with Asperger syndrome usually have good language skills, but they may still find it hard to understand the expectations of others within conversations, perhaps repeating what the other person has just said (this is called echolalia) or talking at length about their own interests. \n",
      "\n",
      "People with Asperger syndrome may need more time to process information, and often find it easier to understand clear, consistent language, rather than abstract turns of phrase.\n",
      "\n",
      "Index #5: \n",
      "People with Asperger syndrome often have difficulty 'reading' other people - recognising or understanding others’ feelings and intentions - and expressing their own emotions. This can make it very hard for them to navigate the social world. They may:\n",
      "\n",
      "appear to be insensitive, even if they don't intend to be\n",
      "seek out time alone when overloaded by other people\n",
      "not seek comfort from other people\n",
      "appear to behave ‘strangely’ or in a way thought to be socially inappropriate.\n",
      "\n",
      "This does not mean that autistic people (including those with Asperger syndrome) lack empathy or the ability to feel emotions. In many cases, they can be more empathetic or emotionally aware than non-autistic people. They may have trouble expressing their feelings in a conventional or socially appropriate way.\n",
      "\n",
      "For these reasons, some autistic people may find it hard to form friendships. Some may want to interact with other people and make friends, but may be unsure how to go about it. Some people with Asperger syndrome may appear to be much more socially confident or adept than they really are. Many autistic adults develop more traditional skills by mimicking others around them, or by preparing what they are going to say before an event, as though learning a script. This can be effective, yet exhausting. \n",
      "\n",
      "Index #6: \n",
      "The world can seem a very unpredictable and confusing place to people with Asperger syndrome, who often prefer to have a daily routine so that they know what is going to happen every day. They may want to always travel the same way to and from school or work, or eat exactly the same food for breakfast.\n",
      "\n",
      "The use of rules can also be important. It may be difficult for someone to take a different approach to something once they have been taught the 'right' way to do it. They may not be comfortable with the idea of change, but may be able to cope better if they can prepare for changes in advance.\n",
      "\n",
      "Index #7: \n",
      "Many people with Asperger syndrome have intense and highly focused interests, often from a fairly young age. These can change over time or be lifelong, and can be anything from art or music, to trains or computers. An interest may sometimes be unusual. One person loved collecting rubbish, for example. With encouragement, this particular person developed an interest in recycling and the environment.\n",
      "\n",
      "Many channel their interest into studying, paid work, volunteering, or other meaningful careers or jobs. People with Asperger syndrome often say that the pursuit of such interests is fundamental to their wellbeing and happiness.\n",
      "\n",
      "Index #8: \n",
      "Over the years, different diagnostic labels have been used, such as: autism, Autism Spectrum Disorder (ASD), Autism Spectrum Condition (ASC), classic autism, Kanner autism, pervasive developmental disorder (PDD), high-functioning autism (HFA), Asperger syndrome and Pathological Demand Avoidance (PDA). This reflects the different diagnostic manuals and tools used, and the different autism profiles presented by individuals.\n",
      "\n",
      "Because of recent and upcoming changes to the main diagnostic manuals, 'Autism Spectrum Disorder' (ASD) is now likely to become the most commonly given diagnostic term. Asperger syndrome remains a useful profile for many diagnosticians and professionals.\n",
      "\n",
      "Index #9: \n",
      "Asperger syndrome shares its name with Hans Asperger, a prominent figure in the early research into autism who worked as a paediatrician in Austria in the 20th century, including during the time of the Nazis. An eight-year study into his relationship with the Nazi regime was published in 2018, concluding that he assisted in their euthanasia programme. This provoked a big debate among autistic people and their family members, particularly those who identify with the term ‘Asperger’. We are listening closely to the response to this news so we can continue to make sure the language we use to describe autism reflects the preferences of autistic people and their families. \n",
      "\n"
     ]
    }
   ],
   "source": [
    "for i in range (0,len(ansList)):\n",
    "    print(\"Index #{0:d}: {1:s}\".format(i,ansList[i]))"
   ]
  },
  {
   "cell_type": "code",
   "execution_count": 17,
   "metadata": {},
   "outputs": [],
   "source": [
    "# add websource answer to matched question in existing dataframe\n",
    "#df[link].loc[1]=ansList[2]"
   ]
  },
  {
   "cell_type": "code",
   "execution_count": 18,
   "metadata": {},
   "outputs": [
    {
     "data": {
      "text/plain": [
       "nan"
      ]
     },
     "execution_count": 18,
     "metadata": {},
     "output_type": "execute_result"
    }
   ],
   "source": [
    "df[link].loc[1]"
   ]
  },
  {
   "cell_type": "code",
   "execution_count": 31,
   "metadata": {},
   "outputs": [
    {
     "data": {
      "text/plain": [
       "['How common is Asperger syndrome?',\n",
       " 'How do people with Asperger syndrome see the world?',\n",
       " 'The benefits of an Asperger syndrome diagnosis',\n",
       " 'How Asperger syndrome is diagnosed',\n",
       " 'Different names and terms for autism']"
      ]
     },
     "execution_count": 31,
     "metadata": {},
     "output_type": "execute_result"
    }
   ],
   "source": [
    "# update with new valid questions list\n",
    "quesListUpd = quesList[1:5]+quesList[9:10]\n",
    "\n",
    "quesListUpd"
   ]
  },
  {
   "cell_type": "code",
   "execution_count": 32,
   "metadata": {},
   "outputs": [
    {
     "data": {
      "text/plain": [
       "[\"\\nAutism, including Asperger syndrome, is much more common than most people think. There are around 700,000 autistic people in the UK – that's more than 1 in 100. People with Asperger syndrome come from all nationalities and cultural, religious and social backgrounds. \\xa0Historically, more men have been diagnosed as autistic than\\xa0women, although this is beginning to change.\\xa0\\n\",\n",
       " \"\\nSome people with Asperger syndrome say the world feels overwhelming and this can cause them considerable anxiety. In particular, understanding and relating to other people, and taking part in everyday family, school, work and social life, can be harder. Other people appear to know, intuitively, how to communicate and interact with each other, yet can also struggle to build rapport with people with Asperger syndrome. People with Asperger syndrome may wonder why they are 'different' and feel their social differences mean people don’t understand them.\\n\\nAutistic people often do not 'look' disabled. Some parents of autistic children say that other people simply think their child is naughty, while adults may find that they are misunderstood.\\xa0\\n\",\n",
       " '\\nSome people see a formal diagnosis as an unhelpful label, but for many, getting a thorough assessment and diagnosis may be helpful because:\\n\\nit helps people with Asperger syndrome (and their families, partners, employers, colleagues, teachers and friends) to understand why they may experience certain difficulties and what they can do about them\\nit allows people to access services and support.\\n\\n',\n",
       " '\\nThe characteristics of Asperger syndrome vary from one person to another, although there are some key traits that autistic people share.\\xa0These are: \\xa0\\n\\npersistent difficulties with or differences in social communication and social interaction\\xa0\\nrestricted and repetitive patterns of behaviours, activities or interests since early childhood, to the extent that these impact negatively on day to day life.\\n\\nThe diagnosis process usually involves a multi-disciplinary diagnostic team - often including a speech and language therapist, paediatrician, psychiatrist and/or psychologist.\\n\\nBecause Asperger syndrome varies widely from person to person, making a diagnosis can be difficult. It is often diagnosed later in children than autism and sometimes symptoms may not be recognised and diagnosed until adulthood.\\n',\n",
       " \"\\nOver the years, different diagnostic labels have been used, such as: autism, Autism Spectrum Disorder (ASD), Autism Spectrum Condition (ASC), classic autism, Kanner autism, pervasive developmental disorder (PDD), high-functioning autism (HFA), Asperger syndrome and Pathological Demand Avoidance (PDA). This reflects the different diagnostic manuals and tools used, and the different autism profiles presented by individuals.\\n\\nBecause of recent and upcoming changes to the main diagnostic manuals, 'Autism Spectrum Disorder' (ASD) is now likely to become the most commonly given diagnostic term. Asperger syndrome remains a useful profile for many diagnosticians and professionals.\\n\"]"
      ]
     },
     "execution_count": 32,
     "metadata": {},
     "output_type": "execute_result"
    }
   ],
   "source": [
    "# manually select answers to updated questions list\n",
    "ansListUpd = [ansList[0],\n",
    "              ansList[1],\n",
    "              ansList[2],\n",
    "              ansList[3],\n",
    "              ansList[8]]\n",
    "\n",
    "ansListUpd"
   ]
  },
  {
   "cell_type": "code",
   "execution_count": 33,
   "metadata": {},
   "outputs": [
    {
     "data": {
      "text/html": [
       "<div>\n",
       "<style scoped>\n",
       "    .dataframe tbody tr th:only-of-type {\n",
       "        vertical-align: middle;\n",
       "    }\n",
       "\n",
       "    .dataframe tbody tr th {\n",
       "        vertical-align: top;\n",
       "    }\n",
       "\n",
       "    .dataframe thead th {\n",
       "        text-align: right;\n",
       "    }\n",
       "</style>\n",
       "<table border=\"1\" class=\"dataframe\">\n",
       "  <thead>\n",
       "    <tr style=\"text-align: right;\">\n",
       "      <th></th>\n",
       "      <th>Question</th>\n",
       "      <th>https://www.autism.org.uk/advice-and-guidance/what-is-autism/asperger-syndrome</th>\n",
       "    </tr>\n",
       "  </thead>\n",
       "  <tbody>\n",
       "    <tr>\n",
       "      <th>0</th>\n",
       "      <td>How common is Asperger syndrome?</td>\n",
       "      <td>\\nAutism, including Asperger syndrome, is much...</td>\n",
       "    </tr>\n",
       "    <tr>\n",
       "      <th>1</th>\n",
       "      <td>How do people with Asperger syndrome see the w...</td>\n",
       "      <td>\\nSome people with Asperger syndrome say the w...</td>\n",
       "    </tr>\n",
       "    <tr>\n",
       "      <th>2</th>\n",
       "      <td>The benefits of an Asperger syndrome diagnosis</td>\n",
       "      <td>\\nSome people see a formal diagnosis as an unh...</td>\n",
       "    </tr>\n",
       "    <tr>\n",
       "      <th>3</th>\n",
       "      <td>How Asperger syndrome is diagnosed</td>\n",
       "      <td>\\nThe characteristics of Asperger syndrome var...</td>\n",
       "    </tr>\n",
       "    <tr>\n",
       "      <th>4</th>\n",
       "      <td>Different names and terms for autism</td>\n",
       "      <td>\\nOver the years, different diagnostic labels ...</td>\n",
       "    </tr>\n",
       "  </tbody>\n",
       "</table>\n",
       "</div>"
      ],
      "text/plain": [
       "                                            Question  \\\n",
       "0                   How common is Asperger syndrome?   \n",
       "1  How do people with Asperger syndrome see the w...   \n",
       "2     The benefits of an Asperger syndrome diagnosis   \n",
       "3                 How Asperger syndrome is diagnosed   \n",
       "4               Different names and terms for autism   \n",
       "\n",
       "  https://www.autism.org.uk/advice-and-guidance/what-is-autism/asperger-syndrome  \n",
       "0  \\nAutism, including Asperger syndrome, is much...                              \n",
       "1  \\nSome people with Asperger syndrome say the w...                              \n",
       "2  \\nSome people see a formal diagnosis as an unh...                              \n",
       "3  \\nThe characteristics of Asperger syndrome var...                              \n",
       "4  \\nOver the years, different diagnostic labels ...                              "
      ]
     },
     "execution_count": 33,
     "metadata": {},
     "output_type": "execute_result"
    }
   ],
   "source": [
    "# Create new dataframe with QA pairs\n",
    "df2 = pd.DataFrame(zip(quesListUpd,ansListUpd),columns=['Question',link])\n",
    "df2"
   ]
  },
  {
   "cell_type": "code",
   "execution_count": 34,
   "metadata": {},
   "outputs": [
    {
     "data": {
      "text/html": [
       "<div>\n",
       "<style scoped>\n",
       "    .dataframe tbody tr th:only-of-type {\n",
       "        vertical-align: middle;\n",
       "    }\n",
       "\n",
       "    .dataframe tbody tr th {\n",
       "        vertical-align: top;\n",
       "    }\n",
       "\n",
       "    .dataframe thead th {\n",
       "        text-align: right;\n",
       "    }\n",
       "</style>\n",
       "<table border=\"1\" class=\"dataframe\">\n",
       "  <thead>\n",
       "    <tr style=\"text-align: right;\">\n",
       "      <th></th>\n",
       "      <th>Question</th>\n",
       "      <th>https://birchtreecenter.org/learn/autism</th>\n",
       "      <th>https://www.myautismteam.com/resources/autism-an-overview</th>\n",
       "      <th>https://www.autism.org.uk/advice-and-guidance/what-is-autism/asperger-syndrome</th>\n",
       "    </tr>\n",
       "  </thead>\n",
       "  <tbody>\n",
       "    <tr>\n",
       "      <th>0</th>\n",
       "      <td>What are the Autism Spectrum Disorders (ASD)?</td>\n",
       "      <td>ASD refers to a wide spectrum of neurodevelopm...</td>\n",
       "      <td>NaN</td>\n",
       "      <td>NaN</td>\n",
       "    </tr>\n",
       "    <tr>\n",
       "      <th>1</th>\n",
       "      <td>How common is autism?</td>\n",
       "      <td>According to a 2020 report commissioned by the...</td>\n",
       "      <td>It is estimated that in the United States 1.6 ...</td>\n",
       "      <td>NaN</td>\n",
       "    </tr>\n",
       "    <tr>\n",
       "      <th>2</th>\n",
       "      <td>What causes autism? Can it be cured?</td>\n",
       "      <td>The causes of this complex disorder remain unc...</td>\n",
       "      <td>NaN</td>\n",
       "      <td>NaN</td>\n",
       "    </tr>\n",
       "    <tr>\n",
       "      <th>3</th>\n",
       "      <td>Is autism contagious?</td>\n",
       "      <td>NaN</td>\n",
       "      <td>Autism is not a contagious condition. Autism i...</td>\n",
       "      <td>NaN</td>\n",
       "    </tr>\n",
       "    <tr>\n",
       "      <th>4</th>\n",
       "      <td>Are rates of autism increasing?</td>\n",
       "      <td>NaN</td>\n",
       "      <td>Estimates released by the Centers for Disease ...</td>\n",
       "      <td>NaN</td>\n",
       "    </tr>\n",
       "    <tr>\n",
       "      <th>5</th>\n",
       "      <td>Is autism a new condition?</td>\n",
       "      <td>NaN</td>\n",
       "      <td>It is likely that autism has always existed, b...</td>\n",
       "      <td>NaN</td>\n",
       "    </tr>\n",
       "    <tr>\n",
       "      <th>6</th>\n",
       "      <td>Is there a cure for autism?</td>\n",
       "      <td>NaN</td>\n",
       "      <td>There is no cure for autism. However, early in...</td>\n",
       "      <td>NaN</td>\n",
       "    </tr>\n",
       "    <tr>\n",
       "      <th>7</th>\n",
       "      <td>How Is Autism Diagnosed?</td>\n",
       "      <td>NaN</td>\n",
       "      <td>There is no one single conclusive test for aut...</td>\n",
       "      <td>NaN</td>\n",
       "    </tr>\n",
       "    <tr>\n",
       "      <th>8</th>\n",
       "      <td>Is autism permanent?</td>\n",
       "      <td>NaN</td>\n",
       "      <td>There is some controversy on the topic of whet...</td>\n",
       "      <td>NaN</td>\n",
       "    </tr>\n",
       "    <tr>\n",
       "      <th>9</th>\n",
       "      <td>How Is Autism Treated?</td>\n",
       "      <td>NaN</td>\n",
       "      <td>Treatment for autism depends largely on the in...</td>\n",
       "      <td>NaN</td>\n",
       "    </tr>\n",
       "    <tr>\n",
       "      <th>10</th>\n",
       "      <td>How common is Asperger syndrome?</td>\n",
       "      <td>NaN</td>\n",
       "      <td>NaN</td>\n",
       "      <td>\\nAutism, including Asperger syndrome, is much...</td>\n",
       "    </tr>\n",
       "    <tr>\n",
       "      <th>11</th>\n",
       "      <td>Different names and terms for autism</td>\n",
       "      <td>NaN</td>\n",
       "      <td>NaN</td>\n",
       "      <td>\\nOver the years, different diagnostic labels ...</td>\n",
       "    </tr>\n",
       "    <tr>\n",
       "      <th>12</th>\n",
       "      <td>The benefits of an Asperger syndrome diagnosis</td>\n",
       "      <td>NaN</td>\n",
       "      <td>NaN</td>\n",
       "      <td>\\nSome people see a formal diagnosis as an unh...</td>\n",
       "    </tr>\n",
       "    <tr>\n",
       "      <th>13</th>\n",
       "      <td>How do people with Asperger syndrome see the w...</td>\n",
       "      <td>NaN</td>\n",
       "      <td>NaN</td>\n",
       "      <td>\\nSome people with Asperger syndrome say the w...</td>\n",
       "    </tr>\n",
       "    <tr>\n",
       "      <th>14</th>\n",
       "      <td>How Asperger syndrome is diagnosed</td>\n",
       "      <td>NaN</td>\n",
       "      <td>NaN</td>\n",
       "      <td>\\nThe characteristics of Asperger syndrome var...</td>\n",
       "    </tr>\n",
       "  </tbody>\n",
       "</table>\n",
       "</div>"
      ],
      "text/plain": [
       "                                             Question  \\\n",
       "0       What are the Autism Spectrum Disorders (ASD)?   \n",
       "1                               How common is autism?   \n",
       "2                What causes autism? Can it be cured?   \n",
       "3                               Is autism contagious?   \n",
       "4                     Are rates of autism increasing?   \n",
       "5                          Is autism a new condition?   \n",
       "6                         Is there a cure for autism?   \n",
       "7                            How Is Autism Diagnosed?   \n",
       "8                                Is autism permanent?   \n",
       "9                              How Is Autism Treated?   \n",
       "10                   How common is Asperger syndrome?   \n",
       "11               Different names and terms for autism   \n",
       "12     The benefits of an Asperger syndrome diagnosis   \n",
       "13  How do people with Asperger syndrome see the w...   \n",
       "14                 How Asperger syndrome is diagnosed   \n",
       "\n",
       "             https://birchtreecenter.org/learn/autism  \\\n",
       "0   ASD refers to a wide spectrum of neurodevelopm...   \n",
       "1   According to a 2020 report commissioned by the...   \n",
       "2   The causes of this complex disorder remain unc...   \n",
       "3                                                 NaN   \n",
       "4                                                 NaN   \n",
       "5                                                 NaN   \n",
       "6                                                 NaN   \n",
       "7                                                 NaN   \n",
       "8                                                 NaN   \n",
       "9                                                 NaN   \n",
       "10                                                NaN   \n",
       "11                                                NaN   \n",
       "12                                                NaN   \n",
       "13                                                NaN   \n",
       "14                                                NaN   \n",
       "\n",
       "   https://www.myautismteam.com/resources/autism-an-overview  \\\n",
       "0                                                 NaN          \n",
       "1   It is estimated that in the United States 1.6 ...          \n",
       "2                                                 NaN          \n",
       "3   Autism is not a contagious condition. Autism i...          \n",
       "4   Estimates released by the Centers for Disease ...          \n",
       "5   It is likely that autism has always existed, b...          \n",
       "6   There is no cure for autism. However, early in...          \n",
       "7   There is no one single conclusive test for aut...          \n",
       "8   There is some controversy on the topic of whet...          \n",
       "9   Treatment for autism depends largely on the in...          \n",
       "10                                                NaN          \n",
       "11                                                NaN          \n",
       "12                                                NaN          \n",
       "13                                                NaN          \n",
       "14                                                NaN          \n",
       "\n",
       "   https://www.autism.org.uk/advice-and-guidance/what-is-autism/asperger-syndrome  \n",
       "0                                                 NaN                              \n",
       "1                                                 NaN                              \n",
       "2                                                 NaN                              \n",
       "3                                                 NaN                              \n",
       "4                                                 NaN                              \n",
       "5                                                 NaN                              \n",
       "6                                                 NaN                              \n",
       "7                                                 NaN                              \n",
       "8                                                 NaN                              \n",
       "9                                                 NaN                              \n",
       "10  \\nAutism, including Asperger syndrome, is much...                              \n",
       "11  \\nOver the years, different diagnostic labels ...                              \n",
       "12  \\nSome people see a formal diagnosis as an unh...                              \n",
       "13  \\nSome people with Asperger syndrome say the w...                              \n",
       "14  \\nThe characteristics of Asperger syndrome var...                              "
      ]
     },
     "execution_count": 34,
     "metadata": {},
     "output_type": "execute_result"
    }
   ],
   "source": [
    "# Concatenate existing and new dataframes\n",
    "df3 = pd.concat([df,df2],axis=0)\n",
    "df3 = df3.sort_values(by=list(df3.columns[1:])).reset_index(drop=True)\n",
    "df3.head(15)"
   ]
  },
  {
   "cell_type": "markdown",
   "metadata": {},
   "source": [
    "## **Save Output**"
   ]
  },
  {
   "cell_type": "code",
   "execution_count": 35,
   "metadata": {},
   "outputs": [],
   "source": [
    "df3.to_excel('ASDquestions4.xlsx',index=False)"
   ]
  },
  {
   "cell_type": "code",
   "execution_count": null,
   "metadata": {},
   "outputs": [],
   "source": []
  }
 ],
 "metadata": {
  "colab": {
   "authorship_tag": "ABX9TyNmDRb1VZRSz0TXFXT/NDUp",
   "collapsed_sections": [],
   "name": "WebSource1.ipynb",
   "provenance": [],
   "toc_visible": true
  },
  "kernelspec": {
   "display_name": "Python 3",
   "language": "python",
   "name": "python3"
  },
  "language_info": {
   "codemirror_mode": {
    "name": "ipython",
    "version": 3
   },
   "file_extension": ".py",
   "mimetype": "text/x-python",
   "name": "python",
   "nbconvert_exporter": "python",
   "pygments_lexer": "ipython3",
   "version": "3.8.10"
  }
 },
 "nbformat": 4,
 "nbformat_minor": 1
}
