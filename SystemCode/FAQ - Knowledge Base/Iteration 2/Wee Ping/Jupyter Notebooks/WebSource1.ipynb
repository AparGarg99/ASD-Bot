{
 "cells": [
  {
   "cell_type": "markdown",
   "metadata": {
    "id": "yft4iZcyYYR_"
   },
   "source": [
    "## **Import Libraries**"
   ]
  },
  {
   "cell_type": "code",
   "execution_count": 1,
   "metadata": {
    "colab": {
     "base_uri": "https://localhost:8080/"
    },
    "executionInfo": {
     "elapsed": 8564,
     "status": "ok",
     "timestamp": 1629292234664,
     "user": {
      "displayName": "YEONG WEE PING",
      "photoUrl": "https://lh3.googleusercontent.com/a-/AOh14Ghmgv0TggS0syoXfgLyJc6u0Ltc7G9fVZkWDF0qpw=s64",
      "userId": "15227096441813273765"
     },
     "user_tz": -480
    },
    "id": "axwsr-pdYQEx",
    "outputId": "fd505411-02cc-4505-a28a-2dee95b74e4a"
   },
   "outputs": [],
   "source": [
    "#!pip install selenium\n",
    "#!pip install webdriver-manager\n",
    "#!pip install pyyaml ua-parser user-agents fake-useragent\n",
    "\n",
    "################ WEB SCRAPING MODULES ############\n",
    "from selenium import webdriver\n",
    "from webdriver_manager.firefox import GeckoDriverManager\n",
    "from webdriver_manager.chrome import ChromeDriverManager\n",
    "from webdriver_manager.utils import ChromeType\n",
    "from selenium.webdriver.common.by import By\n",
    "import bs4\n",
    "from fake_useragent import UserAgent\n",
    "import requests\n",
    "################ TIME MODLULES ###################\n",
    "import time\n",
    "from datetime import date \n",
    "import datetime\n",
    "############## DATA MANIPULATION MODULES #########\n",
    "import os\n",
    "import pandas as pd\n",
    "import numpy as np\n",
    "import re\n",
    "from nltk.corpus import stopwords"
   ]
  },
  {
   "cell_type": "code",
   "execution_count": 8,
   "metadata": {
    "colab": {
     "base_uri": "https://localhost:8080/"
    },
    "executionInfo": {
     "elapsed": 300,
     "status": "ok",
     "timestamp": 1629292237080,
     "user": {
      "displayName": "YEONG WEE PING",
      "photoUrl": "https://lh3.googleusercontent.com/a-/AOh14Ghmgv0TggS0syoXfgLyJc6u0Ltc7G9fVZkWDF0qpw=s64",
      "userId": "15227096441813273765"
     },
     "user_tz": -480
    },
    "id": "0mounm2kaq9F",
    "outputId": "d7c4385c-bc71-478c-9dcb-f4c288155bfa"
   },
   "outputs": [],
   "source": [
    "#from google.colab import drive\n",
    "#drive.mount('/content/gdrive')\n",
    "\n",
    "# Change working directory to be current folder\n",
    "# os.chdir('/content/gdrive/My Drive/Your Folder Name/Your sub Folder Name')\n",
    "#os.chdir('/content/gdrive/My Drive/iss/irs_proj/')\n",
    "#!ls"
   ]
  },
  {
   "cell_type": "markdown",
   "metadata": {
    "id": "Z6YhYUxpZrpD"
   },
   "source": [
    "## **Define web source**"
   ]
  },
  {
   "cell_type": "code",
   "execution_count": 2,
   "metadata": {
    "executionInfo": {
     "elapsed": 303,
     "status": "ok",
     "timestamp": 1629292239923,
     "user": {
      "displayName": "YEONG WEE PING",
      "photoUrl": "https://lh3.googleusercontent.com/a-/AOh14Ghmgv0TggS0syoXfgLyJc6u0Ltc7G9fVZkWDF0qpw=s64",
      "userId": "15227096441813273765"
     },
     "user_tz": -480
    },
    "id": "Zal9A48BZvc2"
   },
   "outputs": [],
   "source": [
    "link = 'https://birchtreecenter.org/learn/autism'"
   ]
  },
  {
   "cell_type": "markdown",
   "metadata": {
    "id": "OkwOUVmxaQTR"
   },
   "source": [
    "## **Read 100++ questions list**"
   ]
  },
  {
   "cell_type": "code",
   "execution_count": 3,
   "metadata": {
    "colab": {
     "base_uri": "https://localhost:8080/",
     "height": 418
    },
    "executionInfo": {
     "elapsed": 294,
     "status": "ok",
     "timestamp": 1629292241876,
     "user": {
      "displayName": "YEONG WEE PING",
      "photoUrl": "https://lh3.googleusercontent.com/a-/AOh14Ghmgv0TggS0syoXfgLyJc6u0Ltc7G9fVZkWDF0qpw=s64",
      "userId": "15227096441813273765"
     },
     "user_tz": -480
    },
    "id": "COwR75fUaXbA",
    "outputId": "8ea1f328-d2fd-43bc-ce97-41056ef333e7"
   },
   "outputs": [
    {
     "data": {
      "text/html": [
       "<div>\n",
       "<style scoped>\n",
       "    .dataframe tbody tr th:only-of-type {\n",
       "        vertical-align: middle;\n",
       "    }\n",
       "\n",
       "    .dataframe tbody tr th {\n",
       "        vertical-align: top;\n",
       "    }\n",
       "\n",
       "    .dataframe thead th {\n",
       "        text-align: right;\n",
       "    }\n",
       "</style>\n",
       "<table border=\"1\" class=\"dataframe\">\n",
       "  <thead>\n",
       "    <tr style=\"text-align: right;\">\n",
       "      <th></th>\n",
       "      <th>Question</th>\n",
       "      <th>https://birchtreecenter.org/learn/autism</th>\n",
       "    </tr>\n",
       "  </thead>\n",
       "  <tbody>\n",
       "    <tr>\n",
       "      <th>0</th>\n",
       "      <td>What is Autism?</td>\n",
       "      <td>NaN</td>\n",
       "    </tr>\n",
       "    <tr>\n",
       "      <th>1</th>\n",
       "      <td>What are the Autism Spectrum Disorders (ASD)?</td>\n",
       "      <td>NaN</td>\n",
       "    </tr>\n",
       "    <tr>\n",
       "      <th>2</th>\n",
       "      <td>What is Asperger’s Syndrome?</td>\n",
       "      <td>NaN</td>\n",
       "    </tr>\n",
       "    <tr>\n",
       "      <th>3</th>\n",
       "      <td>How can you tell Autism from Asperger’s Syndrome?</td>\n",
       "      <td>NaN</td>\n",
       "    </tr>\n",
       "    <tr>\n",
       "      <th>4</th>\n",
       "      <td>What is Pervasive Developmental Disorder – Not...</td>\n",
       "      <td>NaN</td>\n",
       "    </tr>\n",
       "    <tr>\n",
       "      <th>...</th>\n",
       "      <td>...</td>\n",
       "      <td>...</td>\n",
       "    </tr>\n",
       "    <tr>\n",
       "      <th>95</th>\n",
       "      <td>What are some ways that parents can reduce the...</td>\n",
       "      <td>NaN</td>\n",
       "    </tr>\n",
       "    <tr>\n",
       "      <th>96</th>\n",
       "      <td>Do some families deal with stress better than ...</td>\n",
       "      <td>NaN</td>\n",
       "    </tr>\n",
       "    <tr>\n",
       "      <th>97</th>\n",
       "      <td>Do siblings suffer increased stress as a resul...</td>\n",
       "      <td>NaN</td>\n",
       "    </tr>\n",
       "    <tr>\n",
       "      <th>98</th>\n",
       "      <td>What can I do about my children’s stress?</td>\n",
       "      <td>NaN</td>\n",
       "    </tr>\n",
       "    <tr>\n",
       "      <th>99</th>\n",
       "      <td>What are some resources for learning more abou...</td>\n",
       "      <td>NaN</td>\n",
       "    </tr>\n",
       "  </tbody>\n",
       "</table>\n",
       "<p>100 rows × 2 columns</p>\n",
       "</div>"
      ],
      "text/plain": [
       "                                             Question  \\\n",
       "0                                     What is Autism?   \n",
       "1       What are the Autism Spectrum Disorders (ASD)?   \n",
       "2                        What is Asperger’s Syndrome?   \n",
       "3   How can you tell Autism from Asperger’s Syndrome?   \n",
       "4   What is Pervasive Developmental Disorder – Not...   \n",
       "..                                                ...   \n",
       "95  What are some ways that parents can reduce the...   \n",
       "96  Do some families deal with stress better than ...   \n",
       "97  Do siblings suffer increased stress as a resul...   \n",
       "98          What can I do about my children’s stress?   \n",
       "99  What are some resources for learning more abou...   \n",
       "\n",
       "    https://birchtreecenter.org/learn/autism  \n",
       "0                                        NaN  \n",
       "1                                        NaN  \n",
       "2                                        NaN  \n",
       "3                                        NaN  \n",
       "4                                        NaN  \n",
       "..                                       ...  \n",
       "95                                       NaN  \n",
       "96                                       NaN  \n",
       "97                                       NaN  \n",
       "98                                       NaN  \n",
       "99                                       NaN  \n",
       "\n",
       "[100 rows x 2 columns]"
      ]
     },
     "execution_count": 3,
     "metadata": {},
     "output_type": "execute_result"
    }
   ],
   "source": [
    "df = pd.read_excel('ASDquestions.xlsx',engine='openpyxl')\n",
    "\n",
    "df[link]=np.nan\n",
    "df"
   ]
  },
  {
   "cell_type": "markdown",
   "metadata": {
    "id": "nBDwU1yMRpyZ"
   },
   "source": [
    "## **Scrape QA pairs from website**"
   ]
  },
  {
   "cell_type": "code",
   "execution_count": 4,
   "metadata": {
    "colab": {
     "base_uri": "https://localhost:8080/",
     "height": 441
    },
    "executionInfo": {
     "elapsed": 435,
     "status": "error",
     "timestamp": 1629292255064,
     "user": {
      "displayName": "YEONG WEE PING",
      "photoUrl": "https://lh3.googleusercontent.com/a-/AOh14Ghmgv0TggS0syoXfgLyJc6u0Ltc7G9fVZkWDF0qpw=s64",
      "userId": "15227096441813273765"
     },
     "user_tz": -480
    },
    "id": "TBLWmv5oRwsU",
    "outputId": "8149437d-252a-4110-c4e4-28afeab56c90"
   },
   "outputs": [
    {
     "name": "stderr",
     "output_type": "stream",
     "text": [
      "\n",
      "\n",
      "====== WebDriver manager ======\n",
      "Current google-chrome version is 92.0.4515\n",
      "Get LATEST driver version for 92.0.4515\n",
      "Driver [/home/aceirus/.wdm/drivers/chromedriver/linux64/92.0.4515.107/chromedriver] found in cache\n"
     ]
    }
   ],
   "source": [
    "# Open webpage in a new window for scraping\n",
    "#driver = webdriver.Chrome(ChromeDriverManager(chrome_type=ChromeType.GOOGLE).install())   #cannot fix in colab\n",
    "\n",
    "driver = webdriver.Chrome(ChromeDriverManager().install())\n",
    "driver.get(link)"
   ]
  },
  {
   "cell_type": "code",
   "execution_count": 8,
   "metadata": {
    "colab": {
     "base_uri": "https://localhost:8080/",
     "height": 204
    },
    "executionInfo": {
     "elapsed": 322,
     "status": "error",
     "timestamp": 1629291314302,
     "user": {
      "displayName": "YEONG WEE PING",
      "photoUrl": "https://lh3.googleusercontent.com/a-/AOh14Ghmgv0TggS0syoXfgLyJc6u0Ltc7G9fVZkWDF0qpw=s64",
      "userId": "15227096441813273765"
     },
     "user_tz": -480
    },
    "id": "YrLbD7M8R8dD",
    "outputId": "6b7fe7a0-c449-42c4-9bdd-c31a2ef9a3dc"
   },
   "outputs": [],
   "source": [
    "# Parse text in webpage\n",
    "source = driver.page_source\n",
    "soup = bs4.BeautifulSoup(source, 'html.parser')"
   ]
  },
  {
   "cell_type": "code",
   "execution_count": 9,
   "metadata": {},
   "outputs": [
    {
     "name": "stdout",
     "output_type": "stream",
     "text": [
      "What are Autism Spectrum Disorders (ASD)?\n",
      "How common is autism?\n",
      "What causes autism? Can it be cured?\n",
      "Why doesn’t The Birchtree Center refer to its students as “autistic”?\n"
     ]
    }
   ],
   "source": [
    "# Search the questions mentioned in webpage\n",
    "quesList = []\n",
    "for ques in soup.find_all('h3'):\n",
    "    print(ques.text)\n",
    "    quesList.append(ques.text)"
   ]
  },
  {
   "cell_type": "code",
   "execution_count": 18,
   "metadata": {},
   "outputs": [
    {
     "name": "stdout",
     "output_type": "stream",
     "text": [
      "ASD refers to a wide spectrum of neurodevelopmental disorders that affect communication, behavior, and social interaction.\n",
      "****************************************************************************************************\n",
      "Children with ASD have delayed or absent communication skills and may demonstrate repetitive or idiosyncratic use of language.  They often have underdeveloped play skills and may engage in repetitive behaviors or adhere to rigid routines.\n",
      "****************************************************************************************************\n",
      "For more information about the warning signs for autism, visit the U.S. Centers for Disease Control and Prevention website at www.cdc.gov/actearly.\n",
      "****************************************************************************************************\n",
      "According to a 2020 report commissioned by the U.S. Centers for Disease Control and Prevention, approximately one in 54 American children has been diagnosed with autism or a closely related neurodevelopmental disorder—a dramatic increase over the past decade.\n",
      "****************************************************************************************************\n",
      "The causes of this complex disorder remain uncertain. Instructional methods such as Applied Behavior Analysis have proven effective in helping individuals with autism learn to overcome many of the challenges that autism presents. These interventions have proven particularly effective when started during the first several years of a child’s life. For more information about recent research into the causes of and treatments for autism, visit the Autism Speaks website at http://www.autismspeaks.org/science.\n",
      "****************************************************************************************************\n",
      "Our students are children or youth who are challenged by autism—but not defined by it. “Oh, he’s autistic!” is quite different than “Oh, that’s Charlie; he has autism.”  That’s why we encourage everyone to refer to our students as “children and youth with autism.”\n",
      "****************************************************************************************************\n",
      "For tips for families living with autism, click here.\n",
      "****************************************************************************************************\n",
      "User Login\n",
      "****************************************************************************************************\n"
     ]
    }
   ],
   "source": [
    "# Search the answers for questions\n",
    "ansList = []\n",
    "for ans in soup.find_all('p'):\n",
    "\n",
    "    print(ans.text)\n",
    "    print('*'*100)\n",
    "    ansList.append(ans.text)"
   ]
  },
  {
   "cell_type": "markdown",
   "metadata": {},
   "source": [
    "## **Check which questions are similar**"
   ]
  },
  {
   "cell_type": "code",
   "execution_count": 10,
   "metadata": {},
   "outputs": [],
   "source": [
    "stop_words = set(stopwords.words('english'))\n",
    "\n",
    "def clean_text(sent):\n",
    "    sent = sent.lower() # lowercase\n",
    "    sent = re.sub(r'[^\\w\\s]', '', sent) # remove punctuations\n",
    "    sent = re.sub('Autism Spectrum Disorder','ASD',sent) # Compress term\n",
    "    sent = [w for w in sent.split() if not w.lower() in stop_words] # Remove stopwords\n",
    "    sent = \" \".join(sent)\n",
    "    return sent"
   ]
  },
  {
   "cell_type": "code",
   "execution_count": 11,
   "metadata": {},
   "outputs": [],
   "source": [
    "def jaccard_similarity(list1, list2):\n",
    "    s1 = set(list1)\n",
    "    s2 = set(list2)\n",
    "    return float(len(s1.intersection(s2)) / len(s1.union(s2)))"
   ]
  },
  {
   "cell_type": "code",
   "execution_count": 12,
   "metadata": {},
   "outputs": [
    {
     "name": "stdout",
     "output_type": "stream",
     "text": [
      "Website -->  What are Autism Spectrum Disorders (ASD)? (Index 0)\n",
      "100 questions list -->  What are the Autism Spectrum Disorders (ASD)? (Index 1)\n",
      "similarity: 1.0\n",
      "****************************************************************************************************\n",
      "Website -->  How common is autism? (Index 1)\n",
      "100 questions list -->  What is Autism? (Index 0)\n",
      "similarity: 0.5\n",
      "****************************************************************************************************\n",
      "Website -->  What causes autism? Can it be cured? (Index 2)\n",
      "100 questions list -->  What is Autism? (Index 0)\n",
      "similarity: 0.3333333333333333\n",
      "****************************************************************************************************\n"
     ]
    }
   ],
   "source": [
    "# try to match websource questions with our own 100 questions list\n",
    "for c1,i in enumerate(quesList):\n",
    "    i2 = clean_text(i)\n",
    "    list1 = i2.split()\n",
    "    \n",
    "    temp1 = 0.0\n",
    "    temp2 = ''\n",
    "    temp3 = ''\n",
    "    temp4 = 0\n",
    "    \n",
    "    for c2,j in enumerate(df['Question']):\n",
    "        j2 = clean_text(j)\n",
    "        list2 = j2.split()\n",
    "            \n",
    "        sim = jaccard_similarity(list1, list2)\n",
    "        \n",
    "        if(sim>temp1):\n",
    "            temp1 = sim\n",
    "            temp2 = j\n",
    "            temp3 = i\n",
    "            temp4 = c2\n",
    "            \n",
    "    if(temp1>=0.3):  # sim threshold\n",
    "        print('Website --> ',temp3,'(Index {})'.format(c1))\n",
    "        print('100 questions list --> ',temp2,'(Index {})'.format(temp4))\n",
    "        print('similarity:', temp1)\n",
    "        print('*'*100)"
   ]
  },
  {
   "cell_type": "code",
   "execution_count": 16,
   "metadata": {},
   "outputs": [
    {
     "name": "stdout",
     "output_type": "stream",
     "text": [
      "Index #0: What are Autism Spectrum Disorders (ASD)?\n",
      "Index #1: How common is autism?\n",
      "Index #2: What causes autism? Can it be cured?\n",
      "Index #3: Why doesn’t The Birchtree Center refer to its students as “autistic”?\n"
     ]
    }
   ],
   "source": [
    "for i in range (0,len(quesList)):\n",
    "    print(\"Index #{0:d}: {1:s}\".format(i,quesList[i]))"
   ]
  },
  {
   "cell_type": "code",
   "execution_count": 19,
   "metadata": {},
   "outputs": [
    {
     "name": "stdout",
     "output_type": "stream",
     "text": [
      "Index #0: ASD refers to a wide spectrum of neurodevelopmental disorders that affect communication, behavior, and social interaction.\n",
      "Index #1: Children with ASD have delayed or absent communication skills and may demonstrate repetitive or idiosyncratic use of language.  They often have underdeveloped play skills and may engage in repetitive behaviors or adhere to rigid routines.\n",
      "Index #2: For more information about the warning signs for autism, visit the U.S. Centers for Disease Control and Prevention website at www.cdc.gov/actearly.\n",
      "Index #3: According to a 2020 report commissioned by the U.S. Centers for Disease Control and Prevention, approximately one in 54 American children has been diagnosed with autism or a closely related neurodevelopmental disorder—a dramatic increase over the past decade.\n",
      "Index #4: The causes of this complex disorder remain uncertain. Instructional methods such as Applied Behavior Analysis have proven effective in helping individuals with autism learn to overcome many of the challenges that autism presents. These interventions have proven particularly effective when started during the first several years of a child’s life. For more information about recent research into the causes of and treatments for autism, visit the Autism Speaks website at http://www.autismspeaks.org/science.\n",
      "Index #5: Our students are children or youth who are challenged by autism—but not defined by it. “Oh, he’s autistic!” is quite different than “Oh, that’s Charlie; he has autism.”  That’s why we encourage everyone to refer to our students as “children and youth with autism.”\n",
      "Index #6: For tips for families living with autism, click here.\n",
      "Index #7: User Login\n"
     ]
    }
   ],
   "source": [
    "for i in range (0,len(ansList)):\n",
    "    print(\"Index #{0:d}: {1:s}\".format(i,ansList[i]))"
   ]
  },
  {
   "cell_type": "code",
   "execution_count": 20,
   "metadata": {},
   "outputs": [
    {
     "name": "stderr",
     "output_type": "stream",
     "text": [
      "/home/aceirus/.local/lib/python3.8/site-packages/pandas/core/indexing.py:1732: SettingWithCopyWarning: \n",
      "A value is trying to be set on a copy of a slice from a DataFrame\n",
      "\n",
      "See the caveats in the documentation: https://pandas.pydata.org/pandas-docs/stable/user_guide/indexing.html#returning-a-view-versus-a-copy\n",
      "  self._setitem_single_block(indexer, value, name)\n"
     ]
    }
   ],
   "source": [
    "# add websource answer to matched question in existing dataframe\n",
    "df[link].loc[1]=ansList[0] + \" \" + ansList[1] + \" \" + ansList[2]"
   ]
  },
  {
   "cell_type": "code",
   "execution_count": 21,
   "metadata": {},
   "outputs": [
    {
     "data": {
      "text/plain": [
       "'ASD refers to a wide spectrum of neurodevelopmental disorders that affect communication, behavior, and social interaction. Children with ASD have delayed or absent communication skills and may demonstrate repetitive or idiosyncratic use of language.\\xa0 They often have underdeveloped play skills and may engage in repetitive behaviors or adhere to rigid routines. For more information about the warning signs for autism, visit the U.S. Centers for Disease Control and Prevention website at www.cdc.gov/actearly.'"
      ]
     },
     "execution_count": 21,
     "metadata": {},
     "output_type": "execute_result"
    }
   ],
   "source": [
    "df[link].loc[1]"
   ]
  },
  {
   "cell_type": "code",
   "execution_count": 22,
   "metadata": {},
   "outputs": [
    {
     "data": {
      "text/plain": [
       "['How common is autism?', 'What causes autism? Can it be cured?']"
      ]
     },
     "execution_count": 22,
     "metadata": {},
     "output_type": "execute_result"
    }
   ],
   "source": [
    "# update with new valid questions list\n",
    "quesListUpd = quesList[1:3]\n",
    "quesListUpd"
   ]
  },
  {
   "cell_type": "code",
   "execution_count": 23,
   "metadata": {},
   "outputs": [
    {
     "data": {
      "text/plain": [
       "['According to a 2020 report commissioned by the U.S. Centers for Disease Control and Prevention, approximately one in 54 American children has been diagnosed with autism or a closely related neurodevelopmental disorder—a dramatic increase over the past decade.',\n",
       " 'The causes of this complex disorder remain uncertain. Instructional methods such as Applied Behavior Analysis have proven effective in helping individuals with autism learn to overcome many of the challenges that autism presents. These interventions have proven particularly effective when started during the first several years of a child’s life. For more information about recent research into the causes of and treatments for autism, visit the Autism Speaks website at http://www.autismspeaks.org/science.']"
      ]
     },
     "execution_count": 23,
     "metadata": {},
     "output_type": "execute_result"
    }
   ],
   "source": [
    "# manually select answers to updated questions list\n",
    "ansListUpd = [ansList[3],\n",
    "              ansList[4]]\n",
    "ansListUpd"
   ]
  },
  {
   "cell_type": "code",
   "execution_count": 24,
   "metadata": {},
   "outputs": [
    {
     "data": {
      "text/html": [
       "<div>\n",
       "<style scoped>\n",
       "    .dataframe tbody tr th:only-of-type {\n",
       "        vertical-align: middle;\n",
       "    }\n",
       "\n",
       "    .dataframe tbody tr th {\n",
       "        vertical-align: top;\n",
       "    }\n",
       "\n",
       "    .dataframe thead th {\n",
       "        text-align: right;\n",
       "    }\n",
       "</style>\n",
       "<table border=\"1\" class=\"dataframe\">\n",
       "  <thead>\n",
       "    <tr style=\"text-align: right;\">\n",
       "      <th></th>\n",
       "      <th>Question</th>\n",
       "      <th>https://birchtreecenter.org/learn/autism</th>\n",
       "    </tr>\n",
       "  </thead>\n",
       "  <tbody>\n",
       "    <tr>\n",
       "      <th>0</th>\n",
       "      <td>How common is autism?</td>\n",
       "      <td>According to a 2020 report commissioned by the...</td>\n",
       "    </tr>\n",
       "    <tr>\n",
       "      <th>1</th>\n",
       "      <td>What causes autism? Can it be cured?</td>\n",
       "      <td>The causes of this complex disorder remain unc...</td>\n",
       "    </tr>\n",
       "  </tbody>\n",
       "</table>\n",
       "</div>"
      ],
      "text/plain": [
       "                               Question  \\\n",
       "0                 How common is autism?   \n",
       "1  What causes autism? Can it be cured?   \n",
       "\n",
       "            https://birchtreecenter.org/learn/autism  \n",
       "0  According to a 2020 report commissioned by the...  \n",
       "1  The causes of this complex disorder remain unc...  "
      ]
     },
     "execution_count": 24,
     "metadata": {},
     "output_type": "execute_result"
    }
   ],
   "source": [
    "# Create new dataframe with QA pairs\n",
    "df2 = pd.DataFrame(zip(quesListUpd,ansListUpd),columns=['Question',link])\n",
    "df2"
   ]
  },
  {
   "cell_type": "code",
   "execution_count": 28,
   "metadata": {},
   "outputs": [
    {
     "data": {
      "text/html": [
       "<div>\n",
       "<style scoped>\n",
       "    .dataframe tbody tr th:only-of-type {\n",
       "        vertical-align: middle;\n",
       "    }\n",
       "\n",
       "    .dataframe tbody tr th {\n",
       "        vertical-align: top;\n",
       "    }\n",
       "\n",
       "    .dataframe thead th {\n",
       "        text-align: right;\n",
       "    }\n",
       "</style>\n",
       "<table border=\"1\" class=\"dataframe\">\n",
       "  <thead>\n",
       "    <tr style=\"text-align: right;\">\n",
       "      <th></th>\n",
       "      <th>Question</th>\n",
       "      <th>https://birchtreecenter.org/learn/autism</th>\n",
       "    </tr>\n",
       "  </thead>\n",
       "  <tbody>\n",
       "    <tr>\n",
       "      <th>0</th>\n",
       "      <td>What are the Autism Spectrum Disorders (ASD)?</td>\n",
       "      <td>ASD refers to a wide spectrum of neurodevelopm...</td>\n",
       "    </tr>\n",
       "    <tr>\n",
       "      <th>1</th>\n",
       "      <td>How common is autism?</td>\n",
       "      <td>According to a 2020 report commissioned by the...</td>\n",
       "    </tr>\n",
       "    <tr>\n",
       "      <th>2</th>\n",
       "      <td>What causes autism? Can it be cured?</td>\n",
       "      <td>The causes of this complex disorder remain unc...</td>\n",
       "    </tr>\n",
       "    <tr>\n",
       "      <th>3</th>\n",
       "      <td>What is Autism?</td>\n",
       "      <td>NaN</td>\n",
       "    </tr>\n",
       "    <tr>\n",
       "      <th>4</th>\n",
       "      <td>What is Asperger’s Syndrome?</td>\n",
       "      <td>NaN</td>\n",
       "    </tr>\n",
       "    <tr>\n",
       "      <th>...</th>\n",
       "      <td>...</td>\n",
       "      <td>...</td>\n",
       "    </tr>\n",
       "    <tr>\n",
       "      <th>97</th>\n",
       "      <td>What are some ways that parents can reduce the...</td>\n",
       "      <td>NaN</td>\n",
       "    </tr>\n",
       "    <tr>\n",
       "      <th>98</th>\n",
       "      <td>Do some families deal with stress better than ...</td>\n",
       "      <td>NaN</td>\n",
       "    </tr>\n",
       "    <tr>\n",
       "      <th>99</th>\n",
       "      <td>Do siblings suffer increased stress as a resul...</td>\n",
       "      <td>NaN</td>\n",
       "    </tr>\n",
       "    <tr>\n",
       "      <th>100</th>\n",
       "      <td>What can I do about my children’s stress?</td>\n",
       "      <td>NaN</td>\n",
       "    </tr>\n",
       "    <tr>\n",
       "      <th>101</th>\n",
       "      <td>What are some resources for learning more abou...</td>\n",
       "      <td>NaN</td>\n",
       "    </tr>\n",
       "  </tbody>\n",
       "</table>\n",
       "<p>102 rows × 2 columns</p>\n",
       "</div>"
      ],
      "text/plain": [
       "                                              Question  \\\n",
       "0        What are the Autism Spectrum Disorders (ASD)?   \n",
       "1                                How common is autism?   \n",
       "2                 What causes autism? Can it be cured?   \n",
       "3                                      What is Autism?   \n",
       "4                         What is Asperger’s Syndrome?   \n",
       "..                                                 ...   \n",
       "97   What are some ways that parents can reduce the...   \n",
       "98   Do some families deal with stress better than ...   \n",
       "99   Do siblings suffer increased stress as a resul...   \n",
       "100          What can I do about my children’s stress?   \n",
       "101  What are some resources for learning more abou...   \n",
       "\n",
       "              https://birchtreecenter.org/learn/autism  \n",
       "0    ASD refers to a wide spectrum of neurodevelopm...  \n",
       "1    According to a 2020 report commissioned by the...  \n",
       "2    The causes of this complex disorder remain unc...  \n",
       "3                                                  NaN  \n",
       "4                                                  NaN  \n",
       "..                                                 ...  \n",
       "97                                                 NaN  \n",
       "98                                                 NaN  \n",
       "99                                                 NaN  \n",
       "100                                                NaN  \n",
       "101                                                NaN  \n",
       "\n",
       "[102 rows x 2 columns]"
      ]
     },
     "execution_count": 28,
     "metadata": {},
     "output_type": "execute_result"
    }
   ],
   "source": [
    "# Concatenate existing and new dataframes\n",
    "df3 = pd.concat([df,df2],axis=0)\n",
    "df3 = df3.sort_values(by=list(df3.columns[1:])).reset_index(drop=True)\n",
    "df3"
   ]
  },
  {
   "cell_type": "markdown",
   "metadata": {},
   "source": [
    "## **Save Output**"
   ]
  },
  {
   "cell_type": "code",
   "execution_count": 27,
   "metadata": {},
   "outputs": [],
   "source": [
    "df3.to_excel('ASDquestions1.xlsx',index=False)"
   ]
  }
 ],
 "metadata": {
  "colab": {
   "authorship_tag": "ABX9TyNmDRb1VZRSz0TXFXT/NDUp",
   "collapsed_sections": [],
   "name": "WebSource1.ipynb",
   "provenance": [],
   "toc_visible": true
  },
  "kernelspec": {
   "display_name": "Python 3",
   "language": "python",
   "name": "python3"
  },
  "language_info": {
   "codemirror_mode": {
    "name": "ipython",
    "version": 3
   },
   "file_extension": ".py",
   "mimetype": "text/x-python",
   "name": "python",
   "nbconvert_exporter": "python",
   "pygments_lexer": "ipython3",
   "version": "3.8.10"
  }
 },
 "nbformat": 4,
 "nbformat_minor": 1
}
