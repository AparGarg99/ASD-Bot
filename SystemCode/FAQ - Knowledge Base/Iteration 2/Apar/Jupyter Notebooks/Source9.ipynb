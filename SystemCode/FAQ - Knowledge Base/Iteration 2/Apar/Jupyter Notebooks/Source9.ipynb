{
 "cells": [
  {
   "cell_type": "markdown",
   "id": "fa4ce988",
   "metadata": {},
   "source": [
    "# Import Libraries"
   ]
  },
  {
   "cell_type": "code",
   "execution_count": 1,
   "id": "ff207f11",
   "metadata": {},
   "outputs": [],
   "source": [
    "################ WEB SCRAPING MODULES ############\n",
    "from selenium import webdriver\n",
    "from webdriver_manager.chrome import ChromeDriverManager\n",
    "from selenium.webdriver.common.by import By\n",
    "import bs4\n",
    "from fake_useragent import UserAgent\n",
    "import requests\n",
    "################ TIME MODLULES ###################\n",
    "import time\n",
    "from datetime import date \n",
    "import datetime\n",
    "############## DATA MANIPULATION MODULES #########\n",
    "import pandas as pd\n",
    "import numpy as np\n",
    "import re\n",
    "from nltk.corpus import stopwords\n",
    "import os"
   ]
  },
  {
   "cell_type": "markdown",
   "id": "afa3a887",
   "metadata": {},
   "source": [
    "# Define Source"
   ]
  },
  {
   "cell_type": "code",
   "execution_count": 2,
   "id": "ebfc9440",
   "metadata": {},
   "outputs": [],
   "source": [
    "link = 'https://www.nimh.nih.gov/health/topics/autism-spectrum-disorders-asd'"
   ]
  },
  {
   "cell_type": "markdown",
   "id": "4f8f2ef9",
   "metadata": {},
   "source": [
    "# Read 100 questions list"
   ]
  },
  {
   "cell_type": "code",
   "execution_count": 3,
   "id": "5fb8f7ba",
   "metadata": {},
   "outputs": [
    {
     "name": "stdout",
     "output_type": "stream",
     "text": [
      "Excel/Source8.xlsx\n"
     ]
    },
    {
     "data": {
      "text/html": [
       "<div>\n",
       "<style scoped>\n",
       "    .dataframe tbody tr th:only-of-type {\n",
       "        vertical-align: middle;\n",
       "    }\n",
       "\n",
       "    .dataframe tbody tr th {\n",
       "        vertical-align: top;\n",
       "    }\n",
       "\n",
       "    .dataframe thead th {\n",
       "        text-align: right;\n",
       "    }\n",
       "</style>\n",
       "<table border=\"1\" class=\"dataframe\">\n",
       "  <thead>\n",
       "    <tr style=\"text-align: right;\">\n",
       "      <th></th>\n",
       "      <th>Question</th>\n",
       "      <th>https://autismnavigator.com/what-is-autism/</th>\n",
       "      <th>https://www.autism.org/is-it-autism/</th>\n",
       "      <th>https://www.autism.org/advice-for-parents/</th>\n",
       "      <th>https://www.autism.org/symptoms-of-autism/</th>\n",
       "      <th>https://www.autism.org/autism-prognosis/</th>\n",
       "      <th>https://autismcanada.org/autism-explained/</th>\n",
       "      <th>https://autismcanada.org/autism-explained/cooccurring-conditions/</th>\n",
       "      <th>https://autismcanada.org/autism-explained/screening-tools/</th>\n",
       "      <th>https://www.who.int/news-room/q-a-detail/autism-spectrum-disorders-(asd)</th>\n",
       "      <th>https://www.healthychildren.org/English/health-issues/conditions/Autism/Pages/default.aspx</th>\n",
       "      <th>https://www.ninds.nih.gov/Disorders/Patient-Caregiver-Education/Fact-Sheets/Autism-Spectrum-Disorder-Fact-Sheet#3082_5</th>\n",
       "      <th>https://www.mayoclinic.org/diseases-conditions/autism-spectrum-disorder/symptoms-causes/syc-20352928</th>\n",
       "      <th>https://www.mayoclinic.org/diseases-conditions/autism-spectrum-disorder/diagnosis-treatment/drc-20352934</th>\n",
       "      <th>https://www.necc.org/wp-content/uploads/2015/08/AutismFAQ.pdf</th>\n",
       "      <th>https://www.nimh.nih.gov/health/topics/autism-spectrum-disorders-asd</th>\n",
       "    </tr>\n",
       "  </thead>\n",
       "  <tbody>\n",
       "    <tr>\n",
       "      <th>0</th>\n",
       "      <td>What are the Autism Spectrum Disorders (ASD)?</td>\n",
       "      <td>Autism spectrum disorder (ASD) is a neurodevel...</td>\n",
       "      <td>NaN</td>\n",
       "      <td>NaN</td>\n",
       "      <td>NaN</td>\n",
       "      <td>NaN</td>\n",
       "      <td>NaN</td>\n",
       "      <td>NaN</td>\n",
       "      <td>NaN</td>\n",
       "      <td>Autism spectrum disorders (ASD) are a group of...</td>\n",
       "      <td>NaN</td>\n",
       "      <td>NaN</td>\n",
       "      <td>OverviewAutism spectrum disorder is a conditio...</td>\n",
       "      <td>NaN</td>\n",
       "      <td>NaN</td>\n",
       "      <td>NaN</td>\n",
       "    </tr>\n",
       "    <tr>\n",
       "      <th>1</th>\n",
       "      <td>How is ASD diagnosed?</td>\n",
       "      <td>Diagnosing ASD can be difficult because there ...</td>\n",
       "      <td>NaN</td>\n",
       "      <td>Possible symptoms of autism may be observed by...</td>\n",
       "      <td>NaN</td>\n",
       "      <td>NaN</td>\n",
       "      <td>https://autismcanada.org/autism-explained/diag...</td>\n",
       "      <td>NaN</td>\n",
       "      <td>NaN</td>\n",
       "      <td>NaN</td>\n",
       "      <td>It would be so much easier if \\n   autism spec...</td>\n",
       "      <td>\\nASD symptoms can vary greatly from person to...</td>\n",
       "      <td>NaN</td>\n",
       "      <td>DiagnosisYour child's doctor will look for sig...</td>\n",
       "      <td>NaN</td>\n",
       "      <td>NaN</td>\n",
       "    </tr>\n",
       "    <tr>\n",
       "      <th>2</th>\n",
       "      <td>What are early red flags of ASD in toddlers?</td>\n",
       "      <td>The diagnostic features of ASD can be easy to ...</td>\n",
       "      <td>NaN</td>\n",
       "      <td>NaN</td>\n",
       "      <td>NaN</td>\n",
       "      <td>NaN</td>\n",
       "      <td>NaN</td>\n",
       "      <td>NaN</td>\n",
       "      <td>NaN</td>\n",
       "      <td>NaN</td>\n",
       "      <td>​Many children with \\n   autism spectrum disor...</td>\n",
       "      <td>NaN</td>\n",
       "      <td>NaN</td>\n",
       "      <td>NaN</td>\n",
       "      <td>NaN</td>\n",
       "      <td>NaN</td>\n",
       "    </tr>\n",
       "    <tr>\n",
       "      <th>3</th>\n",
       "      <td>What are 16 early signs of autism by 16 months?</td>\n",
       "      <td>The early signs of autism are easy to miss. Au...</td>\n",
       "      <td>NaN</td>\n",
       "      <td>Autism develops sometime during pregnancy and ...</td>\n",
       "      <td>NaN</td>\n",
       "      <td>NaN</td>\n",
       "      <td>NaN</td>\n",
       "      <td>NaN</td>\n",
       "      <td>NaN</td>\n",
       "      <td>NaN</td>\n",
       "      <td>NaN</td>\n",
       "      <td>NaN</td>\n",
       "      <td>NaN</td>\n",
       "      <td>NaN</td>\n",
       "      <td>NaN</td>\n",
       "      <td>NaN</td>\n",
       "    </tr>\n",
       "    <tr>\n",
       "      <th>4</th>\n",
       "      <td>What is Autism?</td>\n",
       "      <td>NaN</td>\n",
       "      <td>Autism Spectrum Disorder (ASD) is a developmen...</td>\n",
       "      <td>Autism is a developmental disability that typi...</td>\n",
       "      <td>NaN</td>\n",
       "      <td>Autism is a neurodevelopmental disorder that b...</td>\n",
       "      <td>Autism Spectrum Disorder, or autism, is a neur...</td>\n",
       "      <td>NaN</td>\n",
       "      <td>NaN</td>\n",
       "      <td>NaN</td>\n",
       "      <td>NaN</td>\n",
       "      <td>\\nAutism spectrum disorder (ASD) refers to a g...</td>\n",
       "      <td>NaN</td>\n",
       "      <td>NaN</td>\n",
       "      <td>NaN</td>\n",
       "      <td>NaN</td>\n",
       "    </tr>\n",
       "  </tbody>\n",
       "</table>\n",
       "</div>"
      ],
      "text/plain": [
       "                                          Question  \\\n",
       "0    What are the Autism Spectrum Disorders (ASD)?   \n",
       "1                            How is ASD diagnosed?   \n",
       "2     What are early red flags of ASD in toddlers?   \n",
       "3  What are 16 early signs of autism by 16 months?   \n",
       "4                                  What is Autism?   \n",
       "\n",
       "         https://autismnavigator.com/what-is-autism/  \\\n",
       "0  Autism spectrum disorder (ASD) is a neurodevel...   \n",
       "1  Diagnosing ASD can be difficult because there ...   \n",
       "2  The diagnostic features of ASD can be easy to ...   \n",
       "3  The early signs of autism are easy to miss. Au...   \n",
       "4                                                NaN   \n",
       "\n",
       "                https://www.autism.org/is-it-autism/  \\\n",
       "0                                                NaN   \n",
       "1                                                NaN   \n",
       "2                                                NaN   \n",
       "3                                                NaN   \n",
       "4  Autism Spectrum Disorder (ASD) is a developmen...   \n",
       "\n",
       "          https://www.autism.org/advice-for-parents/  \\\n",
       "0                                                NaN   \n",
       "1  Possible symptoms of autism may be observed by...   \n",
       "2                                                NaN   \n",
       "3  Autism develops sometime during pregnancy and ...   \n",
       "4  Autism is a developmental disability that typi...   \n",
       "\n",
       "  https://www.autism.org/symptoms-of-autism/  \\\n",
       "0                                        NaN   \n",
       "1                                        NaN   \n",
       "2                                        NaN   \n",
       "3                                        NaN   \n",
       "4                                        NaN   \n",
       "\n",
       "            https://www.autism.org/autism-prognosis/  \\\n",
       "0                                                NaN   \n",
       "1                                                NaN   \n",
       "2                                                NaN   \n",
       "3                                                NaN   \n",
       "4  Autism is a neurodevelopmental disorder that b...   \n",
       "\n",
       "          https://autismcanada.org/autism-explained/  \\\n",
       "0                                                NaN   \n",
       "1  https://autismcanada.org/autism-explained/diag...   \n",
       "2                                                NaN   \n",
       "3                                                NaN   \n",
       "4  Autism Spectrum Disorder, or autism, is a neur...   \n",
       "\n",
       "  https://autismcanada.org/autism-explained/cooccurring-conditions/  \\\n",
       "0                                                NaN                  \n",
       "1                                                NaN                  \n",
       "2                                                NaN                  \n",
       "3                                                NaN                  \n",
       "4                                                NaN                  \n",
       "\n",
       "  https://autismcanada.org/autism-explained/screening-tools/  \\\n",
       "0                                                NaN           \n",
       "1                                                NaN           \n",
       "2                                                NaN           \n",
       "3                                                NaN           \n",
       "4                                                NaN           \n",
       "\n",
       "  https://www.who.int/news-room/q-a-detail/autism-spectrum-disorders-(asd)  \\\n",
       "0  Autism spectrum disorders (ASD) are a group of...                         \n",
       "1                                                NaN                         \n",
       "2                                                NaN                         \n",
       "3                                                NaN                         \n",
       "4                                                NaN                         \n",
       "\n",
       "  https://www.healthychildren.org/English/health-issues/conditions/Autism/Pages/default.aspx  \\\n",
       "0                                                NaN                                           \n",
       "1  It would be so much easier if \\n   autism spec...                                           \n",
       "2  ​Many children with \\n   autism spectrum disor...                                           \n",
       "3                                                NaN                                           \n",
       "4                                                NaN                                           \n",
       "\n",
       "  https://www.ninds.nih.gov/Disorders/Patient-Caregiver-Education/Fact-Sheets/Autism-Spectrum-Disorder-Fact-Sheet#3082_5  \\\n",
       "0                                                NaN                                                                       \n",
       "1  \\nASD symptoms can vary greatly from person to...                                                                       \n",
       "2                                                NaN                                                                       \n",
       "3                                                NaN                                                                       \n",
       "4  \\nAutism spectrum disorder (ASD) refers to a g...                                                                       \n",
       "\n",
       "  https://www.mayoclinic.org/diseases-conditions/autism-spectrum-disorder/symptoms-causes/syc-20352928  \\\n",
       "0  OverviewAutism spectrum disorder is a conditio...                                                     \n",
       "1                                                NaN                                                     \n",
       "2                                                NaN                                                     \n",
       "3                                                NaN                                                     \n",
       "4                                                NaN                                                     \n",
       "\n",
       "  https://www.mayoclinic.org/diseases-conditions/autism-spectrum-disorder/diagnosis-treatment/drc-20352934  \\\n",
       "0                                                NaN                                                         \n",
       "1  DiagnosisYour child's doctor will look for sig...                                                         \n",
       "2                                                NaN                                                         \n",
       "3                                                NaN                                                         \n",
       "4                                                NaN                                                         \n",
       "\n",
       "  https://www.necc.org/wp-content/uploads/2015/08/AutismFAQ.pdf  \\\n",
       "0                                                NaN              \n",
       "1                                                NaN              \n",
       "2                                                NaN              \n",
       "3                                                NaN              \n",
       "4                                                NaN              \n",
       "\n",
       "   https://www.nimh.nih.gov/health/topics/autism-spectrum-disorders-asd  \n",
       "0                                                NaN                     \n",
       "1                                                NaN                     \n",
       "2                                                NaN                     \n",
       "3                                                NaN                     \n",
       "4                                                NaN                     "
      ]
     },
     "execution_count": 3,
     "metadata": {},
     "output_type": "execute_result"
    }
   ],
   "source": [
    "file = 'Excel/' + os.listdir('Excel')[-1]\n",
    "print(file)\n",
    "df = pd.read_excel(file,engine='openpyxl')\n",
    "\n",
    "df[link]=np.nan\n",
    "df.head()"
   ]
  },
  {
   "cell_type": "markdown",
   "id": "06cc4415",
   "metadata": {},
   "source": [
    "# Scrape QA pairs from website"
   ]
  },
  {
   "cell_type": "code",
   "execution_count": 4,
   "id": "25ea70af",
   "metadata": {},
   "outputs": [
    {
     "name": "stderr",
     "output_type": "stream",
     "text": [
      "\n",
      "\n",
      "====== WebDriver manager ======\n",
      "Current google-chrome version is 92.0.4515\n",
      "Get LATEST driver version for 92.0.4515\n",
      "Driver [C:\\Users\\aparg\\.wdm\\drivers\\chromedriver\\win32\\92.0.4515.107\\chromedriver.exe] found in cache\n"
     ]
    }
   ],
   "source": [
    "# Open webpage in a new window\n",
    "driver = webdriver.Chrome(ChromeDriverManager().install())\n",
    "driver.get(link)"
   ]
  },
  {
   "cell_type": "code",
   "execution_count": 5,
   "id": "c652775d",
   "metadata": {},
   "outputs": [],
   "source": [
    "# Parse text in webpage\n",
    "source = driver.page_source\n",
    "soup = bs4.BeautifulSoup(source, 'html.parser')"
   ]
  },
  {
   "cell_type": "code",
   "execution_count": 21,
   "id": "51d9c7b1",
   "metadata": {},
   "outputs": [],
   "source": [
    "l1=[]\n",
    "l2 = []\n",
    "for i in soup.find_all('section',{'data-cms-anchor':'1'}):\n",
    "    ques = i.find('h2').text\n",
    "    ans = i.text\n",
    "    l1.append(ques)\n",
    "    l2.append(ans)"
   ]
  },
  {
   "cell_type": "code",
   "execution_count": 22,
   "id": "561087b0",
   "metadata": {},
   "outputs": [],
   "source": [
    "l1 = l1[:-2]\n",
    "l2 = l2[:-2]"
   ]
  },
  {
   "cell_type": "code",
   "execution_count": 23,
   "id": "bc6c6125",
   "metadata": {},
   "outputs": [
    {
     "data": {
      "text/plain": [
       "(5, 5)"
      ]
     },
     "execution_count": 23,
     "metadata": {},
     "output_type": "execute_result"
    }
   ],
   "source": [
    "len(l1),len(l2)"
   ]
  },
  {
   "cell_type": "code",
   "execution_count": 24,
   "id": "d30d3f84",
   "metadata": {
    "scrolled": false
   },
   "outputs": [
    {
     "name": "stdout",
     "output_type": "stream",
     "text": [
      "0 Overview\n",
      "--------------------------------------------------\n",
      "\n",
      "Overview\n",
      "\n",
      "Autism spectrum disorder (ASD) is a developmental disorder that affects communication and behavior. Although autism can be diagnosed at any age, it is said to be a “developmental disorder” because symptoms generally appear in the first two years of life.\n",
      "According to the Diagnostic and Statistical Manual of Mental Disorders (DSM-5), a guide created by the American Psychiatric Association used to diagnose mental disorders, people with ASD have:\n",
      "Difficulty with communication and interaction with other people\n",
      "Restricted interests and repetitive behaviors\n",
      "Symptoms that hurt the person’s ability to function properly in school, work, and other areas of life\n",
      "Autism is known as a “spectrum” disorder because there is wide variation in the type and severity of symptoms people experience. ASD occurs in all ethnic, racial, and economic groups. Although ASD can be a lifelong disorder, treatments and services can improve a person’s symptoms and ability to function. The American Academy of Pediatrics recommends that all children be screened for autism. All caregivers should talk to their doctor about ASD screening or evaluation.\n",
      "\n",
      "\n",
      "****************************************************************************************************\n",
      "1 Signs and Symptoms of ASD\n",
      "--------------------------------------------------\n",
      "\n",
      "Signs and Symptoms of ASD\n",
      "\n",
      "People with ASD have difficulty with social communication and interaction, restricted interests, and repetitive behaviors. The list below gives some examples of the types of behaviors that are seen in people diagnosed with ASD. Not all people with ASD will show all behaviors, but most will show several.\n",
      "Social communication / interaction behaviors may include:\n",
      "Making little or inconsistent eye contact\n",
      "Tending not to look at or listen to people\n",
      "Rarely sharing enjoyment of objects or activities by pointing or showing things to others\n",
      "Failing to, or being slow to, respond to someone calling their name or to other verbal attempts to gain attention\n",
      "Having difficulties with the back and forth of conversation\n",
      "Often talking at length about a favorite subject without noticing that others are not interested or without giving others a chance to respond\n",
      "Having facial expressions, movements, and gestures that do not match what is being said\n",
      "Having an unusual tone of voice that may sound sing-song or flat and robot-like\n",
      "Having trouble understanding another person’s point of view or being unable to predict or understand other people’s actions\n",
      "Restrictive / repetitive behaviors may include:\n",
      "Repeating certain behaviors or having unusual behaviors. For example, repeating words or phrases, a behavior called echolalia\n",
      "Having a lasting intense interest in certain topics, such as numbers, details, or facts\n",
      "Having overly focused interests, such as with moving objects or parts of objects\n",
      "Getting upset by slight changes in a routine\n",
      "Being more or less sensitive than other people to sensory input, such as light, noise, clothing, or temperature\n",
      "People with ASD may also experience sleep problems and irritability. Although people with ASD experience many challenges, they may also have many strengths, including:\n",
      "Being able to learn things in detail and remember information for long periods of time\n",
      "Being strong visual and auditory learners\n",
      "Excelling in math, science, music, or art\n",
      "\n",
      "\n",
      "****************************************************************************************************\n",
      "2 Causes and Risk Factors\n",
      "--------------------------------------------------\n",
      "\n",
      "Causes and Risk Factors\n",
      "\n",
      "While scientists don’t know the exact causes of ASD, research suggests that genes can act together with influences from the environment to affect development in ways that lead to ASD. Although scientists are still trying to understand why some people develop ASD and others don’t, some risk factors include:\n",
      "Having a sibling with ASD\n",
      "Having older parents\n",
      "Having certain genetic conditions—people with conditions such as Down syndrome, fragile X syndrome, and Rett syndrome are more likely than others to have ASD\n",
      "Very low birth weight\n",
      "\n",
      "\n",
      "****************************************************************************************************\n",
      "3 Diagnosing ASD\n",
      "--------------------------------------------------\n",
      "\n",
      "Diagnosing ASD\n",
      "\n",
      "Doctors diagnose ASD by looking at a person’s behavior and development. ASD can usually be reliably diagnosed by the age of two. It is important for those with concerns to seek out assessment as soon as possible so that a diagnosis can be made, and treatment can begin.\n",
      "Diagnosis in Young Children\n",
      "Diagnosis in young children is often a two-stage process.\n",
      "Stage 1: General Developmental Screening During Well-Child Checkups\n",
      "Every child should receive well-child check-ups with a pediatrician or an early childhood health care provider. The American Academy of Pediatrics recommends that all children be screened for developmental delays at their 9-, 18-, and 24- or 30-month well-child visits and specifically for autism at their 18- and 24-month well-child visits. Additional screening might be needed if a child is at high risk for ASD or developmental problems. Those at high risk include children who have a family member with ASD, have some ASD behaviors, have older parents, have certain genetic conditions, or who were born at a very low birth weight.\n",
      "Parents’ experiences and concerns are very important in the screening process for young children. Sometimes the doctor will ask parents questions about the child’s behaviors and combine those answers with information from ASD screening tools, and with his or her observations of the child. Read more about screening instruments on the Centers for Disease Control and Prevention (CDC) website.\n",
      "Children who show developmental problems during this screening process will be referred for a second stage of evaluation.\n",
      "Stage 2: Additional Evaluation\n",
      "This second evaluation is with a team of doctors and other health professionals who are experienced in diagnosing ASD.\n",
      "This team may include:\n",
      "A developmental pediatrician—a doctor who has special training in child development\n",
      "A child psychologist and/or child psychiatrist—a doctor who has specialized training in brain development and behavior\n",
      "A neuropsychologist—a doctor who focuses on evaluating, diagnosing, and treating neurological, medical, and neurodevelopmental disorders\n",
      "A speech-language pathologist—a health professional who has special training in communication difficulties\n",
      "The evaluation may assess:\n",
      "Cognitive level or thinking skills\n",
      "Language abilities\n",
      "Age-appropriate skills needed to complete daily activities independently, such as eating, dressing, and toileting\n",
      "Because ASD is a complex disorder that sometimes occurs along with other illnesses or learning disorders, the comprehensive evaluation may include:\n",
      "Blood tests\n",
      "Hearing test\n",
      "The outcome of the evaluation will result in a formal diagnosis and recommendations for treatment.\n",
      "Diagnosis in older children and adolescents\n",
      "ASD symptoms in older children and adolescents who attend school are often first recognized by parents and teachers and then evaluated by the school’s special education team. The school’s team may perform an initial evaluation and then recommend these children visit their primary health care doctor or doctors who specialize in ASD for additional testing.\n",
      "Parents may talk with these specialists about their child’s social difficulties including problems with subtle communication. These subtle communication issues may include problems understanding tone of voice, facial expressions, or body language. Older children and adolescents may have trouble understanding figures of speech, humor, or sarcasm. Parents may also find that their child has trouble forming friendships with peers.\n",
      "Diagnosis in adults\n",
      "Diagnosing ASD in adults is often more difficult than diagnosing ASD in children. In adults, some ASD symptoms can overlap with symptoms of other mental-health disorders, such as anxiety or attention-deficit/hyperactivity disorder (ADHD).\n",
      "Adults who notice the signs and symptoms of ASD should talk with a doctor and ask for a referral for an ASD evaluation. While testing for ASD in adults is still being refined, adults can be referred to a neuropsychologist, psychologist, or psychiatrist who has experience with ASD. The expert will ask about concerns, such as:\n",
      "Social interaction and communication challenges\n",
      "Sensory issues\n",
      "Repetitive behaviors\n",
      "Restricted interests\n",
      "Information about the adult’s developmental history will help in making an accurate diagnosis, so an ASD evaluation may include talking with parents or other family members.\n",
      "Getting a correct diagnosis of ASD as an adult can help a person understand past difficulties, identify his or her strengths, and obtain the right kind of help. Studies are now underway to determine the types of services and supports that are most helpful for improving the functioning and community integration of transition-age youth and adults with ASD.\n",
      "Changes to the diagnosis of ASD\n",
      "In 2013, a revised version of the Diagnostic and Statistical Manual of Mental Disorders (DSM) was released. This revision changed the way autism is classified and diagnosed. Using the previous version of the DSM, people could be diagnosed with one of several separate conditions:\n",
      "Autistic disorder\n",
      "Asperger’s’ syndrome\n",
      "Pervasive developmental disorder not otherwise specified (PDD-NOS)\n",
      "In the current revised version of the DSM (the DSM-5), these separate conditions have been combined into one diagnosis called “autism spectrum disorder.” Using the DSM-5, for example, people who were previously diagnosed as having Asperger’s syndrome would now be diagnosed as having autism spectrum disorder. Although the “official” diagnosis of ASD has changed, there is nothing wrong with continuing to use terms such as Asperger’s syndrome to describe oneself or to identify with a peer group.\n",
      "\n",
      "\n",
      "****************************************************************************************************\n",
      "4 Treatments and Therapies\n",
      "--------------------------------------------------\n",
      "\n",
      "Treatments and Therapies\n",
      "\n",
      "Treatment for ASD should begin as soon as possible after diagnosis. Early treatment for ASD is important as proper care can reduce individuals’ difficulties while helping them learn new skills and make the most of their strengths.\n",
      "The wide range of issues facing people with ASD means that there is no single best treatment for ASD. Working closely with a doctor or health care professional is an important part of finding the right treatment program.\n",
      "Medication\n",
      "A doctor may use medication to treat some symptoms that are common with ASD. With medication, a person with ASD may have fewer problems with:\n",
      "Irritability\n",
      "Aggression\n",
      "Repetitive behavior\n",
      "Hyperactivity\n",
      "Attention problems\n",
      "Anxiety and depression\n",
      "Read more about the latest news and information on medication warnings, patient medication guides, or newly approved medications at the Food and Drug Administration’s (FDA) website at https://www.fda.gov/.\n",
      "Behavioral, psychological, and educational therapy\n",
      "People with ASD may be referred to doctors who specialize in providing behavioral, psychological, educational, or skill-building interventions. These programs are typically highly structured and intensive and may involve parents, siblings, and other family members. Programs may help people with ASD:\n",
      "Learn life-skills necessary to live independently\n",
      "Reduce challenging behaviors\n",
      "Increase or build upon strengths\n",
      "Learn social, communication, and language skills\n",
      "Other resources\n",
      "There are many social services programs and other resources that can help people with ASD. Here are some tips for finding these additional services:\n",
      "Contact your doctor, local health department, school, or autism advocacy group to learn about special programs or local resources.\n",
      "Find an autism support group. Sharing information and experiences can help individuals with ASD and/or their caregivers learn about treatment options and ASD-related programs.\n",
      "Record conversations and meetings with health care providers and teachers. This information helps when it’s time to make decisions about which programs might best meet an individual’s needs.\n",
      "Keep copies of doctors' reports and evaluations. This information may help an individual qualify for special programs.\n",
      "\n",
      "\n",
      "****************************************************************************************************\n"
     ]
    }
   ],
   "source": [
    "for i in range(len(l2)):\n",
    "    print(i,l1[i])\n",
    "    print('-'*50)\n",
    "    print(l2[i])\n",
    "    print('*'*100)"
   ]
  },
  {
   "cell_type": "markdown",
   "id": "00979f89",
   "metadata": {},
   "source": [
    "# Check which questions are similar"
   ]
  },
  {
   "cell_type": "code",
   "execution_count": 25,
   "id": "d1f8a700",
   "metadata": {},
   "outputs": [],
   "source": [
    "stop_words = set(stopwords.words('english'))\n",
    "\n",
    "def clean_text(sent):\n",
    "    sent = sent.lower() # lowercase\n",
    "    sent = re.sub(r'[^\\w\\s]', '', sent) # remove punctuations\n",
    "    sent = re.sub('autism spectrum disorder','asd',sent) # Compress term\n",
    "    sent = re.sub('autism','asd',sent) # Compress term\n",
    "    sent = [w for w in sent.split() if not w.lower() in stop_words] # Remove stopwords\n",
    "    sent = \" \".join(sent)\n",
    "    return sent"
   ]
  },
  {
   "cell_type": "code",
   "execution_count": 26,
   "id": "82e06707",
   "metadata": {},
   "outputs": [],
   "source": [
    "def jaccard_similarity(list1, list2):\n",
    "    s1 = set(list1)\n",
    "    s2 = set(list2)\n",
    "    return float(len(s1.intersection(s2)) / len(s1.union(s2)))"
   ]
  },
  {
   "cell_type": "code",
   "execution_count": 27,
   "id": "1ea49412",
   "metadata": {},
   "outputs": [],
   "source": [
    "def sim(li):\n",
    "    for c1,i in enumerate(li):\n",
    "        i2 = clean_text(i)\n",
    "        list1 = i2.split()\n",
    "\n",
    "        temp1 = 0.0\n",
    "        temp2 = ''\n",
    "        temp3 = ''\n",
    "        temp4 = 0\n",
    "        temp5 = 0\n",
    "\n",
    "        for c2,j in enumerate(df['Question']):\n",
    "            j2 = clean_text(j)\n",
    "            list2 = j2.split()\n",
    "\n",
    "            sim = jaccard_similarity(list1, list2)\n",
    "\n",
    "            if(sim>temp1):\n",
    "                temp1 = sim\n",
    "                temp2 = j\n",
    "                temp3 = i\n",
    "                temp4 = c2\n",
    "                temp5 = c1\n",
    "\n",
    "        if(temp1>0):\n",
    "            print('Website --> ',temp3,'(Index {})'.format(temp5))\n",
    "            print('100 questions list --> ',temp2,'(Index {})'.format(temp4))\n",
    "            print(temp1)\n",
    "            print('*'*100)"
   ]
  },
  {
   "cell_type": "code",
   "execution_count": 28,
   "id": "7cf2e775",
   "metadata": {},
   "outputs": [
    {
     "name": "stdout",
     "output_type": "stream",
     "text": [
      "Website -->  Signs and Symptoms of ASD (Index 1)\n",
      "100 questions list -->  What are the Signs of Autism? (Index 7)\n",
      "0.6666666666666666\n",
      "****************************************************************************************************\n",
      "Website -->  Causes and Risk Factors (Index 2)\n",
      "100 questions list -->  Are there risk factors for Autism? (Index 49)\n",
      "0.5\n",
      "****************************************************************************************************\n",
      "Website -->  Diagnosing ASD (Index 3)\n",
      "100 questions list -->  What is Autism? (Index 4)\n",
      "0.5\n",
      "****************************************************************************************************\n",
      "Website -->  Treatments and Therapies (Index 4)\n",
      "100 questions list -->  Treatments influence prognosis (Index 31)\n",
      "0.25\n",
      "****************************************************************************************************\n"
     ]
    }
   ],
   "source": [
    "sim(l1)"
   ]
  },
  {
   "cell_type": "code",
   "execution_count": 32,
   "id": "7619e495",
   "metadata": {},
   "outputs": [
    {
     "data": {
      "text/plain": [
       "'Overview'"
      ]
     },
     "execution_count": 32,
     "metadata": {},
     "output_type": "execute_result"
    }
   ],
   "source": [
    "l1[0]"
   ]
  },
  {
   "cell_type": "code",
   "execution_count": null,
   "id": "0e232f88",
   "metadata": {},
   "outputs": [],
   "source": [
    "# Website, 100Q\n",
    "# 0, 0\n",
    "# 1, 7\n",
    "# 2, 49\n",
    "# 3, 4\n",
    "# 4, 46"
   ]
  },
  {
   "cell_type": "code",
   "execution_count": 34,
   "id": "292b25c1",
   "metadata": {},
   "outputs": [
    {
     "name": "stdout",
     "output_type": "stream",
     "text": [
      "15 Are there other therapies that are useful in treatment of behavioral symptoms in Autistic children?\n",
      "31 Treatments influence prognosis\n",
      "46 \n",
      "How is autism treated\n",
      "50 What types of medications are used to treat autistic children?\n",
      "96 Are medications useful in treating the behavioral problems of Autistic children?\n",
      "98 Are antipsychotic medications helpful in the treatment of autism?\n",
      "99 I’ve heard that anti-seizure medication can be helpful in treating some behavior problems associated with autism. Is that true?\n",
      "100 How are Anxiety and depression treated in an autistic person?\n",
      "101 What medications are used to treat seizures in autistic children?\n",
      "102 What are some treatments for involuntary movements, vocalizations and Tourette’s Syndrome associated with Autism?\n",
      "103 Is there any harm in trying unproven treatments on my child?\n",
      "105 What are some common dietary interventions used to treat Autism?\n",
      "106 Is Secretin helpful in treating the symptoms of Autism?\n",
      "107 Is Naltrexone helpful in treating autism?\n"
     ]
    }
   ],
   "source": [
    "for i,j in enumerate(df['Question']):\n",
    "    if('treat' in j.lower()):\n",
    "        print(i,j)"
   ]
  },
  {
   "cell_type": "code",
   "execution_count": 36,
   "id": "4de81c71",
   "metadata": {},
   "outputs": [
    {
     "name": "stderr",
     "output_type": "stream",
     "text": [
      "C:\\Users\\aparg\\anaconda3\\envs\\ASD_scraping\\lib\\site-packages\\pandas\\core\\indexing.py:1732: SettingWithCopyWarning: \n",
      "A value is trying to be set on a copy of a slice from a DataFrame\n",
      "\n",
      "See the caveats in the documentation: https://pandas.pydata.org/pandas-docs/stable/user_guide/indexing.html#returning-a-view-versus-a-copy\n",
      "  self._setitem_single_block(indexer, value, name)\n"
     ]
    }
   ],
   "source": [
    "# Directly add answer to existing dataframe\n",
    "l4 = [[0, 0],\n",
    "    [1, 7],\n",
    "    [2, 49],\n",
    "    [3, 4],\n",
    "    [4, 46]]\n",
    "\n",
    "for i in l4:\n",
    "    df[link].loc[i[1]] = l2[i[0]]"
   ]
  },
  {
   "cell_type": "code",
   "execution_count": 37,
   "id": "7e648712",
   "metadata": {},
   "outputs": [
    {
     "data": {
      "text/plain": [
       "['Overview',\n",
       " 'Signs and Symptoms of ASD',\n",
       " 'Causes and Risk Factors',\n",
       " 'Diagnosing ASD',\n",
       " 'Treatments and Therapies']"
      ]
     },
     "execution_count": 37,
     "metadata": {},
     "output_type": "execute_result"
    }
   ],
   "source": [
    "l1"
   ]
  },
  {
   "cell_type": "code",
   "execution_count": 38,
   "id": "ad04c9d0",
   "metadata": {},
   "outputs": [
    {
     "data": {
      "text/plain": [
       "[]"
      ]
     },
     "execution_count": 38,
     "metadata": {},
     "output_type": "execute_result"
    }
   ],
   "source": [
    "# update questions list\n",
    "f = [i[0] for i in l4]\n",
    "f = set(range(len(l1)))-set(f)\n",
    "l1=[l1[i] for i in f]\n",
    "l1"
   ]
  },
  {
   "cell_type": "code",
   "execution_count": 40,
   "id": "803880e2",
   "metadata": {},
   "outputs": [
    {
     "data": {
      "text/plain": [
       "(146, 16)"
      ]
     },
     "execution_count": 40,
     "metadata": {},
     "output_type": "execute_result"
    }
   ],
   "source": [
    "df.shape"
   ]
  },
  {
   "cell_type": "markdown",
   "id": "c36df54c",
   "metadata": {},
   "source": [
    "# Save Output"
   ]
  },
  {
   "cell_type": "code",
   "execution_count": 41,
   "id": "cdd9d1cd",
   "metadata": {},
   "outputs": [],
   "source": [
    "df.to_excel('Excel/Source9.xlsx',index=False)"
   ]
  },
  {
   "cell_type": "code",
   "execution_count": null,
   "id": "caa36e3a",
   "metadata": {},
   "outputs": [],
   "source": []
  }
 ],
 "metadata": {
  "kernelspec": {
   "display_name": "Python 3 (ipykernel)",
   "language": "python",
   "name": "python3"
  },
  "language_info": {
   "codemirror_mode": {
    "name": "ipython",
    "version": 3
   },
   "file_extension": ".py",
   "mimetype": "text/x-python",
   "name": "python",
   "nbconvert_exporter": "python",
   "pygments_lexer": "ipython3",
   "version": "3.8.0"
  }
 },
 "nbformat": 4,
 "nbformat_minor": 5
}
