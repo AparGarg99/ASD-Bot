{
 "cells": [
  {
   "cell_type": "markdown",
   "id": "fa4ce988",
   "metadata": {},
   "source": [
    "# Import Libraries"
   ]
  },
  {
   "cell_type": "code",
   "execution_count": 1,
   "id": "ff207f11",
   "metadata": {},
   "outputs": [],
   "source": [
    "################ WEB SCRAPING MODULES ############\n",
    "from selenium import webdriver\n",
    "from webdriver_manager.chrome import ChromeDriverManager\n",
    "from selenium.webdriver.common.by import By\n",
    "import bs4\n",
    "from fake_useragent import UserAgent\n",
    "import requests\n",
    "################ TIME MODLULES ###################\n",
    "import time\n",
    "from datetime import date \n",
    "import datetime\n",
    "############## DATA MANIPULATION MODULES #########\n",
    "import pandas as pd\n",
    "import numpy as np\n",
    "import re\n",
    "from nltk.corpus import stopwords\n",
    "import os"
   ]
  },
  {
   "cell_type": "markdown",
   "id": "afa3a887",
   "metadata": {},
   "source": [
    "# Define Source"
   ]
  },
  {
   "cell_type": "code",
   "execution_count": 2,
   "id": "ebfc9440",
   "metadata": {},
   "outputs": [],
   "source": [
    "link = 'https://www.autism.org/advice-for-parents/'"
   ]
  },
  {
   "cell_type": "markdown",
   "id": "4f8f2ef9",
   "metadata": {},
   "source": [
    "# Read 100 questions list"
   ]
  },
  {
   "cell_type": "code",
   "execution_count": 3,
   "id": "5fb8f7ba",
   "metadata": {},
   "outputs": [
    {
     "data": {
      "text/html": [
       "<div>\n",
       "<style scoped>\n",
       "    .dataframe tbody tr th:only-of-type {\n",
       "        vertical-align: middle;\n",
       "    }\n",
       "\n",
       "    .dataframe tbody tr th {\n",
       "        vertical-align: top;\n",
       "    }\n",
       "\n",
       "    .dataframe thead th {\n",
       "        text-align: right;\n",
       "    }\n",
       "</style>\n",
       "<table border=\"1\" class=\"dataframe\">\n",
       "  <thead>\n",
       "    <tr style=\"text-align: right;\">\n",
       "      <th></th>\n",
       "      <th>Question</th>\n",
       "      <th>https://autismnavigator.com/what-is-autism/</th>\n",
       "      <th>https://www.autism.org/is-it-autism/</th>\n",
       "      <th>https://www.autism.org/advice-for-parents/</th>\n",
       "    </tr>\n",
       "  </thead>\n",
       "  <tbody>\n",
       "    <tr>\n",
       "      <th>0</th>\n",
       "      <td>What are the Autism Spectrum Disorders (ASD)?</td>\n",
       "      <td>Autism spectrum disorder (ASD) is a neurodevel...</td>\n",
       "      <td>NaN</td>\n",
       "      <td>NaN</td>\n",
       "    </tr>\n",
       "    <tr>\n",
       "      <th>1</th>\n",
       "      <td>How is ASD diagnosed?</td>\n",
       "      <td>Diagnosing ASD can be difficult because there ...</td>\n",
       "      <td>NaN</td>\n",
       "      <td>NaN</td>\n",
       "    </tr>\n",
       "    <tr>\n",
       "      <th>2</th>\n",
       "      <td>What are early red flags of ASD in toddlers?</td>\n",
       "      <td>The diagnostic features of ASD can be easy to ...</td>\n",
       "      <td>NaN</td>\n",
       "      <td>NaN</td>\n",
       "    </tr>\n",
       "    <tr>\n",
       "      <th>3</th>\n",
       "      <td>What are 16 early signs of autism by 16 months?</td>\n",
       "      <td>The early signs of autism are easy to miss. Au...</td>\n",
       "      <td>NaN</td>\n",
       "      <td>NaN</td>\n",
       "    </tr>\n",
       "    <tr>\n",
       "      <th>4</th>\n",
       "      <td>What is Autism?</td>\n",
       "      <td>NaN</td>\n",
       "      <td>Autism Spectrum Disorder (ASD) is a developmen...</td>\n",
       "      <td>NaN</td>\n",
       "    </tr>\n",
       "    <tr>\n",
       "      <th>...</th>\n",
       "      <td>...</td>\n",
       "      <td>...</td>\n",
       "      <td>...</td>\n",
       "      <td>...</td>\n",
       "    </tr>\n",
       "    <tr>\n",
       "      <th>101</th>\n",
       "      <td>What are some ways that parents can reduce the...</td>\n",
       "      <td>NaN</td>\n",
       "      <td>NaN</td>\n",
       "      <td>NaN</td>\n",
       "    </tr>\n",
       "    <tr>\n",
       "      <th>102</th>\n",
       "      <td>Do some families deal with stress better than ...</td>\n",
       "      <td>NaN</td>\n",
       "      <td>NaN</td>\n",
       "      <td>NaN</td>\n",
       "    </tr>\n",
       "    <tr>\n",
       "      <th>103</th>\n",
       "      <td>Do siblings suffer increased stress as a resul...</td>\n",
       "      <td>NaN</td>\n",
       "      <td>NaN</td>\n",
       "      <td>NaN</td>\n",
       "    </tr>\n",
       "    <tr>\n",
       "      <th>104</th>\n",
       "      <td>What can I do about my children’s stress?</td>\n",
       "      <td>NaN</td>\n",
       "      <td>NaN</td>\n",
       "      <td>NaN</td>\n",
       "    </tr>\n",
       "    <tr>\n",
       "      <th>105</th>\n",
       "      <td>What are some resources for learning more abou...</td>\n",
       "      <td>NaN</td>\n",
       "      <td>NaN</td>\n",
       "      <td>NaN</td>\n",
       "    </tr>\n",
       "  </tbody>\n",
       "</table>\n",
       "<p>106 rows × 4 columns</p>\n",
       "</div>"
      ],
      "text/plain": [
       "                                              Question  \\\n",
       "0        What are the Autism Spectrum Disorders (ASD)?   \n",
       "1                                How is ASD diagnosed?   \n",
       "2         What are early red flags of ASD in toddlers?   \n",
       "3      What are 16 early signs of autism by 16 months?   \n",
       "4                                      What is Autism?   \n",
       "..                                                 ...   \n",
       "101  What are some ways that parents can reduce the...   \n",
       "102  Do some families deal with stress better than ...   \n",
       "103  Do siblings suffer increased stress as a resul...   \n",
       "104          What can I do about my children’s stress?   \n",
       "105  What are some resources for learning more abou...   \n",
       "\n",
       "           https://autismnavigator.com/what-is-autism/  \\\n",
       "0    Autism spectrum disorder (ASD) is a neurodevel...   \n",
       "1    Diagnosing ASD can be difficult because there ...   \n",
       "2    The diagnostic features of ASD can be easy to ...   \n",
       "3    The early signs of autism are easy to miss. Au...   \n",
       "4                                                  NaN   \n",
       "..                                                 ...   \n",
       "101                                                NaN   \n",
       "102                                                NaN   \n",
       "103                                                NaN   \n",
       "104                                                NaN   \n",
       "105                                                NaN   \n",
       "\n",
       "                  https://www.autism.org/is-it-autism/  \\\n",
       "0                                                  NaN   \n",
       "1                                                  NaN   \n",
       "2                                                  NaN   \n",
       "3                                                  NaN   \n",
       "4    Autism Spectrum Disorder (ASD) is a developmen...   \n",
       "..                                                 ...   \n",
       "101                                                NaN   \n",
       "102                                                NaN   \n",
       "103                                                NaN   \n",
       "104                                                NaN   \n",
       "105                                                NaN   \n",
       "\n",
       "     https://www.autism.org/advice-for-parents/  \n",
       "0                                           NaN  \n",
       "1                                           NaN  \n",
       "2                                           NaN  \n",
       "3                                           NaN  \n",
       "4                                           NaN  \n",
       "..                                          ...  \n",
       "101                                         NaN  \n",
       "102                                         NaN  \n",
       "103                                         NaN  \n",
       "104                                         NaN  \n",
       "105                                         NaN  \n",
       "\n",
       "[106 rows x 4 columns]"
      ]
     },
     "execution_count": 3,
     "metadata": {},
     "output_type": "execute_result"
    }
   ],
   "source": [
    "file = 'Excel/' + os.listdir('Excel')[-1]\n",
    "df = pd.read_excel(file,engine='openpyxl')\n",
    "\n",
    "df[link]=np.nan\n",
    "df"
   ]
  },
  {
   "cell_type": "markdown",
   "id": "06cc4415",
   "metadata": {},
   "source": [
    "# Scrape QA pairs from website"
   ]
  },
  {
   "cell_type": "code",
   "execution_count": 4,
   "id": "25ea70af",
   "metadata": {},
   "outputs": [
    {
     "name": "stderr",
     "output_type": "stream",
     "text": [
      "\n",
      "\n",
      "====== WebDriver manager ======\n",
      "Current google-chrome version is 92.0.4515\n",
      "Get LATEST driver version for 92.0.4515\n",
      "Driver [C:\\Users\\aparg\\.wdm\\drivers\\chromedriver\\win32\\92.0.4515.107\\chromedriver.exe] found in cache\n"
     ]
    }
   ],
   "source": [
    "# Open webpage in a new window\n",
    "driver = webdriver.Chrome(ChromeDriverManager().install())\n",
    "driver.get(link)"
   ]
  },
  {
   "cell_type": "code",
   "execution_count": 5,
   "id": "c652775d",
   "metadata": {},
   "outputs": [],
   "source": [
    "# Parse text in webpage\n",
    "source = driver.page_source\n",
    "soup = bs4.BeautifulSoup(source, 'html.parser')"
   ]
  },
  {
   "cell_type": "code",
   "execution_count": 6,
   "id": "fca1c8b8",
   "metadata": {},
   "outputs": [
    {
     "data": {
      "text/plain": [
       "['What Is Autism',\n",
       " 'Diagnosis',\n",
       " 'Onset of Autism: Early Onset vs. Regression',\n",
       " 'Causes of Autism',\n",
       " 'Prevalence of Autism',\n",
       " 'Medical Testing and Treatments',\n",
       " 'Psychiatric Medications',\n",
       " 'Rimland and Edelson',\n",
       " 'Adams',\n",
       " 'Speech Development',\n",
       " 'Educational/Behavioral Approaches',\n",
       " 'RDI',\n",
       " 'Preparing for the Future',\n",
       " 'Developing Friendships',\n",
       " 'State Services',\n",
       " 'School Programs',\n",
       " 'Social Security Assistance',\n",
       " 'Special Needs Trust',\n",
       " 'Long-term Prognosis',\n",
       " 'What To Do Next']"
      ]
     },
     "execution_count": 6,
     "metadata": {},
     "output_type": "execute_result"
    }
   ],
   "source": [
    "l1=[]\n",
    "for i in soup.find_all('h3'):\n",
    "    l1.append(i.text.strip())\n",
    "l1 = l1[1:]\n",
    "l1"
   ]
  },
  {
   "cell_type": "code",
   "execution_count": 7,
   "id": "e807be04",
   "metadata": {},
   "outputs": [],
   "source": [
    "# Search the answers for questions\n",
    "l2 = []\n",
    "c = 0\n",
    "for j in range(5,46):\n",
    "    #print(l1[c])\n",
    "    c=c+1\n",
    "    ans = soup.find('div',{'class':'fusion-text fusion-text-{}'.format(j)})\n",
    "    #print(ans.text)\n",
    "    #print('*'*100)\n",
    "    if(ans.text.strip()!='back to menu'):\n",
    "        l2.append(ans.text)"
   ]
  },
  {
   "cell_type": "code",
   "execution_count": 8,
   "id": "1585f725",
   "metadata": {},
   "outputs": [
    {
     "name": "stdout",
     "output_type": "stream",
     "text": [
      "0 Autism is a developmental disability that typically involves delays and impairment in social skills, language, and behavior. Autism is a spectrum disorder, meaning that it affects people differently. Some children may have speech, whereas others may have little or no speech. Autism is a very broad spectrum. In profound cases, young children may not interact with others, or treat people as objects. In milder cases it involves difficulty understanding and relating to others, and difficulty understanding other people’s perspectives and emotions. Without appropriate support, children will not develop effective social skills and may speak or behave in ways that create challenges. Very few individuals recover completely from autism without any intervention. The good news is that there are a wide variety of medically appropriate treatment options which may be very helpful. Some treatments may lead to measurab le improvement, whereas other treatments may have little or no effect. Because the biological aspects are autism remain elusive, it is impossible to identify an educational strategy or therapy that helps everyone. A growing body of research probing the possible causes of and potential treatments for autism has shed light on co-occuring medical conditions which, when addressed, have improved patient health and  therapeutic outcomes. It is important to understand that autism is a label for people who have a certain set of symptoms (impairments in social skills, language, and behavior). The label of autism does not explain the cause of autism, and it is likely that multiple factors can contribute to the symptoms of autism. What is the difference between Asperger’s Syndrome and Autism? Asperger syndrome was phased out with the introduction of DSM-V in 2013 in favor of an umbrella diagnosis of autism spectrum disorder. The diagnosis of Asperger syndrome was characterized as a subtype of high-functioning autism. Most individuals diagnosed with Asperger syndrome were described as “social but awkward.” That is, they want to have friends, but found it particularly challenging to begin and/or maintain a friendship. Like their peers on the spectrum, high-functioning autistic individuals were often delayed in developing speech/language. Those with Asperger syndrome tended not to have speech/language delays, but their speech was usually described as peculiar, such as being stilted and perseverating on unusual topics. \n",
      "****************************************************************************************************\n",
      "1 Possible symptoms of autism may be observed by a parent, pediatrician, or teacher, and screening tests such as the M-CHAT can help determine if a child is at risk of having autism. However, a formal diagnosis of autism requires an evaluation by an experienced psychiatrist, psychologist, neurologist, or developmental pediatrician (a pediatrician who specializes in developmental disorders). Some individuals are easy to diagnose, but in milder cases or cases with other co-occurring symptoms it can be difficult to obtain a diagnosis. Some children are initially misdiagnosed with other disorders, such as speech delay or ADHD. A clinician should base their diagnosis on both a personal interaction with the child and a discussion with the parents of their behavior in other settings. Two common misconceptions are that if a child can talk or is affectionate then they cannot have autism. That is not true. Some people diagnosed with autism have normal language, and many are affectionate to friends and family. However, the common core of all types of autism spectrum disorders are delays or impairments in social understanding and social relationships. \n",
      "****************************************************************************************************\n",
      "2 Autism develops sometime during pregnancy and the first three years of life. Some parents report that their child seemed different at birth. These children are referred to as having early-onset autism. Other parents report that their child seemed to develop normally and then had a major regression resulting in autism, usually around 12-24 months. These children are referred to as having late-onset or regressive autism. Some researchers argue that the regression is not real or the autism was simply unnoticed by the child’s parents. However, many parents report that their children were completely normal (e.g., capable of speech, appropriate behavior, and social interaction) until sometime between 1 and 2 years of age. A study published in 2003, conducted by the first author, compared 53 autistic children with 48 typical peers. The parents of the early-onset autism group reported a significant delay in reaching developmental milestones, including age of crawling (2 month delay), sitting up (2 month delay), walking (4-5 month delay), and talking (11 month delay or more). Thus, there appeared to be a delay in gross motor skills as well as of talking, so many children with autism also need physical therapy. In contrast, the late-onset autism group reached developmental milestones at the same time as typical children. Several brain autopsy studies have been interpreted as suggesting that brain damage occurred sometime during the first trimester of pregnancy, but many of these studies involved individuals who were born prior to 1990. Thus, these findings may not apply to what appears to be the new population of people with regressive autism. \n",
      "****************************************************************************************************\n",
      "3 Autism appears to be due to a combination of genetic and environmental factors, but it is generally unclear which genetic and which environmental factors are important. About 5-10% of autism cases involve a single severe genetic defect or disorder, such as Fragile X or tuberous sclerosis, and many of those individuals develop the symptoms of autism. However, 90-95% of cases do not involve a single severe defect, but instead, appear to require a complex set of many genetic variations and environmental factors. A study (Hallmayer 2011) of 192 twin pairs in California found that when one identical twin has autism, the other co-twin often has autism (50-78% chance). However, siblings can also be normal or even exceptional. The Hallmayer study found that the co-occurrence of autism in fraternal twins was much lower, about 21%-36%. Based on those results, the researchers estimated that genetics accounts for about 38% of autism and that environmental factors account for about 58%. Another interpretation is that certain genetic variations result in greater vulnerability to certain environmental factors, but it is generally unclear which genetic factors and which environmental factors If parents have a child with autism, there is roughly a 19% chance that their future children will also develop autism. The siblings of a child with autism are also at increased risk of speech impairments and cognitive disabilities, which sometimes go undetected. Evaluate siblings for possible speech delays, developmental delays, and learning disabilities, such as dyslexia, which occur in about 25% of siblings. There is no consensus on which environmental factors increase the risk of autism. Since the word “autism” is only a label for people who have a certain set of symptoms, there are likely to be several factors that could cause those symptoms. A few of the suspected environmental causes for which there is some scientific evidence include: food allergies, pesticides, heavy metal toxicity, excessive use of oral antibiotics, deficiencies in essential nutrients, prenatal ultrasound, and many more. One study found that about 12% of mothers of children with autism have antibodies to fetal brain tissue, and those antibodies have been shown to disrupt typical normal development in animals. Many children with autism have abnormalities in their immune system, and these abnormalities likely contribute to their symptoms. About 70% of the immune system resides in the gut, and children with autism often also have major gut problems. One study found that about 40% of mothers of children with autism have abnormalities in both their methylation capacity (turns proteins on/off) and their ability to manufacture glutathione (important antioxidant and defense against toxic metals). Those problems are treatable with folinic acid (a special form of folic acid) and vitamin B12, and may reduce the risk of having a child with autism. These problems are also very common in children with autism, and treatment with folinic acid and vitamin B12 has been shown to improve them. \n",
      "****************************************************************************************************\n",
      "4 There has been a rapid increase in the number of children diagnosed with autism. In the 1970’s the incidence of autism was 2-3 per 10,000. Today, according to the Center for Disease Control (CDC), the estimated prevalence of autism spectrum disorder in the U.S. is 1 in 54 children. We do not know why there has been a dramatic increase in autism over the past 25 years, but there are several reasonable hypotheses. Since there is more than one cause of autism, there may be more than one reason for the increase. A small portion of the increase of autism may be due to improved diagnosis and awareness, but a report from California (King 2009) reveals that this only explains 25% of the increase. The major reason for the increase is certainly due to environmental factors, not genetics, since there is no such thing as a ‘genetic epidemic.’ Some possible environmental factors were discussed in the previous section, and an increased occurrence of one or several of those factors probably accounts for the rapid increase in autism Common Co-Occurring Conditions in Autism    Intellectual and Developmental Disability (IDD): The fraction of people with autism who also meet criteria for IDD has been reported as anywhere from 25% to 70%, a wide variation illustrating the difficulty of assessing intelligence when language delays are present. Parents should request non-verbal intelligence tests that do not require language skills, such as the Test for Nonverbal Intelligence (TONI). Regardless of the result, realize that autistic children will develop more skills as they grow older, and that appropriate therapies and education can help them reach their full potential.       Seizures: It is estimated that 25% of autistic individuals eventually develop seizures, some in early childhood and others as they go through puberty (changes in hormone levels may trigger seizures). These seizures can range from mild (e.g., gazing into space for a few seconds) to severe, grand mal seizures.Most people with autism have subclinical seizures which are not easily noticeable but can significantly affect mental function. A short one- or two-hour EEG may not be able to detect any abnormal activity, so a 24-hour EEG may be necessary. Although drugs can be used to reduce seizure activity, the child’s health must be checked regularly because these drugs can be harmful.A recent large survey of treatment effectiveness (Frye and Adams, 2011) found that standard anti-seizure medications do control seizures but often worsen other symptoms, some more so than others. That study also found that special diets (ketogenic diet, modified Atkins’ diet, and a gluten-free, casein-free diet) were beneficial in controlling seizures and actually improved, not worsened, other symptoms.There is much evidence that certain nutritional supplements, especially vitamin B6 and dimethylglycine (DMG), can provide a safer and more effective alternative to drugs, for many individuals.       Low Muscle Tone: A study conducted by the first author found that 30% of autistic children have moderate to severe loss of muscle tone, and this can limit their gross and fine motor skills. That study found that these children tend to have low potassium levels. Increased consumption of fruit and vegetables (good sources of potassium) may be helpful. Occupational and physical therapy, implemented on a daily basis, can help.       Pica: 30% of children with autism have moderate to severe pica. Pica refers to eating non-food items such as paint, sand, dirt, paper, etc. Pica can expose the child to heavy metal poisoning, especially if there is lead in the paint or in the soil. Discuss zinc supplementation with your clinician.       Sensory Sensitivities: Many autistic children have unusual sensitivities to sounds, sights, touch, taste, and smells. High-pitched intermittent sounds, such as fire alarms or school bells, may be painful to autistic children. Scratchy fabrics may also be intolerable, and some children have visual sensitivities. They are troubled by the flickering of fluorescent lights. If the child often has tantrums in large supermarkets, it is possible that he/she has severe sensory oversensitivity. Sensory sensitivities are highly variable in autism, from mild to severe. Even though a pure tone hearing test may imply normal hearing, the child may have difficulty hearing auditory details and hard consonant sounds.Some children have very high pain thresholds (i.e., they are insensitive to pain), whereas others have very low pain thresholds. Interventions designed to help normalize their senses, such as sensory integration, Auditory Integration Training (AIT), and Irlen lenses, are discussed later in this paper.       Sleep Problems: Many with autism have sleep problems. Night waking may be due to reflux of stomach acid into the esophagus, often caused by food intolerances. Placing bricks under the mattress at the head of the bed may help keep stomach acid from rising and provide better sleep; possible dietary issues should be discussed with a knowledgeable professional. Many rigorous studies have shown that melatonin is often useful in helping autistic individuals fall asleep. Other popular interventions include tryptophan or 5-HTP (nutrients which the body converts to melatonin). Implementing a regular bedtime routine (taking a bath, brushing teeth, reading a book) can help induce sleep. Vigorous exercise will help a child sleep, and other sleep aids include a weighted blanket or tight fitting mummy-type sleeping bag.       Chronic Constipation and/or Diarrhea: A large-scale survey of over 1,000 individuals on the autism spectrum found that 45% had gastrointestinal problems; and the older the individual, the more likely they had these problems. Note: Diarrhea may actually be due to constipation—i.e., only liquid is able to leak past a large stool mass in the intestine. Manual probing often fails to find an impaction. An abdominal x-ray is a simple method to check for hidden constipation but needs careful interpretation. Children with significant gastrointestinal problems should see a pediatric gastroenterologist. Unfortunately, gastrointestinal problems are often ignored and untreated due to autism, but it is important for parents to persevere and seek medical help.    \n",
      "****************************************************************************************************\n",
      "5 Routine medical tests are usually performed by traditional pediatricians, but these exams rarely reveal underlying medical problems that are often associated with autism, such as gastrointestinal problems, nutritional and metabolic deficiencies, toxic metal burden, and immune dysfunction. Unfortunately, many physicians believe, though incorrectly, that the only useful medical treatments are psychiatric medications to reduce seizures and behavioral problems. Genetic testing for Fragile X syndrome can help identify one possible cause, and this testing is typically recommended when there is IDD in the family history. The Autism Research Institute supports an integrative medical approach to treating individuals on the autism spectrum. This approaches often includes:  Thorough medical evaluation for undetected underlying disease Nutritional support Testing for hidden food allergies, and avoidance of allergenic foods Treatment of medically diagnosed, intestinal bacterial infections  \n",
      "****************************************************************************************************\n",
      "6 The various topics covered in this overview paper for parents of young autistic children represent, for the most part, a consensus of the views, based on research and personal experience, of all four authors. However, the authors differ in their opinions on the role psychoactive drugs should play. We will present you with the conflicting opinions, so you can decide for yourself. Grandin has a relatively accepting position on the use of psychiatric medications in autistic children. She feels that it is worthwhile to consider drugs as a viable and useful treatment. Rimland and Edelson, on the other hand, are strongly opposed to the use of drugs except as a possible last resort, etc. – They feel the risks are great and consistently outweigh the benefits. Adams has an intermediate view. There are no psychiatric medications for “autism,” but there are many psychiatric medications used for treating specific symptoms often found in autism, such as aggression, self-injury, anxiety, depression, obsessive/compulsive disorders, and attention deficit/hyperactivity disorder (ADHD). These medications generally function by altering the level of neurotransmitters (chemical messengers) in the brain. There is no medical test to determine if a particular medication is called for; the decision is based on the psychiatrist’s evaluation of the patient’s symptoms. This is a “trial and error” approach, as dosages need to be adjusted differently for each person, and one medication may be ineffective or have negative effects while others are helpful. For some classes of drugs the doses which are successful for reducing symptoms, such as aggression or anxiety, are much lower for those with autism than for normal people. For the SSRI drugs, such as Prozac (Fluoxetine), Zoloft (Sertraline), and other antidepressants, the best dose may be only one-third of the normal starting dose. Too high a dose may cause agitation or insomnia. If agitation occurs, the dose must be lowered. The low-dose principle also applies to all drugs in the atypical or third generation antipsychotic drug class, such as Risperdal (Risperidone). The effective dose will vary greatly between individuals. Start low and use the lowest effective dose. Other classes of drug, such as anticonvulsants, will usually require the same doses that are effective in normal individuals. Antidepressant drugs such as Prozac or Lexapro often work best for anxiety and panic attacks. Antidepressants stopped my constant panic attacks and my colitis cleared up and stopped. I have been taking a low dose of desipramine, an old tricyclic, for over 30 years. The medication stopped debilitating panic attacks. The atypical antipsychotics have much more serious side effects than antidepressants. Medications such as Risperdal and Abilitfy should be reserved for severe aggression problems in older children and adults. They should not be given to young children as sleep aids or to reduce hyperactivity. The side effects of the atypical antipsychotic class of drugs are high weight gain, diabetes, and tardive dyskinesia (movement disorder). For more information consult the 2nd edition of Grandin’s book, “The Way I See It.” Psychiatric medications are widely used to treat the symptoms of autism, and they can be beneficial to many older children and adults. However, there are concerns over their use. There is relatively little research on their use for children with autism. There are almost no studies on the long-term effects of their use, especially for the newer medications, and there is a concern that their long-term use in children may affect their development. They treat the symptoms, but not the underlying medical causes of autism. One must balance risk versus benefit. A drug should have an obvious positive effect to make it work the risk. In order to observe the effect of a drug, do not start a drug at the same time as you start some other treatment. There are far too many powerful drugs given to young children for trivial reasons. In young children, special diets, vitamins, and fish oil supplements should be tried first. \n",
      "****************************************************************************************************\n",
      "7 ARI has, for many years, encouraged research on those medical interventions that treat the underlying problems rather than on therapies that simply mask or inhibit the resulting symptoms. An integrated medical approach is ideal since it considers overall function of the whole body, not just the brain. This approach often involves restricted diets and nutritional supplements as well as the reduction of accumulated toxins, such as pesticides and heavy metals. In contrast, ‘standard practice’ offered by traditional pediatricians, child psychiatrists, and child neurologists often relies on prescription drugs which can have rather severe side-effects. The Autism Research Institute (ARI) has collected data from many thousands of parents about their experiences with psychiatric medications and other treatments. In general, parents report that the medications are about equally likely to cause problems or to help, with some being worse than others. This is in contrast to other treatments for which ARI has collected data, such as nutritional supplements, special diets, and detoxification, which were more likely to help and very rarely caused problems. The results of this ongoing collection of parent survey data is available at www.autism.com Here are the parent ratings from March 2009 of the three most often used drugs and the three most often used nutrients:    Three most used drugs Got Worse No Effect Got Better Better:Worse No. of cases   Ritalin 45% 26% 29% 0.6:1 4256   Benedryl 24% 50% 26% 1.1:1 3230   Risperidal 21% 26% 54% 2.6:1 1216        Three most used vitamins Got Worse No Effect Got Better Better:Worse No. of cases   Vit. B6 & Mag. 4% 46% 49% 11:1 7256   DMG 8% 50% 42% 5.3:1 6363   Vit. C 2% 52% 46% 20:1 3077     Note: These data pertain only to behavioral effects. The drugs, but not the vitamins, often cause significant physical problems. We feel that psychoactive drugs should not be used at all on your children, and should be used only as a last resort, not as an initial treatment, on autistic teenagers and adults. ARI has collected information from parents of autistic children on their evaluation of various treatments, including drugs, since 1967. Some adolescents and adults are helped by anti-psychotic drugs, such as Risperdal, or anti-depressants, such as Tofranil, but the risk of side effects is significant. When psychoactive drugs are used with autistic teenagers or adults, it is often found that a very low dose, perhaps one-fourth or one-fifth of the usual dosage, is sufficient. \n",
      "****************************************************************************************************\n",
      "8 Psychiatric medications are not well-tested in young children with autism, especially for long-term use, and often have significant side-effects. An integrated medical approach (nutritional support, diet changes, detoxification) is much safer and addresses core problems rather than symptoms. Whereas psychiatric medications generally function by altering neurotransmitter levels/function, nutritional supplementation with vitamins, minerals, and amino acids allows the body to make its own. So, I think an integrated medical approach should be tried first, especially in young children, because it generally has far fewer side-effects, and addresses the underlying core problems. However, there are some children and adults who have benefited from psychiatric medications, so they are reasonable to consider after an integrated medical approach has been tried. In young children, they should be used only very cautiously, and beginning with low doses. \n",
      "****************************************************************************************************\n",
      "9 One of the most common questions parents ask is: Will my child develop speech? An analysis of ARI’s data involving 30,145 cases indicated that 9% never develop speech. Of those who develop speech, 43% begin to talk by the end of their first year, 35% begin to talk sometime between their first and second year, and 22% begin to talk in their third year and after. A smaller survey conducted by the first author found that only 12% were totally non-verbal by age 5. So, with appropriate interventions, there is reason to hope that children with autism can learn to talk, at least to some extent, and non-verbal older children and adults can sometimes learn to talk or communicate in other ways. There are several ways to help autistic children learn to talk, including:    Teaching speech with sign language; it is easy for parents to learn a few simple signs and use them when talking to their child. This is referred to as ‘simultaneous communication’ or ‘signed speech.’ Research suggests that the use of sign language increases the chance of children learning spoken language.       Teaching with the Picture Exchange Communication System (PECS), which involves pointing to a set of pictures or symbols on a board. As with sign language, it can also be effective in teaching speech.       Applied Behavior Analysis: described in more detail later       Encouraging a child to sing with a videotape or audiotape       Vestibular stimulation, such as swinging on a swing, while teaching speech       Several nutritional/medical approaches have been associated with dramatic improvements in speech production, including dimethylglycine (DMG), vitamin B6 with magnesium, and the gluten-/casein-free diet. (To be discussed further below.)       Use of other augmentative communication devices, such as picture boards coupled with sound, or keyboards for typing.    \n",
      "****************************************************************************************************\n",
      "10 Educational/behavioral therapies are often effective in children with autism, with Applied Behavioral Analysis (ABA) usually being the most effective—ABA has significantly more published scientific support than any other form of educational therapy. These methods can be used together with dietary and medical interventions, as together they offer the best chance for improvement. Parents, siblings, and friends may play an important role in assisting the development of children with autism. Typical pre-school children learn primarily by play, and the importance of play in teaching language and social skills cannot be overemphasized. Ideally, many of the techniques used in ABA, sensory integration, and other therapies can be extended throughout the day by family and friends. Applied Behavior Analysis Many different behavioral interventions have been developed for children with autism, and they mostly fall under the category of Applied Behavioral Analysis (ABA). This approach generally involves therapists who work intensely, one-on-one with a child for 20 to 40 hours/week. Children are taught skills in a simple step-by-step manner, such as learning colors one at a time. The sessions usually begin with formal, structured drills, such as learning to point to a color when its name is given; then, after some time, there is a shift towards generalizing skills to other situations and natural environments. A study published by Dr. Ivar Lovaas at UCLA in 1987 involved two years of intensive, 40-hour/week behavioral intervention by trained graduate students working with 19 young autistic children ranging from 35 to 41 months of age. Almost half of the children improved so much that they were indistinguishable from typical children, and these children went on to lead fairly normal lives. Of the other half, most had significant improvements, but a few did not improve much. Today, ABA programs are widely accepted, and the American Medical Association and the US Surgeon General recommend ABA therapy for children with autism. ABA programs are most effective when started early (before age 5 years), but they can also be helpful to older children. They are especially effective in teaching non-verbal children how to talk. There is general agreement that:    behavioral interventions involving one-on-one interactions are usually beneficial, sometimes with very positive results       the interventions are most beneficial with the youngest children, but older children can benefit       the interventions should involve a substantial amount of time each week, between 20-40 hours depending on whether the child is in school       the program should include as much prompting as necessary to achieve a high level of success, with a gradual fading of prompts       the program should include properly trained therapists and ongoing supervision       there should be regular team meetings to maintain consistency between therapists and check for problems       most importantly, the sessions should be fun for the children in order to maintain their interest and motivation; if your child isn’t happy to see his/her therapist, find a new one     Parents are encouraged to obtain training in ABA, so that they can provide it themselves and/or help supervise other providers. Board-certified behavior analysts (BCBA’s) are often available, and there are often workshops on how to provide ABA therapy.Sensory IntegrationAs mentioned above, many people with autism have sensory problems, which can range from mild to severe. Sensory integration focuses primarily on three senses — vestibular (i.e., motion, balance), tactile (i.e., touch), and proprioception (e.g., joints, ligaments). Many techniques are used to stimulate these senses in order to normalize them.  Speech Therapy   This may be beneficial to many autistic children, but often only 1-2 hours/week is available, so it probably has only modest benefit unless integrated with other home and school programs. As mentioned earlier, sign language and PECS may also be very helpful in developing speech. Speech therapists should work on helping the child to hear hard consonant sounds such as the “c” in cup. It is often helpful if the therapist stretches out and enunciates the consonant sounds. Occupational Therapy  Can be beneficial for the sensory needs of these children, who often have hypo- and/or hyper-sensitivities to sound, sight, smell, touch, and taste. May include sensory integration (above). Physical Therapy: Often children with autism have limited gross and fine motor skills, so physical therapy can be helpful. May also include sensory integration (above). Auditory Interventions  There are several types of auditory interventions. The only one with significant scientific backing is Berard Auditory Integration Training (called Berard AIT or AIT), which involves listening to processed music for a total of 10 hours (two half-hour sessions per day, over a period of 10 to 12 days). Research has shown that AIT improves auditory processing, decreases or eliminates sound sensitivity, and reduces behavioral problems in some autistic children.Other auditory interventions include the Tomatis approach, the Listening Program, and the SAMONAS method. There is little evidence to support their efficacy [sme1] Computer-based auditory interventions have also received some empirical support. They include Earobics and Fast ForWord. These programs have been shown to help children who have delays in language and have difficulty discriminating speech sounds. Earobics is less expensive (less than $100) but appears to be less powerful than the Fast ForWord program (usually over $1,000). Some families use the Earobics program first and then later use Fast ForWord. Computer Software  There are many educational programs available for typical children, and some of them may be of benefit for autistic children. There is also some computer software designed specifically for children with developmental disabilities. One major provider is Laureate. Vision Training and Irlen Lenses: Many autistic people have difficulty attending to their visual environment and/or perceiving themselves in relation to their surroundings. These problems can include having a short attention span, being easily distracted, excessive eye movements, difficulty scanning or tracking movements, inability to catch a ball, being cautious when walking up or down stairs, bumping into furniture, and even toe walking. A one- to two-year vision training program involving ambient prism lenses and performing visual-motor exercises can reduce or eliminate many of these problems. See www.AutisticVision.com. More information on vision training can be found on the Internet website of the College of Optometrists in Vision Development www.pavevision.org. Another visual/perceptual program involves wearing Irlen lenses. Irlen lenses are colored (tinted) lenses. Individuals who benefit from these lenses are often hypersensitive to certain types of lighting, such as florescent lights and bright sunlight; hypersensitive to certain colors or color contrasts; and/or have difficulty reading printed text. Irlen lenses can reduce one’s sensitivity to these lighting and color problems as well as improve reading skills and increase attention span. See www.Irlen.com.  \n",
      "****************************************************************************************************\n",
      "11 This is a method for teaching children how to develop relationships, first with their parents and later with their peers. It directly addresses a core issue in autism, namely the development of social skills and friendships. It involves extensive training of the parents by a certified RDI consultant, so that they become much more able to effectively interact with their children. The parents typically spend 1 hour/day doing formal therapy with their child, but integrate RDI concepts throughout the rest of the day. There is limited data on its efficacy. \n",
      "****************************************************************************************************\n",
      "12 Temple Grandin: “As a person with autism I want to emphasize the importance of developing the child’s talents. Skills are often uneven in autism, and a child may be good at one thing and poor at another. I had talent in drawing, and this talent later developed into a career in designing cattle-handling systems for major beef companies. Too often there is too much emphasis on deficits and not enough emphasis on talents. Abilities in children with autism will vary greatly, and many individuals will function at a lower level than me. However, developing talents and improving skills will benefit all. If a child becomes fixated on trains, then use the great motivation of that fixation to motivate learning other skills. For example, use a book about trains to teach reading, use calculating the speed of a train to teach math, and encourage an interest in history by studying the history of the railroads.” \n",
      "****************************************************************************************************\n",
      "13 Although young children with autism may seem to prefer to be by themselves, one of the most important issues for older children and adults is the development of friendships with peers. It can take a great deal of time and effort for them to develop the social skills needed to be able to interact successfully with other children, but it is important to start early. In addition, bullying in middle and high school can be a major problem for students with autism, and the development of friendships is one of the best ways to prevent this problem. One of the best ways to develop friendships is through shared interests such as boy scouts, robotics clubs, school plays, band, school newspaper, FFA, or 4H projects. Those activities provide peers with whom a child can share his or her favorite interests. Friendships can be encouraged informally by inviting other children to the home to play, with parents or therapists helping to supervise and support those playgroups. In school, recess can be a valuable time for teachers to encourage play with other children (supervision is important). Furthermore, time can be set aside in school for formal “play time” between children with autism and volunteer peers – typical children usually think that play time is much more fun than regular school, and it can help develop lasting friendships. This is probably one of the most important issues to include in a student’s Individualized Education Program (IEP, or education plan for the child). \n",
      "****************************************************************************************************\n",
      "14 Most states will provide some services for children with autism, primarily funded by the federal Medicaid program. Many states have waiting lists for a limited number of slots. The quality of services varies widely state to state. Most states have one set of services for children under 3 years old (early intervention), and a second set of services for older children and adults. State Services for Developmental Disabilities. Typical state services for people with autism include respite, habilitation, speech therapy, and occupational therapy. These services are generally provided as part of the federal Medicaid program. The qualifications for these programs vary between states, but are generally limited to children with significant developmental delays. Once a child is deemed eligible, he/she may be awarded service hours. Many states have waiting lists for services, but some states provide services to everyone who qualifies. It is then up to the parent to choose a provider agency for each type of service. Speech therapists, occupational therapists, and physical therapists are in high demand, and the state usually pays only modest rates. Thus, it can be a challenge to find them. Similarly, it can be very challenging to find respite and habilitation providers (for an ABA program), and an even greater challenge to train and retain them. Often parents need to advertise for therapists and then bring them to a provider agency for hiring. Often parents need to hire behavior consultants to train their habilitation (ABA) workers; this is very important and highly recommended if the parents can afford it. \n",
      "****************************************************************************************************\n",
      "15 For children younger than 3 years old, there are early intervention programs. For children over 3 years of age, there are pre-school and school programs available. Parents should contact their local school district for information on their local programs. In some cases a separate program for special-needs children may be best, but for higher-functioning children integration into a regular school setting may be more appropriate, provided that there is enough support (a part or full-time aide, or other accommodations as needed). It is important that parents work with their child’s teacher on an Individual Education Plan (IEP), which outlines in great detail the child’s educational program. The IEP should not be limited to academic skills, but should include focus on language, social skills, and developing friendships. Additionally, meeting with the child’s classmates and/or their parents can be helpful in encouraging other students to interact positively with the autistic child. In some states, home therapy programs (such as ABA and speech therapy) may be funded by the school district, rather than through the state. However, it may take considerable effort to convince the school district to provide those services. Check with your local ASA chapter and other parents about how services are usually provided in your state. \n",
      "****************************************************************************************************\n",
      "16 Families with limited income (under about $25,000-$35,000/yr depending on family size and assets) can apply to the Social Security agency to obtain monies to help children with a disability. For more information, contact your local social security office by calling 1-800-772-1213. \n",
      "****************************************************************************************************\n",
      "17 Children who have assets over approximately $2000 are ineligible to receive state and federal services. They must spend their money first. However, most states allow “special needs trusts” to be set up for children with disabilities. These are irrevocable trusts in which a guardian decides how to spend the money on the child. They are the best way for relatives to leave funds to the child, because these monies do not count against the child when determining their eligibility for government services. For more information, contact a lawyer who specializes in special needs trusts. In addition to working out the financial details, it is very useful to write up a description of suggestions of how you want your child cared for and/or supported. MetLife also has a special program for children with developmental disabilities. \n",
      "****************************************************************************************************\n",
      "18 Today, most adults with autism are either living at home with their parents or living in a group home. Some higher-functioning people live in a supported-living situation, with modest assistance, and some are able to live independently. Some are able to work, either in volunteer work, sheltered workshops, or private employment, but many do not. Adults with PDD/NOS and Asperger’s generally are more likely to live independently, and they are more likely to work. Unfortunately, they often have difficulty finding and then maintaining a job. The major reason for chronic unemployment is not a lack of job skills, but limited social skills. Thus, it is important to encourage appropriate social skills early on. Some of the most successful people on the autism spectrum who have good jobs have developed expertise in a specialized skill that people value. If a person makes him-/herself very good at something, this can help make up for some difficulties with social skills. Good fields for higher functioning people on the spectrum are architectural drafting, computer programming, language translation, special education, library services and science. It is likely that some brilliant scientists and musicians have a mild form of Asperger’s Syndrome (Ledgin, 2002). The individuals who are most successful often have mentors either in high school, college, or at a place of employment. Mentors can help channel interests into careers. It should also be pointed out that the educational, therapy, and medical options available today are much better than in past decades, and they should be much better in the future. However, it is often up to parents to find these services, determine which are the most appropriate for their child, and ensure that they are properly implemented. Parents are a child’s most powerful advocates and teachers. With the right mix of interventions, most children with autism will be able to improve. As we learn more, children with autism will have a better chance to lead happy and fulfilling lives. \n",
      "****************************************************************************************************\n",
      "19    Attend one or more parent support groups, or join a parent email listserve: Parents can be a wonderful source of support and information.       If you don’t already have one, get a proper diagnosis; you will need it to secure appropriate services. Some practitioners will give you a ‘softer’ diagnosis in order to spare your feelings—this is not actually a kindness, because it will impede your ability to get the services your child needs and is entitled to.       Contact your state’s Developmental Disabilities program and apply for services. Be persistent.       Contact your local school district and ask about school programs. See what they have to offer.       Find a local physician who offers an integrated medical approach to autism. Some physicians will be open to medical and nutritional testing and medical and nutritional treatments, but others will not – find one who is willing to help your child, as opposed to just monitoring the severity of your child’s problems. Do not take your child to a physician who does not support you or respect your viewpoint.       Attend the Autism Research Institute’s free online webinars and continuing education events.       Make sure you still find some time for your other children and spouse/significant other. Having a child with autism can result in many challenges, and you need to be prepared for the long term.     Continue trying to learn all you can. Good luck!  \n",
      "****************************************************************************************************\n"
     ]
    }
   ],
   "source": [
    "l2[7:10] = [' '.join(l2[7:10])]\n",
    "for i in range(len(l2)):\n",
    "    print(i, l2[i])\n",
    "    print('*'*100)"
   ]
  },
  {
   "cell_type": "code",
   "execution_count": 9,
   "id": "bc6c6125",
   "metadata": {},
   "outputs": [
    {
     "data": {
      "text/plain": [
       "(20, 20)"
      ]
     },
     "execution_count": 9,
     "metadata": {},
     "output_type": "execute_result"
    }
   ],
   "source": [
    "len(l1),len(l2)"
   ]
  },
  {
   "cell_type": "code",
   "execution_count": 10,
   "id": "bce5f198",
   "metadata": {},
   "outputs": [
    {
     "data": {
      "text/plain": [
       "['What is the difference between Asperger’s Syndrome and Autism?',\n",
       " 'Common Co-Occurring Conditions in Autism',\n",
       " 'Applied Behavior Analysis',\n",
       " 'Speech Therapy',\n",
       " 'Occupational Therapy',\n",
       " 'Auditory Interventions',\n",
       " 'Computer Software']"
      ]
     },
     "execution_count": 10,
     "metadata": {},
     "output_type": "execute_result"
    }
   ],
   "source": [
    "l3 = []\n",
    "for i in soup.find_all('h4'):\n",
    "    l3.append(i.text.strip())\n",
    "l3 = l3[:7]\n",
    "l3"
   ]
  },
  {
   "cell_type": "code",
   "execution_count": 11,
   "id": "3540883e",
   "metadata": {},
   "outputs": [],
   "source": [
    "for i in soup.find_all('h4'):\n",
    "    x = i.text.strip()\n",
    "    for j in range(len(l2)):\n",
    "        if(x in l2[j]):\n",
    "            l2[j] = l2[j].replace(x,'\\n\\n'+x)"
   ]
  },
  {
   "cell_type": "code",
   "execution_count": 12,
   "id": "d30d3f84",
   "metadata": {
    "scrolled": false
   },
   "outputs": [
    {
     "name": "stdout",
     "output_type": "stream",
     "text": [
      "0 What Is Autism\n",
      "--------------------------------------------------\n",
      "Autism is a developmental disability that typically involves delays and impairment in social skills, language, and behavior. Autism is a spectrum disorder, meaning that it affects people differently. Some children may have speech, whereas others may have little or no speech. Autism is a very broad spectrum. In profound cases, young children may not interact with others, or treat people as objects. In milder cases it involves difficulty understanding and relating to others, and difficulty understanding other people’s perspectives and emotions. Without appropriate support, children will not develop effective social skills and may speak or behave in ways that create challenges. Very few individuals recover completely from autism without any intervention. The good news is that there are a wide variety of medically appropriate treatment options which may be very helpful. Some treatments may lead to measurab le improvement, whereas other treatments may have little or no effect. Because the biological aspects are autism remain elusive, it is impossible to identify an educational strategy or therapy that helps everyone. A growing body of research probing the possible causes of and potential treatments for autism has shed light on co-occuring medical conditions which, when addressed, have improved patient health and  therapeutic outcomes. It is important to understand that autism is a label for people who have a certain set of symptoms (impairments in social skills, language, and behavior). The label of autism does not explain the cause of autism, and it is likely that multiple factors can contribute to the symptoms of autism. \n",
      "\n",
      "What is the difference between Asperger’s Syndrome and Autism? Asperger syndrome was phased out with the introduction of DSM-V in 2013 in favor of an umbrella diagnosis of autism spectrum disorder. The diagnosis of Asperger syndrome was characterized as a subtype of high-functioning autism. Most individuals diagnosed with Asperger syndrome were described as “social but awkward.” That is, they want to have friends, but found it particularly challenging to begin and/or maintain a friendship. Like their peers on the spectrum, high-functioning autistic individuals were often delayed in developing speech/language. Those with Asperger syndrome tended not to have speech/language delays, but their speech was usually described as peculiar, such as being stilted and perseverating on unusual topics. \n",
      "****************************************************************************************************\n",
      "1 Diagnosis\n",
      "--------------------------------------------------\n",
      "Possible symptoms of autism may be observed by a parent, pediatrician, or teacher, and screening tests such as the M-CHAT can help determine if a child is at risk of having autism. However, a formal diagnosis of autism requires an evaluation by an experienced psychiatrist, psychologist, neurologist, or developmental pediatrician (a pediatrician who specializes in developmental disorders). Some individuals are easy to diagnose, but in milder cases or cases with other co-occurring symptoms it can be difficult to obtain a diagnosis. Some children are initially misdiagnosed with other disorders, such as speech delay or ADHD. A clinician should base their diagnosis on both a personal interaction with the child and a discussion with the parents of their behavior in other settings. Two common misconceptions are that if a child can talk or is affectionate then they cannot have autism. That is not true. Some people diagnosed with autism have normal language, and many are affectionate to friends and family. However, the common core of all types of autism spectrum disorders are delays or impairments in social understanding and social relationships. \n",
      "****************************************************************************************************\n",
      "2 Onset of Autism: Early Onset vs. Regression\n",
      "--------------------------------------------------\n",
      "Autism develops sometime during pregnancy and the first three years of life. Some parents report that their child seemed different at birth. These children are referred to as having early-onset autism. Other parents report that their child seemed to develop normally and then had a major regression resulting in autism, usually around 12-24 months. These children are referred to as having late-onset or regressive autism. Some researchers argue that the regression is not real or the autism was simply unnoticed by the child’s parents. However, many parents report that their children were completely normal (e.g., capable of speech, appropriate behavior, and social interaction) until sometime between 1 and 2 years of age. A study published in 2003, conducted by the first author, compared 53 autistic children with 48 typical peers. The parents of the early-onset autism group reported a significant delay in reaching developmental milestones, including age of crawling (2 month delay), sitting up (2 month delay), walking (4-5 month delay), and talking (11 month delay or more). Thus, there appeared to be a delay in gross motor skills as well as of talking, so many children with autism also need physical therapy. In contrast, the late-onset autism group reached developmental milestones at the same time as typical children. Several brain autopsy studies have been interpreted as suggesting that brain damage occurred sometime during the first trimester of pregnancy, but many of these studies involved individuals who were born prior to 1990. Thus, these findings may not apply to what appears to be the new population of people with regressive autism. \n",
      "****************************************************************************************************\n",
      "3 Causes of Autism\n",
      "--------------------------------------------------\n",
      "Autism appears to be due to a combination of genetic and environmental factors, but it is generally unclear which genetic and which environmental factors are important. About 5-10% of autism cases involve a single severe genetic defect or disorder, such as Fragile X or tuberous sclerosis, and many of those individuals develop the symptoms of autism. However, 90-95% of cases do not involve a single severe defect, but instead, appear to require a complex set of many genetic variations and environmental factors. A study (Hallmayer 2011) of 192 twin pairs in California found that when one identical twin has autism, the other co-twin often has autism (50-78% chance). However, siblings can also be normal or even exceptional. The Hallmayer study found that the co-occurrence of autism in fraternal twins was much lower, about 21%-36%. Based on those results, the researchers estimated that genetics accounts for about 38% of autism and that environmental factors account for about 58%. Another interpretation is that certain genetic variations result in greater vulnerability to certain environmental factors, but it is generally unclear which genetic factors and which environmental factors If parents have a child with autism, there is roughly a 19% chance that their future children will also develop autism. The siblings of a child with autism are also at increased risk of speech impairments and cognitive disabilities, which sometimes go undetected. Evaluate siblings for possible speech delays, developmental delays, and learning disabilities, such as dyslexia, which occur in about 25% of siblings. There is no consensus on which environmental factors increase the risk of autism. Since the word “autism” is only a label for people who have a certain set of symptoms, there are likely to be several factors that could cause those symptoms. A few of the suspected environmental causes for which there is some scientific evidence include: food allergies, pesticides, heavy metal toxicity, excessive use of oral antibiotics, deficiencies in essential nutrients, prenatal ultrasound, and many more. One study found that about 12% of mothers of children with autism have antibodies to fetal brain tissue, and those antibodies have been shown to disrupt typical normal development in animals. Many children with autism have abnormalities in their immune system, and these abnormalities likely contribute to their symptoms. About 70% of the immune system resides in the gut, and children with autism often also have major gut problems. One study found that about 40% of mothers of children with autism have abnormalities in both their methylation capacity (turns proteins on/off) and their ability to manufacture glutathione (important antioxidant and defense against toxic metals). Those problems are treatable with folinic acid (a special form of folic acid) and vitamin B12, and may reduce the risk of having a child with autism. These problems are also very common in children with autism, and treatment with folinic acid and vitamin B12 has been shown to improve them. \n",
      "****************************************************************************************************\n",
      "4 Prevalence of Autism\n",
      "--------------------------------------------------\n",
      "There has been a rapid increase in the number of children diagnosed with autism. In the 1970’s the incidence of autism was 2-3 per 10,000. Today, according to the Center for Disease Control (CDC), the estimated prevalence of autism spectrum disorder in the U.S. is 1 in 54 children. We do not know why there has been a dramatic increase in autism over the past 25 years, but there are several reasonable hypotheses. Since there is more than one cause of autism, there may be more than one reason for the increase. A small portion of the increase of autism may be due to improved diagnosis and awareness, but a report from California (King 2009) reveals that this only explains 25% of the increase. The major reason for the increase is certainly due to environmental factors, not genetics, since there is no such thing as a ‘genetic epidemic.’ Some possible environmental factors were discussed in the previous section, and an increased occurrence of one or several of those factors probably accounts for the rapid increase in autism \n",
      "\n",
      "Common Co-Occurring Conditions in Autism    Intellectual and Developmental Disability (IDD): The fraction of people with autism who also meet criteria for IDD has been reported as anywhere from 25% to 70%, a wide variation illustrating the difficulty of assessing intelligence when language delays are present. Parents should request non-verbal intelligence tests that do not require language skills, such as the Test for Nonverbal Intelligence (TONI). Regardless of the result, realize that autistic children will develop more skills as they grow older, and that appropriate therapies and education can help them reach their full potential.       Seizures: It is estimated that 25% of autistic individuals eventually develop seizures, some in early childhood and others as they go through puberty (changes in hormone levels may trigger seizures). These seizures can range from mild (e.g., gazing into space for a few seconds) to severe, grand mal seizures.Most people with autism have subclinical seizures which are not easily noticeable but can significantly affect mental function. A short one- or two-hour EEG may not be able to detect any abnormal activity, so a 24-hour EEG may be necessary. Although drugs can be used to reduce seizure activity, the child’s health must be checked regularly because these drugs can be harmful.A recent large survey of treatment effectiveness (Frye and Adams, 2011) found that standard anti-seizure medications do control seizures but often worsen other symptoms, some more so than others. That study also found that special diets (ketogenic diet, modified Atkins’ diet, and a gluten-free, casein-free diet) were beneficial in controlling seizures and actually improved, not worsened, other symptoms.There is much evidence that certain nutritional supplements, especially vitamin B6 and dimethylglycine (DMG), can provide a safer and more effective alternative to drugs, for many individuals.       Low Muscle Tone: A study conducted by the first author found that 30% of autistic children have moderate to severe loss of muscle tone, and this can limit their gross and fine motor skills. That study found that these children tend to have low potassium levels. Increased consumption of fruit and vegetables (good sources of potassium) may be helpful. Occupational and physical therapy, implemented on a daily basis, can help.       Pica: 30% of children with autism have moderate to severe pica. Pica refers to eating non-food items such as paint, sand, dirt, paper, etc. Pica can expose the child to heavy metal poisoning, especially if there is lead in the paint or in the soil. Discuss zinc supplementation with your clinician.       Sensory Sensitivities: Many autistic children have unusual sensitivities to sounds, sights, touch, taste, and smells. High-pitched intermittent sounds, such as fire alarms or school bells, may be painful to autistic children. Scratchy fabrics may also be intolerable, and some children have visual sensitivities. They are troubled by the flickering of fluorescent lights. If the child often has tantrums in large supermarkets, it is possible that he/she has severe sensory oversensitivity. Sensory sensitivities are highly variable in autism, from mild to severe. Even though a pure tone hearing test may imply normal hearing, the child may have difficulty hearing auditory details and hard consonant sounds.Some children have very high pain thresholds (i.e., they are insensitive to pain), whereas others have very low pain thresholds. Interventions designed to help normalize their senses, such as sensory integration, Auditory Integration Training (AIT), and Irlen lenses, are discussed later in this paper.       Sleep Problems: Many with autism have sleep problems. Night waking may be due to reflux of stomach acid into the esophagus, often caused by food intolerances. Placing bricks under the mattress at the head of the bed may help keep stomach acid from rising and provide better sleep; possible dietary issues should be discussed with a knowledgeable professional. Many rigorous studies have shown that melatonin is often useful in helping autistic individuals fall asleep. Other popular interventions include tryptophan or 5-HTP (nutrients which the body converts to melatonin). Implementing a regular bedtime routine (taking a bath, brushing teeth, reading a book) can help induce sleep. Vigorous exercise will help a child sleep, and other sleep aids include a weighted blanket or tight fitting mummy-type sleeping bag.       Chronic Constipation and/or Diarrhea: A large-scale survey of over 1,000 individuals on the autism spectrum found that 45% had gastrointestinal problems; and the older the individual, the more likely they had these problems. Note: Diarrhea may actually be due to constipation—i.e., only liquid is able to leak past a large stool mass in the intestine. Manual probing often fails to find an impaction. An abdominal x-ray is a simple method to check for hidden constipation but needs careful interpretation. Children with significant gastrointestinal problems should see a pediatric gastroenterologist. Unfortunately, gastrointestinal problems are often ignored and untreated due to autism, but it is important for parents to persevere and seek medical help.    \n",
      "****************************************************************************************************\n",
      "5 Medical Testing and Treatments\n",
      "--------------------------------------------------\n",
      "Routine medical tests are usually performed by traditional pediatricians, but these exams rarely reveal underlying medical problems that are often associated with autism, such as gastrointestinal problems, nutritional and metabolic deficiencies, toxic metal burden, and immune dysfunction. Unfortunately, many physicians believe, though incorrectly, that the only useful medical treatments are psychiatric medications to reduce seizures and behavioral problems. Genetic testing for Fragile X syndrome can help identify one possible cause, and this testing is typically recommended when there is IDD in the family history. The Autism Research Institute supports an integrative medical approach to treating individuals on the autism spectrum. This approaches often includes:  Thorough medical evaluation for undetected underlying disease Nutritional support Testing for hidden food allergies, and avoidance of allergenic foods Treatment of medically diagnosed, intestinal bacterial infections  \n",
      "****************************************************************************************************\n",
      "6 Psychiatric Medications\n",
      "--------------------------------------------------\n",
      "The various topics covered in this overview paper for parents of young autistic children represent, for the most part, a consensus of the views, based on research and personal experience, of all four authors. However, the authors differ in their opinions on the role psychoactive drugs should play. We will present you with the conflicting opinions, so you can decide for yourself. Grandin has a relatively accepting position on the use of psychiatric medications in autistic children. She feels that it is worthwhile to consider drugs as a viable and useful treatment. Rimland and Edelson, on the other hand, are strongly opposed to the use of drugs except as a possible last resort, etc. – They feel the risks are great and consistently outweigh the benefits. Adams has an intermediate view. There are no psychiatric medications for “autism,” but there are many psychiatric medications used for treating specific symptoms often found in autism, such as aggression, self-injury, anxiety, depression, obsessive/compulsive disorders, and attention deficit/hyperactivity disorder (ADHD). These medications generally function by altering the level of neurotransmitters (chemical messengers) in the brain. There is no medical test to determine if a particular medication is called for; the decision is based on the psychiatrist’s evaluation of the patient’s symptoms. This is a “trial and error” approach, as dosages need to be adjusted differently for each person, and one medication may be ineffective or have negative effects while others are helpful. For some classes of drugs the doses which are successful for reducing symptoms, such as aggression or anxiety, are much lower for those with autism than for normal people. For the SSRI drugs, such as Prozac (Fluoxetine), Zoloft (Sertraline), and other antidepressants, the best dose may be only one-third of the normal starting dose. Too high a dose may cause agitation or insomnia. If agitation occurs, the dose must be lowered. The low-dose principle also applies to all drugs in the atypical or third generation antipsychotic drug class, such as Risperdal (Risperidone). The effective dose will vary greatly between individuals. Start low and use the lowest effective dose. Other classes of drug, such as anticonvulsants, will usually require the same doses that are effective in normal individuals. Antidepressant drugs such as Prozac or Lexapro often work best for anxiety and panic attacks. Antidepressants stopped my constant panic attacks and my colitis cleared up and stopped. I have been taking a low dose of desipramine, an old tricyclic, for over 30 years. The medication stopped debilitating panic attacks. The atypical antipsychotics have much more serious side effects than antidepressants. Medications such as Risperdal and Abilitfy should be reserved for severe aggression problems in older children and adults. They should not be given to young children as sleep aids or to reduce hyperactivity. The side effects of the atypical antipsychotic class of drugs are high weight gain, diabetes, and tardive dyskinesia (movement disorder). For more information consult the 2nd edition of Grandin’s book, “The Way I See It.” Psychiatric medications are widely used to treat the symptoms of autism, and they can be beneficial to many older children and adults. However, there are concerns over their use. There is relatively little research on their use for children with autism. There are almost no studies on the long-term effects of their use, especially for the newer medications, and there is a concern that their long-term use in children may affect their development. They treat the symptoms, but not the underlying medical causes of autism. One must balance risk versus benefit. A drug should have an obvious positive effect to make it work the risk. In order to observe the effect of a drug, do not start a drug at the same time as you start some other treatment. There are far too many powerful drugs given to young children for trivial reasons. In young children, special diets, vitamins, and fish oil supplements should be tried first. \n",
      "****************************************************************************************************\n",
      "7 Rimland and Edelson\n",
      "--------------------------------------------------\n",
      "ARI has, for many years, encouraged research on those medical interventions that treat the underlying problems rather than on therapies that simply mask or inhibit the resulting symptoms. An integrated medical approach is ideal since it considers overall function of the whole body, not just the brain. This approach often involves restricted diets and nutritional supplements as well as the reduction of accumulated toxins, such as pesticides and heavy metals. In contrast, ‘standard practice’ offered by traditional pediatricians, child psychiatrists, and child neurologists often relies on prescription drugs which can have rather severe side-effects. The Autism Research Institute (ARI) has collected data from many thousands of parents about their experiences with psychiatric medications and other treatments. In general, parents report that the medications are about equally likely to cause problems or to help, with some being worse than others. This is in contrast to other treatments for which ARI has collected data, such as nutritional supplements, special diets, and detoxification, which were more likely to help and very rarely caused problems. The results of this ongoing collection of parent survey data is available at www.autism.com Here are the parent ratings from March 2009 of the three most often used drugs and the three most often used nutrients:    Three most used drugs Got Worse No Effect Got Better Better:Worse No. of cases   Ritalin 45% 26% 29% 0.6:1 4256   Benedryl 24% 50% 26% 1.1:1 3230   Risperidal 21% 26% 54% 2.6:1 1216        Three most used vitamins Got Worse No Effect Got Better Better:Worse No. of cases   Vit. B6 & Mag. 4% 46% 49% 11:1 7256   DMG 8% 50% 42% 5.3:1 6363   Vit. C 2% 52% 46% 20:1 3077     Note: These data pertain only to behavioral effects. The drugs, but not the vitamins, often cause significant physical problems. We feel that psychoactive drugs should not be used at all on your children, and should be used only as a last resort, not as an initial treatment, on autistic teenagers and adults. ARI has collected information from parents of autistic children on their evaluation of various treatments, including drugs, since 1967. Some adolescents and adults are helped by anti-psychotic drugs, such as Risperdal, or anti-depressants, such as Tofranil, but the risk of side effects is significant. When psychoactive drugs are used with autistic teenagers or adults, it is often found that a very low dose, perhaps one-fourth or one-fifth of the usual dosage, is sufficient. \n",
      "****************************************************************************************************\n",
      "8 Adams\n",
      "--------------------------------------------------\n",
      "Psychiatric medications are not well-tested in young children with autism, especially for long-term use, and often have significant side-effects. An integrated medical approach (nutritional support, diet changes, detoxification) is much safer and addresses core problems rather than symptoms. Whereas psychiatric medications generally function by altering neurotransmitter levels/function, nutritional supplementation with vitamins, minerals, and amino acids allows the body to make its own. So, I think an integrated medical approach should be tried first, especially in young children, because it generally has far fewer side-effects, and addresses the underlying core problems. However, there are some children and adults who have benefited from psychiatric medications, so they are reasonable to consider after an integrated medical approach has been tried. In young children, they should be used only very cautiously, and beginning with low doses. \n",
      "****************************************************************************************************\n",
      "9 Speech Development\n",
      "--------------------------------------------------\n",
      "One of the most common questions parents ask is: Will my child develop speech? An analysis of ARI’s data involving 30,145 cases indicated that 9% never develop speech. Of those who develop speech, 43% begin to talk by the end of their first year, 35% begin to talk sometime between their first and second year, and 22% begin to talk in their third year and after. A smaller survey conducted by the first author found that only 12% were totally non-verbal by age 5. So, with appropriate interventions, there is reason to hope that children with autism can learn to talk, at least to some extent, and non-verbal older children and adults can sometimes learn to talk or communicate in other ways. There are several ways to help autistic children learn to talk, including:    Teaching speech with sign language; it is easy for parents to learn a few simple signs and use them when talking to their child. This is referred to as ‘simultaneous communication’ or ‘signed speech.’ Research suggests that the use of sign language increases the chance of children learning spoken language.       Teaching with the Picture Exchange Communication System (PECS), which involves pointing to a set of pictures or symbols on a board. As with sign language, it can also be effective in teaching speech.       \n",
      "\n",
      "Applied Behavior Analysis: described in more detail later       Encouraging a child to sing with a videotape or audiotape       Vestibular stimulation, such as swinging on a swing, while teaching speech       Several nutritional/medical approaches have been associated with dramatic improvements in speech production, including dimethylglycine (DMG), vitamin B6 with magnesium, and the gluten-/casein-free diet. (To be discussed further below.)       Use of other augmentative communication devices, such as picture boards coupled with sound, or keyboards for typing.    \n",
      "****************************************************************************************************\n",
      "10 Educational/Behavioral Approaches\n",
      "--------------------------------------------------\n",
      "Educational/behavioral therapies are often effective in children with autism, with Applied Behavioral Analysis (ABA) usually being the most effective—ABA has significantly more published scientific support than any other form of educational therapy. These methods can be used together with dietary and medical interventions, as together they offer the best chance for improvement. Parents, siblings, and friends may play an important role in assisting the development of children with autism. Typical pre-school children learn primarily by play, and the importance of play in teaching language and social skills cannot be overemphasized. Ideally, many of the techniques used in ABA, sensory integration, and other therapies can be extended throughout the day by family and friends. \n",
      "\n",
      "Applied Behavior Analysis Many different behavioral interventions have been developed for children with autism, and they mostly fall under the category of Applied Behavioral Analysis (ABA). This approach generally involves therapists who work intensely, one-on-one with a child for 20 to 40 hours/week. Children are taught skills in a simple step-by-step manner, such as learning colors one at a time. The sessions usually begin with formal, structured drills, such as learning to point to a color when its name is given; then, after some time, there is a shift towards generalizing skills to other situations and natural environments. A study published by Dr. Ivar Lovaas at UCLA in 1987 involved two years of intensive, 40-hour/week behavioral intervention by trained graduate students working with 19 young autistic children ranging from 35 to 41 months of age. Almost half of the children improved so much that they were indistinguishable from typical children, and these children went on to lead fairly normal lives. Of the other half, most had significant improvements, but a few did not improve much. Today, ABA programs are widely accepted, and the American Medical Association and the US Surgeon General recommend ABA therapy for children with autism. ABA programs are most effective when started early (before age 5 years), but they can also be helpful to older children. They are especially effective in teaching non-verbal children how to talk. There is general agreement that:    behavioral interventions involving one-on-one interactions are usually beneficial, sometimes with very positive results       the interventions are most beneficial with the youngest children, but older children can benefit       the interventions should involve a substantial amount of time each week, between 20-40 hours depending on whether the child is in school       the program should include as much prompting as necessary to achieve a high level of success, with a gradual fading of prompts       the program should include properly trained therapists and ongoing supervision       there should be regular team meetings to maintain consistency between therapists and check for problems       most importantly, the sessions should be fun for the children in order to maintain their interest and motivation; if your child isn’t happy to see his/her therapist, find a new one     Parents are encouraged to obtain training in ABA, so that they can provide it themselves and/or help supervise other providers. Board-certified behavior analysts (BCBA’s) are often available, and there are often workshops on how to provide ABA therapy.Sensory IntegrationAs mentioned above, many people with autism have sensory problems, which can range from mild to severe. Sensory integration focuses primarily on three senses — vestibular (i.e., motion, balance), tactile (i.e., touch), and proprioception (e.g., joints, ligaments). Many techniques are used to stimulate these senses in order to normalize them.  \n",
      "\n",
      "Speech Therapy   This may be beneficial to many autistic children, but often only 1-2 hours/week is available, so it probably has only modest benefit unless integrated with other home and school programs. As mentioned earlier, sign language and PECS may also be very helpful in developing speech. Speech therapists should work on helping the child to hear hard consonant sounds such as the “c” in cup. It is often helpful if the therapist stretches out and enunciates the consonant sounds. \n",
      "\n",
      "Occupational Therapy  Can be beneficial for the sensory needs of these children, who often have hypo- and/or hyper-sensitivities to sound, sight, smell, touch, and taste. May include sensory integration (above). Physical Therapy: Often children with autism have limited gross and fine motor skills, so physical therapy can be helpful. May also include sensory integration (above). \n",
      "\n",
      "Auditory Interventions  There are several types of auditory interventions. The only one with significant scientific backing is Berard Auditory Integration Training (called Berard AIT or AIT), which involves listening to processed music for a total of 10 hours (two half-hour sessions per day, over a period of 10 to 12 days). Research has shown that AIT improves auditory processing, decreases or eliminates sound sensitivity, and reduces behavioral problems in some autistic children.Other auditory interventions include the Tomatis approach, the Listening Program, and the SAMONAS method. There is little evidence to support their efficacy [sme1] Computer-based auditory interventions have also received some empirical support. They include Earobics and Fast ForWord. These programs have been shown to help children who have delays in language and have difficulty discriminating speech sounds. Earobics is less expensive (less than $100) but appears to be less powerful than the Fast ForWord program (usually over $1,000). Some families use the Earobics program first and then later use Fast ForWord. \n",
      "\n",
      "Computer Software  There are many educational programs available for typical children, and some of them may be of benefit for autistic children. There is also some computer software designed specifically for children with developmental disabilities. One major provider is Laureate. Vision Training and Irlen Lenses: Many autistic people have difficulty attending to their visual environment and/or perceiving themselves in relation to their surroundings. These problems can include having a short attention span, being easily distracted, excessive eye movements, difficulty scanning or tracking movements, inability to catch a ball, being cautious when walking up or down stairs, bumping into furniture, and even toe walking. A one- to two-year vision training program involving ambient prism lenses and performing visual-motor exercises can reduce or eliminate many of these problems. See www.AutisticVision.com. More information on vision training can be found on the Internet website of the College of Optometrists in Vision Development www.pavevision.org. Another visual/perceptual program involves wearing Irlen lenses. Irlen lenses are colored (tinted) lenses. Individuals who benefit from these lenses are often hypersensitive to certain types of lighting, such as florescent lights and bright sunlight; hypersensitive to certain colors or color contrasts; and/or have difficulty reading printed text. Irlen lenses can reduce one’s sensitivity to these lighting and color problems as well as improve reading skills and increase attention span. See www.Irlen.com.  \n",
      "****************************************************************************************************\n",
      "11 RDI\n",
      "--------------------------------------------------\n",
      "This is a method for teaching children how to develop relationships, first with their parents and later with their peers. It directly addresses a core issue in autism, namely the development of social skills and friendships. It involves extensive training of the parents by a certified RDI consultant, so that they become much more able to effectively interact with their children. The parents typically spend 1 hour/day doing formal therapy with their child, but integrate RDI concepts throughout the rest of the day. There is limited data on its efficacy. \n",
      "****************************************************************************************************\n",
      "12 Preparing for the Future\n",
      "--------------------------------------------------\n",
      "Temple Grandin: “As a person with autism I want to emphasize the importance of developing the child’s talents. Skills are often uneven in autism, and a child may be good at one thing and poor at another. I had talent in drawing, and this talent later developed into a career in designing cattle-handling systems for major beef companies. Too often there is too much emphasis on deficits and not enough emphasis on talents. Abilities in children with autism will vary greatly, and many individuals will function at a lower level than me. However, developing talents and improving skills will benefit all. If a child becomes fixated on trains, then use the great motivation of that fixation to motivate learning other skills. For example, use a book about trains to teach reading, use calculating the speed of a train to teach math, and encourage an interest in history by studying the history of the railroads.” \n",
      "****************************************************************************************************\n",
      "13 Developing Friendships\n",
      "--------------------------------------------------\n",
      "Although young children with autism may seem to prefer to be by themselves, one of the most important issues for older children and adults is the development of friendships with peers. It can take a great deal of time and effort for them to develop the social skills needed to be able to interact successfully with other children, but it is important to start early. In addition, bullying in middle and high school can be a major problem for students with autism, and the development of friendships is one of the best ways to prevent this problem. One of the best ways to develop friendships is through shared interests such as boy scouts, robotics clubs, school plays, band, school newspaper, FFA, or 4H projects. Those activities provide peers with whom a child can share his or her favorite interests. Friendships can be encouraged informally by inviting other children to the home to play, with parents or therapists helping to supervise and support those playgroups. In school, recess can be a valuable time for teachers to encourage play with other children (supervision is important). Furthermore, time can be set aside in school for formal “play time” between children with autism and volunteer peers – typical children usually think that play time is much more fun than regular school, and it can help develop lasting friendships. This is probably one of the most important issues to include in a student’s Individualized Education Program (IEP, or education plan for the child). \n",
      "****************************************************************************************************\n",
      "14 State Services\n",
      "--------------------------------------------------\n",
      "Most states will provide some services for children with autism, primarily funded by the federal Medicaid program. Many states have waiting lists for a limited number of slots. The quality of services varies widely state to state. Most states have one set of services for children under 3 years old (early intervention), and a second set of services for older children and adults. State Services for Developmental Disabilities. Typical state services for people with autism include respite, habilitation, speech therapy, and occupational therapy. These services are generally provided as part of the federal Medicaid program. The qualifications for these programs vary between states, but are generally limited to children with significant developmental delays. Once a child is deemed eligible, he/she may be awarded service hours. Many states have waiting lists for services, but some states provide services to everyone who qualifies. It is then up to the parent to choose a provider agency for each type of service. Speech therapists, occupational therapists, and physical therapists are in high demand, and the state usually pays only modest rates. Thus, it can be a challenge to find them. Similarly, it can be very challenging to find respite and habilitation providers (for an ABA program), and an even greater challenge to train and retain them. Often parents need to advertise for therapists and then bring them to a provider agency for hiring. Often parents need to hire behavior consultants to train their habilitation (ABA) workers; this is very important and highly recommended if the parents can afford it. \n",
      "****************************************************************************************************\n",
      "15 School Programs\n",
      "--------------------------------------------------\n",
      "For children younger than 3 years old, there are early intervention programs. For children over 3 years of age, there are pre-school and school programs available. Parents should contact their local school district for information on their local programs. In some cases a separate program for special-needs children may be best, but for higher-functioning children integration into a regular school setting may be more appropriate, provided that there is enough support (a part or full-time aide, or other accommodations as needed). It is important that parents work with their child’s teacher on an Individual Education Plan (IEP), which outlines in great detail the child’s educational program. The IEP should not be limited to academic skills, but should include focus on language, social skills, and developing friendships. Additionally, meeting with the child’s classmates and/or their parents can be helpful in encouraging other students to interact positively with the autistic child. In some states, home therapy programs (such as ABA and speech therapy) may be funded by the school district, rather than through the state. However, it may take considerable effort to convince the school district to provide those services. Check with your local ASA chapter and other parents about how services are usually provided in your state. \n",
      "****************************************************************************************************\n",
      "16 Social Security Assistance\n",
      "--------------------------------------------------\n",
      "Families with limited income (under about $25,000-$35,000/yr depending on family size and assets) can apply to the Social Security agency to obtain monies to help children with a disability. For more information, contact your local social security office by calling 1-800-772-1213. \n",
      "****************************************************************************************************\n",
      "17 Special Needs Trust\n",
      "--------------------------------------------------\n",
      "Children who have assets over approximately $2000 are ineligible to receive state and federal services. They must spend their money first. However, most states allow “special needs trusts” to be set up for children with disabilities. These are irrevocable trusts in which a guardian decides how to spend the money on the child. They are the best way for relatives to leave funds to the child, because these monies do not count against the child when determining their eligibility for government services. For more information, contact a lawyer who specializes in special needs trusts. In addition to working out the financial details, it is very useful to write up a description of suggestions of how you want your child cared for and/or supported. MetLife also has a special program for children with developmental disabilities. \n",
      "****************************************************************************************************\n",
      "18 Long-term Prognosis\n",
      "--------------------------------------------------\n",
      "Today, most adults with autism are either living at home with their parents or living in a group home. Some higher-functioning people live in a supported-living situation, with modest assistance, and some are able to live independently. Some are able to work, either in volunteer work, sheltered workshops, or private employment, but many do not. Adults with PDD/NOS and Asperger’s generally are more likely to live independently, and they are more likely to work. Unfortunately, they often have difficulty finding and then maintaining a job. The major reason for chronic unemployment is not a lack of job skills, but limited social skills. Thus, it is important to encourage appropriate social skills early on. Some of the most successful people on the autism spectrum who have good jobs have developed expertise in a specialized skill that people value. If a person makes him-/herself very good at something, this can help make up for some difficulties with social skills. Good fields for higher functioning people on the spectrum are architectural drafting, computer programming, language translation, special education, library services and science. It is likely that some brilliant scientists and musicians have a mild form of Asperger’s Syndrome (Ledgin, 2002). The individuals who are most successful often have mentors either in high school, college, or at a place of employment. Mentors can help channel interests into careers. It should also be pointed out that the educational, therapy, and medical options available today are much better than in past decades, and they should be much better in the future. However, it is often up to parents to find these services, determine which are the most appropriate for their child, and ensure that they are properly implemented. Parents are a child’s most powerful advocates and teachers. With the right mix of interventions, most children with autism will be able to improve. As we learn more, children with autism will have a better chance to lead happy and fulfilling lives. \n",
      "****************************************************************************************************\n",
      "19 What To Do Next\n",
      "--------------------------------------------------\n",
      "   Attend one or more parent support groups, or join a parent email listserve: Parents can be a wonderful source of support and information.       If you don’t already have one, get a proper diagnosis; you will need it to secure appropriate services. Some practitioners will give you a ‘softer’ diagnosis in order to spare your feelings—this is not actually a kindness, because it will impede your ability to get the services your child needs and is entitled to.       Contact your state’s Developmental Disabilities program and apply for services. Be persistent.       Contact your local school district and ask about school programs. See what they have to offer.       Find a local physician who offers an integrated medical approach to autism. Some physicians will be open to medical and nutritional testing and medical and nutritional treatments, but others will not – find one who is willing to help your child, as opposed to just monitoring the severity of your child’s problems. Do not take your child to a physician who does not support you or respect your viewpoint.       Attend the Autism Research Institute’s free online webinars and continuing education events.       Make sure you still find some time for your other children and spouse/significant other. Having a child with autism can result in many challenges, and you need to be prepared for the long term.     Continue trying to learn all you can. Good luck!  \n",
      "****************************************************************************************************\n"
     ]
    }
   ],
   "source": [
    "for i in range(len(l2)):\n",
    "    print(i,l1[i])\n",
    "    print('-'*50)\n",
    "    print(l2[i])\n",
    "    print('*'*100)"
   ]
  },
  {
   "cell_type": "markdown",
   "id": "00979f89",
   "metadata": {},
   "source": [
    "# Check which questions are similar"
   ]
  },
  {
   "cell_type": "code",
   "execution_count": 13,
   "id": "d1f8a700",
   "metadata": {},
   "outputs": [],
   "source": [
    "stop_words = set(stopwords.words('english'))\n",
    "\n",
    "def clean_text(sent):\n",
    "    sent = sent.lower() # lowercase\n",
    "    sent = re.sub(r'[^\\w\\s]', '', sent) # remove punctuations\n",
    "    sent = re.sub('autism spectrum disorder','asd',sent) # Compress term\n",
    "    sent = re.sub('autism','asd',sent) # Compress term\n",
    "    sent = [w for w in sent.split() if not w.lower() in stop_words] # Remove stopwords\n",
    "    sent = \" \".join(sent)\n",
    "    return sent"
   ]
  },
  {
   "cell_type": "code",
   "execution_count": 14,
   "id": "82e06707",
   "metadata": {},
   "outputs": [],
   "source": [
    "def jaccard_similarity(list1, list2):\n",
    "    s1 = set(list1)\n",
    "    s2 = set(list2)\n",
    "    return float(len(s1.intersection(s2)) / len(s1.union(s2)))"
   ]
  },
  {
   "cell_type": "code",
   "execution_count": 15,
   "id": "1ea49412",
   "metadata": {},
   "outputs": [],
   "source": [
    "def sim(li):\n",
    "    for c1,i in enumerate(li):\n",
    "        i2 = clean_text(i)\n",
    "        list1 = i2.split()\n",
    "\n",
    "        temp1 = 0.0\n",
    "        temp2 = ''\n",
    "        temp3 = ''\n",
    "        temp4 = 0\n",
    "        temp5 = 0\n",
    "\n",
    "        for c2,j in enumerate(df['Question']):\n",
    "            j2 = clean_text(j)\n",
    "            list2 = j2.split()\n",
    "\n",
    "            sim = jaccard_similarity(list1, list2)\n",
    "\n",
    "            if(sim>temp1):\n",
    "                temp1 = sim\n",
    "                temp2 = j\n",
    "                temp3 = i\n",
    "                temp4 = c2\n",
    "                temp5 = c1\n",
    "\n",
    "        if(temp1>0):\n",
    "            print('Website --> ',temp3,'(Index {})'.format(temp5))\n",
    "            print('100 questions list --> ',temp2,'(Index {})'.format(temp4))\n",
    "            print(temp1)\n",
    "            print('*'*100)"
   ]
  },
  {
   "cell_type": "code",
   "execution_count": 16,
   "id": "7cf2e775",
   "metadata": {},
   "outputs": [
    {
     "name": "stdout",
     "output_type": "stream",
     "text": [
      "Website -->  What Is Autism (Index 0)\n",
      "100 questions list -->  What is Autism? (Index 4)\n",
      "1.0\n",
      "****************************************************************************************************\n",
      "Website -->  Diagnosis (Index 1)\n",
      "100 questions list -->  Are their tests that are not recommended for the diagnosis or management of autism? (Index 25)\n",
      "0.2\n",
      "****************************************************************************************************\n",
      "Website -->  Onset of Autism: Early Onset vs. Regression (Index 2)\n",
      "100 questions list -->  What are 16 early signs of autism by 16 months? (Index 3)\n",
      "0.25\n",
      "****************************************************************************************************\n",
      "Website -->  Causes of Autism (Index 3)\n",
      "100 questions list -->  What is Autism? (Index 4)\n",
      "0.5\n",
      "****************************************************************************************************\n",
      "Website -->  Prevalence of Autism (Index 4)\n",
      "100 questions list -->  What is Autism? (Index 4)\n",
      "0.5\n",
      "****************************************************************************************************\n",
      "Website -->  Medical Testing and Treatments (Index 5)\n",
      "100 questions list -->  Is there any harm in trying unproven treatments on my child? (Index 59)\n",
      "0.14285714285714285\n",
      "****************************************************************************************************\n",
      "Website -->  Psychiatric Medications (Index 6)\n",
      "100 questions list -->  Are antipsychotic medications helpful in the treatment of autism? (Index 54)\n",
      "0.16666666666666666\n",
      "****************************************************************************************************\n",
      "Website -->  Speech Development (Index 9)\n",
      "100 questions list -->  Is there a link between MMR Vaccine and the development of Autism? (Index 28)\n",
      "0.16666666666666666\n",
      "****************************************************************************************************\n",
      "Website -->  State Services (Index 14)\n",
      "100 questions list -->  What other healthcare services are available for my child? (Index 74)\n",
      "0.2\n",
      "****************************************************************************************************\n",
      "Website -->  Social Security Assistance (Index 16)\n",
      "100 questions list -->  How long does it take for Social Security to determine if my child is disabled (Index 66)\n",
      "0.25\n",
      "****************************************************************************************************\n",
      "Website -->  Special Needs Trust (Index 17)\n",
      "100 questions list -->  What is a special needs trust? (Index 78)\n",
      "1.0\n",
      "****************************************************************************************************\n",
      "Website -->  Long-term Prognosis (Index 18)\n",
      "100 questions list -->  What is the prognosis of children with Autism? (Index 14)\n",
      "0.25\n",
      "****************************************************************************************************\n",
      "Website -->  What To Do Next (Index 19)\n",
      "100 questions list -->  What should I do next? (Index 8)\n",
      "1.0\n",
      "****************************************************************************************************\n"
     ]
    }
   ],
   "source": [
    "sim(l1)"
   ]
  },
  {
   "cell_type": "code",
   "execution_count": 17,
   "id": "0e232f88",
   "metadata": {},
   "outputs": [],
   "source": [
    "# Website, 100Q\n",
    "# 0, 4\n",
    "# 1, 1\n",
    "# 2, 3\n",
    "# 3, 90\n",
    "# 5, 23\n",
    "# 10, 40\n",
    "# 14, 74\n",
    "# 15, 44\n",
    "# 16, 70\n",
    "# 18, 14\n",
    "# 19, 8"
   ]
  },
  {
   "cell_type": "code",
   "execution_count": 18,
   "id": "4de81c71",
   "metadata": {},
   "outputs": [
    {
     "name": "stderr",
     "output_type": "stream",
     "text": [
      "C:\\Users\\aparg\\anaconda3\\envs\\ASD_scraping\\lib\\site-packages\\pandas\\core\\indexing.py:1732: SettingWithCopyWarning: \n",
      "A value is trying to be set on a copy of a slice from a DataFrame\n",
      "\n",
      "See the caveats in the documentation: https://pandas.pydata.org/pandas-docs/stable/user_guide/indexing.html#returning-a-view-versus-a-copy\n",
      "  self._setitem_single_block(indexer, value, name)\n"
     ]
    }
   ],
   "source": [
    "# Directly add answer to existing dataframe\n",
    "l4 = [[0, 4],\n",
    "    [1, 1],\n",
    "    [2, 3],\n",
    "    [3, 90],\n",
    "    [5, 23],\n",
    "    [10, 40],\n",
    "    [14, 74],\n",
    "    [15, 44],\n",
    "    [16, 70],\n",
    "    [18, 14],\n",
    "    [19, 8]]\n",
    "\n",
    "for i in l4:\n",
    "    df[link].loc[i[1]] = l2[i[0]]"
   ]
  },
  {
   "cell_type": "code",
   "execution_count": 19,
   "id": "38b7c5a5",
   "metadata": {},
   "outputs": [
    {
     "name": "stdout",
     "output_type": "stream",
     "text": [
      "Website -->  What is the difference between Asperger’s Syndrome and Autism? (Index 0)\n",
      "100 questions list -->  How can you tell Autism from Asperger’s Syndrome? (Index 10)\n",
      "0.6\n",
      "****************************************************************************************************\n",
      "Website -->  Common Co-Occurring Conditions in Autism (Index 1)\n",
      "100 questions list -->  What is Autism? (Index 4)\n",
      "0.25\n",
      "****************************************************************************************************\n",
      "Website -->  Applied Behavior Analysis (Index 2)\n",
      "100 questions list -->  What is Applied Behavioral Analysis? (Index 34)\n",
      "0.5\n",
      "****************************************************************************************************\n",
      "Website -->  Speech Therapy (Index 3)\n",
      "100 questions list -->  What is chelation therapy? (Index 64)\n",
      "0.3333333333333333\n",
      "****************************************************************************************************\n",
      "Website -->  Occupational Therapy (Index 4)\n",
      "100 questions list -->  What is chelation therapy? (Index 64)\n",
      "0.3333333333333333\n",
      "****************************************************************************************************\n",
      "Website -->  Auditory Interventions (Index 5)\n",
      "100 questions list -->  Are dietary interventions helpful to autistic children? (Index 60)\n",
      "0.16666666666666666\n",
      "****************************************************************************************************\n",
      "Website -->  Computer Software (Index 6)\n",
      "100 questions list -->  What type of computer should an autistic child use? (Index 49)\n",
      "0.16666666666666666\n",
      "****************************************************************************************************\n"
     ]
    }
   ],
   "source": [
    "sim(l3)"
   ]
  },
  {
   "cell_type": "code",
   "execution_count": 20,
   "id": "22d545cf",
   "metadata": {},
   "outputs": [],
   "source": [
    "# 0, 10\n",
    "# 2, 34"
   ]
  },
  {
   "cell_type": "code",
   "execution_count": 21,
   "id": "2f065606",
   "metadata": {},
   "outputs": [],
   "source": [
    "# Directly add answer to existing dataframe\n",
    "df[link].loc[10] = l2[0].split(l3[0])[1]\n",
    "df[link].loc[34] = l2[10].split(l3[2])[1]"
   ]
  },
  {
   "cell_type": "code",
   "execution_count": 22,
   "id": "7e648712",
   "metadata": {},
   "outputs": [
    {
     "data": {
      "text/plain": [
       "['What Is Autism',\n",
       " 'Diagnosis',\n",
       " 'Onset of Autism: Early Onset vs. Regression',\n",
       " 'Causes of Autism',\n",
       " 'Prevalence of Autism',\n",
       " 'Medical Testing and Treatments',\n",
       " 'Psychiatric Medications',\n",
       " 'Rimland and Edelson',\n",
       " 'Adams',\n",
       " 'Speech Development',\n",
       " 'Educational/Behavioral Approaches',\n",
       " 'RDI',\n",
       " 'Preparing for the Future',\n",
       " 'Developing Friendships',\n",
       " 'State Services',\n",
       " 'School Programs',\n",
       " 'Social Security Assistance',\n",
       " 'Special Needs Trust',\n",
       " 'Long-term Prognosis',\n",
       " 'What To Do Next']"
      ]
     },
     "execution_count": 22,
     "metadata": {},
     "output_type": "execute_result"
    }
   ],
   "source": [
    "l1"
   ]
  },
  {
   "cell_type": "code",
   "execution_count": 23,
   "id": "ad04c9d0",
   "metadata": {},
   "outputs": [
    {
     "data": {
      "text/plain": [
       "['Prevalence of Autism',\n",
       " 'Psychiatric Medications',\n",
       " 'Rimland and Edelson',\n",
       " 'Adams',\n",
       " 'Speech Development',\n",
       " 'RDI',\n",
       " 'Preparing for the Future',\n",
       " 'Developing Friendships',\n",
       " 'Special Needs Trust']"
      ]
     },
     "execution_count": 23,
     "metadata": {},
     "output_type": "execute_result"
    }
   ],
   "source": [
    "# update questions list\n",
    "f = [i[0] for i in l4]\n",
    "f = set(range(len(l1)))-set(f)\n",
    "l1=[l1[i] for i in f]\n",
    "l1"
   ]
  },
  {
   "cell_type": "code",
   "execution_count": 24,
   "id": "fd97fc88",
   "metadata": {},
   "outputs": [],
   "source": [
    "# select answers to questions in list 'l'\n",
    "l2 = [l2[i] for i in f]"
   ]
  },
  {
   "cell_type": "code",
   "execution_count": 25,
   "id": "034808d5",
   "metadata": {},
   "outputs": [
    {
     "data": {
      "text/html": [
       "<div>\n",
       "<style scoped>\n",
       "    .dataframe tbody tr th:only-of-type {\n",
       "        vertical-align: middle;\n",
       "    }\n",
       "\n",
       "    .dataframe tbody tr th {\n",
       "        vertical-align: top;\n",
       "    }\n",
       "\n",
       "    .dataframe thead th {\n",
       "        text-align: right;\n",
       "    }\n",
       "</style>\n",
       "<table border=\"1\" class=\"dataframe\">\n",
       "  <thead>\n",
       "    <tr style=\"text-align: right;\">\n",
       "      <th></th>\n",
       "      <th>Question</th>\n",
       "      <th>https://www.autism.org/advice-for-parents/</th>\n",
       "    </tr>\n",
       "  </thead>\n",
       "  <tbody>\n",
       "    <tr>\n",
       "      <th>0</th>\n",
       "      <td>Prevalence of Autism</td>\n",
       "      <td>There has been a rapid increase in the number ...</td>\n",
       "    </tr>\n",
       "    <tr>\n",
       "      <th>1</th>\n",
       "      <td>Psychiatric Medications</td>\n",
       "      <td>The various topics covered in this overview pa...</td>\n",
       "    </tr>\n",
       "    <tr>\n",
       "      <th>2</th>\n",
       "      <td>Rimland and Edelson</td>\n",
       "      <td>ARI has, for many years, encouraged research o...</td>\n",
       "    </tr>\n",
       "    <tr>\n",
       "      <th>3</th>\n",
       "      <td>Adams</td>\n",
       "      <td>Psychiatric medications are not well-tested in...</td>\n",
       "    </tr>\n",
       "    <tr>\n",
       "      <th>4</th>\n",
       "      <td>Speech Development</td>\n",
       "      <td>One of the most common questions parents ask i...</td>\n",
       "    </tr>\n",
       "    <tr>\n",
       "      <th>5</th>\n",
       "      <td>RDI</td>\n",
       "      <td>This is a method for teaching children how to ...</td>\n",
       "    </tr>\n",
       "    <tr>\n",
       "      <th>6</th>\n",
       "      <td>Preparing for the Future</td>\n",
       "      <td>Temple Grandin: “As a person with autism I wan...</td>\n",
       "    </tr>\n",
       "    <tr>\n",
       "      <th>7</th>\n",
       "      <td>Developing Friendships</td>\n",
       "      <td>Although young children with autism may seem t...</td>\n",
       "    </tr>\n",
       "    <tr>\n",
       "      <th>8</th>\n",
       "      <td>Special Needs Trust</td>\n",
       "      <td>Children who have assets over approximately $2...</td>\n",
       "    </tr>\n",
       "  </tbody>\n",
       "</table>\n",
       "</div>"
      ],
      "text/plain": [
       "                   Question         https://www.autism.org/advice-for-parents/\n",
       "0      Prevalence of Autism  There has been a rapid increase in the number ...\n",
       "1   Psychiatric Medications  The various topics covered in this overview pa...\n",
       "2       Rimland and Edelson  ARI has, for many years, encouraged research o...\n",
       "3                     Adams  Psychiatric medications are not well-tested in...\n",
       "4        Speech Development  One of the most common questions parents ask i...\n",
       "5                       RDI  This is a method for teaching children how to ...\n",
       "6  Preparing for the Future  Temple Grandin: “As a person with autism I wan...\n",
       "7    Developing Friendships  Although young children with autism may seem t...\n",
       "8       Special Needs Trust  Children who have assets over approximately $2..."
      ]
     },
     "execution_count": 25,
     "metadata": {},
     "output_type": "execute_result"
    }
   ],
   "source": [
    "# Create new dataframe with QA pairs\n",
    "df2 = pd.DataFrame(zip(l1,l2),columns=['Question',link])\n",
    "df2"
   ]
  },
  {
   "cell_type": "code",
   "execution_count": 26,
   "id": "b3f7fb28",
   "metadata": {},
   "outputs": [
    {
     "data": {
      "text/html": [
       "<div>\n",
       "<style scoped>\n",
       "    .dataframe tbody tr th:only-of-type {\n",
       "        vertical-align: middle;\n",
       "    }\n",
       "\n",
       "    .dataframe tbody tr th {\n",
       "        vertical-align: top;\n",
       "    }\n",
       "\n",
       "    .dataframe thead th {\n",
       "        text-align: right;\n",
       "    }\n",
       "</style>\n",
       "<table border=\"1\" class=\"dataframe\">\n",
       "  <thead>\n",
       "    <tr style=\"text-align: right;\">\n",
       "      <th></th>\n",
       "      <th>Question</th>\n",
       "      <th>https://autismnavigator.com/what-is-autism/</th>\n",
       "      <th>https://www.autism.org/is-it-autism/</th>\n",
       "      <th>https://www.autism.org/advice-for-parents/</th>\n",
       "    </tr>\n",
       "  </thead>\n",
       "  <tbody>\n",
       "    <tr>\n",
       "      <th>0</th>\n",
       "      <td>What are the Autism Spectrum Disorders (ASD)?</td>\n",
       "      <td>Autism spectrum disorder (ASD) is a neurodevel...</td>\n",
       "      <td>NaN</td>\n",
       "      <td>NaN</td>\n",
       "    </tr>\n",
       "    <tr>\n",
       "      <th>1</th>\n",
       "      <td>How is ASD diagnosed?</td>\n",
       "      <td>Diagnosing ASD can be difficult because there ...</td>\n",
       "      <td>NaN</td>\n",
       "      <td>Possible symptoms of autism may be observed by...</td>\n",
       "    </tr>\n",
       "    <tr>\n",
       "      <th>2</th>\n",
       "      <td>What are early red flags of ASD in toddlers?</td>\n",
       "      <td>The diagnostic features of ASD can be easy to ...</td>\n",
       "      <td>NaN</td>\n",
       "      <td>NaN</td>\n",
       "    </tr>\n",
       "    <tr>\n",
       "      <th>3</th>\n",
       "      <td>What are 16 early signs of autism by 16 months?</td>\n",
       "      <td>The early signs of autism are easy to miss. Au...</td>\n",
       "      <td>NaN</td>\n",
       "      <td>Autism develops sometime during pregnancy and ...</td>\n",
       "    </tr>\n",
       "    <tr>\n",
       "      <th>4</th>\n",
       "      <td>What is Autism?</td>\n",
       "      <td>NaN</td>\n",
       "      <td>Autism Spectrum Disorder (ASD) is a developmen...</td>\n",
       "      <td>Autism is a developmental disability that typi...</td>\n",
       "    </tr>\n",
       "    <tr>\n",
       "      <th>5</th>\n",
       "      <td>What are Screening Tools for Autism?</td>\n",
       "      <td>NaN</td>\n",
       "      <td>Early intervention can make a big difference f...</td>\n",
       "      <td>NaN</td>\n",
       "    </tr>\n",
       "    <tr>\n",
       "      <th>6</th>\n",
       "      <td>How Common Is It?</td>\n",
       "      <td>NaN</td>\n",
       "      <td>For many years a diagnosis of autism was rare,...</td>\n",
       "      <td>NaN</td>\n",
       "    </tr>\n",
       "    <tr>\n",
       "      <th>7</th>\n",
       "      <td>What are the Signs of Autism?</td>\n",
       "      <td>NaN</td>\n",
       "      <td>Many signs can indicate that an individual may...</td>\n",
       "      <td>NaN</td>\n",
       "    </tr>\n",
       "    <tr>\n",
       "      <th>8</th>\n",
       "      <td>What should I do next?</td>\n",
       "      <td>NaN</td>\n",
       "      <td>When preparing to talk to your medical provide...</td>\n",
       "      <td>Attend one or more parent support groups, o...</td>\n",
       "    </tr>\n",
       "    <tr>\n",
       "      <th>9</th>\n",
       "      <td>How can you tell Autism from Asperger’s Syndrome?</td>\n",
       "      <td>NaN</td>\n",
       "      <td>NaN</td>\n",
       "      <td>Asperger syndrome was phased out with the int...</td>\n",
       "    </tr>\n",
       "  </tbody>\n",
       "</table>\n",
       "</div>"
      ],
      "text/plain": [
       "                                            Question  \\\n",
       "0      What are the Autism Spectrum Disorders (ASD)?   \n",
       "1                              How is ASD diagnosed?   \n",
       "2       What are early red flags of ASD in toddlers?   \n",
       "3    What are 16 early signs of autism by 16 months?   \n",
       "4                                    What is Autism?   \n",
       "5               What are Screening Tools for Autism?   \n",
       "6                                  How Common Is It?   \n",
       "7                      What are the Signs of Autism?   \n",
       "8                             What should I do next?   \n",
       "9  How can you tell Autism from Asperger’s Syndrome?   \n",
       "\n",
       "         https://autismnavigator.com/what-is-autism/  \\\n",
       "0  Autism spectrum disorder (ASD) is a neurodevel...   \n",
       "1  Diagnosing ASD can be difficult because there ...   \n",
       "2  The diagnostic features of ASD can be easy to ...   \n",
       "3  The early signs of autism are easy to miss. Au...   \n",
       "4                                                NaN   \n",
       "5                                                NaN   \n",
       "6                                                NaN   \n",
       "7                                                NaN   \n",
       "8                                                NaN   \n",
       "9                                                NaN   \n",
       "\n",
       "                https://www.autism.org/is-it-autism/  \\\n",
       "0                                                NaN   \n",
       "1                                                NaN   \n",
       "2                                                NaN   \n",
       "3                                                NaN   \n",
       "4  Autism Spectrum Disorder (ASD) is a developmen...   \n",
       "5  Early intervention can make a big difference f...   \n",
       "6  For many years a diagnosis of autism was rare,...   \n",
       "7  Many signs can indicate that an individual may...   \n",
       "8  When preparing to talk to your medical provide...   \n",
       "9                                                NaN   \n",
       "\n",
       "          https://www.autism.org/advice-for-parents/  \n",
       "0                                                NaN  \n",
       "1  Possible symptoms of autism may be observed by...  \n",
       "2                                                NaN  \n",
       "3  Autism develops sometime during pregnancy and ...  \n",
       "4  Autism is a developmental disability that typi...  \n",
       "5                                                NaN  \n",
       "6                                                NaN  \n",
       "7                                                NaN  \n",
       "8     Attend one or more parent support groups, o...  \n",
       "9   Asperger syndrome was phased out with the int...  "
      ]
     },
     "execution_count": 26,
     "metadata": {},
     "output_type": "execute_result"
    }
   ],
   "source": [
    "# Concatenate existing and new dataframes\n",
    "df3 = pd.concat([df,df2],axis=0)\n",
    "df3 = df3.sort_values(by=list(df3.columns[1:])).reset_index(drop=True)\n",
    "df3.head(10)"
   ]
  },
  {
   "cell_type": "code",
   "execution_count": 27,
   "id": "02a229d0",
   "metadata": {},
   "outputs": [
    {
     "data": {
      "text/plain": [
       "(115, 4)"
      ]
     },
     "execution_count": 27,
     "metadata": {},
     "output_type": "execute_result"
    }
   ],
   "source": [
    "df3.shape"
   ]
  },
  {
   "cell_type": "markdown",
   "id": "c36df54c",
   "metadata": {},
   "source": [
    "# Save Output"
   ]
  },
  {
   "cell_type": "code",
   "execution_count": 28,
   "id": "cdd9d1cd",
   "metadata": {},
   "outputs": [],
   "source": [
    "df3.to_excel('Excel/Source2_2.xlsx',index=False)"
   ]
  }
 ],
 "metadata": {
  "kernelspec": {
   "display_name": "Python 3 (ipykernel)",
   "language": "python",
   "name": "python3"
  },
  "language_info": {
   "codemirror_mode": {
    "name": "ipython",
    "version": 3
   },
   "file_extension": ".py",
   "mimetype": "text/x-python",
   "name": "python",
   "nbconvert_exporter": "python",
   "pygments_lexer": "ipython3",
   "version": "3.8.0"
  }
 },
 "nbformat": 4,
 "nbformat_minor": 5
}
