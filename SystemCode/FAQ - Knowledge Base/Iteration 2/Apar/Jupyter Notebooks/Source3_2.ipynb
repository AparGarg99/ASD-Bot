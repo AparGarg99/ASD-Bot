{
 "cells": [
  {
   "cell_type": "markdown",
   "id": "fa4ce988",
   "metadata": {},
   "source": [
    "# Import Libraries"
   ]
  },
  {
   "cell_type": "code",
   "execution_count": 1,
   "id": "ff207f11",
   "metadata": {},
   "outputs": [],
   "source": [
    "################ WEB SCRAPING MODULES ############\n",
    "from selenium import webdriver\n",
    "from webdriver_manager.chrome import ChromeDriverManager\n",
    "from selenium.webdriver.common.by import By\n",
    "import bs4\n",
    "from fake_useragent import UserAgent\n",
    "import requests\n",
    "################ TIME MODLULES ###################\n",
    "import time\n",
    "from datetime import date \n",
    "import datetime\n",
    "############## DATA MANIPULATION MODULES #########\n",
    "import pandas as pd\n",
    "import numpy as np\n",
    "import re\n",
    "from nltk.corpus import stopwords\n",
    "import os"
   ]
  },
  {
   "cell_type": "markdown",
   "id": "afa3a887",
   "metadata": {},
   "source": [
    "# Define Source"
   ]
  },
  {
   "cell_type": "code",
   "execution_count": 2,
   "id": "ebfc9440",
   "metadata": {},
   "outputs": [],
   "source": [
    "link = 'https://autismcanada.org/autism-explained/cooccurring-conditions/'"
   ]
  },
  {
   "cell_type": "markdown",
   "id": "4f8f2ef9",
   "metadata": {},
   "source": [
    "# Read 100 questions list"
   ]
  },
  {
   "cell_type": "code",
   "execution_count": 3,
   "id": "5fb8f7ba",
   "metadata": {},
   "outputs": [
    {
     "data": {
      "text/html": [
       "<div>\n",
       "<style scoped>\n",
       "    .dataframe tbody tr th:only-of-type {\n",
       "        vertical-align: middle;\n",
       "    }\n",
       "\n",
       "    .dataframe tbody tr th {\n",
       "        vertical-align: top;\n",
       "    }\n",
       "\n",
       "    .dataframe thead th {\n",
       "        text-align: right;\n",
       "    }\n",
       "</style>\n",
       "<table border=\"1\" class=\"dataframe\">\n",
       "  <thead>\n",
       "    <tr style=\"text-align: right;\">\n",
       "      <th></th>\n",
       "      <th>Question</th>\n",
       "      <th>https://autismnavigator.com/what-is-autism/</th>\n",
       "      <th>https://www.autism.org/is-it-autism/</th>\n",
       "      <th>https://www.autism.org/advice-for-parents/</th>\n",
       "      <th>https://www.autism.org/symptoms-of-autism/</th>\n",
       "      <th>https://www.autism.org/autism-prognosis/</th>\n",
       "      <th>https://autismcanada.org/autism-explained/</th>\n",
       "      <th>https://autismcanada.org/autism-explained/cooccurring-conditions/</th>\n",
       "    </tr>\n",
       "  </thead>\n",
       "  <tbody>\n",
       "    <tr>\n",
       "      <th>0</th>\n",
       "      <td>What are the Autism Spectrum Disorders (ASD)?</td>\n",
       "      <td>Autism spectrum disorder (ASD) is a neurodevel...</td>\n",
       "      <td>NaN</td>\n",
       "      <td>NaN</td>\n",
       "      <td>NaN</td>\n",
       "      <td>NaN</td>\n",
       "      <td>NaN</td>\n",
       "      <td>NaN</td>\n",
       "    </tr>\n",
       "    <tr>\n",
       "      <th>1</th>\n",
       "      <td>How is ASD diagnosed?</td>\n",
       "      <td>Diagnosing ASD can be difficult because there ...</td>\n",
       "      <td>NaN</td>\n",
       "      <td>Possible symptoms of autism may be observed by...</td>\n",
       "      <td>NaN</td>\n",
       "      <td>NaN</td>\n",
       "      <td>https://autismcanada.org/autism-explained/diag...</td>\n",
       "      <td>NaN</td>\n",
       "    </tr>\n",
       "    <tr>\n",
       "      <th>2</th>\n",
       "      <td>What are early red flags of ASD in toddlers?</td>\n",
       "      <td>The diagnostic features of ASD can be easy to ...</td>\n",
       "      <td>NaN</td>\n",
       "      <td>NaN</td>\n",
       "      <td>NaN</td>\n",
       "      <td>NaN</td>\n",
       "      <td>NaN</td>\n",
       "      <td>NaN</td>\n",
       "    </tr>\n",
       "    <tr>\n",
       "      <th>3</th>\n",
       "      <td>What are 16 early signs of autism by 16 months?</td>\n",
       "      <td>The early signs of autism are easy to miss. Au...</td>\n",
       "      <td>NaN</td>\n",
       "      <td>Autism develops sometime during pregnancy and ...</td>\n",
       "      <td>NaN</td>\n",
       "      <td>NaN</td>\n",
       "      <td>NaN</td>\n",
       "      <td>NaN</td>\n",
       "    </tr>\n",
       "    <tr>\n",
       "      <th>4</th>\n",
       "      <td>What is Autism?</td>\n",
       "      <td>NaN</td>\n",
       "      <td>Autism Spectrum Disorder (ASD) is a developmen...</td>\n",
       "      <td>Autism is a developmental disability that typi...</td>\n",
       "      <td>NaN</td>\n",
       "      <td>Autism is a neurodevelopmental disorder that b...</td>\n",
       "      <td>Autism Spectrum Disorder, or autism, is a neur...</td>\n",
       "      <td>NaN</td>\n",
       "    </tr>\n",
       "  </tbody>\n",
       "</table>\n",
       "</div>"
      ],
      "text/plain": [
       "                                          Question  \\\n",
       "0    What are the Autism Spectrum Disorders (ASD)?   \n",
       "1                            How is ASD diagnosed?   \n",
       "2     What are early red flags of ASD in toddlers?   \n",
       "3  What are 16 early signs of autism by 16 months?   \n",
       "4                                  What is Autism?   \n",
       "\n",
       "         https://autismnavigator.com/what-is-autism/  \\\n",
       "0  Autism spectrum disorder (ASD) is a neurodevel...   \n",
       "1  Diagnosing ASD can be difficult because there ...   \n",
       "2  The diagnostic features of ASD can be easy to ...   \n",
       "3  The early signs of autism are easy to miss. Au...   \n",
       "4                                                NaN   \n",
       "\n",
       "                https://www.autism.org/is-it-autism/  \\\n",
       "0                                                NaN   \n",
       "1                                                NaN   \n",
       "2                                                NaN   \n",
       "3                                                NaN   \n",
       "4  Autism Spectrum Disorder (ASD) is a developmen...   \n",
       "\n",
       "          https://www.autism.org/advice-for-parents/  \\\n",
       "0                                                NaN   \n",
       "1  Possible symptoms of autism may be observed by...   \n",
       "2                                                NaN   \n",
       "3  Autism develops sometime during pregnancy and ...   \n",
       "4  Autism is a developmental disability that typi...   \n",
       "\n",
       "  https://www.autism.org/symptoms-of-autism/  \\\n",
       "0                                        NaN   \n",
       "1                                        NaN   \n",
       "2                                        NaN   \n",
       "3                                        NaN   \n",
       "4                                        NaN   \n",
       "\n",
       "            https://www.autism.org/autism-prognosis/  \\\n",
       "0                                                NaN   \n",
       "1                                                NaN   \n",
       "2                                                NaN   \n",
       "3                                                NaN   \n",
       "4  Autism is a neurodevelopmental disorder that b...   \n",
       "\n",
       "          https://autismcanada.org/autism-explained/  \\\n",
       "0                                                NaN   \n",
       "1  https://autismcanada.org/autism-explained/diag...   \n",
       "2                                                NaN   \n",
       "3                                                NaN   \n",
       "4  Autism Spectrum Disorder, or autism, is a neur...   \n",
       "\n",
       "   https://autismcanada.org/autism-explained/cooccurring-conditions/  \n",
       "0                                                NaN                  \n",
       "1                                                NaN                  \n",
       "2                                                NaN                  \n",
       "3                                                NaN                  \n",
       "4                                                NaN                  "
      ]
     },
     "execution_count": 3,
     "metadata": {},
     "output_type": "execute_result"
    }
   ],
   "source": [
    "file = 'Excel/' + os.listdir('Excel')[-1]\n",
    "df = pd.read_excel(file,engine='openpyxl')\n",
    "\n",
    "df[link]=np.nan\n",
    "df.head()"
   ]
  },
  {
   "cell_type": "markdown",
   "id": "06cc4415",
   "metadata": {},
   "source": [
    "# Scrape QA pairs from website"
   ]
  },
  {
   "cell_type": "code",
   "execution_count": 4,
   "id": "25ea70af",
   "metadata": {},
   "outputs": [
    {
     "name": "stderr",
     "output_type": "stream",
     "text": [
      "\n",
      "\n",
      "====== WebDriver manager ======\n",
      "Current google-chrome version is 92.0.4515\n",
      "Get LATEST driver version for 92.0.4515\n",
      "Driver [C:\\Users\\aparg\\.wdm\\drivers\\chromedriver\\win32\\92.0.4515.107\\chromedriver.exe] found in cache\n"
     ]
    }
   ],
   "source": [
    "# Open webpage in a new window\n",
    "driver = webdriver.Chrome(ChromeDriverManager().install())\n",
    "driver.get(link)"
   ]
  },
  {
   "cell_type": "code",
   "execution_count": 5,
   "id": "c652775d",
   "metadata": {},
   "outputs": [],
   "source": [
    "# Parse text in webpage\n",
    "source = driver.page_source\n",
    "soup = bs4.BeautifulSoup(source, 'html.parser')"
   ]
  },
  {
   "cell_type": "code",
   "execution_count": 6,
   "id": "fc912bab",
   "metadata": {},
   "outputs": [
    {
     "data": {
      "text/plain": [
       "'\\nCo-occurring ConditionsThere are several medical conditions that have been shown to be significantly more prevalent in those on the spectrum\\xa0than the general population.Autism is a whole body disorder diagnosed by what is observable, however, these signs and symptoms are often the result of underlying co-occurring conditions.\\xa0 Knowing what to look for is the first step in getting the most appropriate treatment.Some common co-occurring conditions found in those with autism:Autoimmune conditionsSeizure disordersOesophagitisGastritisRefluxAsthmaEczemaAllergiesEar infectionsRespiratory infectionsMigraine headachesAllergy disorder (including non IgE-mediated disorders or food intolerances)At times, it may be difficult for a health care practitioner to properly assess a patient with an ASD.\\xa0 The parent or caregiver may not have known to watch for certain signs because they were told that it was “just the autism”.\\xa0 There may be communication barriers or challenging behaviours preventing an obvious observation of a symptom, or perhaps the patients themselves don’t know the origin of the pain. It then becomes even more important for the practitioner to be able to recognize some of the behaviours indicating an underlying condition.Behaviours which may indicate a co-occurring condition:Sudden changes in behaviourAggressionCovering ears with handsLoss of acquired skillsIrritability or moodinessFrequent night waking or difficulty falling asleepTeeth grindingWalking on toesTantrums or oppositional behaviourSelf-injurious behaviour (biting, hitting, slapping, head-banging, etc.)Chewing on clothes or objectsVocal expressions (moaning, whining, groaning, sighing)Posturing or seeking pressureRepetitive rocking or other movementsCommon sources of pain and discomfort (chronic, progressive or static):HeadacheEaracheSore throatConstipationDiarrheaMuscle painJoint painThis information excerpted from the Medical Comorbidities in Autism Spectrum Disorder, A Primer for Health Care Professionals and Policy Makers, July 2014. '"
      ]
     },
     "execution_count": 6,
     "metadata": {},
     "output_type": "execute_result"
    }
   ],
   "source": [
    "x = soup.find('div',{'class':'elementor-text-editor elementor-clearfix'}).text\n",
    "x"
   ]
  },
  {
   "cell_type": "code",
   "execution_count": 10,
   "id": "cf4a01bd",
   "metadata": {},
   "outputs": [],
   "source": [
    "l1 = [soup.find('h1').text]\n",
    "k = [x]"
   ]
  },
  {
   "cell_type": "markdown",
   "id": "00979f89",
   "metadata": {},
   "source": [
    "# Check which questions are similar"
   ]
  },
  {
   "cell_type": "code",
   "execution_count": 11,
   "id": "d1f8a700",
   "metadata": {},
   "outputs": [],
   "source": [
    "stop_words = set(stopwords.words('english'))\n",
    "\n",
    "def clean_text(sent):\n",
    "    sent = sent.lower() # lowercase\n",
    "    sent = re.sub(r'[^\\w\\s]', '', sent) # remove punctuations\n",
    "    sent = re.sub('autism spectrum disorder','asd',sent) # Compress term\n",
    "    sent = re.sub('autism','asd',sent) # Compress term\n",
    "    sent = [w for w in sent.split() if not w.lower() in stop_words] # Remove stopwords\n",
    "    sent = \" \".join(sent)\n",
    "    return sent"
   ]
  },
  {
   "cell_type": "code",
   "execution_count": 12,
   "id": "82e06707",
   "metadata": {},
   "outputs": [],
   "source": [
    "def jaccard_similarity(list1, list2):\n",
    "    s1 = set(list1)\n",
    "    s2 = set(list2)\n",
    "    return float(len(s1.intersection(s2)) / len(s1.union(s2)))"
   ]
  },
  {
   "cell_type": "code",
   "execution_count": 13,
   "id": "1ea49412",
   "metadata": {},
   "outputs": [],
   "source": [
    "def sim(li):\n",
    "    for c1,i in enumerate(li):\n",
    "        i2 = clean_text(i)\n",
    "        list1 = i2.split()\n",
    "\n",
    "        temp1 = 0.0\n",
    "        temp2 = ''\n",
    "        temp3 = ''\n",
    "        temp4 = 0\n",
    "        temp5 = 0\n",
    "\n",
    "        for c2,j in enumerate(df['Question']):\n",
    "            j2 = clean_text(j)\n",
    "            list2 = j2.split()\n",
    "\n",
    "            sim = jaccard_similarity(list1, list2)\n",
    "\n",
    "            if(sim>temp1):\n",
    "                temp1 = sim\n",
    "                temp2 = j\n",
    "                temp3 = i\n",
    "                temp4 = c2\n",
    "                temp5 = c1\n",
    "\n",
    "        if(temp1>0):\n",
    "            print('Website --> ',temp3,'(Index {})'.format(temp5))\n",
    "            print('100 questions list --> ',temp2,'(Index {})'.format(temp4))\n",
    "            print(temp1)\n",
    "            print('*'*100)"
   ]
  },
  {
   "cell_type": "code",
   "execution_count": 14,
   "id": "7cf2e775",
   "metadata": {},
   "outputs": [
    {
     "name": "stdout",
     "output_type": "stream",
     "text": [
      "Website -->  Co-occurring Conditions (Index 0)\n",
      "100 questions list -->  Conditions that can occur with autism (Index 28)\n",
      "0.25\n",
      "****************************************************************************************************\n"
     ]
    }
   ],
   "source": [
    "sim(l1)"
   ]
  },
  {
   "cell_type": "code",
   "execution_count": 15,
   "id": "0e232f88",
   "metadata": {},
   "outputs": [],
   "source": [
    "# Website, 100Q\n",
    "# 0, 28"
   ]
  },
  {
   "cell_type": "code",
   "execution_count": 16,
   "id": "dc69eea9",
   "metadata": {},
   "outputs": [],
   "source": [
    "df.iloc[28,-1]=k[0]"
   ]
  },
  {
   "cell_type": "markdown",
   "id": "c36df54c",
   "metadata": {},
   "source": [
    "# Save Output"
   ]
  },
  {
   "cell_type": "code",
   "execution_count": 17,
   "id": "cdd9d1cd",
   "metadata": {},
   "outputs": [],
   "source": [
    "df.to_excel('Excel/Source3_2.xlsx',index=False)"
   ]
  }
 ],
 "metadata": {
  "kernelspec": {
   "display_name": "Python 3 (ipykernel)",
   "language": "python",
   "name": "python3"
  },
  "language_info": {
   "codemirror_mode": {
    "name": "ipython",
    "version": 3
   },
   "file_extension": ".py",
   "mimetype": "text/x-python",
   "name": "python",
   "nbconvert_exporter": "python",
   "pygments_lexer": "ipython3",
   "version": "3.8.0"
  }
 },
 "nbformat": 4,
 "nbformat_minor": 5
}
