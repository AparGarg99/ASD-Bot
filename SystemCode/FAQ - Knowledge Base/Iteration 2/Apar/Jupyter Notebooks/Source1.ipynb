{
 "cells": [
  {
   "cell_type": "markdown",
   "id": "fa4ce988",
   "metadata": {},
   "source": [
    "# Import Libraries"
   ]
  },
  {
   "cell_type": "code",
   "execution_count": 1,
   "id": "ff207f11",
   "metadata": {},
   "outputs": [],
   "source": [
    "################ WEB SCRAPING MODULES ############\n",
    "from selenium import webdriver\n",
    "from webdriver_manager.chrome import ChromeDriverManager\n",
    "from selenium.webdriver.common.by import By\n",
    "import bs4\n",
    "from fake_useragent import UserAgent\n",
    "import requests\n",
    "################ TIME MODLULES ###################\n",
    "import time\n",
    "from datetime import date \n",
    "import datetime\n",
    "############## DATA MANIPULATION MODULES #########\n",
    "import pandas as pd\n",
    "import numpy as np\n",
    "import re\n",
    "from nltk.corpus import stopwords"
   ]
  },
  {
   "cell_type": "markdown",
   "id": "8cebdfce",
   "metadata": {},
   "source": [
    "# Define Source"
   ]
  },
  {
   "cell_type": "code",
   "execution_count": 2,
   "id": "c7d66c0c",
   "metadata": {},
   "outputs": [],
   "source": [
    "link = 'https://autismnavigator.com/what-is-autism/'"
   ]
  },
  {
   "cell_type": "markdown",
   "id": "4f8f2ef9",
   "metadata": {},
   "source": [
    "# Read 100 questions list"
   ]
  },
  {
   "cell_type": "code",
   "execution_count": 3,
   "id": "5fb8f7ba",
   "metadata": {},
   "outputs": [
    {
     "data": {
      "text/html": [
       "<div>\n",
       "<style scoped>\n",
       "    .dataframe tbody tr th:only-of-type {\n",
       "        vertical-align: middle;\n",
       "    }\n",
       "\n",
       "    .dataframe tbody tr th {\n",
       "        vertical-align: top;\n",
       "    }\n",
       "\n",
       "    .dataframe thead th {\n",
       "        text-align: right;\n",
       "    }\n",
       "</style>\n",
       "<table border=\"1\" class=\"dataframe\">\n",
       "  <thead>\n",
       "    <tr style=\"text-align: right;\">\n",
       "      <th></th>\n",
       "      <th>Question</th>\n",
       "      <th>https://autismnavigator.com/what-is-autism/</th>\n",
       "    </tr>\n",
       "  </thead>\n",
       "  <tbody>\n",
       "    <tr>\n",
       "      <th>0</th>\n",
       "      <td>What is Autism?</td>\n",
       "      <td>NaN</td>\n",
       "    </tr>\n",
       "    <tr>\n",
       "      <th>1</th>\n",
       "      <td>What are the Autism Spectrum Disorders (ASD)?</td>\n",
       "      <td>NaN</td>\n",
       "    </tr>\n",
       "    <tr>\n",
       "      <th>2</th>\n",
       "      <td>What is Asperger’s Syndrome?</td>\n",
       "      <td>NaN</td>\n",
       "    </tr>\n",
       "    <tr>\n",
       "      <th>3</th>\n",
       "      <td>How can you tell Autism from Asperger’s Syndrome?</td>\n",
       "      <td>NaN</td>\n",
       "    </tr>\n",
       "    <tr>\n",
       "      <th>4</th>\n",
       "      <td>What is Pervasive Developmental Disorder – Not...</td>\n",
       "      <td>NaN</td>\n",
       "    </tr>\n",
       "    <tr>\n",
       "      <th>...</th>\n",
       "      <td>...</td>\n",
       "      <td>...</td>\n",
       "    </tr>\n",
       "    <tr>\n",
       "      <th>95</th>\n",
       "      <td>What are some ways that parents can reduce the...</td>\n",
       "      <td>NaN</td>\n",
       "    </tr>\n",
       "    <tr>\n",
       "      <th>96</th>\n",
       "      <td>Do some families deal with stress better than ...</td>\n",
       "      <td>NaN</td>\n",
       "    </tr>\n",
       "    <tr>\n",
       "      <th>97</th>\n",
       "      <td>Do siblings suffer increased stress as a resul...</td>\n",
       "      <td>NaN</td>\n",
       "    </tr>\n",
       "    <tr>\n",
       "      <th>98</th>\n",
       "      <td>What can I do about my children’s stress?</td>\n",
       "      <td>NaN</td>\n",
       "    </tr>\n",
       "    <tr>\n",
       "      <th>99</th>\n",
       "      <td>What are some resources for learning more abou...</td>\n",
       "      <td>NaN</td>\n",
       "    </tr>\n",
       "  </tbody>\n",
       "</table>\n",
       "<p>100 rows × 2 columns</p>\n",
       "</div>"
      ],
      "text/plain": [
       "                                             Question  \\\n",
       "0                                     What is Autism?   \n",
       "1       What are the Autism Spectrum Disorders (ASD)?   \n",
       "2                        What is Asperger’s Syndrome?   \n",
       "3   How can you tell Autism from Asperger’s Syndrome?   \n",
       "4   What is Pervasive Developmental Disorder – Not...   \n",
       "..                                                ...   \n",
       "95  What are some ways that parents can reduce the...   \n",
       "96  Do some families deal with stress better than ...   \n",
       "97  Do siblings suffer increased stress as a resul...   \n",
       "98          What can I do about my children’s stress?   \n",
       "99  What are some resources for learning more abou...   \n",
       "\n",
       "    https://autismnavigator.com/what-is-autism/  \n",
       "0                                           NaN  \n",
       "1                                           NaN  \n",
       "2                                           NaN  \n",
       "3                                           NaN  \n",
       "4                                           NaN  \n",
       "..                                          ...  \n",
       "95                                          NaN  \n",
       "96                                          NaN  \n",
       "97                                          NaN  \n",
       "98                                          NaN  \n",
       "99                                          NaN  \n",
       "\n",
       "[100 rows x 2 columns]"
      ]
     },
     "execution_count": 3,
     "metadata": {},
     "output_type": "execute_result"
    }
   ],
   "source": [
    "df = pd.read_excel('Excel/questions.xlsx',engine='openpyxl')\n",
    "\n",
    "df[link]=np.nan\n",
    "df"
   ]
  },
  {
   "cell_type": "markdown",
   "id": "06cc4415",
   "metadata": {},
   "source": [
    "# Scrape QA pairs from website"
   ]
  },
  {
   "cell_type": "code",
   "execution_count": 4,
   "id": "25ea70af",
   "metadata": {},
   "outputs": [
    {
     "name": "stderr",
     "output_type": "stream",
     "text": [
      "\n",
      "\n",
      "====== WebDriver manager ======\n",
      "Current google-chrome version is 92.0.4515\n",
      "Get LATEST driver version for 92.0.4515\n",
      "Driver [C:\\Users\\aparg\\.wdm\\drivers\\chromedriver\\win32\\92.0.4515.107\\chromedriver.exe] found in cache\n"
     ]
    }
   ],
   "source": [
    "# Open webpage in a new window\n",
    "driver = webdriver.Chrome(ChromeDriverManager().install())\n",
    "driver.get(link)"
   ]
  },
  {
   "cell_type": "code",
   "execution_count": 5,
   "id": "c652775d",
   "metadata": {},
   "outputs": [],
   "source": [
    "# Parse text in webpage\n",
    "source = driver.page_source\n",
    "soup = bs4.BeautifulSoup(source, 'html.parser')"
   ]
  },
  {
   "cell_type": "code",
   "execution_count": 6,
   "id": "a9f512a4",
   "metadata": {},
   "outputs": [
    {
     "name": "stdout",
     "output_type": "stream",
     "text": [
      "What is Autism Spectrum Disorder?\n",
      "What are early red flags of ASD in toddlers?\n",
      "How is ASD diagnosed?\n",
      "What are 16 early signs of autism by 16 months?\n"
     ]
    }
   ],
   "source": [
    "# Search the questions mentioned in webpage\n",
    "l = []\n",
    "for i in soup.find_all('span',{'style':'color: #91a552; font-size: 22px; font-weight: 600;'}):\n",
    "    if(i.text[-1]=='?'):\n",
    "        print(i.text)\n",
    "        l.append(i.text)"
   ]
  },
  {
   "cell_type": "code",
   "execution_count": 7,
   "id": "a87c48d1",
   "metadata": {},
   "outputs": [
    {
     "name": "stdout",
     "output_type": "stream",
     "text": [
      "1 --> Learn about what autism spectrum disorder (ASD) is, the early red flags of ASD in toddlers, and how ASD is diagnosed. View our online 16 Early Signs of Autism by 16 Months Lookbook and select a print version—8 pages, 1 page, or fillable Checklist of the 16 Early Signs. Find printables with Autism Navigator messages in letter and tabloid size to download, print, and share.\n",
      "****************************************************************************************************\n",
      "2 --> What is Autism Spectrum Disorder?\n",
      "3 --> Autism spectrum disorder (ASD) is a neurodevelopmental disorder defined by persistent deficits in social communication and social interaction, accompanied by restricted, repetitive patterns of behavior, interests, or activities.\n",
      "The signs of ASD are usually evident in early childhood. Though it is still considered a lifelong diagnosis, with appropriate early intervention, individuals with ASD can lead productive, inclusive, and fulfilling lives. Many children with ASD do well in school, participate in activities they enjoy, go on to college, and are employed in adulthood. For most parents and professionals, ASD can be a very puzzling and complex disorder. Though a great deal of its mystery has yet to be uncovered, we know much more about it than we did 10 years ago. Just as our understanding has evolved over the years, so has the way we define, diagnose, and treat ASD.\n",
      "****************************************************************************************************\n",
      "5 --> What is Autism Spectrum Disorder?\n",
      "****************************************************************************************************\n",
      "7 --> What are early red flags of ASD in toddlers?\n",
      "8 --> The diagnostic features of ASD can be easy to miss in young children. Looking for possible red flags or early signs may help to find children at risk for ASD, and in need of a diagnostic evaluation. If your child shows some of the following red flags, talk to your child’s doctor. If you or your child’s doctor has concerns about possible ASD, ask for a referral to a developmental specialist or you can contact your local early intervention program.\n",
      "12 --> Social Communication\n",
      "\n",
      "Limited use of gestures such as giving, showing, waving, clapping, pointing, or nodding their head\n",
      "Delayed speech or no social babbling/chatting\n",
      "Makes odd sounds or has an unusual tone of voice\n",
      "Difficulty using eye contact, gestures, and sounds or words all at the same time\n",
      "Little or no pretending or imitating of other people\n",
      "Stopped using words that they used to say\n",
      "Uses another person’s hand as a tool (e.g., putting parent’s hand on a jar for them to open the lid)\n",
      "13 --> Social Interaction\n",
      "\n",
      "Does not look right at people or hard to get them to look at you\n",
      "Does not share warm, joyful expressions\n",
      "Does not respond when someone calls their name\n",
      "Does not draw your attention to things or show you things they’re interested in\n",
      "Does not share enjoyment or interests with others\n",
      "14 --> Repetitive Behaviors & Restricted Interests\n",
      "\n",
      "Unusual ways of moving their hands, fingers, or whole body\n",
      "Develops rituals such as lining objects up or repeating things over and over\n",
      "Very focused on or attached to unusual kinds of objects such as strips of cloth, wooden spoons, rocks, vents, or doorstops\n",
      "Excessive interest in particular objects, actions, or activities that interferes with social interaction\n",
      "Unusual sensory interests such as sniffing objects or looking out of the corner of their eye\n",
      "Over- or under-reaction to certain sounds, textures, or other sensory input\n",
      "****************************************************************************************************\n",
      "15 --> How is ASD diagnosed?\n",
      "16 --> Diagnosing ASD can be difficult because there are no blood or other medical tests. The diagnosis is based on behavioral symptoms or features. These features include the absence of or delays in typical developmental milestones and the presence of unusual behaviors.\n",
      "The diagnosis can involve a two-stage process. The first stage is screening, usually by doctors at well-child visits using validated screening checklists that parents fill out. The second stage is a comprehensive diagnostic evaluation usually conducted by a multidisciplinary team that gathers information from an interview and structured observation.\n",
      "Early detection means earlier access to intervention. An experienced professional can diagnose ASD in toddlers as young as 18 to 24 months of age, but often ASD is not diagnosed until 3 to 5 years of age or later, after the window of opportunity for very early intervention. The American Academy of Pediatrics recommends that all children be screened for ASD at 18 and 24 months of age.\n",
      "17 --> Are there different types of ASD?\n",
      "ASD used to be called Pervasive Developmental Disorder (PDD). These terms mean the same thing. PDD is the diagnostic classification in the DSM-IV (4th edition of the most widely used diagnostic manual of mental disorders). In the DSM-IV, PDD included five types or categories: autistic disorder, Asperger’s disorder, childhood disintegrative disorder, Rett syndrome, and pervasive developmental disorder-not otherwise specified (PDD-NOS).\n",
      "The fifth edition of the DSM was released in May 2014. In the DSM-5 the term ASD has replaced PDD. Additionally, the DSM-5 does not have any categories under ASD so all individuals meeting the diagnostic criteria will fall under one autism spectrum. This change was made because research indicates the categories that were under PDD cannot be reliably distinguished. This means the categories of autistic disorder, Asperger’s disorder, and PDD-NOS will no longer be used—instead the diagnosis of ASD will be used.\n",
      "****************************************************************************************************\n",
      "18 --> What are 16 early signs of autism by 16 months?\n",
      "19 --> The early signs of autism are easy to miss. Autism can be diagnosed by 18-24 months but it’s not usually diagnosed until 4-5 years. Flip through our online 16 Early Signs of Autism by 16 Months Lookbook with lots of photos to illustrate each early sign. You can also select a print version — 8 pages, 1 page, or fillable Checklist of the 16 Early Signs.\n",
      "21 --> Find printables with Autism Navigator messages in letter and tabloid size to download, print, and share. Our printables look great as posters mounted on foam or rigid boards to showcase in a lobby, waiting room, doctor’s exam room, or conference room. Share with your community partners to reach and engage families with our online resources and tools.\n"
     ]
    }
   ],
   "source": [
    "# Tried to search for answers of questions\n",
    "k=[]\n",
    "c = 0\n",
    "for i in soup.find_all('div',{'class':'wpb_text_column wpb_content_element'}):\n",
    "    txt = i.text.strip()\n",
    "    if(txt in l):\n",
    "        print('*'*100)\n",
    "    if(txt in l or len(txt.split())>50):\n",
    "        print(c,'-->', txt)\n",
    "    c = c+1\n",
    "    \n",
    "    k.append(txt)"
   ]
  },
  {
   "cell_type": "markdown",
   "id": "00979f89",
   "metadata": {},
   "source": [
    "# Check which questions are similar"
   ]
  },
  {
   "cell_type": "code",
   "execution_count": 8,
   "id": "d1f8a700",
   "metadata": {},
   "outputs": [],
   "source": [
    "stop_words = set(stopwords.words('english'))\n",
    "\n",
    "def clean_text(sent):\n",
    "    sent = sent.lower() # lowercase\n",
    "    sent = re.sub(r'[^\\w\\s]', '', sent) # remove punctuations\n",
    "    sent = re.sub('autism spectrum disorder','asd',sent) # Compress term\n",
    "    sent = re.sub('autism','asd',sent) # Compress term\n",
    "    sent = [w for w in sent.split() if not w.lower() in stop_words] # Remove stopwords\n",
    "    sent = \" \".join(sent)\n",
    "    return sent"
   ]
  },
  {
   "cell_type": "code",
   "execution_count": 9,
   "id": "82e06707",
   "metadata": {},
   "outputs": [],
   "source": [
    "def jaccard_similarity(list1, list2):\n",
    "    s1 = set(list1)\n",
    "    s2 = set(list2)\n",
    "    return float(len(s1.intersection(s2)) / len(s1.union(s2)))"
   ]
  },
  {
   "cell_type": "code",
   "execution_count": 10,
   "id": "1ea49412",
   "metadata": {},
   "outputs": [
    {
     "name": "stdout",
     "output_type": "stream",
     "text": [
      "Website -->  What is Autism Spectrum Disorder?\n",
      "100 questions list -->  What are the Autism Spectrum Disorders (ASD)?\n",
      "0.4\n",
      "****************************************************************************************************\n"
     ]
    }
   ],
   "source": [
    "for i in l:\n",
    "    i2 = clean_text(i)\n",
    "    list1 = i2.split()\n",
    "    \n",
    "    temp1 = 0.0\n",
    "    temp2 = ''\n",
    "    temp3 = ''\n",
    "    \n",
    "    for j in df['Question']:\n",
    "        j2 = clean_text(j)\n",
    "        list2 = j2.split()\n",
    "            \n",
    "        sim = jaccard_similarity(list1, list2)\n",
    "        \n",
    "        if(sim>temp1):\n",
    "            temp1 = sim\n",
    "            temp2 = j\n",
    "            temp3 = i\n",
    "            \n",
    "    if(temp1>=0.3):\n",
    "        print('Website --> ',temp3)\n",
    "        print('100 questions list --> ',temp2)\n",
    "        print(temp1)\n",
    "        print('*'*100)"
   ]
  },
  {
   "cell_type": "code",
   "execution_count": 11,
   "id": "a5a8d917",
   "metadata": {},
   "outputs": [
    {
     "data": {
      "text/html": [
       "<div>\n",
       "<style scoped>\n",
       "    .dataframe tbody tr th:only-of-type {\n",
       "        vertical-align: middle;\n",
       "    }\n",
       "\n",
       "    .dataframe tbody tr th {\n",
       "        vertical-align: top;\n",
       "    }\n",
       "\n",
       "    .dataframe thead th {\n",
       "        text-align: right;\n",
       "    }\n",
       "</style>\n",
       "<table border=\"1\" class=\"dataframe\">\n",
       "  <thead>\n",
       "    <tr style=\"text-align: right;\">\n",
       "      <th></th>\n",
       "      <th>Question</th>\n",
       "      <th>https://autismnavigator.com/what-is-autism/</th>\n",
       "    </tr>\n",
       "  </thead>\n",
       "  <tbody>\n",
       "    <tr>\n",
       "      <th>0</th>\n",
       "      <td>What is Autism?</td>\n",
       "      <td>NaN</td>\n",
       "    </tr>\n",
       "    <tr>\n",
       "      <th>1</th>\n",
       "      <td>What are the Autism Spectrum Disorders (ASD)?</td>\n",
       "      <td>NaN</td>\n",
       "    </tr>\n",
       "    <tr>\n",
       "      <th>2</th>\n",
       "      <td>What is Asperger’s Syndrome?</td>\n",
       "      <td>NaN</td>\n",
       "    </tr>\n",
       "    <tr>\n",
       "      <th>3</th>\n",
       "      <td>How can you tell Autism from Asperger’s Syndrome?</td>\n",
       "      <td>NaN</td>\n",
       "    </tr>\n",
       "    <tr>\n",
       "      <th>4</th>\n",
       "      <td>What is Pervasive Developmental Disorder – Not...</td>\n",
       "      <td>NaN</td>\n",
       "    </tr>\n",
       "    <tr>\n",
       "      <th>...</th>\n",
       "      <td>...</td>\n",
       "      <td>...</td>\n",
       "    </tr>\n",
       "    <tr>\n",
       "      <th>95</th>\n",
       "      <td>What are some ways that parents can reduce the...</td>\n",
       "      <td>NaN</td>\n",
       "    </tr>\n",
       "    <tr>\n",
       "      <th>96</th>\n",
       "      <td>Do some families deal with stress better than ...</td>\n",
       "      <td>NaN</td>\n",
       "    </tr>\n",
       "    <tr>\n",
       "      <th>97</th>\n",
       "      <td>Do siblings suffer increased stress as a resul...</td>\n",
       "      <td>NaN</td>\n",
       "    </tr>\n",
       "    <tr>\n",
       "      <th>98</th>\n",
       "      <td>What can I do about my children’s stress?</td>\n",
       "      <td>NaN</td>\n",
       "    </tr>\n",
       "    <tr>\n",
       "      <th>99</th>\n",
       "      <td>What are some resources for learning more abou...</td>\n",
       "      <td>NaN</td>\n",
       "    </tr>\n",
       "  </tbody>\n",
       "</table>\n",
       "<p>100 rows × 2 columns</p>\n",
       "</div>"
      ],
      "text/plain": [
       "                                             Question  \\\n",
       "0                                     What is Autism?   \n",
       "1       What are the Autism Spectrum Disorders (ASD)?   \n",
       "2                        What is Asperger’s Syndrome?   \n",
       "3   How can you tell Autism from Asperger’s Syndrome?   \n",
       "4   What is Pervasive Developmental Disorder – Not...   \n",
       "..                                                ...   \n",
       "95  What are some ways that parents can reduce the...   \n",
       "96  Do some families deal with stress better than ...   \n",
       "97  Do siblings suffer increased stress as a resul...   \n",
       "98          What can I do about my children’s stress?   \n",
       "99  What are some resources for learning more abou...   \n",
       "\n",
       "    https://autismnavigator.com/what-is-autism/  \n",
       "0                                           NaN  \n",
       "1                                           NaN  \n",
       "2                                           NaN  \n",
       "3                                           NaN  \n",
       "4                                           NaN  \n",
       "..                                          ...  \n",
       "95                                          NaN  \n",
       "96                                          NaN  \n",
       "97                                          NaN  \n",
       "98                                          NaN  \n",
       "99                                          NaN  \n",
       "\n",
       "[100 rows x 2 columns]"
      ]
     },
     "execution_count": 11,
     "metadata": {},
     "output_type": "execute_result"
    }
   ],
   "source": [
    "df"
   ]
  },
  {
   "cell_type": "code",
   "execution_count": 12,
   "id": "2f065606",
   "metadata": {},
   "outputs": [
    {
     "name": "stderr",
     "output_type": "stream",
     "text": [
      "C:\\Users\\aparg\\anaconda3\\envs\\ASD_scraping\\lib\\site-packages\\pandas\\core\\indexing.py:1732: SettingWithCopyWarning: \n",
      "A value is trying to be set on a copy of a slice from a DataFrame\n",
      "\n",
      "See the caveats in the documentation: https://pandas.pydata.org/pandas-docs/stable/user_guide/indexing.html#returning-a-view-versus-a-copy\n",
      "  self._setitem_single_block(indexer, value, name)\n"
     ]
    }
   ],
   "source": [
    "# Directly add answer to 'What are the Autism Spectrum Disorders (ASD)?' in existing dataframe\n",
    "df[link].loc[1]=k[3]"
   ]
  },
  {
   "cell_type": "code",
   "execution_count": 13,
   "id": "7e648712",
   "metadata": {},
   "outputs": [
    {
     "data": {
      "text/plain": [
       "['What is Autism Spectrum Disorder?',\n",
       " 'What are early red flags of ASD in toddlers?',\n",
       " 'How is ASD diagnosed?',\n",
       " 'What are 16 early signs of autism by 16 months?']"
      ]
     },
     "execution_count": 13,
     "metadata": {},
     "output_type": "execute_result"
    }
   ],
   "source": [
    "l"
   ]
  },
  {
   "cell_type": "code",
   "execution_count": 14,
   "id": "ad04c9d0",
   "metadata": {},
   "outputs": [
    {
     "data": {
      "text/plain": [
       "['What are early red flags of ASD in toddlers?',\n",
       " 'How is ASD diagnosed?',\n",
       " 'What are 16 early signs of autism by 16 months?']"
      ]
     },
     "execution_count": 14,
     "metadata": {},
     "output_type": "execute_result"
    }
   ],
   "source": [
    "# update questions list\n",
    "l=l[1:]\n",
    "l"
   ]
  },
  {
   "cell_type": "code",
   "execution_count": 15,
   "id": "fd97fc88",
   "metadata": {},
   "outputs": [],
   "source": [
    "# manually select answers to questions in list 'l'\n",
    "\n",
    "l2 = [k[8]+'\\n'+k[12]+'\\n'+k[13]+'\\n'+k[14],\n",
    "      k[16]+'\\n'+k[17],\n",
    "     k[19]+'\\n'+k[21]]"
   ]
  },
  {
   "cell_type": "code",
   "execution_count": 16,
   "id": "034808d5",
   "metadata": {},
   "outputs": [
    {
     "data": {
      "text/html": [
       "<div>\n",
       "<style scoped>\n",
       "    .dataframe tbody tr th:only-of-type {\n",
       "        vertical-align: middle;\n",
       "    }\n",
       "\n",
       "    .dataframe tbody tr th {\n",
       "        vertical-align: top;\n",
       "    }\n",
       "\n",
       "    .dataframe thead th {\n",
       "        text-align: right;\n",
       "    }\n",
       "</style>\n",
       "<table border=\"1\" class=\"dataframe\">\n",
       "  <thead>\n",
       "    <tr style=\"text-align: right;\">\n",
       "      <th></th>\n",
       "      <th>Question</th>\n",
       "      <th>https://autismnavigator.com/what-is-autism/</th>\n",
       "    </tr>\n",
       "  </thead>\n",
       "  <tbody>\n",
       "    <tr>\n",
       "      <th>0</th>\n",
       "      <td>What are early red flags of ASD in toddlers?</td>\n",
       "      <td>The diagnostic features of ASD can be easy to ...</td>\n",
       "    </tr>\n",
       "    <tr>\n",
       "      <th>1</th>\n",
       "      <td>How is ASD diagnosed?</td>\n",
       "      <td>Diagnosing ASD can be difficult because there ...</td>\n",
       "    </tr>\n",
       "    <tr>\n",
       "      <th>2</th>\n",
       "      <td>What are 16 early signs of autism by 16 months?</td>\n",
       "      <td>The early signs of autism are easy to miss. Au...</td>\n",
       "    </tr>\n",
       "  </tbody>\n",
       "</table>\n",
       "</div>"
      ],
      "text/plain": [
       "                                          Question  \\\n",
       "0     What are early red flags of ASD in toddlers?   \n",
       "1                            How is ASD diagnosed?   \n",
       "2  What are 16 early signs of autism by 16 months?   \n",
       "\n",
       "         https://autismnavigator.com/what-is-autism/  \n",
       "0  The diagnostic features of ASD can be easy to ...  \n",
       "1  Diagnosing ASD can be difficult because there ...  \n",
       "2  The early signs of autism are easy to miss. Au...  "
      ]
     },
     "execution_count": 16,
     "metadata": {},
     "output_type": "execute_result"
    }
   ],
   "source": [
    "# Create new dataframe with QA pairs\n",
    "df2 = pd.DataFrame(zip(l,l2),columns=['Question',link])\n",
    "df2"
   ]
  },
  {
   "cell_type": "code",
   "execution_count": 17,
   "id": "b3f7fb28",
   "metadata": {},
   "outputs": [
    {
     "data": {
      "text/html": [
       "<div>\n",
       "<style scoped>\n",
       "    .dataframe tbody tr th:only-of-type {\n",
       "        vertical-align: middle;\n",
       "    }\n",
       "\n",
       "    .dataframe tbody tr th {\n",
       "        vertical-align: top;\n",
       "    }\n",
       "\n",
       "    .dataframe thead th {\n",
       "        text-align: right;\n",
       "    }\n",
       "</style>\n",
       "<table border=\"1\" class=\"dataframe\">\n",
       "  <thead>\n",
       "    <tr style=\"text-align: right;\">\n",
       "      <th></th>\n",
       "      <th>Question</th>\n",
       "      <th>https://autismnavigator.com/what-is-autism/</th>\n",
       "    </tr>\n",
       "  </thead>\n",
       "  <tbody>\n",
       "    <tr>\n",
       "      <th>0</th>\n",
       "      <td>What are the Autism Spectrum Disorders (ASD)?</td>\n",
       "      <td>Autism spectrum disorder (ASD) is a neurodevel...</td>\n",
       "    </tr>\n",
       "    <tr>\n",
       "      <th>1</th>\n",
       "      <td>How is ASD diagnosed?</td>\n",
       "      <td>Diagnosing ASD can be difficult because there ...</td>\n",
       "    </tr>\n",
       "    <tr>\n",
       "      <th>2</th>\n",
       "      <td>What are early red flags of ASD in toddlers?</td>\n",
       "      <td>The diagnostic features of ASD can be easy to ...</td>\n",
       "    </tr>\n",
       "    <tr>\n",
       "      <th>3</th>\n",
       "      <td>What are 16 early signs of autism by 16 months?</td>\n",
       "      <td>The early signs of autism are easy to miss. Au...</td>\n",
       "    </tr>\n",
       "    <tr>\n",
       "      <th>4</th>\n",
       "      <td>What is Autism?</td>\n",
       "      <td>NaN</td>\n",
       "    </tr>\n",
       "    <tr>\n",
       "      <th>...</th>\n",
       "      <td>...</td>\n",
       "      <td>...</td>\n",
       "    </tr>\n",
       "    <tr>\n",
       "      <th>98</th>\n",
       "      <td>What are some ways that parents can reduce the...</td>\n",
       "      <td>NaN</td>\n",
       "    </tr>\n",
       "    <tr>\n",
       "      <th>99</th>\n",
       "      <td>Do some families deal with stress better than ...</td>\n",
       "      <td>NaN</td>\n",
       "    </tr>\n",
       "    <tr>\n",
       "      <th>100</th>\n",
       "      <td>Do siblings suffer increased stress as a resul...</td>\n",
       "      <td>NaN</td>\n",
       "    </tr>\n",
       "    <tr>\n",
       "      <th>101</th>\n",
       "      <td>What can I do about my children’s stress?</td>\n",
       "      <td>NaN</td>\n",
       "    </tr>\n",
       "    <tr>\n",
       "      <th>102</th>\n",
       "      <td>What are some resources for learning more abou...</td>\n",
       "      <td>NaN</td>\n",
       "    </tr>\n",
       "  </tbody>\n",
       "</table>\n",
       "<p>103 rows × 2 columns</p>\n",
       "</div>"
      ],
      "text/plain": [
       "                                              Question  \\\n",
       "0        What are the Autism Spectrum Disorders (ASD)?   \n",
       "1                                How is ASD diagnosed?   \n",
       "2         What are early red flags of ASD in toddlers?   \n",
       "3      What are 16 early signs of autism by 16 months?   \n",
       "4                                      What is Autism?   \n",
       "..                                                 ...   \n",
       "98   What are some ways that parents can reduce the...   \n",
       "99   Do some families deal with stress better than ...   \n",
       "100  Do siblings suffer increased stress as a resul...   \n",
       "101          What can I do about my children’s stress?   \n",
       "102  What are some resources for learning more abou...   \n",
       "\n",
       "           https://autismnavigator.com/what-is-autism/  \n",
       "0    Autism spectrum disorder (ASD) is a neurodevel...  \n",
       "1    Diagnosing ASD can be difficult because there ...  \n",
       "2    The diagnostic features of ASD can be easy to ...  \n",
       "3    The early signs of autism are easy to miss. Au...  \n",
       "4                                                  NaN  \n",
       "..                                                 ...  \n",
       "98                                                 NaN  \n",
       "99                                                 NaN  \n",
       "100                                                NaN  \n",
       "101                                                NaN  \n",
       "102                                                NaN  \n",
       "\n",
       "[103 rows x 2 columns]"
      ]
     },
     "execution_count": 17,
     "metadata": {},
     "output_type": "execute_result"
    }
   ],
   "source": [
    "# Concatenate existing and new dataframes\n",
    "df3 = pd.concat([df,df2],axis=0)\n",
    "df3 = df3.sort_values(by=list(df3.columns[1:])).reset_index(drop=True)\n",
    "df3"
   ]
  },
  {
   "cell_type": "markdown",
   "id": "c36df54c",
   "metadata": {},
   "source": [
    "# Save Output"
   ]
  },
  {
   "cell_type": "code",
   "execution_count": 18,
   "id": "cdd9d1cd",
   "metadata": {},
   "outputs": [],
   "source": [
    "df3.to_excel('Excel/Source1.xlsx',index=False)"
   ]
  }
 ],
 "metadata": {
  "kernelspec": {
   "display_name": "Python 3 (ipykernel)",
   "language": "python",
   "name": "python3"
  },
  "language_info": {
   "codemirror_mode": {
    "name": "ipython",
    "version": 3
   },
   "file_extension": ".py",
   "mimetype": "text/x-python",
   "name": "python",
   "nbconvert_exporter": "python",
   "pygments_lexer": "ipython3",
   "version": "3.8.0"
  }
 },
 "nbformat": 4,
 "nbformat_minor": 5
}
