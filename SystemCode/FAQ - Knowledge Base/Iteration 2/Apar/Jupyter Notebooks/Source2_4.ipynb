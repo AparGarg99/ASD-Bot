{
 "cells": [
  {
   "cell_type": "markdown",
   "id": "fa4ce988",
   "metadata": {},
   "source": [
    "# Import Libraries"
   ]
  },
  {
   "cell_type": "code",
   "execution_count": 1,
   "id": "ff207f11",
   "metadata": {},
   "outputs": [],
   "source": [
    "################ WEB SCRAPING MODULES ############\n",
    "from selenium import webdriver\n",
    "from webdriver_manager.chrome import ChromeDriverManager\n",
    "from selenium.webdriver.common.by import By\n",
    "import bs4\n",
    "from fake_useragent import UserAgent\n",
    "import requests\n",
    "################ TIME MODLULES ###################\n",
    "import time\n",
    "from datetime import date \n",
    "import datetime\n",
    "############## DATA MANIPULATION MODULES #########\n",
    "import pandas as pd\n",
    "import numpy as np\n",
    "import re\n",
    "from nltk.corpus import stopwords\n",
    "import os"
   ]
  },
  {
   "cell_type": "markdown",
   "id": "afa3a887",
   "metadata": {},
   "source": [
    "# Define Source"
   ]
  },
  {
   "cell_type": "code",
   "execution_count": 2,
   "id": "ebfc9440",
   "metadata": {},
   "outputs": [],
   "source": [
    "link = 'https://www.autism.org/autism-prognosis/'"
   ]
  },
  {
   "cell_type": "markdown",
   "id": "4f8f2ef9",
   "metadata": {},
   "source": [
    "# Read 100 questions list"
   ]
  },
  {
   "cell_type": "code",
   "execution_count": 8,
   "id": "5fb8f7ba",
   "metadata": {},
   "outputs": [],
   "source": [
    "file = 'Excel/' + os.listdir('Excel')[-1]\n",
    "df = pd.read_excel(file,engine='openpyxl')\n",
    "\n",
    "df[link]=np.nan"
   ]
  },
  {
   "cell_type": "markdown",
   "id": "06cc4415",
   "metadata": {},
   "source": [
    "# Scrape QA pairs from website"
   ]
  },
  {
   "cell_type": "code",
   "execution_count": 4,
   "id": "25ea70af",
   "metadata": {},
   "outputs": [
    {
     "name": "stderr",
     "output_type": "stream",
     "text": [
      "\n",
      "\n",
      "====== WebDriver manager ======\n",
      "Current google-chrome version is 92.0.4515\n",
      "Get LATEST driver version for 92.0.4515\n",
      "Driver [C:\\Users\\aparg\\.wdm\\drivers\\chromedriver\\win32\\92.0.4515.107\\chromedriver.exe] found in cache\n"
     ]
    }
   ],
   "source": [
    "# Open webpage in a new window\n",
    "driver = webdriver.Chrome(ChromeDriverManager().install())\n",
    "driver.get(link)"
   ]
  },
  {
   "cell_type": "code",
   "execution_count": 5,
   "id": "c652775d",
   "metadata": {},
   "outputs": [],
   "source": [
    "# Parse text in webpage\n",
    "source = driver.page_source\n",
    "soup = bs4.BeautifulSoup(source, 'html.parser')"
   ]
  },
  {
   "cell_type": "code",
   "execution_count": 18,
   "id": "fc912bab",
   "metadata": {},
   "outputs": [],
   "source": [
    "x = soup.find('div',{'class':'fusion-text fusion-text-1'}).text"
   ]
  },
  {
   "cell_type": "code",
   "execution_count": 16,
   "id": "fca1c8b8",
   "metadata": {},
   "outputs": [
    {
     "data": {
      "text/plain": [
       "['Prognosis for Autism',\n",
       " 'What is Autism?',\n",
       " 'Treatments influence prognosis',\n",
       " 'Early intervention yields better results']"
      ]
     },
     "execution_count": 16,
     "metadata": {},
     "output_type": "execute_result"
    }
   ],
   "source": [
    "l1=[]\n",
    "for i in soup.find_all('h2'):\n",
    "    l1.append(i.text.strip())\n",
    "l1=l1[:-1]\n",
    "l1"
   ]
  },
  {
   "cell_type": "code",
   "execution_count": 17,
   "id": "87c1b23b",
   "metadata": {},
   "outputs": [
    {
     "name": "stdout",
     "output_type": "stream",
     "text": [
      "Prognosis for Autism\n",
      "--------------------------------------------------\n",
      "If your loved one has been diagnosed with autism spectrum disorder, you may wonder about the likely course of their condition. Will they improve? Will challenging behaviors stop or increase? What can you do to support their development and growth over time? Because every individual with autism is different, there are no universal answers to these questions. However, the prognosis for people with autism has improved over the last two decades as more treatments have been identified and tested.\n",
      "****************************************************************************************************\n",
      "What is Autism?\n",
      "--------------------------------------------------\n",
      "Autism is a neurodevelopmental disorder that begins at birth or within the first two-and-a-half years of life. Autism is a spectrum disorder, meaning that it can appear in a range of forms and severity levels. The prognosis for a child with autism depends on the severity of their initial symptoms but can be influenced by early intervention and treatment.  For years autism was thought to be irreversible. While autism is a lifelong condition, there are now evidence-based treatments that can help and support people with autism. Parents and caregivers of people with autism collaborate with clinicians to identify the treatments most likely to support the individual and appropriately address their symptoms.\n",
      "****************************************************************************************************\n",
      "Treatments influence prognosis\n",
      "--------------------------------------------------\n",
      "Many researchers, clinicians, and parents have investigated and tracked the efficacy of autism treatments over time. While each individual with autism is different, some treatments have shown positive effects for people with autism. ARI’s online webinars, presented by qualified experts can help you gauge which treatments might be most effective for your loved one. However, parents should seek out the advice of a qualified health professional before starting any autism treatment.  Several co-occurring conditions—called comorbidities by clinicians—have been identified. Treating underlying conditions and related disorders can improve the prognosis for individuals with autism. Some individuals may be unable to fully articulate their pain or discomfort, so they should receive regular check-ups from qualified health professionals with an understanding of autism.\n",
      "****************************************************************************************************\n",
      "Early intervention yields better results\n",
      "--------------------------------------------------\n",
      "Age at intervention can impact long-term outcomes–research has shown that the earlier a child is treated, the better the prognosis will be. In recent years, there has been an increase in the percentage of children who can attend school in a typical classroom and go on to live semi-independently in community settings. However, the majority of people with autism remain affected to some degree in their ability to communicate and socialize. As this video presented by V. Mark Durand, Ph.D. explains, many people with autism engage in challenging and sometimes disturbing behaviors. Families and teachers of individuals with autism can learn to employ positive psychology to help them experience happier and less-stressful lives.\n",
      "****************************************************************************************************\n"
     ]
    }
   ],
   "source": [
    "l2=[]\n",
    "for i in range(len(l1)):\n",
    "    print(l1[i])\n",
    "    print('-'*50)\n",
    "    start = x.index(l1[i])\n",
    "\n",
    "    if(i!=len(l1)-1):\n",
    "        end = x.index(l1[i+1])\n",
    "    if(i==len(l1)-1):\n",
    "        end = len(x)\n",
    "       \n",
    "    ans = x[start:end]\n",
    "    ans = ans.split(l1[i])[1]\n",
    "    ans = ans.strip()\n",
    "    print(ans)\n",
    "    print('*'*100)\n",
    "    \n",
    "    l2.append(ans)"
   ]
  },
  {
   "cell_type": "markdown",
   "id": "00979f89",
   "metadata": {},
   "source": [
    "# Check which questions are similar"
   ]
  },
  {
   "cell_type": "code",
   "execution_count": 21,
   "id": "d1f8a700",
   "metadata": {},
   "outputs": [],
   "source": [
    "stop_words = set(stopwords.words('english'))\n",
    "\n",
    "def clean_text(sent):\n",
    "    sent = sent.lower() # lowercase\n",
    "    sent = re.sub(r'[^\\w\\s]', '', sent) # remove punctuations\n",
    "    sent = re.sub('autism spectrum disorder','asd',sent) # Compress term\n",
    "    sent = re.sub('autism','asd',sent) # Compress term\n",
    "    sent = [w for w in sent.split() if not w.lower() in stop_words] # Remove stopwords\n",
    "    sent = \" \".join(sent)\n",
    "    return sent"
   ]
  },
  {
   "cell_type": "code",
   "execution_count": 22,
   "id": "82e06707",
   "metadata": {},
   "outputs": [],
   "source": [
    "def jaccard_similarity(list1, list2):\n",
    "    s1 = set(list1)\n",
    "    s2 = set(list2)\n",
    "    return float(len(s1.intersection(s2)) / len(s1.union(s2)))"
   ]
  },
  {
   "cell_type": "code",
   "execution_count": 23,
   "id": "1ea49412",
   "metadata": {},
   "outputs": [],
   "source": [
    "def sim(li):\n",
    "    for c1,i in enumerate(li):\n",
    "        i2 = clean_text(i)\n",
    "        list1 = i2.split()\n",
    "\n",
    "        temp1 = 0.0\n",
    "        temp2 = ''\n",
    "        temp3 = ''\n",
    "        temp4 = 0\n",
    "        temp5 = 0\n",
    "\n",
    "        for c2,j in enumerate(df['Question']):\n",
    "            j2 = clean_text(j)\n",
    "            list2 = j2.split()\n",
    "\n",
    "            sim = jaccard_similarity(list1, list2)\n",
    "\n",
    "            if(sim>temp1):\n",
    "                temp1 = sim\n",
    "                temp2 = j\n",
    "                temp3 = i\n",
    "                temp4 = c2\n",
    "                temp5 = c1\n",
    "\n",
    "        if(temp1>0):\n",
    "            print('Website --> ',temp3,'(Index {})'.format(temp5))\n",
    "            print('100 questions list --> ',temp2,'(Index {})'.format(temp4))\n",
    "            print(temp1)\n",
    "            print('*'*100)"
   ]
  },
  {
   "cell_type": "code",
   "execution_count": 24,
   "id": "7cf2e775",
   "metadata": {},
   "outputs": [
    {
     "name": "stdout",
     "output_type": "stream",
     "text": [
      "Website -->  Prognosis for Autism (Index 0)\n",
      "100 questions list -->  What is the prognosis of children with Autism? (Index 26)\n",
      "0.6666666666666666\n",
      "****************************************************************************************************\n",
      "Website -->  What is Autism? (Index 1)\n",
      "100 questions list -->  What is Autism? (Index 4)\n",
      "1.0\n",
      "****************************************************************************************************\n",
      "Website -->  Treatments influence prognosis (Index 2)\n",
      "100 questions list -->  What is the prognosis of children with Autism? (Index 26)\n",
      "0.2\n",
      "****************************************************************************************************\n",
      "Website -->  Early intervention yields better results (Index 3)\n",
      "100 questions list -->  What are early red flags of ASD in toddlers? (Index 2)\n",
      "0.1111111111111111\n",
      "****************************************************************************************************\n"
     ]
    }
   ],
   "source": [
    "sim(l1)"
   ]
  },
  {
   "cell_type": "code",
   "execution_count": null,
   "id": "0e232f88",
   "metadata": {},
   "outputs": [],
   "source": [
    "# Website, 100Q\n",
    "# 0, 26\n",
    "# 1, 4"
   ]
  },
  {
   "cell_type": "code",
   "execution_count": 28,
   "id": "c117e3fd",
   "metadata": {},
   "outputs": [
    {
     "name": "stdout",
     "output_type": "stream",
     "text": [
      "15 Are there other therapies that are useful in treatment of behavioral symptoms in Autistic children?\n",
      "65 Are medications useful in treating the behavioral problems of Autistic children?\n",
      "66 What types of medications are used to treat autistic children?\n",
      "68 Are antipsychotic medications helpful in the treatment of autism?\n",
      "69 I’ve heard that anti-seizure medication can be helpful in treating some behavior problems associated with autism. Is that true?\n",
      "70 How are Anxiety and depression treated in an autistic person?\n",
      "71 What medications are used to treat seizures in autistic children?\n",
      "72 What are some treatments for involuntary movements, vocalizations and Tourette’s Syndrome associated with Autism?\n",
      "73 Is there any harm in trying unproven treatments on my child?\n",
      "75 What are some common dietary interventions used to treat Autism?\n",
      "76 Is Secretin helpful in treating the symptoms of Autism?\n",
      "77 Is Naltrexone helpful in treating autism?\n"
     ]
    }
   ],
   "source": [
    "for i,j in enumerate(df['Question']):\n",
    "    if('treat' in j):\n",
    "        print(i,j)"
   ]
  },
  {
   "cell_type": "code",
   "execution_count": 29,
   "id": "4de81c71",
   "metadata": {},
   "outputs": [
    {
     "name": "stderr",
     "output_type": "stream",
     "text": [
      "C:\\Users\\aparg\\anaconda3\\envs\\ASD_scraping\\lib\\site-packages\\pandas\\core\\indexing.py:1732: SettingWithCopyWarning: \n",
      "A value is trying to be set on a copy of a slice from a DataFrame\n",
      "\n",
      "See the caveats in the documentation: https://pandas.pydata.org/pandas-docs/stable/user_guide/indexing.html#returning-a-view-versus-a-copy\n",
      "  self._setitem_single_block(indexer, value, name)\n"
     ]
    }
   ],
   "source": [
    "# Directly add answer to existing dataframe\n",
    "l4 = [[0, 26],[1, 4]]\n",
    "for i in l4:\n",
    "    df[link].loc[i[1]] = l2[i[0]]"
   ]
  },
  {
   "cell_type": "code",
   "execution_count": 30,
   "id": "7e648712",
   "metadata": {},
   "outputs": [
    {
     "data": {
      "text/plain": [
       "['Prognosis for Autism',\n",
       " 'What is Autism?',\n",
       " 'Treatments influence prognosis',\n",
       " 'Early intervention yields better results']"
      ]
     },
     "execution_count": 30,
     "metadata": {},
     "output_type": "execute_result"
    }
   ],
   "source": [
    "l1"
   ]
  },
  {
   "cell_type": "code",
   "execution_count": 31,
   "id": "ad04c9d0",
   "metadata": {},
   "outputs": [
    {
     "data": {
      "text/plain": [
       "['Treatments influence prognosis', 'Early intervention yields better results']"
      ]
     },
     "execution_count": 31,
     "metadata": {},
     "output_type": "execute_result"
    }
   ],
   "source": [
    "# update questions list\n",
    "f = [i[0] for i in l4]\n",
    "f = set(range(len(l1)))-set(f)\n",
    "l1=[l1[i] for i in f]\n",
    "l1"
   ]
  },
  {
   "cell_type": "code",
   "execution_count": 32,
   "id": "fd97fc88",
   "metadata": {},
   "outputs": [],
   "source": [
    "# select answers to questions in list 'l'\n",
    "l2 = [l2[i] for i in f]"
   ]
  },
  {
   "cell_type": "code",
   "execution_count": 33,
   "id": "034808d5",
   "metadata": {},
   "outputs": [
    {
     "data": {
      "text/html": [
       "<div>\n",
       "<style scoped>\n",
       "    .dataframe tbody tr th:only-of-type {\n",
       "        vertical-align: middle;\n",
       "    }\n",
       "\n",
       "    .dataframe tbody tr th {\n",
       "        vertical-align: top;\n",
       "    }\n",
       "\n",
       "    .dataframe thead th {\n",
       "        text-align: right;\n",
       "    }\n",
       "</style>\n",
       "<table border=\"1\" class=\"dataframe\">\n",
       "  <thead>\n",
       "    <tr style=\"text-align: right;\">\n",
       "      <th></th>\n",
       "      <th>Question</th>\n",
       "      <th>https://www.autism.org/autism-prognosis/</th>\n",
       "    </tr>\n",
       "  </thead>\n",
       "  <tbody>\n",
       "    <tr>\n",
       "      <th>0</th>\n",
       "      <td>Treatments influence prognosis</td>\n",
       "      <td>Many researchers, clinicians, and parents have...</td>\n",
       "    </tr>\n",
       "    <tr>\n",
       "      <th>1</th>\n",
       "      <td>Early intervention yields better results</td>\n",
       "      <td>Age at intervention can impact long-term outco...</td>\n",
       "    </tr>\n",
       "  </tbody>\n",
       "</table>\n",
       "</div>"
      ],
      "text/plain": [
       "                                   Question  \\\n",
       "0            Treatments influence prognosis   \n",
       "1  Early intervention yields better results   \n",
       "\n",
       "            https://www.autism.org/autism-prognosis/  \n",
       "0  Many researchers, clinicians, and parents have...  \n",
       "1  Age at intervention can impact long-term outco...  "
      ]
     },
     "execution_count": 33,
     "metadata": {},
     "output_type": "execute_result"
    }
   ],
   "source": [
    "# Create new dataframe with QA pairs\n",
    "df2 = pd.DataFrame(zip(l1,l2),columns=['Question',link])\n",
    "df2"
   ]
  },
  {
   "cell_type": "code",
   "execution_count": 36,
   "id": "b3f7fb28",
   "metadata": {},
   "outputs": [],
   "source": [
    "# Concatenate existing and new dataframes\n",
    "df3 = pd.concat([df,df2],axis=0)\n",
    "df3 = df3.sort_values(by=list(df3.columns[1:])).reset_index(drop=True)"
   ]
  },
  {
   "cell_type": "code",
   "execution_count": 37,
   "id": "4e86d1ce",
   "metadata": {},
   "outputs": [
    {
     "data": {
      "text/html": [
       "<div>\n",
       "<style scoped>\n",
       "    .dataframe tbody tr th:only-of-type {\n",
       "        vertical-align: middle;\n",
       "    }\n",
       "\n",
       "    .dataframe tbody tr th {\n",
       "        vertical-align: top;\n",
       "    }\n",
       "\n",
       "    .dataframe thead th {\n",
       "        text-align: right;\n",
       "    }\n",
       "</style>\n",
       "<table border=\"1\" class=\"dataframe\">\n",
       "  <thead>\n",
       "    <tr style=\"text-align: right;\">\n",
       "      <th></th>\n",
       "      <th>Question</th>\n",
       "      <th>https://www.autism.org/autism-prognosis/</th>\n",
       "    </tr>\n",
       "  </thead>\n",
       "  <tbody>\n",
       "    <tr>\n",
       "      <th>4</th>\n",
       "      <td>What is Autism?</td>\n",
       "      <td>Autism is a neurodevelopmental disorder that b...</td>\n",
       "    </tr>\n",
       "    <tr>\n",
       "      <th>26</th>\n",
       "      <td>What is the prognosis of children with Autism?</td>\n",
       "      <td>If your loved one has been diagnosed with auti...</td>\n",
       "    </tr>\n",
       "    <tr>\n",
       "      <th>30</th>\n",
       "      <td>Early intervention yields better results</td>\n",
       "      <td>Age at intervention can impact long-term outco...</td>\n",
       "    </tr>\n",
       "    <tr>\n",
       "      <th>31</th>\n",
       "      <td>Treatments influence prognosis</td>\n",
       "      <td>Many researchers, clinicians, and parents have...</td>\n",
       "    </tr>\n",
       "  </tbody>\n",
       "</table>\n",
       "</div>"
      ],
      "text/plain": [
       "                                          Question  \\\n",
       "4                                  What is Autism?   \n",
       "26  What is the prognosis of children with Autism?   \n",
       "30        Early intervention yields better results   \n",
       "31                  Treatments influence prognosis   \n",
       "\n",
       "             https://www.autism.org/autism-prognosis/  \n",
       "4   Autism is a neurodevelopmental disorder that b...  \n",
       "26  If your loved one has been diagnosed with auti...  \n",
       "30  Age at intervention can impact long-term outco...  \n",
       "31  Many researchers, clinicians, and parents have...  "
      ]
     },
     "execution_count": 37,
     "metadata": {},
     "output_type": "execute_result"
    }
   ],
   "source": [
    "df3.iloc[:,[0,-1]].dropna()"
   ]
  },
  {
   "cell_type": "code",
   "execution_count": 38,
   "id": "02a229d0",
   "metadata": {},
   "outputs": [
    {
     "data": {
      "text/plain": [
       "(119, 6)"
      ]
     },
     "execution_count": 38,
     "metadata": {},
     "output_type": "execute_result"
    }
   ],
   "source": [
    "df3.shape"
   ]
  },
  {
   "cell_type": "markdown",
   "id": "c36df54c",
   "metadata": {},
   "source": [
    "# Save Output"
   ]
  },
  {
   "cell_type": "code",
   "execution_count": 39,
   "id": "cdd9d1cd",
   "metadata": {},
   "outputs": [],
   "source": [
    "df3.to_excel('Excel/Source2_4.xlsx',index=False)"
   ]
  }
 ],
 "metadata": {
  "kernelspec": {
   "display_name": "Python 3 (ipykernel)",
   "language": "python",
   "name": "python3"
  },
  "language_info": {
   "codemirror_mode": {
    "name": "ipython",
    "version": 3
   },
   "file_extension": ".py",
   "mimetype": "text/x-python",
   "name": "python",
   "nbconvert_exporter": "python",
   "pygments_lexer": "ipython3",
   "version": "3.8.0"
  }
 },
 "nbformat": 4,
 "nbformat_minor": 5
}
