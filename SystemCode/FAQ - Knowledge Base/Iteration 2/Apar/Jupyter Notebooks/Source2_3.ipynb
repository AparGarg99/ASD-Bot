{
 "cells": [
  {
   "cell_type": "markdown",
   "id": "fa4ce988",
   "metadata": {},
   "source": [
    "# Import Libraries"
   ]
  },
  {
   "cell_type": "code",
   "execution_count": 1,
   "id": "ff207f11",
   "metadata": {},
   "outputs": [],
   "source": [
    "################ WEB SCRAPING MODULES ############\n",
    "from selenium import webdriver\n",
    "from webdriver_manager.chrome import ChromeDriverManager\n",
    "from selenium.webdriver.common.by import By\n",
    "import bs4\n",
    "from fake_useragent import UserAgent\n",
    "import requests\n",
    "################ TIME MODLULES ###################\n",
    "import time\n",
    "from datetime import date \n",
    "import datetime\n",
    "############## DATA MANIPULATION MODULES #########\n",
    "import pandas as pd\n",
    "import numpy as np\n",
    "import re\n",
    "from nltk.corpus import stopwords\n",
    "import os"
   ]
  },
  {
   "cell_type": "markdown",
   "id": "afa3a887",
   "metadata": {},
   "source": [
    "# Define Source"
   ]
  },
  {
   "cell_type": "code",
   "execution_count": 2,
   "id": "ebfc9440",
   "metadata": {},
   "outputs": [],
   "source": [
    "link = 'https://www.autism.org/symptoms-of-autism/'"
   ]
  },
  {
   "cell_type": "markdown",
   "id": "4f8f2ef9",
   "metadata": {},
   "source": [
    "# Read 100 questions list"
   ]
  },
  {
   "cell_type": "code",
   "execution_count": 3,
   "id": "5fb8f7ba",
   "metadata": {},
   "outputs": [
    {
     "data": {
      "text/html": [
       "<div>\n",
       "<style scoped>\n",
       "    .dataframe tbody tr th:only-of-type {\n",
       "        vertical-align: middle;\n",
       "    }\n",
       "\n",
       "    .dataframe tbody tr th {\n",
       "        vertical-align: top;\n",
       "    }\n",
       "\n",
       "    .dataframe thead th {\n",
       "        text-align: right;\n",
       "    }\n",
       "</style>\n",
       "<table border=\"1\" class=\"dataframe\">\n",
       "  <thead>\n",
       "    <tr style=\"text-align: right;\">\n",
       "      <th></th>\n",
       "      <th>Question</th>\n",
       "      <th>https://autismnavigator.com/what-is-autism/</th>\n",
       "      <th>https://www.autism.org/is-it-autism/</th>\n",
       "      <th>https://www.autism.org/advice-for-parents/</th>\n",
       "      <th>https://www.autism.org/symptoms-of-autism/</th>\n",
       "    </tr>\n",
       "  </thead>\n",
       "  <tbody>\n",
       "    <tr>\n",
       "      <th>0</th>\n",
       "      <td>What are the Autism Spectrum Disorders (ASD)?</td>\n",
       "      <td>Autism spectrum disorder (ASD) is a neurodevel...</td>\n",
       "      <td>NaN</td>\n",
       "      <td>NaN</td>\n",
       "      <td>NaN</td>\n",
       "    </tr>\n",
       "    <tr>\n",
       "      <th>1</th>\n",
       "      <td>How is ASD diagnosed?</td>\n",
       "      <td>Diagnosing ASD can be difficult because there ...</td>\n",
       "      <td>NaN</td>\n",
       "      <td>Possible symptoms of autism may be observed by...</td>\n",
       "      <td>NaN</td>\n",
       "    </tr>\n",
       "    <tr>\n",
       "      <th>2</th>\n",
       "      <td>What are early red flags of ASD in toddlers?</td>\n",
       "      <td>The diagnostic features of ASD can be easy to ...</td>\n",
       "      <td>NaN</td>\n",
       "      <td>NaN</td>\n",
       "      <td>NaN</td>\n",
       "    </tr>\n",
       "    <tr>\n",
       "      <th>3</th>\n",
       "      <td>What are 16 early signs of autism by 16 months?</td>\n",
       "      <td>The early signs of autism are easy to miss. Au...</td>\n",
       "      <td>NaN</td>\n",
       "      <td>Autism develops sometime during pregnancy and ...</td>\n",
       "      <td>NaN</td>\n",
       "    </tr>\n",
       "    <tr>\n",
       "      <th>4</th>\n",
       "      <td>What is Autism?</td>\n",
       "      <td>NaN</td>\n",
       "      <td>Autism Spectrum Disorder (ASD) is a developmen...</td>\n",
       "      <td>Autism is a developmental disability that typi...</td>\n",
       "      <td>NaN</td>\n",
       "    </tr>\n",
       "    <tr>\n",
       "      <th>...</th>\n",
       "      <td>...</td>\n",
       "      <td>...</td>\n",
       "      <td>...</td>\n",
       "      <td>...</td>\n",
       "      <td>...</td>\n",
       "    </tr>\n",
       "    <tr>\n",
       "      <th>110</th>\n",
       "      <td>What are some ways that parents can reduce the...</td>\n",
       "      <td>NaN</td>\n",
       "      <td>NaN</td>\n",
       "      <td>NaN</td>\n",
       "      <td>NaN</td>\n",
       "    </tr>\n",
       "    <tr>\n",
       "      <th>111</th>\n",
       "      <td>Do some families deal with stress better than ...</td>\n",
       "      <td>NaN</td>\n",
       "      <td>NaN</td>\n",
       "      <td>NaN</td>\n",
       "      <td>NaN</td>\n",
       "    </tr>\n",
       "    <tr>\n",
       "      <th>112</th>\n",
       "      <td>Do siblings suffer increased stress as a resul...</td>\n",
       "      <td>NaN</td>\n",
       "      <td>NaN</td>\n",
       "      <td>NaN</td>\n",
       "      <td>NaN</td>\n",
       "    </tr>\n",
       "    <tr>\n",
       "      <th>113</th>\n",
       "      <td>What can I do about my children’s stress?</td>\n",
       "      <td>NaN</td>\n",
       "      <td>NaN</td>\n",
       "      <td>NaN</td>\n",
       "      <td>NaN</td>\n",
       "    </tr>\n",
       "    <tr>\n",
       "      <th>114</th>\n",
       "      <td>What are some resources for learning more abou...</td>\n",
       "      <td>NaN</td>\n",
       "      <td>NaN</td>\n",
       "      <td>NaN</td>\n",
       "      <td>NaN</td>\n",
       "    </tr>\n",
       "  </tbody>\n",
       "</table>\n",
       "<p>115 rows × 5 columns</p>\n",
       "</div>"
      ],
      "text/plain": [
       "                                              Question  \\\n",
       "0        What are the Autism Spectrum Disorders (ASD)?   \n",
       "1                                How is ASD diagnosed?   \n",
       "2         What are early red flags of ASD in toddlers?   \n",
       "3      What are 16 early signs of autism by 16 months?   \n",
       "4                                      What is Autism?   \n",
       "..                                                 ...   \n",
       "110  What are some ways that parents can reduce the...   \n",
       "111  Do some families deal with stress better than ...   \n",
       "112  Do siblings suffer increased stress as a resul...   \n",
       "113          What can I do about my children’s stress?   \n",
       "114  What are some resources for learning more abou...   \n",
       "\n",
       "           https://autismnavigator.com/what-is-autism/  \\\n",
       "0    Autism spectrum disorder (ASD) is a neurodevel...   \n",
       "1    Diagnosing ASD can be difficult because there ...   \n",
       "2    The diagnostic features of ASD can be easy to ...   \n",
       "3    The early signs of autism are easy to miss. Au...   \n",
       "4                                                  NaN   \n",
       "..                                                 ...   \n",
       "110                                                NaN   \n",
       "111                                                NaN   \n",
       "112                                                NaN   \n",
       "113                                                NaN   \n",
       "114                                                NaN   \n",
       "\n",
       "                  https://www.autism.org/is-it-autism/  \\\n",
       "0                                                  NaN   \n",
       "1                                                  NaN   \n",
       "2                                                  NaN   \n",
       "3                                                  NaN   \n",
       "4    Autism Spectrum Disorder (ASD) is a developmen...   \n",
       "..                                                 ...   \n",
       "110                                                NaN   \n",
       "111                                                NaN   \n",
       "112                                                NaN   \n",
       "113                                                NaN   \n",
       "114                                                NaN   \n",
       "\n",
       "            https://www.autism.org/advice-for-parents/  \\\n",
       "0                                                  NaN   \n",
       "1    Possible symptoms of autism may be observed by...   \n",
       "2                                                  NaN   \n",
       "3    Autism develops sometime during pregnancy and ...   \n",
       "4    Autism is a developmental disability that typi...   \n",
       "..                                                 ...   \n",
       "110                                                NaN   \n",
       "111                                                NaN   \n",
       "112                                                NaN   \n",
       "113                                                NaN   \n",
       "114                                                NaN   \n",
       "\n",
       "     https://www.autism.org/symptoms-of-autism/  \n",
       "0                                           NaN  \n",
       "1                                           NaN  \n",
       "2                                           NaN  \n",
       "3                                           NaN  \n",
       "4                                           NaN  \n",
       "..                                          ...  \n",
       "110                                         NaN  \n",
       "111                                         NaN  \n",
       "112                                         NaN  \n",
       "113                                         NaN  \n",
       "114                                         NaN  \n",
       "\n",
       "[115 rows x 5 columns]"
      ]
     },
     "execution_count": 3,
     "metadata": {},
     "output_type": "execute_result"
    }
   ],
   "source": [
    "file = 'Excel/' + os.listdir('Excel')[-1]\n",
    "df = pd.read_excel(file,engine='openpyxl')\n",
    "\n",
    "df[link]=np.nan\n",
    "df"
   ]
  },
  {
   "cell_type": "markdown",
   "id": "06cc4415",
   "metadata": {},
   "source": [
    "# Scrape QA pairs from website"
   ]
  },
  {
   "cell_type": "code",
   "execution_count": 4,
   "id": "25ea70af",
   "metadata": {},
   "outputs": [
    {
     "name": "stderr",
     "output_type": "stream",
     "text": [
      "\n",
      "\n",
      "====== WebDriver manager ======\n",
      "Current google-chrome version is 92.0.4515\n",
      "Get LATEST driver version for 92.0.4515\n",
      "Driver [C:\\Users\\aparg\\.wdm\\drivers\\chromedriver\\win32\\92.0.4515.107\\chromedriver.exe] found in cache\n"
     ]
    }
   ],
   "source": [
    "# Open webpage in a new window\n",
    "driver = webdriver.Chrome(ChromeDriverManager().install())\n",
    "driver.get(link)"
   ]
  },
  {
   "cell_type": "code",
   "execution_count": 5,
   "id": "c652775d",
   "metadata": {},
   "outputs": [],
   "source": [
    "# Parse text in webpage\n",
    "source = driver.page_source\n",
    "soup = bs4.BeautifulSoup(source, 'html.parser')"
   ]
  },
  {
   "cell_type": "code",
   "execution_count": 6,
   "id": "fc912bab",
   "metadata": {},
   "outputs": [],
   "source": [
    "x = soup.find('div',{'class':'fusion-text fusion-text-2 nitro-offscreen'}).text"
   ]
  },
  {
   "cell_type": "code",
   "execution_count": 7,
   "id": "fca1c8b8",
   "metadata": {},
   "outputs": [
    {
     "data": {
      "text/plain": [
       "['What are the Symptoms of Autism?',\n",
       " 'Conditions that can occur with autism',\n",
       " 'When do symptoms of autism appear?']"
      ]
     },
     "execution_count": 7,
     "metadata": {},
     "output_type": "execute_result"
    }
   ],
   "source": [
    "l1=[]\n",
    "for i in soup.find_all('h2'):\n",
    "    l1.append(i.text.strip())\n",
    "l1"
   ]
  },
  {
   "cell_type": "code",
   "execution_count": 8,
   "id": "87c1b23b",
   "metadata": {},
   "outputs": [
    {
     "name": "stdout",
     "output_type": "stream",
     "text": [
      "What are the Symptoms of Autism?\n",
      "--------------------------------------------------\n",
      "While autism can only be diagnosed by a healthcare professional, this list of common symptoms associated with autism can help parents and caregivers know what to watch for. Communication and Social Symptoms   Pragmatic Language – Most individuals on the autism spectrum have difficulty communicating with other people. This often becomes apparent during early childhood. Any delays in speech development and nonverbal communication should be evaluated by a qualified specialist.   Eye Contact and Nonverbal Communication – Poor and avoidance of eye contact are common symptoms among those with autism. Other non-verbal communication difficulties may include recognizing and using facial expressions, physical gestures, and overall body language.   Tone of Voice – Some people with autism may have difficulty regulating or modulating their tone of voice. As a result, they may speak too loudly, too quietly, and/or with a monotone voice.   Behavioral Symptoms   Repetitive Behaviors – Many people with autism may perform the same behaviors repetitively. This may include rocking, spinning, or flapping of the hands and arms, or flickering their fingers in front of their eyes. They may also play with toys or other objects in unusual ways, such as spinning coins or plates tirelessly and repeatedly flipping light switches.   Ritualistic Behaviors – This may include eating the same foods at every meal or watching the same videos over and over again. They may even become quite upset soon after any slight changes in plans.   Self-Injury – Some individuals on the autism spectrum bang their head against the ground or wall, bite their hands, or excessively rub or scratch their skin. There are many ways to treat these behaviors including medical, sensory, nutritional, and behavioral approaches. Talk to your doctor as soon as possible if your child engages in any form of self-injurious behavior.\n",
      "****************************************************************************************************\n",
      "Conditions that can occur with autism\n",
      "--------------------------------------------------\n",
      "Several medical conditions are associated with autism, and they are often referred to as comorbidities or co-occurring conditions. These can include seizures, sensory sensitivities, anxiety, and sleep disturbances as well as gastrointestinal, metabolic, and immune dysregulation. Talk with your doctor to identify and treat such conditions.\n",
      "****************************************************************************************************\n",
      "When do symptoms of autism appear?\n",
      "--------------------------------------------------\n",
      "Autism symptoms in children may be recognized as early as 18 months. More recently, adults are being diagnosed with autism, and this is likely due to increased awareness and screening during medical appointments. If you suspect that your son or daughter may have autism, it’s time to talk to your doctor. Interventions can make a big difference for both your child’s health and development. Learn about autism treatments for children and adults.\n",
      "****************************************************************************************************\n"
     ]
    }
   ],
   "source": [
    "l2=[]\n",
    "for i in range(len(l1)):\n",
    "    print(l1[i])\n",
    "    print('-'*50)\n",
    "    start = x.index(l1[i])\n",
    "\n",
    "    if(i!=len(l1)-1):\n",
    "        end = x.index(l1[i+1])\n",
    "    if(i==len(l1)-1):\n",
    "        end = len(x)\n",
    "       \n",
    "    ans = x[start:end]\n",
    "    ans = ans.split(l1[i])[1]\n",
    "    ans = ans.strip()\n",
    "    print(ans)\n",
    "    print('*'*100)\n",
    "    \n",
    "    l2.append(ans)"
   ]
  },
  {
   "cell_type": "code",
   "execution_count": 9,
   "id": "f3fe932d",
   "metadata": {},
   "outputs": [],
   "source": [
    "for i in soup.find_all('h3'):\n",
    "    k = i.text.strip()\n",
    "    for j in range(len(l2)):\n",
    "        if(k in l2[j]):\n",
    "            l2[j] = l2[j].replace(k,'\\n\\n'+k)"
   ]
  },
  {
   "cell_type": "code",
   "execution_count": 10,
   "id": "af034bf7",
   "metadata": {},
   "outputs": [
    {
     "name": "stdout",
     "output_type": "stream",
     "text": [
      "0 What are the Symptoms of Autism?\n",
      "--------------------------------------------------\n",
      "While autism can only be diagnosed by a healthcare professional, this list of common symptoms associated with autism can help parents and caregivers know what to watch for. \n",
      "\n",
      "Communication and Social Symptoms   Pragmatic Language – Most individuals on the autism spectrum have difficulty communicating with other people. This often becomes apparent during early childhood. Any delays in speech development and nonverbal communication should be evaluated by a qualified specialist.   Eye Contact and Nonverbal Communication – Poor and avoidance of eye contact are common symptoms among those with autism. Other non-verbal communication difficulties may include recognizing and using facial expressions, physical gestures, and overall body language.   Tone of Voice – Some people with autism may have difficulty regulating or modulating their tone of voice. As a result, they may speak too loudly, too quietly, and/or with a monotone voice.   \n",
      "\n",
      "Behavioral Symptoms   Repetitive Behaviors – Many people with autism may perform the same behaviors repetitively. This may include rocking, spinning, or flapping of the hands and arms, or flickering their fingers in front of their eyes. They may also play with toys or other objects in unusual ways, such as spinning coins or plates tirelessly and repeatedly flipping light switches.   Ritualistic Behaviors – This may include eating the same foods at every meal or watching the same videos over and over again. They may even become quite upset soon after any slight changes in plans.   Self-Injury – Some individuals on the autism spectrum bang their head against the ground or wall, bite their hands, or excessively rub or scratch their skin. There are many ways to treat these behaviors including medical, sensory, nutritional, and behavioral approaches. Talk to your doctor as soon as possible if your child engages in any form of self-injurious behavior.\n",
      "****************************************************************************************************\n",
      "1 Conditions that can occur with autism\n",
      "--------------------------------------------------\n",
      "Several medical conditions are associated with autism, and they are often referred to as comorbidities or co-occurring conditions. These can include seizures, sensory sensitivities, anxiety, and sleep disturbances as well as gastrointestinal, metabolic, and immune dysregulation. Talk with your doctor to identify and treat such conditions.\n",
      "****************************************************************************************************\n",
      "2 When do symptoms of autism appear?\n",
      "--------------------------------------------------\n",
      "Autism symptoms in children may be recognized as early as 18 months. More recently, adults are being diagnosed with autism, and this is likely due to increased awareness and screening during medical appointments. If you suspect that your son or daughter may have autism, it’s time to talk to your doctor. Interventions can make a big difference for both your child’s health and development. Learn about autism treatments for children and adults.\n",
      "****************************************************************************************************\n"
     ]
    }
   ],
   "source": [
    "for i in range(len(l2)):\n",
    "    print(i,l1[i])\n",
    "    print('-'*50)\n",
    "    print(l2[i])\n",
    "    print('*'*100)"
   ]
  },
  {
   "cell_type": "markdown",
   "id": "00979f89",
   "metadata": {},
   "source": [
    "# Check which questions are similar"
   ]
  },
  {
   "cell_type": "code",
   "execution_count": 15,
   "id": "d1f8a700",
   "metadata": {},
   "outputs": [],
   "source": [
    "stop_words = set(stopwords.words('english'))\n",
    "\n",
    "def clean_text(sent):\n",
    "    sent = sent.lower() # lowercase\n",
    "    sent = re.sub(r'[^\\w\\s]', '', sent) # remove punctuations\n",
    "    sent = re.sub('autism spectrum disorder','asd',sent) # Compress term\n",
    "    sent = re.sub('autism','asd',sent) # Compress term\n",
    "    sent = [w for w in sent.split() if not w.lower() in stop_words] # Remove stopwords\n",
    "    sent = \" \".join(sent)\n",
    "    return sent"
   ]
  },
  {
   "cell_type": "code",
   "execution_count": 16,
   "id": "82e06707",
   "metadata": {},
   "outputs": [],
   "source": [
    "def jaccard_similarity(list1, list2):\n",
    "    s1 = set(list1)\n",
    "    s2 = set(list2)\n",
    "    return float(len(s1.intersection(s2)) / len(s1.union(s2)))"
   ]
  },
  {
   "cell_type": "code",
   "execution_count": 17,
   "id": "1ea49412",
   "metadata": {},
   "outputs": [],
   "source": [
    "def sim(li):\n",
    "    for c1,i in enumerate(li):\n",
    "        i2 = clean_text(i)\n",
    "        list1 = i2.split()\n",
    "\n",
    "        temp1 = 0.0\n",
    "        temp2 = ''\n",
    "        temp3 = ''\n",
    "        temp4 = 0\n",
    "        temp5 = 0\n",
    "\n",
    "        for c2,j in enumerate(df['Question']):\n",
    "            j2 = clean_text(j)\n",
    "            list2 = j2.split()\n",
    "\n",
    "            sim = jaccard_similarity(list1, list2)\n",
    "\n",
    "            if(sim>temp1):\n",
    "                temp1 = sim\n",
    "                temp2 = j\n",
    "                temp3 = i\n",
    "                temp4 = c2\n",
    "                temp5 = c1\n",
    "\n",
    "        if(temp1>0):\n",
    "            print('Website --> ',temp3,'(Index {})'.format(temp5))\n",
    "            print('100 questions list --> ',temp2,'(Index {})'.format(temp4))\n",
    "            print(temp1)\n",
    "            print('*'*100)"
   ]
  },
  {
   "cell_type": "code",
   "execution_count": 18,
   "id": "7cf2e775",
   "metadata": {},
   "outputs": [
    {
     "name": "stdout",
     "output_type": "stream",
     "text": [
      "Website -->  What are the Symptoms of Autism? (Index 0)\n",
      "100 questions list -->  Are there other diseases that have the same symptoms of autism? (Index 31)\n",
      "0.6666666666666666\n",
      "****************************************************************************************************\n",
      "Website -->  Conditions that can occur with autism (Index 1)\n",
      "100 questions list -->  What is Autism? (Index 4)\n",
      "0.3333333333333333\n",
      "****************************************************************************************************\n",
      "Website -->  When do symptoms of autism appear? (Index 2)\n",
      "100 questions list -->  Are there other diseases that have the same symptoms of autism? (Index 31)\n",
      "0.5\n",
      "****************************************************************************************************\n"
     ]
    }
   ],
   "source": [
    "sim(l1)"
   ]
  },
  {
   "cell_type": "code",
   "execution_count": null,
   "id": "0e232f88",
   "metadata": {},
   "outputs": [],
   "source": [
    "# Website, 100Q\n",
    "# 0, 36\n"
   ]
  },
  {
   "cell_type": "code",
   "execution_count": 27,
   "id": "d3096eec",
   "metadata": {},
   "outputs": [
    {
     "data": {
      "text/plain": [
       "'Autism symptoms in children may be recognized as early as 18 months. More recently, adults are being diagnosed with autism, and this is likely due to increased awareness and screening during medical appointments. If you suspect that your son or daughter may have autism, it’s time to talk to your doctor. Interventions can make a big difference for both your child’s health and development. Learn about autism treatments for children and adults.'"
      ]
     },
     "execution_count": 27,
     "metadata": {},
     "output_type": "execute_result"
    }
   ],
   "source": [
    "l2[2]"
   ]
  },
  {
   "cell_type": "code",
   "execution_count": 28,
   "id": "c117e3fd",
   "metadata": {},
   "outputs": [
    {
     "name": "stdout",
     "output_type": "stream",
     "text": [
      "21 What medical tests should the doctor perform when making a diagnosis of Autism?\n",
      "90 What is a \"Letter of Intent\" and why is it necessary when creating a special needs trust?\n",
      "102 I spent time and money childproofing my home when my son was an infant? Do I have to change anything now that he has been diagnosed as autistic?\n"
     ]
    }
   ],
   "source": [
    "for i,j in enumerate(df['Question']):\n",
    "    if('when' in j):\n",
    "        print(i,j)"
   ]
  },
  {
   "cell_type": "code",
   "execution_count": 29,
   "id": "4de81c71",
   "metadata": {},
   "outputs": [
    {
     "name": "stderr",
     "output_type": "stream",
     "text": [
      "C:\\Users\\aparg\\anaconda3\\envs\\ASD_scraping\\lib\\site-packages\\pandas\\core\\indexing.py:1732: SettingWithCopyWarning: \n",
      "A value is trying to be set on a copy of a slice from a DataFrame\n",
      "\n",
      "See the caveats in the documentation: https://pandas.pydata.org/pandas-docs/stable/user_guide/indexing.html#returning-a-view-versus-a-copy\n",
      "  self._setitem_single_block(indexer, value, name)\n"
     ]
    }
   ],
   "source": [
    "# Directly add answer to existing dataframe\n",
    "l4 = [[0, 36]]\n",
    "\n",
    "for i in l4:\n",
    "    df[link].loc[i[1]] = l2[i[0]]"
   ]
  },
  {
   "cell_type": "code",
   "execution_count": 30,
   "id": "7e648712",
   "metadata": {},
   "outputs": [
    {
     "data": {
      "text/plain": [
       "['What are the Symptoms of Autism?',\n",
       " 'Conditions that can occur with autism',\n",
       " 'When do symptoms of autism appear?']"
      ]
     },
     "execution_count": 30,
     "metadata": {},
     "output_type": "execute_result"
    }
   ],
   "source": [
    "l1"
   ]
  },
  {
   "cell_type": "code",
   "execution_count": 31,
   "id": "ad04c9d0",
   "metadata": {},
   "outputs": [
    {
     "data": {
      "text/plain": [
       "['Conditions that can occur with autism', 'When do symptoms of autism appear?']"
      ]
     },
     "execution_count": 31,
     "metadata": {},
     "output_type": "execute_result"
    }
   ],
   "source": [
    "# update questions list\n",
    "f = [i[0] for i in l4]\n",
    "f = set(range(len(l1)))-set(f)\n",
    "l1=[l1[i] for i in f]\n",
    "l1"
   ]
  },
  {
   "cell_type": "code",
   "execution_count": 32,
   "id": "fd97fc88",
   "metadata": {},
   "outputs": [],
   "source": [
    "# select answers to questions in list 'l'\n",
    "l2 = [l2[i] for i in f]"
   ]
  },
  {
   "cell_type": "code",
   "execution_count": 33,
   "id": "034808d5",
   "metadata": {},
   "outputs": [
    {
     "data": {
      "text/html": [
       "<div>\n",
       "<style scoped>\n",
       "    .dataframe tbody tr th:only-of-type {\n",
       "        vertical-align: middle;\n",
       "    }\n",
       "\n",
       "    .dataframe tbody tr th {\n",
       "        vertical-align: top;\n",
       "    }\n",
       "\n",
       "    .dataframe thead th {\n",
       "        text-align: right;\n",
       "    }\n",
       "</style>\n",
       "<table border=\"1\" class=\"dataframe\">\n",
       "  <thead>\n",
       "    <tr style=\"text-align: right;\">\n",
       "      <th></th>\n",
       "      <th>Question</th>\n",
       "      <th>https://www.autism.org/symptoms-of-autism/</th>\n",
       "    </tr>\n",
       "  </thead>\n",
       "  <tbody>\n",
       "    <tr>\n",
       "      <th>0</th>\n",
       "      <td>Conditions that can occur with autism</td>\n",
       "      <td>Several medical conditions are associated with...</td>\n",
       "    </tr>\n",
       "    <tr>\n",
       "      <th>1</th>\n",
       "      <td>When do symptoms of autism appear?</td>\n",
       "      <td>Autism symptoms in children may be recognized ...</td>\n",
       "    </tr>\n",
       "  </tbody>\n",
       "</table>\n",
       "</div>"
      ],
      "text/plain": [
       "                                Question  \\\n",
       "0  Conditions that can occur with autism   \n",
       "1     When do symptoms of autism appear?   \n",
       "\n",
       "          https://www.autism.org/symptoms-of-autism/  \n",
       "0  Several medical conditions are associated with...  \n",
       "1  Autism symptoms in children may be recognized ...  "
      ]
     },
     "execution_count": 33,
     "metadata": {},
     "output_type": "execute_result"
    }
   ],
   "source": [
    "# Create new dataframe with QA pairs\n",
    "df2 = pd.DataFrame(zip(l1,l2),columns=['Question',link])\n",
    "df2"
   ]
  },
  {
   "cell_type": "code",
   "execution_count": 34,
   "id": "b3f7fb28",
   "metadata": {},
   "outputs": [
    {
     "data": {
      "text/html": [
       "<div>\n",
       "<style scoped>\n",
       "    .dataframe tbody tr th:only-of-type {\n",
       "        vertical-align: middle;\n",
       "    }\n",
       "\n",
       "    .dataframe tbody tr th {\n",
       "        vertical-align: top;\n",
       "    }\n",
       "\n",
       "    .dataframe thead th {\n",
       "        text-align: right;\n",
       "    }\n",
       "</style>\n",
       "<table border=\"1\" class=\"dataframe\">\n",
       "  <thead>\n",
       "    <tr style=\"text-align: right;\">\n",
       "      <th></th>\n",
       "      <th>Question</th>\n",
       "      <th>https://autismnavigator.com/what-is-autism/</th>\n",
       "      <th>https://www.autism.org/is-it-autism/</th>\n",
       "      <th>https://www.autism.org/advice-for-parents/</th>\n",
       "      <th>https://www.autism.org/symptoms-of-autism/</th>\n",
       "    </tr>\n",
       "  </thead>\n",
       "  <tbody>\n",
       "    <tr>\n",
       "      <th>0</th>\n",
       "      <td>What are the Autism Spectrum Disorders (ASD)?</td>\n",
       "      <td>Autism spectrum disorder (ASD) is a neurodevel...</td>\n",
       "      <td>NaN</td>\n",
       "      <td>NaN</td>\n",
       "      <td>NaN</td>\n",
       "    </tr>\n",
       "    <tr>\n",
       "      <th>1</th>\n",
       "      <td>How is ASD diagnosed?</td>\n",
       "      <td>Diagnosing ASD can be difficult because there ...</td>\n",
       "      <td>NaN</td>\n",
       "      <td>Possible symptoms of autism may be observed by...</td>\n",
       "      <td>NaN</td>\n",
       "    </tr>\n",
       "    <tr>\n",
       "      <th>2</th>\n",
       "      <td>What are early red flags of ASD in toddlers?</td>\n",
       "      <td>The diagnostic features of ASD can be easy to ...</td>\n",
       "      <td>NaN</td>\n",
       "      <td>NaN</td>\n",
       "      <td>NaN</td>\n",
       "    </tr>\n",
       "    <tr>\n",
       "      <th>3</th>\n",
       "      <td>What are 16 early signs of autism by 16 months?</td>\n",
       "      <td>The early signs of autism are easy to miss. Au...</td>\n",
       "      <td>NaN</td>\n",
       "      <td>Autism develops sometime during pregnancy and ...</td>\n",
       "      <td>NaN</td>\n",
       "    </tr>\n",
       "    <tr>\n",
       "      <th>4</th>\n",
       "      <td>What is Autism?</td>\n",
       "      <td>NaN</td>\n",
       "      <td>Autism Spectrum Disorder (ASD) is a developmen...</td>\n",
       "      <td>Autism is a developmental disability that typi...</td>\n",
       "      <td>NaN</td>\n",
       "    </tr>\n",
       "    <tr>\n",
       "      <th>5</th>\n",
       "      <td>What are Screening Tools for Autism?</td>\n",
       "      <td>NaN</td>\n",
       "      <td>Early intervention can make a big difference f...</td>\n",
       "      <td>NaN</td>\n",
       "      <td>NaN</td>\n",
       "    </tr>\n",
       "    <tr>\n",
       "      <th>6</th>\n",
       "      <td>How Common Is It?</td>\n",
       "      <td>NaN</td>\n",
       "      <td>For many years a diagnosis of autism was rare,...</td>\n",
       "      <td>NaN</td>\n",
       "      <td>NaN</td>\n",
       "    </tr>\n",
       "    <tr>\n",
       "      <th>7</th>\n",
       "      <td>What are the Signs of Autism?</td>\n",
       "      <td>NaN</td>\n",
       "      <td>Many signs can indicate that an individual may...</td>\n",
       "      <td>NaN</td>\n",
       "      <td>NaN</td>\n",
       "    </tr>\n",
       "    <tr>\n",
       "      <th>8</th>\n",
       "      <td>What should I do next?</td>\n",
       "      <td>NaN</td>\n",
       "      <td>When preparing to talk to your medical provide...</td>\n",
       "      <td>Attend one or more parent support groups, o...</td>\n",
       "      <td>NaN</td>\n",
       "    </tr>\n",
       "    <tr>\n",
       "      <th>9</th>\n",
       "      <td>How can you tell Autism from Asperger’s Syndrome?</td>\n",
       "      <td>NaN</td>\n",
       "      <td>NaN</td>\n",
       "      <td>Asperger syndrome was phased out with the int...</td>\n",
       "      <td>NaN</td>\n",
       "    </tr>\n",
       "  </tbody>\n",
       "</table>\n",
       "</div>"
      ],
      "text/plain": [
       "                                            Question  \\\n",
       "0      What are the Autism Spectrum Disorders (ASD)?   \n",
       "1                              How is ASD diagnosed?   \n",
       "2       What are early red flags of ASD in toddlers?   \n",
       "3    What are 16 early signs of autism by 16 months?   \n",
       "4                                    What is Autism?   \n",
       "5               What are Screening Tools for Autism?   \n",
       "6                                  How Common Is It?   \n",
       "7                      What are the Signs of Autism?   \n",
       "8                             What should I do next?   \n",
       "9  How can you tell Autism from Asperger’s Syndrome?   \n",
       "\n",
       "         https://autismnavigator.com/what-is-autism/  \\\n",
       "0  Autism spectrum disorder (ASD) is a neurodevel...   \n",
       "1  Diagnosing ASD can be difficult because there ...   \n",
       "2  The diagnostic features of ASD can be easy to ...   \n",
       "3  The early signs of autism are easy to miss. Au...   \n",
       "4                                                NaN   \n",
       "5                                                NaN   \n",
       "6                                                NaN   \n",
       "7                                                NaN   \n",
       "8                                                NaN   \n",
       "9                                                NaN   \n",
       "\n",
       "                https://www.autism.org/is-it-autism/  \\\n",
       "0                                                NaN   \n",
       "1                                                NaN   \n",
       "2                                                NaN   \n",
       "3                                                NaN   \n",
       "4  Autism Spectrum Disorder (ASD) is a developmen...   \n",
       "5  Early intervention can make a big difference f...   \n",
       "6  For many years a diagnosis of autism was rare,...   \n",
       "7  Many signs can indicate that an individual may...   \n",
       "8  When preparing to talk to your medical provide...   \n",
       "9                                                NaN   \n",
       "\n",
       "          https://www.autism.org/advice-for-parents/  \\\n",
       "0                                                NaN   \n",
       "1  Possible symptoms of autism may be observed by...   \n",
       "2                                                NaN   \n",
       "3  Autism develops sometime during pregnancy and ...   \n",
       "4  Autism is a developmental disability that typi...   \n",
       "5                                                NaN   \n",
       "6                                                NaN   \n",
       "7                                                NaN   \n",
       "8     Attend one or more parent support groups, o...   \n",
       "9   Asperger syndrome was phased out with the int...   \n",
       "\n",
       "  https://www.autism.org/symptoms-of-autism/  \n",
       "0                                        NaN  \n",
       "1                                        NaN  \n",
       "2                                        NaN  \n",
       "3                                        NaN  \n",
       "4                                        NaN  \n",
       "5                                        NaN  \n",
       "6                                        NaN  \n",
       "7                                        NaN  \n",
       "8                                        NaN  \n",
       "9                                        NaN  "
      ]
     },
     "execution_count": 34,
     "metadata": {},
     "output_type": "execute_result"
    }
   ],
   "source": [
    "# Concatenate existing and new dataframes\n",
    "df3 = pd.concat([df,df2],axis=0)\n",
    "df3 = df3.sort_values(by=list(df3.columns[1:])).reset_index(drop=True)\n",
    "df3.head(10)"
   ]
  },
  {
   "cell_type": "code",
   "execution_count": 36,
   "id": "4e86d1ce",
   "metadata": {},
   "outputs": [
    {
     "data": {
      "text/html": [
       "<div>\n",
       "<style scoped>\n",
       "    .dataframe tbody tr th:only-of-type {\n",
       "        vertical-align: middle;\n",
       "    }\n",
       "\n",
       "    .dataframe tbody tr th {\n",
       "        vertical-align: top;\n",
       "    }\n",
       "\n",
       "    .dataframe thead th {\n",
       "        text-align: right;\n",
       "    }\n",
       "</style>\n",
       "<table border=\"1\" class=\"dataframe\">\n",
       "  <thead>\n",
       "    <tr style=\"text-align: right;\">\n",
       "      <th></th>\n",
       "      <th>Question</th>\n",
       "      <th>https://www.autism.org/symptoms-of-autism/</th>\n",
       "    </tr>\n",
       "  </thead>\n",
       "  <tbody>\n",
       "    <tr>\n",
       "      <th>27</th>\n",
       "      <td>When do symptoms of autism appear?</td>\n",
       "      <td>Autism symptoms in children may be recognized ...</td>\n",
       "    </tr>\n",
       "    <tr>\n",
       "      <th>28</th>\n",
       "      <td>Conditions that can occur with autism</td>\n",
       "      <td>Several medical conditions are associated with...</td>\n",
       "    </tr>\n",
       "    <tr>\n",
       "      <th>29</th>\n",
       "      <td>What are some of the symptoms of Autism a Pare...</td>\n",
       "      <td>While autism can only be diagnosed by a health...</td>\n",
       "    </tr>\n",
       "  </tbody>\n",
       "</table>\n",
       "</div>"
      ],
      "text/plain": [
       "                                             Question  \\\n",
       "27                 When do symptoms of autism appear?   \n",
       "28              Conditions that can occur with autism   \n",
       "29  What are some of the symptoms of Autism a Pare...   \n",
       "\n",
       "           https://www.autism.org/symptoms-of-autism/  \n",
       "27  Autism symptoms in children may be recognized ...  \n",
       "28  Several medical conditions are associated with...  \n",
       "29  While autism can only be diagnosed by a health...  "
      ]
     },
     "execution_count": 36,
     "metadata": {},
     "output_type": "execute_result"
    }
   ],
   "source": [
    "df3.iloc[:,[0,-1]].dropna()"
   ]
  },
  {
   "cell_type": "code",
   "execution_count": 37,
   "id": "02a229d0",
   "metadata": {},
   "outputs": [
    {
     "data": {
      "text/plain": [
       "(117, 5)"
      ]
     },
     "execution_count": 37,
     "metadata": {},
     "output_type": "execute_result"
    }
   ],
   "source": [
    "df3.shape"
   ]
  },
  {
   "cell_type": "markdown",
   "id": "c36df54c",
   "metadata": {},
   "source": [
    "# Save Output"
   ]
  },
  {
   "cell_type": "code",
   "execution_count": 38,
   "id": "cdd9d1cd",
   "metadata": {},
   "outputs": [],
   "source": [
    "df3.to_excel('Excel/Source2_3.xlsx',index=False)"
   ]
  },
  {
   "cell_type": "code",
   "execution_count": null,
   "id": "9aeb3d27",
   "metadata": {},
   "outputs": [],
   "source": []
  }
 ],
 "metadata": {
  "kernelspec": {
   "display_name": "Python 3 (ipykernel)",
   "language": "python",
   "name": "python3"
  },
  "language_info": {
   "codemirror_mode": {
    "name": "ipython",
    "version": 3
   },
   "file_extension": ".py",
   "mimetype": "text/x-python",
   "name": "python",
   "nbconvert_exporter": "python",
   "pygments_lexer": "ipython3",
   "version": "3.8.0"
  }
 },
 "nbformat": 4,
 "nbformat_minor": 5
}
