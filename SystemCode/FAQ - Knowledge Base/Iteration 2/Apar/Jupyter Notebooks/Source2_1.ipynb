{
 "cells": [
  {
   "cell_type": "markdown",
   "id": "fa4ce988",
   "metadata": {},
   "source": [
    "# Import Libraries"
   ]
  },
  {
   "cell_type": "code",
   "execution_count": 1,
   "id": "ff207f11",
   "metadata": {},
   "outputs": [],
   "source": [
    "################ WEB SCRAPING MODULES ############\n",
    "from selenium import webdriver\n",
    "from webdriver_manager.chrome import ChromeDriverManager\n",
    "from selenium.webdriver.common.by import By\n",
    "import bs4\n",
    "from fake_useragent import UserAgent\n",
    "import requests\n",
    "################ TIME MODLULES ###################\n",
    "import time\n",
    "from datetime import date \n",
    "import datetime\n",
    "############## DATA MANIPULATION MODULES #########\n",
    "import pandas as pd\n",
    "import numpy as np\n",
    "import re\n",
    "from nltk.corpus import stopwords"
   ]
  },
  {
   "cell_type": "markdown",
   "id": "afa3a887",
   "metadata": {},
   "source": [
    "# Define Source"
   ]
  },
  {
   "cell_type": "code",
   "execution_count": 2,
   "id": "ebfc9440",
   "metadata": {},
   "outputs": [],
   "source": [
    "link = 'https://www.autism.org/is-it-autism/'"
   ]
  },
  {
   "cell_type": "markdown",
   "id": "4f8f2ef9",
   "metadata": {},
   "source": [
    "# Read 100 questions list"
   ]
  },
  {
   "cell_type": "code",
   "execution_count": 3,
   "id": "5fb8f7ba",
   "metadata": {},
   "outputs": [
    {
     "data": {
      "text/html": [
       "<div>\n",
       "<style scoped>\n",
       "    .dataframe tbody tr th:only-of-type {\n",
       "        vertical-align: middle;\n",
       "    }\n",
       "\n",
       "    .dataframe tbody tr th {\n",
       "        vertical-align: top;\n",
       "    }\n",
       "\n",
       "    .dataframe thead th {\n",
       "        text-align: right;\n",
       "    }\n",
       "</style>\n",
       "<table border=\"1\" class=\"dataframe\">\n",
       "  <thead>\n",
       "    <tr style=\"text-align: right;\">\n",
       "      <th></th>\n",
       "      <th>Question</th>\n",
       "      <th>https://autismnavigator.com/what-is-autism/</th>\n",
       "      <th>https://www.autism.org/is-it-autism/</th>\n",
       "    </tr>\n",
       "  </thead>\n",
       "  <tbody>\n",
       "    <tr>\n",
       "      <th>0</th>\n",
       "      <td>What are the Autism Spectrum Disorders (ASD)?</td>\n",
       "      <td>Autism spectrum disorder (ASD) is a neurodevel...</td>\n",
       "      <td>NaN</td>\n",
       "    </tr>\n",
       "    <tr>\n",
       "      <th>1</th>\n",
       "      <td>How is ASD diagnosed?</td>\n",
       "      <td>Diagnosing ASD can be difficult because there ...</td>\n",
       "      <td>NaN</td>\n",
       "    </tr>\n",
       "    <tr>\n",
       "      <th>2</th>\n",
       "      <td>What are early red flags of ASD in toddlers?</td>\n",
       "      <td>The diagnostic features of ASD can be easy to ...</td>\n",
       "      <td>NaN</td>\n",
       "    </tr>\n",
       "    <tr>\n",
       "      <th>3</th>\n",
       "      <td>What are 16 early signs of autism by 16 months?</td>\n",
       "      <td>The early signs of autism are easy to miss. Au...</td>\n",
       "      <td>NaN</td>\n",
       "    </tr>\n",
       "    <tr>\n",
       "      <th>4</th>\n",
       "      <td>What is Autism?</td>\n",
       "      <td>NaN</td>\n",
       "      <td>NaN</td>\n",
       "    </tr>\n",
       "    <tr>\n",
       "      <th>...</th>\n",
       "      <td>...</td>\n",
       "      <td>...</td>\n",
       "      <td>...</td>\n",
       "    </tr>\n",
       "    <tr>\n",
       "      <th>98</th>\n",
       "      <td>What are some ways that parents can reduce the...</td>\n",
       "      <td>NaN</td>\n",
       "      <td>NaN</td>\n",
       "    </tr>\n",
       "    <tr>\n",
       "      <th>99</th>\n",
       "      <td>Do some families deal with stress better than ...</td>\n",
       "      <td>NaN</td>\n",
       "      <td>NaN</td>\n",
       "    </tr>\n",
       "    <tr>\n",
       "      <th>100</th>\n",
       "      <td>Do siblings suffer increased stress as a resul...</td>\n",
       "      <td>NaN</td>\n",
       "      <td>NaN</td>\n",
       "    </tr>\n",
       "    <tr>\n",
       "      <th>101</th>\n",
       "      <td>What can I do about my children’s stress?</td>\n",
       "      <td>NaN</td>\n",
       "      <td>NaN</td>\n",
       "    </tr>\n",
       "    <tr>\n",
       "      <th>102</th>\n",
       "      <td>What are some resources for learning more abou...</td>\n",
       "      <td>NaN</td>\n",
       "      <td>NaN</td>\n",
       "    </tr>\n",
       "  </tbody>\n",
       "</table>\n",
       "<p>103 rows × 3 columns</p>\n",
       "</div>"
      ],
      "text/plain": [
       "                                              Question  \\\n",
       "0        What are the Autism Spectrum Disorders (ASD)?   \n",
       "1                                How is ASD diagnosed?   \n",
       "2         What are early red flags of ASD in toddlers?   \n",
       "3      What are 16 early signs of autism by 16 months?   \n",
       "4                                      What is Autism?   \n",
       "..                                                 ...   \n",
       "98   What are some ways that parents can reduce the...   \n",
       "99   Do some families deal with stress better than ...   \n",
       "100  Do siblings suffer increased stress as a resul...   \n",
       "101          What can I do about my children’s stress?   \n",
       "102  What are some resources for learning more abou...   \n",
       "\n",
       "           https://autismnavigator.com/what-is-autism/  \\\n",
       "0    Autism spectrum disorder (ASD) is a neurodevel...   \n",
       "1    Diagnosing ASD can be difficult because there ...   \n",
       "2    The diagnostic features of ASD can be easy to ...   \n",
       "3    The early signs of autism are easy to miss. Au...   \n",
       "4                                                  NaN   \n",
       "..                                                 ...   \n",
       "98                                                 NaN   \n",
       "99                                                 NaN   \n",
       "100                                                NaN   \n",
       "101                                                NaN   \n",
       "102                                                NaN   \n",
       "\n",
       "     https://www.autism.org/is-it-autism/  \n",
       "0                                     NaN  \n",
       "1                                     NaN  \n",
       "2                                     NaN  \n",
       "3                                     NaN  \n",
       "4                                     NaN  \n",
       "..                                    ...  \n",
       "98                                    NaN  \n",
       "99                                    NaN  \n",
       "100                                   NaN  \n",
       "101                                   NaN  \n",
       "102                                   NaN  \n",
       "\n",
       "[103 rows x 3 columns]"
      ]
     },
     "execution_count": 3,
     "metadata": {},
     "output_type": "execute_result"
    }
   ],
   "source": [
    "df = pd.read_excel('Excel/Source1.xlsx',engine='openpyxl')\n",
    "\n",
    "df[link]=np.nan\n",
    "df"
   ]
  },
  {
   "cell_type": "markdown",
   "id": "06cc4415",
   "metadata": {},
   "source": [
    "# Scrape QA pairs from website"
   ]
  },
  {
   "cell_type": "code",
   "execution_count": 4,
   "id": "25ea70af",
   "metadata": {},
   "outputs": [
    {
     "name": "stderr",
     "output_type": "stream",
     "text": [
      "\n",
      "\n",
      "====== WebDriver manager ======\n",
      "Current google-chrome version is 92.0.4515\n",
      "Get LATEST driver version for 92.0.4515\n",
      "Driver [C:\\Users\\aparg\\.wdm\\drivers\\chromedriver\\win32\\92.0.4515.107\\chromedriver.exe] found in cache\n"
     ]
    }
   ],
   "source": [
    "# Open webpage in a new window\n",
    "driver = webdriver.Chrome(ChromeDriverManager().install())\n",
    "driver.get(link)"
   ]
  },
  {
   "cell_type": "code",
   "execution_count": 5,
   "id": "c652775d",
   "metadata": {},
   "outputs": [],
   "source": [
    "# Parse text in webpage\n",
    "source = driver.page_source\n",
    "soup = bs4.BeautifulSoup(source, 'html.parser')"
   ]
  },
  {
   "cell_type": "code",
   "execution_count": 6,
   "id": "62c8e561",
   "metadata": {},
   "outputs": [
    {
     "name": "stdout",
     "output_type": "stream",
     "text": [
      "What Is Autism?\n",
      "How Common Is It?\n",
      "What are the Signs of Autism?\n",
      "Where Can I Get Autism Screening?\n",
      "What should I do next?\n"
     ]
    }
   ],
   "source": [
    "# Search the questions mentioned in webpage\n",
    "l = []\n",
    "for ques in soup.find_all('h2'):\n",
    "    print(ques.text)\n",
    "    l.append(ques.text)"
   ]
  },
  {
   "cell_type": "code",
   "execution_count": 7,
   "id": "e807be04",
   "metadata": {},
   "outputs": [
    {
     "name": "stdout",
     "output_type": "stream",
     "text": [
      "Autism Spectrum Disorder (ASD) is a developmental disorder with symptoms that appear within the first three years of life. Most children with autism look like other kids but they act and interact in ways that feel different from the behaviors of other children. When interacting with others, they may respond in unexpected ways, or they may not interact at all. Autism is a spectrum disorder, which means that it appears in a range of forms and levels of severity. Some individuals develop typical capabilities in terms of speech and language – and develop exceptional skills – but struggle with lifelong social and behavioral differences. Others may have challenges in communication, sensory sensitivities, and behavioral issues, such as excessive tantrums, repetitive behaviors, aggression, and self-harm. The good news is that appropriate treatments can improve outcomes for many, if not most, people diagnosed with ASD. \n",
      "****************************************************************************************************\n",
      "For many years a diagnosis of autism was rare, occurring in just 1 child out of 2,000. However, since the mid-1980s, the rate of autism has increased dramatically around the world. In March 2020, the US Federal Centers for Disease Control announced that 1 in every 54 children in the United States is affected by autism. Autism is more likely to affect boys than girls, but children of all genders have been diagnosed with ASD. \n",
      "****************************************************************************************************\n",
      "Many signs can indicate that an individual may be affected by an ASD. Keep in mind that every person diagnosed with autism is different. Some have several signs and symptoms, while others experience only a few.   Common early signs include:  Delayed speech or difficulty communicating Poor eye contact Little or no imaginative play No joint attention – not looking in the same direction as others Showing limited interest in other people Highly emotional responses to changes in routine  The DSM-5, the standard reference used by most healthcare providers, includes a full list of autism diagnostic criteria. If you notice any of these symptoms, you should ask your loved one’s physician to perform an autism screening. \n",
      "****************************************************************************************************\n",
      "Early intervention can make a big difference for children with autism and screening during the first three years of life is increasingly becoming the standard of care. In 2016, a study from the American Academy of Pediatrics found that 81% of pediatricians “always” or “almost always” use formal tools to screen for autism in children under 36 months old.   There are no genetic, blood, or other laboratory tests that can confirm an autism diagnosis. Instead, medical providers use observation and standardized behavioral evaluation to identify children at risk for an ASD. \n",
      "****************************************************************************************************\n",
      " ARI’s Diagnostic Checklist, Form E-2 – Dr. Bernard Rimland, developed this tool to diagnose children with a subtype of autism called Kanner’s syndrome or ‘classical autism’. You can print and complete the checklist and then mail it to ARI for scoring. Our staff will then analyze the responses and send you a score along with an interpretation at no charge. The Ages and Stages Questionnaire – used by healthcare professionals and early childhood educators to assess development progress in children between one month and 5.5 years of age. The Modified Checklist for Autism in Toddlers a simple validated screening tool developed in the UK and widely used at 18-month check-ups.   The American Academy of Pediatrics encourages all pediatricians to screen for ASD when children are as young as 18-months. If you have concerns about your child’s symptoms or behavior, ask your medical provider to perform an autism screening. Specialists like developmental pediatricians and clinical psychologists are also trained in diagnosing ASD. If necessary, you can contact your state’s early intervention program and ask for an evaluation.  Getting a diagnosis is the first step toward treating autism in your child. Early intervention can improve quality of life for children across the spectrum. Talk to your medical provider today if you have any concerns. \n",
      "****************************************************************************************************\n",
      "When preparing to talk to your medical provider, you may want to first fill out the Autism Treatment Evaluation Checklist (ATEC). The ATEC is one of the most widely used assessment tools in the autism community. Although it is not a diagnostic test for autism, this checklist is designed to monitor how an individual progresses over time and to track the efficacy of treatment. Completing the ATEC can give you a good understanding of your child’s current symptoms to discuss with your medical provider. \n",
      "****************************************************************************************************\n"
     ]
    }
   ],
   "source": [
    "# Search the answers for questions\n",
    "k = []\n",
    "for j in range(3,9):\n",
    "    ans = soup.find('div',{'class':'fusion-text fusion-text-{} nitro-offscreen'.format(j)})\n",
    "    print(ans.text)\n",
    "    print('*'*100)\n",
    "    k.append(ans.text)"
   ]
  },
  {
   "cell_type": "markdown",
   "id": "00979f89",
   "metadata": {},
   "source": [
    "# Check which questions are similar"
   ]
  },
  {
   "cell_type": "code",
   "execution_count": 8,
   "id": "d1f8a700",
   "metadata": {},
   "outputs": [],
   "source": [
    "stop_words = set(stopwords.words('english'))\n",
    "\n",
    "def clean_text(sent):\n",
    "    sent = sent.lower() # lowercase\n",
    "    sent = re.sub(r'[^\\w\\s]', '', sent) # remove punctuations\n",
    "    sent = re.sub('autism spectrum disorder','asd',sent) # Compress term\n",
    "    sent = re.sub('autism','asd',sent) # Compress term\n",
    "    sent = [w for w in sent.split() if not w.lower() in stop_words] # Remove stopwords\n",
    "    sent = \" \".join(sent)\n",
    "    return sent"
   ]
  },
  {
   "cell_type": "code",
   "execution_count": 9,
   "id": "82e06707",
   "metadata": {},
   "outputs": [],
   "source": [
    "def jaccard_similarity(list1, list2):\n",
    "    s1 = set(list1)\n",
    "    s2 = set(list2)\n",
    "    return float(len(s1.intersection(s2)) / len(s1.union(s2)))"
   ]
  },
  {
   "cell_type": "code",
   "execution_count": 10,
   "id": "1ea49412",
   "metadata": {},
   "outputs": [
    {
     "name": "stdout",
     "output_type": "stream",
     "text": [
      "Website -->  What Is Autism?\n",
      "100 questions list -->  What is Autism? (Index 4)\n",
      "1.0\n",
      "****************************************************************************************************\n",
      "Website -->  What are the Signs of Autism?\n",
      "100 questions list -->  What is Autism? (Index 4)\n",
      "0.5\n",
      "****************************************************************************************************\n",
      "Website -->  Where Can I Get Autism Screening?\n",
      "100 questions list -->  What are Screening Tools for Autism? (Index 18)\n",
      "0.5\n",
      "****************************************************************************************************\n"
     ]
    }
   ],
   "source": [
    "for c1,i in enumerate(l):\n",
    "    i2 = clean_text(i)\n",
    "    list1 = i2.split()\n",
    "    \n",
    "    temp1 = 0.0\n",
    "    temp2 = ''\n",
    "    temp3 = ''\n",
    "    temp4 = 0\n",
    "    \n",
    "    for c2,j in enumerate(df['Question']):\n",
    "        j2 = clean_text(j)\n",
    "        list2 = j2.split()\n",
    "            \n",
    "        sim = jaccard_similarity(list1, list2)\n",
    "        \n",
    "        if(sim>temp1):\n",
    "            temp1 = sim\n",
    "            temp2 = j\n",
    "            temp3 = i\n",
    "            temp4 = c2\n",
    "            \n",
    "    if(temp1>=0.3):\n",
    "        print('Website --> ',temp3)\n",
    "        print('100 questions list --> ',temp2,'(Index {})'.format(temp4))\n",
    "        print(temp1)\n",
    "        print('*'*100)"
   ]
  },
  {
   "cell_type": "code",
   "execution_count": 11,
   "id": "2f065606",
   "metadata": {},
   "outputs": [
    {
     "name": "stderr",
     "output_type": "stream",
     "text": [
      "C:\\Users\\aparg\\anaconda3\\envs\\ASD_scraping\\lib\\site-packages\\pandas\\core\\indexing.py:1732: SettingWithCopyWarning: \n",
      "A value is trying to be set on a copy of a slice from a DataFrame\n",
      "\n",
      "See the caveats in the documentation: https://pandas.pydata.org/pandas-docs/stable/user_guide/indexing.html#returning-a-view-versus-a-copy\n",
      "  self._setitem_single_block(indexer, value, name)\n"
     ]
    }
   ],
   "source": [
    "# Directly add answer to existing dataframe\n",
    "df[link].loc[4]=k[0]\n",
    "df[link].loc[18]=k[3]+'\\n Common autism screening tools include: \\n '+k[4]"
   ]
  },
  {
   "cell_type": "code",
   "execution_count": 12,
   "id": "7e648712",
   "metadata": {},
   "outputs": [
    {
     "data": {
      "text/plain": [
       "['What Is Autism?',\n",
       " 'How Common Is It?',\n",
       " 'What are the Signs of Autism?',\n",
       " 'Where Can I Get Autism Screening?',\n",
       " 'What should I do next?']"
      ]
     },
     "execution_count": 12,
     "metadata": {},
     "output_type": "execute_result"
    }
   ],
   "source": [
    "l"
   ]
  },
  {
   "cell_type": "code",
   "execution_count": 13,
   "id": "ad04c9d0",
   "metadata": {},
   "outputs": [
    {
     "data": {
      "text/plain": [
       "['How Common Is It?',\n",
       " 'What are the Signs of Autism?',\n",
       " 'What should I do next?']"
      ]
     },
     "execution_count": 13,
     "metadata": {},
     "output_type": "execute_result"
    }
   ],
   "source": [
    "# update questions list\n",
    "l=[l[i] for i in [1,2,4]]\n",
    "l"
   ]
  },
  {
   "cell_type": "code",
   "execution_count": 14,
   "id": "fd97fc88",
   "metadata": {},
   "outputs": [
    {
     "data": {
      "text/plain": [
       "['For many years a diagnosis of autism was rare, occurring in just 1 child out of 2,000. However, since the mid-1980s, the rate of autism has increased dramatically around the world. In March 2020, the US Federal Centers for Disease Control announced that 1 in every 54 children in the United States is affected by autism. Autism is more likely to affect boys than girls, but children of all genders have been diagnosed with ASD. ',\n",
       " 'Many signs can indicate that an individual may be affected by an ASD. Keep in mind that every person diagnosed with autism is different. Some have several signs and symptoms, while others experience only a few.   Common early signs include:  Delayed speech or difficulty communicating Poor eye contact Little or no imaginative play No joint attention – not looking in the same direction as others Showing limited interest in other people Highly emotional responses to changes in routine  The DSM-5, the standard reference used by most healthcare providers, includes a full list of autism diagnostic criteria. If you notice any of these symptoms, you should ask your loved one’s physician to perform an autism screening. ',\n",
       " 'When preparing to talk to your medical provider, you may want to first fill out the Autism Treatment Evaluation Checklist (ATEC). The ATEC is one of the most widely used assessment tools in the autism community. Although it is not a diagnostic test for autism, this checklist is designed to monitor how an individual progresses over time and to track the efficacy of treatment. Completing the ATEC can give you a good understanding of your child’s current symptoms to discuss with your medical provider. ']"
      ]
     },
     "execution_count": 14,
     "metadata": {},
     "output_type": "execute_result"
    }
   ],
   "source": [
    "# manually select answers to questions in list 'l'\n",
    "l2 = [k[1],\n",
    "      k[2],\n",
    "     k[-1]]\n",
    "l2"
   ]
  },
  {
   "cell_type": "code",
   "execution_count": 15,
   "id": "034808d5",
   "metadata": {},
   "outputs": [
    {
     "data": {
      "text/html": [
       "<div>\n",
       "<style scoped>\n",
       "    .dataframe tbody tr th:only-of-type {\n",
       "        vertical-align: middle;\n",
       "    }\n",
       "\n",
       "    .dataframe tbody tr th {\n",
       "        vertical-align: top;\n",
       "    }\n",
       "\n",
       "    .dataframe thead th {\n",
       "        text-align: right;\n",
       "    }\n",
       "</style>\n",
       "<table border=\"1\" class=\"dataframe\">\n",
       "  <thead>\n",
       "    <tr style=\"text-align: right;\">\n",
       "      <th></th>\n",
       "      <th>Question</th>\n",
       "      <th>https://www.autism.org/is-it-autism/</th>\n",
       "    </tr>\n",
       "  </thead>\n",
       "  <tbody>\n",
       "    <tr>\n",
       "      <th>0</th>\n",
       "      <td>How Common Is It?</td>\n",
       "      <td>For many years a diagnosis of autism was rare,...</td>\n",
       "    </tr>\n",
       "    <tr>\n",
       "      <th>1</th>\n",
       "      <td>What are the Signs of Autism?</td>\n",
       "      <td>Many signs can indicate that an individual may...</td>\n",
       "    </tr>\n",
       "    <tr>\n",
       "      <th>2</th>\n",
       "      <td>What should I do next?</td>\n",
       "      <td>When preparing to talk to your medical provide...</td>\n",
       "    </tr>\n",
       "  </tbody>\n",
       "</table>\n",
       "</div>"
      ],
      "text/plain": [
       "                        Question  \\\n",
       "0              How Common Is It?   \n",
       "1  What are the Signs of Autism?   \n",
       "2         What should I do next?   \n",
       "\n",
       "                https://www.autism.org/is-it-autism/  \n",
       "0  For many years a diagnosis of autism was rare,...  \n",
       "1  Many signs can indicate that an individual may...  \n",
       "2  When preparing to talk to your medical provide...  "
      ]
     },
     "execution_count": 15,
     "metadata": {},
     "output_type": "execute_result"
    }
   ],
   "source": [
    "# Create new dataframe with QA pairs\n",
    "df2 = pd.DataFrame(zip(l,l2),columns=['Question',link])\n",
    "df2"
   ]
  },
  {
   "cell_type": "code",
   "execution_count": 16,
   "id": "b3f7fb28",
   "metadata": {},
   "outputs": [
    {
     "data": {
      "text/html": [
       "<div>\n",
       "<style scoped>\n",
       "    .dataframe tbody tr th:only-of-type {\n",
       "        vertical-align: middle;\n",
       "    }\n",
       "\n",
       "    .dataframe tbody tr th {\n",
       "        vertical-align: top;\n",
       "    }\n",
       "\n",
       "    .dataframe thead th {\n",
       "        text-align: right;\n",
       "    }\n",
       "</style>\n",
       "<table border=\"1\" class=\"dataframe\">\n",
       "  <thead>\n",
       "    <tr style=\"text-align: right;\">\n",
       "      <th></th>\n",
       "      <th>Question</th>\n",
       "      <th>https://autismnavigator.com/what-is-autism/</th>\n",
       "      <th>https://www.autism.org/is-it-autism/</th>\n",
       "    </tr>\n",
       "  </thead>\n",
       "  <tbody>\n",
       "    <tr>\n",
       "      <th>0</th>\n",
       "      <td>What are the Autism Spectrum Disorders (ASD)?</td>\n",
       "      <td>Autism spectrum disorder (ASD) is a neurodevel...</td>\n",
       "      <td>NaN</td>\n",
       "    </tr>\n",
       "    <tr>\n",
       "      <th>1</th>\n",
       "      <td>How is ASD diagnosed?</td>\n",
       "      <td>Diagnosing ASD can be difficult because there ...</td>\n",
       "      <td>NaN</td>\n",
       "    </tr>\n",
       "    <tr>\n",
       "      <th>2</th>\n",
       "      <td>What are early red flags of ASD in toddlers?</td>\n",
       "      <td>The diagnostic features of ASD can be easy to ...</td>\n",
       "      <td>NaN</td>\n",
       "    </tr>\n",
       "    <tr>\n",
       "      <th>3</th>\n",
       "      <td>What are 16 early signs of autism by 16 months?</td>\n",
       "      <td>The early signs of autism are easy to miss. Au...</td>\n",
       "      <td>NaN</td>\n",
       "    </tr>\n",
       "    <tr>\n",
       "      <th>4</th>\n",
       "      <td>What is Autism?</td>\n",
       "      <td>NaN</td>\n",
       "      <td>Autism Spectrum Disorder (ASD) is a developmen...</td>\n",
       "    </tr>\n",
       "    <tr>\n",
       "      <th>5</th>\n",
       "      <td>What are Screening Tools for Autism?</td>\n",
       "      <td>NaN</td>\n",
       "      <td>Early intervention can make a big difference f...</td>\n",
       "    </tr>\n",
       "    <tr>\n",
       "      <th>6</th>\n",
       "      <td>How Common Is It?</td>\n",
       "      <td>NaN</td>\n",
       "      <td>For many years a diagnosis of autism was rare,...</td>\n",
       "    </tr>\n",
       "    <tr>\n",
       "      <th>7</th>\n",
       "      <td>What are the Signs of Autism?</td>\n",
       "      <td>NaN</td>\n",
       "      <td>Many signs can indicate that an individual may...</td>\n",
       "    </tr>\n",
       "    <tr>\n",
       "      <th>8</th>\n",
       "      <td>What should I do next?</td>\n",
       "      <td>NaN</td>\n",
       "      <td>When preparing to talk to your medical provide...</td>\n",
       "    </tr>\n",
       "    <tr>\n",
       "      <th>9</th>\n",
       "      <td>What is Asperger’s Syndrome?</td>\n",
       "      <td>NaN</td>\n",
       "      <td>NaN</td>\n",
       "    </tr>\n",
       "  </tbody>\n",
       "</table>\n",
       "</div>"
      ],
      "text/plain": [
       "                                          Question  \\\n",
       "0    What are the Autism Spectrum Disorders (ASD)?   \n",
       "1                            How is ASD diagnosed?   \n",
       "2     What are early red flags of ASD in toddlers?   \n",
       "3  What are 16 early signs of autism by 16 months?   \n",
       "4                                  What is Autism?   \n",
       "5             What are Screening Tools for Autism?   \n",
       "6                                How Common Is It?   \n",
       "7                    What are the Signs of Autism?   \n",
       "8                           What should I do next?   \n",
       "9                     What is Asperger’s Syndrome?   \n",
       "\n",
       "         https://autismnavigator.com/what-is-autism/  \\\n",
       "0  Autism spectrum disorder (ASD) is a neurodevel...   \n",
       "1  Diagnosing ASD can be difficult because there ...   \n",
       "2  The diagnostic features of ASD can be easy to ...   \n",
       "3  The early signs of autism are easy to miss. Au...   \n",
       "4                                                NaN   \n",
       "5                                                NaN   \n",
       "6                                                NaN   \n",
       "7                                                NaN   \n",
       "8                                                NaN   \n",
       "9                                                NaN   \n",
       "\n",
       "                https://www.autism.org/is-it-autism/  \n",
       "0                                                NaN  \n",
       "1                                                NaN  \n",
       "2                                                NaN  \n",
       "3                                                NaN  \n",
       "4  Autism Spectrum Disorder (ASD) is a developmen...  \n",
       "5  Early intervention can make a big difference f...  \n",
       "6  For many years a diagnosis of autism was rare,...  \n",
       "7  Many signs can indicate that an individual may...  \n",
       "8  When preparing to talk to your medical provide...  \n",
       "9                                                NaN  "
      ]
     },
     "execution_count": 16,
     "metadata": {},
     "output_type": "execute_result"
    }
   ],
   "source": [
    "# Concatenate existing and new dataframes\n",
    "df3 = pd.concat([df,df2],axis=0)\n",
    "df3 = df3.sort_values(by=list(df3.columns[1:])).reset_index(drop=True)\n",
    "df3.head(10)"
   ]
  },
  {
   "cell_type": "markdown",
   "id": "c36df54c",
   "metadata": {},
   "source": [
    "# Save Output"
   ]
  },
  {
   "cell_type": "code",
   "execution_count": 17,
   "id": "cdd9d1cd",
   "metadata": {},
   "outputs": [],
   "source": [
    "df3.to_excel('Excel/Source2_1.xlsx',index=False)"
   ]
  }
 ],
 "metadata": {
  "kernelspec": {
   "display_name": "Python 3 (ipykernel)",
   "language": "python",
   "name": "python3"
  },
  "language_info": {
   "codemirror_mode": {
    "name": "ipython",
    "version": 3
   },
   "file_extension": ".py",
   "mimetype": "text/x-python",
   "name": "python",
   "nbconvert_exporter": "python",
   "pygments_lexer": "ipython3",
   "version": "3.8.0"
  }
 },
 "nbformat": 4,
 "nbformat_minor": 5
}
